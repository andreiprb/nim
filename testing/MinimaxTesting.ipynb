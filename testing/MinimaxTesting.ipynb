{
 "cells": [
  {
   "metadata": {},
   "cell_type": "markdown",
   "source": "# Imports",
   "id": "7b4c3b0961ac3b1e"
  },
  {
   "metadata": {
    "ExecuteTime": {
     "end_time": "2025-06-29T06:29:54.597137Z",
     "start_time": "2025-06-29T06:29:54.370844Z"
    }
   },
   "cell_type": "code",
   "source": [
    "import os\n",
    "import numpy as np\n",
    "\n",
    "from tqdm import tqdm\n",
    "\n",
    "import matplotlib.pyplot as plt\n",
    "from matplotlib.gridspec import GridSpec"
   ],
   "id": "f80b91b841340426",
   "outputs": [],
   "execution_count": 1
  },
  {
   "metadata": {
    "ExecuteTime": {
     "end_time": "2025-06-29T06:29:54.714029Z",
     "start_time": "2025-06-29T06:29:54.709801Z"
    }
   },
   "cell_type": "code",
   "source": [
    "from Nim.Nim import Nim\n",
    "from Nim.NimLogic import NimLogic\n",
    "\n",
    "from Agents.MinimaxAgent import MinimaxAgent"
   ],
   "id": "11534c8da0916838",
   "outputs": [],
   "execution_count": 2
  },
  {
   "metadata": {},
   "cell_type": "markdown",
   "source": "Random seed for reproducibility",
   "id": "b58a696a6f76ca45"
  },
  {
   "metadata": {
    "ExecuteTime": {
     "end_time": "2025-06-29T06:29:55.627297Z",
     "start_time": "2025-06-29T06:29:54.730715Z"
    }
   },
   "cell_type": "code",
   "source": "np.random.seed(42)",
   "id": "2734ef9cdbee5047",
   "outputs": [],
   "execution_count": 3
  },
  {
   "metadata": {},
   "cell_type": "markdown",
   "source": "# Agent Testing Function",
   "id": "38122e9bb8d5c6dd"
  },
  {
   "metadata": {
    "ExecuteTime": {
     "end_time": "2025-06-29T06:29:55.672526Z",
     "start_time": "2025-06-29T06:29:55.669479Z"
    }
   },
   "cell_type": "code",
   "source": [
    "def test_agent(_misereAgent, _normalAgent, _misere, _initial_piles):\n",
    "\n",
    "\n",
    "    explored_nodes = np.ndarray(EPISODES)\n",
    "    moves_count = np.ndarray(EPISODES)\n",
    "    mean_nodes = np.ndarray(EPISODES)\n",
    "\n",
    "    for i in tqdm(range(EPISODES)):\n",
    "        game = Nim(\n",
    "            initial_piles=_initial_piles[i],\n",
    "            misere=_misere[i]\n",
    "        )\n",
    "\n",
    "        agent = _misereAgent if _misere[i] else _normalAgent\n",
    "\n",
    "        winner = game.play(\n",
    "            player1=agent,\n",
    "            player2=agent,\n",
    "            verbose=False\n",
    "        )\n",
    "\n",
    "        \"\"\" AGENT VALIDATION \"\"\"\n",
    "        assert winner == NimLogic.is_p_position(_initial_piles[i], _misere[i])\n",
    "\n",
    "        agent.compute_mean_nodes()\n",
    "\n",
    "        mean_nodes[i] = agent.mean_nodes\n",
    "        moves_count[i] = agent.moves_count\n",
    "        explored_nodes[i] = agent.nodes_explored\n",
    "\n",
    "    weighted_mean_nodes = explored_nodes.sum() / moves_count.sum()\n",
    "\n",
    "    avg_explored_nodes = explored_nodes.mean()\n",
    "    avg_moves_count = moves_count.mean()\n",
    "\n",
    "    values = [weighted_mean_nodes, avg_explored_nodes, avg_moves_count]\n",
    "\n",
    "    labels = [\n",
    "        \"average explored nodes per move:\",\n",
    "        \"average explored nodes per game:\",\n",
    "        \"average moves per game:\"\n",
    "    ]\n",
    "\n",
    "    label_width = max(len(lbl) for lbl in labels)\n",
    "\n",
    "    for lbl, val in zip(labels, values):\n",
    "        print(f\"{lbl:<{label_width}} {val:>10.2f}\")\n",
    "\n",
    "    return explored_nodes, moves_count, mean_nodes"
   ],
   "id": "b1cb07b39efc962a",
   "outputs": [],
   "execution_count": 4
  },
  {
   "metadata": {},
   "cell_type": "markdown",
   "source": "# Test running function",
   "id": "6a93f6ab20402a72"
  },
  {
   "metadata": {
    "ExecuteTime": {
     "end_time": "2025-06-29T06:29:55.739382Z",
     "start_time": "2025-06-29T06:29:55.736470Z"
    }
   },
   "cell_type": "code",
   "source": [
    "def run_tests(misere_agents, normal_agents, max_depth, pile_count, max_pile, episodes, save_path_prefix):\n",
    "    os.makedirs(save_path_prefix, exist_ok=True)\n",
    "\n",
    "    print(\"-\" * 60)\n",
    "    classic_configuration = False\n",
    "\n",
    "    if pile_count == 0 or max_pile == 0:\n",
    "        classic_configuration = True\n",
    "        initial_piles = np.tile([1, 3, 5, 7], (episodes, 1))\n",
    "\n",
    "        print(\"Classic configuration used\")\n",
    "    else:\n",
    "        initial_piles = np.random.randint(1, max_pile, size=(episodes, pile_count))\n",
    "\n",
    "        print(f\"Configuration: pile_count: {pile_count}, max_pile: {max_pile}, max_depth: {max_depth}\")\n",
    "\n",
    "    print(\"-\" * 60)\n",
    "    misere_modes = np.random.choice([True, False], size=episodes)\n",
    "\n",
    "    for agent_key in misere_agents.keys():\n",
    "        if not classic_configuration:\n",
    "            filename = f\"{save_path_prefix}/minimax-{agent_key}-{max_depth}-{pile_count}-{max_pile}.npz\"\n",
    "        else:\n",
    "            filename = f\"{save_path_prefix}/minimax-{agent_key}-{max_depth}-classic.npz\"\n",
    "\n",
    "        if os.path.exists(filename):\n",
    "            print(f\"Skipping {filename}\")\n",
    "            continue\n",
    "\n",
    "        misere_agent = misere_agents[agent_key]\n",
    "        normal_agent = normal_agents[agent_key]\n",
    "        result = test_agent(misere_agent, normal_agent, misere_modes, initial_piles)\n",
    "\n",
    "        np.savez(filename, result)\n"
   ],
   "id": "d0d9196a22cda50f",
   "outputs": [],
   "execution_count": 5
  },
  {
   "metadata": {},
   "cell_type": "markdown",
   "source": "# Plotting results",
   "id": "a690d1c8136d9dcb"
  },
  {
   "metadata": {
    "ExecuteTime": {
     "end_time": "2025-06-29T06:29:55.837769Z",
     "start_time": "2025-06-29T06:29:55.795208Z"
    }
   },
   "cell_type": "code",
   "source": [
    "def plot_results(vary_pile_counts, vary_max_piles,\n",
    "                           max_depth, folder=\"../savedData/Minimax\",\n",
    "                           save_folder=\"../savedPlots/Minimax\"):\n",
    "    os.makedirs(save_folder, exist_ok=True)\n",
    "\n",
    "    models     = ['n',  'c',  'p',  'a',  'cp',  'ca',  'pa',  'cpa']\n",
    "    model_names = ['Normal',\n",
    "                   'Canonical',\n",
    "                   'P-pruning',\n",
    "                   'Aggressive',\n",
    "                   'Canon+P-prune',\n",
    "                   'Canon+Aggressive',\n",
    "                   'P-prune+Aggressive',\n",
    "                   'All three']\n",
    "\n",
    "    cmaps = ['Blues', 'Greens', 'Reds']\n",
    "    metric_labels = ['Nodes/Move', 'Nodes/Game', 'Moves/Game']\n",
    "\n",
    "    n_agents = len(models)\n",
    "    ncols_outer = 4\n",
    "    nrows_outer = int(np.ceil(n_agents / ncols_outer))\n",
    "\n",
    "    fig = plt.figure(figsize=(4*ncols_outer, 4*nrows_outer))\n",
    "    outer_gs = GridSpec(nrows_outer, ncols_outer, wspace=0.3, hspace=0.3)\n",
    "\n",
    "    for idx, (agent_key, agent_name) in enumerate(zip(models, model_names)):\n",
    "        row = idx // ncols_outer\n",
    "        col = idx % ncols_outer\n",
    "        inner_gs = outer_gs[row, col].subgridspec(len(vary_pile_counts),\n",
    "                                                  len(vary_max_piles),\n",
    "                                                  wspace=0.1, hspace=0.1)\n",
    "\n",
    "        for i, pc in enumerate(vary_pile_counts):\n",
    "            for j, mp in enumerate(vary_max_piles):\n",
    "                ax = fig.add_subplot(inner_gs[i, j])\n",
    "\n",
    "                fname = f\"{folder}/minimax-{agent_key}-{max_depth}-{pc}-{mp}.npz\"\n",
    "                if not os.path.exists(fname):\n",
    "                    ax.text(0.5, 0.5, 'no data', ha='center', va='center')\n",
    "                    ax.set_xticks([])\n",
    "                    ax.set_yticks([])\n",
    "                    continue\n",
    "\n",
    "                data = np.load(fname)\n",
    "                exp_nodes, moves_cnt, mean_nodes = data['arr_0']\n",
    "\n",
    "                m0 = exp_nodes.sum() / moves_cnt.sum()\n",
    "                m1 = exp_nodes.mean()\n",
    "                m2 = moves_cnt.mean()\n",
    "                metrics = [m0, m1, m2]\n",
    "\n",
    "                bars = ax.bar([0,1,2], metrics)\n",
    "                for k, bar in enumerate(bars):\n",
    "                    cmap = plt.get_cmap(cmaps[k])\n",
    "                    bar.set_color(cmap((k+1)/4.))\n",
    "\n",
    "                    ax.text(bar.get_x()+bar.get_width()/2,\n",
    "                            bar.get_height()+0.02*max(metrics),\n",
    "                            f\"{metrics[k]:.1f}\",\n",
    "                            ha='center', va='bottom', fontsize=6)\n",
    "\n",
    "                ax.set_xticks([])\n",
    "                ax.set_yticks([])\n",
    "                if i==0 and j==0:\n",
    "                    ax.set_title(agent_name, fontsize=8)\n",
    "\n",
    "    plt.suptitle(f\"Nested Metrics for depth={max_depth}\", fontsize=12)\n",
    "    out = f\"{save_folder}/nested_depth_{max_depth}.png\"\n",
    "    fig.savefig(out, dpi=200, bbox_inches='tight')\n",
    "    plt.close(fig)\n",
    "    print(f\"Saved nested plot to {out}\")"
   ],
   "id": "8d58bed70f9f7ce0",
   "outputs": [],
   "execution_count": 6
  },
  {
   "metadata": {
    "ExecuteTime": {
     "end_time": "2025-06-29T06:29:55.919911Z",
     "start_time": "2025-06-29T06:29:55.891896Z"
    }
   },
   "cell_type": "code",
   "source": [
    "EPISODES = 1000\n",
    "\n",
    "PILE_COUNT = 4\n",
    "MAX_PILE = 127"
   ],
   "id": "6e68bcaf6b1623b8",
   "outputs": [],
   "execution_count": 7
  },
  {
   "metadata": {
    "ExecuteTime": {
     "end_time": "2025-06-29T06:29:55.974599Z",
     "start_time": "2025-06-29T06:29:55.966580Z"
    }
   },
   "cell_type": "code",
   "source": [
    "for max_depth in [1, 2]:\n",
    "    misere_agents = {\n",
    "        'n': MinimaxAgent(misere=True, max_depth=max_depth),\n",
    "        'c': MinimaxAgent(misere=True, max_depth=max_depth, canonical=True),\n",
    "        'p': MinimaxAgent(misere=True, max_depth=max_depth, P_pruning=True),\n",
    "        'a': MinimaxAgent(misere=True, max_depth=max_depth, aggressive=True),\n",
    "        'cp': MinimaxAgent(misere=True, max_depth=max_depth, canonical=True, P_pruning=True),\n",
    "        'ca': MinimaxAgent(misere=True, max_depth=max_depth, canonical=True, aggressive=True),\n",
    "        'pa': MinimaxAgent(misere=True, max_depth=max_depth, P_pruning=True, aggressive=True),\n",
    "        'cpa': MinimaxAgent(misere=True, max_depth=max_depth, canonical=True, P_pruning=True, aggressive=True)\n",
    "    }\n",
    "\n",
    "    normal_agents = {\n",
    "        'n': MinimaxAgent(misere=False, max_depth=max_depth),\n",
    "        'c': MinimaxAgent(misere=False, max_depth=max_depth, canonical=True),\n",
    "        'p': MinimaxAgent(misere=False, max_depth=max_depth, P_pruning=True),\n",
    "        'a': MinimaxAgent(misere=False, max_depth=max_depth, aggressive=True),\n",
    "        'cp': MinimaxAgent(misere=False, max_depth=max_depth, canonical=True, P_pruning=True),\n",
    "        'ca': MinimaxAgent(misere=False, max_depth=max_depth, canonical=True, aggressive=True),\n",
    "        'pa': MinimaxAgent(misere=False, max_depth=max_depth, P_pruning=True, aggressive=True),\n",
    "        'cpa': MinimaxAgent(misere=False, max_depth=max_depth, canonical=True, P_pruning=True, aggressive=True)\n",
    "    }\n",
    "\n",
    "    for pile_count in [2, 4, 8]:\n",
    "        for max_count in [63, 127, 255]:\n",
    "            run_tests(misere_agents, normal_agents, max_depth, pile_count, max_count, EPISODES, \"../savedData/Minimax\")"
   ],
   "id": "39403c5442a69651",
   "outputs": [
    {
     "name": "stdout",
     "output_type": "stream",
     "text": [
      "------------------------------------------------------------\n",
      "Configuration: pile_count: 2, max_pile: 63, max_depth: 1\n",
      "------------------------------------------------------------\n",
      "Skipping ../savedData/Minimax/minimax-n-1-2-63.npz\n",
      "Skipping ../savedData/Minimax/minimax-c-1-2-63.npz\n",
      "Skipping ../savedData/Minimax/minimax-p-1-2-63.npz\n",
      "Skipping ../savedData/Minimax/minimax-a-1-2-63.npz\n",
      "Skipping ../savedData/Minimax/minimax-cp-1-2-63.npz\n",
      "Skipping ../savedData/Minimax/minimax-ca-1-2-63.npz\n",
      "Skipping ../savedData/Minimax/minimax-pa-1-2-63.npz\n",
      "Skipping ../savedData/Minimax/minimax-cpa-1-2-63.npz\n",
      "------------------------------------------------------------\n",
      "Configuration: pile_count: 2, max_pile: 127, max_depth: 1\n",
      "------------------------------------------------------------\n",
      "Skipping ../savedData/Minimax/minimax-n-1-2-127.npz\n",
      "Skipping ../savedData/Minimax/minimax-c-1-2-127.npz\n",
      "Skipping ../savedData/Minimax/minimax-p-1-2-127.npz\n",
      "Skipping ../savedData/Minimax/minimax-a-1-2-127.npz\n",
      "Skipping ../savedData/Minimax/minimax-cp-1-2-127.npz\n",
      "Skipping ../savedData/Minimax/minimax-ca-1-2-127.npz\n",
      "Skipping ../savedData/Minimax/minimax-pa-1-2-127.npz\n",
      "Skipping ../savedData/Minimax/minimax-cpa-1-2-127.npz\n",
      "------------------------------------------------------------\n",
      "Configuration: pile_count: 2, max_pile: 255, max_depth: 1\n",
      "------------------------------------------------------------\n",
      "Skipping ../savedData/Minimax/minimax-n-1-2-255.npz\n",
      "Skipping ../savedData/Minimax/minimax-c-1-2-255.npz\n",
      "Skipping ../savedData/Minimax/minimax-p-1-2-255.npz\n",
      "Skipping ../savedData/Minimax/minimax-a-1-2-255.npz\n",
      "Skipping ../savedData/Minimax/minimax-cp-1-2-255.npz\n",
      "Skipping ../savedData/Minimax/minimax-ca-1-2-255.npz\n",
      "Skipping ../savedData/Minimax/minimax-pa-1-2-255.npz\n",
      "Skipping ../savedData/Minimax/minimax-cpa-1-2-255.npz\n",
      "------------------------------------------------------------\n",
      "Configuration: pile_count: 4, max_pile: 63, max_depth: 1\n",
      "------------------------------------------------------------\n",
      "Skipping ../savedData/Minimax/minimax-n-1-4-63.npz\n",
      "Skipping ../savedData/Minimax/minimax-c-1-4-63.npz\n",
      "Skipping ../savedData/Minimax/minimax-p-1-4-63.npz\n",
      "Skipping ../savedData/Minimax/minimax-a-1-4-63.npz\n",
      "Skipping ../savedData/Minimax/minimax-cp-1-4-63.npz\n",
      "Skipping ../savedData/Minimax/minimax-ca-1-4-63.npz\n",
      "Skipping ../savedData/Minimax/minimax-pa-1-4-63.npz\n",
      "Skipping ../savedData/Minimax/minimax-cpa-1-4-63.npz\n",
      "------------------------------------------------------------\n",
      "Configuration: pile_count: 4, max_pile: 127, max_depth: 1\n",
      "------------------------------------------------------------\n",
      "Skipping ../savedData/Minimax/minimax-n-1-4-127.npz\n",
      "Skipping ../savedData/Minimax/minimax-c-1-4-127.npz\n",
      "Skipping ../savedData/Minimax/minimax-p-1-4-127.npz\n",
      "Skipping ../savedData/Minimax/minimax-a-1-4-127.npz\n",
      "Skipping ../savedData/Minimax/minimax-cp-1-4-127.npz\n",
      "Skipping ../savedData/Minimax/minimax-ca-1-4-127.npz\n",
      "Skipping ../savedData/Minimax/minimax-pa-1-4-127.npz\n",
      "Skipping ../savedData/Minimax/minimax-cpa-1-4-127.npz\n",
      "------------------------------------------------------------\n",
      "Configuration: pile_count: 4, max_pile: 255, max_depth: 1\n",
      "------------------------------------------------------------\n",
      "Skipping ../savedData/Minimax/minimax-n-1-4-255.npz\n",
      "Skipping ../savedData/Minimax/minimax-c-1-4-255.npz\n",
      "Skipping ../savedData/Minimax/minimax-p-1-4-255.npz\n",
      "Skipping ../savedData/Minimax/minimax-a-1-4-255.npz\n",
      "Skipping ../savedData/Minimax/minimax-cp-1-4-255.npz\n",
      "Skipping ../savedData/Minimax/minimax-ca-1-4-255.npz\n",
      "Skipping ../savedData/Minimax/minimax-pa-1-4-255.npz\n",
      "Skipping ../savedData/Minimax/minimax-cpa-1-4-255.npz\n",
      "------------------------------------------------------------\n",
      "Configuration: pile_count: 8, max_pile: 63, max_depth: 1\n",
      "------------------------------------------------------------\n",
      "Skipping ../savedData/Minimax/minimax-n-1-8-63.npz\n",
      "Skipping ../savedData/Minimax/minimax-c-1-8-63.npz\n",
      "Skipping ../savedData/Minimax/minimax-p-1-8-63.npz\n",
      "Skipping ../savedData/Minimax/minimax-a-1-8-63.npz\n",
      "Skipping ../savedData/Minimax/minimax-cp-1-8-63.npz\n",
      "Skipping ../savedData/Minimax/minimax-ca-1-8-63.npz\n",
      "Skipping ../savedData/Minimax/minimax-pa-1-8-63.npz\n",
      "Skipping ../savedData/Minimax/minimax-cpa-1-8-63.npz\n",
      "------------------------------------------------------------\n",
      "Configuration: pile_count: 8, max_pile: 127, max_depth: 1\n",
      "------------------------------------------------------------\n",
      "Skipping ../savedData/Minimax/minimax-n-1-8-127.npz\n",
      "Skipping ../savedData/Minimax/minimax-c-1-8-127.npz\n",
      "Skipping ../savedData/Minimax/minimax-p-1-8-127.npz\n",
      "Skipping ../savedData/Minimax/minimax-a-1-8-127.npz\n",
      "Skipping ../savedData/Minimax/minimax-cp-1-8-127.npz\n",
      "Skipping ../savedData/Minimax/minimax-ca-1-8-127.npz\n",
      "Skipping ../savedData/Minimax/minimax-pa-1-8-127.npz\n",
      "Skipping ../savedData/Minimax/minimax-cpa-1-8-127.npz\n",
      "------------------------------------------------------------\n",
      "Configuration: pile_count: 8, max_pile: 255, max_depth: 1\n",
      "------------------------------------------------------------\n",
      "Skipping ../savedData/Minimax/minimax-n-1-8-255.npz\n",
      "Skipping ../savedData/Minimax/minimax-c-1-8-255.npz\n",
      "Skipping ../savedData/Minimax/minimax-p-1-8-255.npz\n",
      "Skipping ../savedData/Minimax/minimax-a-1-8-255.npz\n",
      "Skipping ../savedData/Minimax/minimax-cp-1-8-255.npz\n",
      "Skipping ../savedData/Minimax/minimax-ca-1-8-255.npz\n",
      "Skipping ../savedData/Minimax/minimax-pa-1-8-255.npz\n",
      "Skipping ../savedData/Minimax/minimax-cpa-1-8-255.npz\n",
      "------------------------------------------------------------\n",
      "Configuration: pile_count: 2, max_pile: 63, max_depth: 2\n",
      "------------------------------------------------------------\n",
      "Skipping ../savedData/Minimax/minimax-n-2-2-63.npz\n",
      "Skipping ../savedData/Minimax/minimax-c-2-2-63.npz\n",
      "Skipping ../savedData/Minimax/minimax-p-2-2-63.npz\n",
      "Skipping ../savedData/Minimax/minimax-a-2-2-63.npz\n",
      "Skipping ../savedData/Minimax/minimax-cp-2-2-63.npz\n",
      "Skipping ../savedData/Minimax/minimax-ca-2-2-63.npz\n",
      "Skipping ../savedData/Minimax/minimax-pa-2-2-63.npz\n",
      "Skipping ../savedData/Minimax/minimax-cpa-2-2-63.npz\n",
      "------------------------------------------------------------\n",
      "Configuration: pile_count: 2, max_pile: 127, max_depth: 2\n",
      "------------------------------------------------------------\n",
      "Skipping ../savedData/Minimax/minimax-n-2-2-127.npz\n",
      "Skipping ../savedData/Minimax/minimax-c-2-2-127.npz\n",
      "Skipping ../savedData/Minimax/minimax-p-2-2-127.npz\n",
      "Skipping ../savedData/Minimax/minimax-a-2-2-127.npz\n",
      "Skipping ../savedData/Minimax/minimax-cp-2-2-127.npz\n",
      "Skipping ../savedData/Minimax/minimax-ca-2-2-127.npz\n",
      "Skipping ../savedData/Minimax/minimax-pa-2-2-127.npz\n",
      "Skipping ../savedData/Minimax/minimax-cpa-2-2-127.npz\n",
      "------------------------------------------------------------\n",
      "Configuration: pile_count: 2, max_pile: 255, max_depth: 2\n",
      "------------------------------------------------------------\n",
      "Skipping ../savedData/Minimax/minimax-n-2-2-255.npz\n",
      "Skipping ../savedData/Minimax/minimax-c-2-2-255.npz\n",
      "Skipping ../savedData/Minimax/minimax-p-2-2-255.npz\n",
      "Skipping ../savedData/Minimax/minimax-a-2-2-255.npz\n",
      "Skipping ../savedData/Minimax/minimax-cp-2-2-255.npz\n",
      "Skipping ../savedData/Minimax/minimax-ca-2-2-255.npz\n",
      "Skipping ../savedData/Minimax/minimax-pa-2-2-255.npz\n",
      "Skipping ../savedData/Minimax/minimax-cpa-2-2-255.npz\n",
      "------------------------------------------------------------\n",
      "Configuration: pile_count: 4, max_pile: 63, max_depth: 2\n",
      "------------------------------------------------------------\n",
      "Skipping ../savedData/Minimax/minimax-n-2-4-63.npz\n",
      "Skipping ../savedData/Minimax/minimax-c-2-4-63.npz\n",
      "Skipping ../savedData/Minimax/minimax-p-2-4-63.npz\n",
      "Skipping ../savedData/Minimax/minimax-a-2-4-63.npz\n",
      "Skipping ../savedData/Minimax/minimax-cp-2-4-63.npz\n",
      "Skipping ../savedData/Minimax/minimax-ca-2-4-63.npz\n",
      "Skipping ../savedData/Minimax/minimax-pa-2-4-63.npz\n",
      "Skipping ../savedData/Minimax/minimax-cpa-2-4-63.npz\n",
      "------------------------------------------------------------\n",
      "Configuration: pile_count: 4, max_pile: 127, max_depth: 2\n",
      "------------------------------------------------------------\n",
      "Skipping ../savedData/Minimax/minimax-n-2-4-127.npz\n",
      "Skipping ../savedData/Minimax/minimax-c-2-4-127.npz\n",
      "Skipping ../savedData/Minimax/minimax-p-2-4-127.npz\n",
      "Skipping ../savedData/Minimax/minimax-a-2-4-127.npz\n",
      "Skipping ../savedData/Minimax/minimax-cp-2-4-127.npz\n",
      "Skipping ../savedData/Minimax/minimax-ca-2-4-127.npz\n",
      "Skipping ../savedData/Minimax/minimax-pa-2-4-127.npz\n",
      "Skipping ../savedData/Minimax/minimax-cpa-2-4-127.npz\n",
      "------------------------------------------------------------\n",
      "Configuration: pile_count: 4, max_pile: 255, max_depth: 2\n",
      "------------------------------------------------------------\n",
      "Skipping ../savedData/Minimax/minimax-n-2-4-255.npz\n",
      "Skipping ../savedData/Minimax/minimax-c-2-4-255.npz\n",
      "Skipping ../savedData/Minimax/minimax-p-2-4-255.npz\n",
      "Skipping ../savedData/Minimax/minimax-a-2-4-255.npz\n",
      "Skipping ../savedData/Minimax/minimax-cp-2-4-255.npz\n",
      "Skipping ../savedData/Minimax/minimax-ca-2-4-255.npz\n",
      "Skipping ../savedData/Minimax/minimax-pa-2-4-255.npz\n",
      "Skipping ../savedData/Minimax/minimax-cpa-2-4-255.npz\n",
      "------------------------------------------------------------\n",
      "Configuration: pile_count: 8, max_pile: 63, max_depth: 2\n",
      "------------------------------------------------------------\n",
      "Skipping ../savedData/Minimax/minimax-n-2-8-63.npz\n",
      "Skipping ../savedData/Minimax/minimax-c-2-8-63.npz\n",
      "Skipping ../savedData/Minimax/minimax-p-2-8-63.npz\n",
      "Skipping ../savedData/Minimax/minimax-a-2-8-63.npz\n",
      "Skipping ../savedData/Minimax/minimax-cp-2-8-63.npz\n",
      "Skipping ../savedData/Minimax/minimax-ca-2-8-63.npz\n",
      "Skipping ../savedData/Minimax/minimax-pa-2-8-63.npz\n",
      "Skipping ../savedData/Minimax/minimax-cpa-2-8-63.npz\n",
      "------------------------------------------------------------\n",
      "Configuration: pile_count: 8, max_pile: 127, max_depth: 2\n",
      "------------------------------------------------------------\n",
      "Skipping ../savedData/Minimax/minimax-n-2-8-127.npz\n",
      "Skipping ../savedData/Minimax/minimax-c-2-8-127.npz\n",
      "Skipping ../savedData/Minimax/minimax-p-2-8-127.npz\n",
      "Skipping ../savedData/Minimax/minimax-a-2-8-127.npz\n",
      "Skipping ../savedData/Minimax/minimax-cp-2-8-127.npz\n",
      "Skipping ../savedData/Minimax/minimax-ca-2-8-127.npz\n",
      "Skipping ../savedData/Minimax/minimax-pa-2-8-127.npz\n",
      "Skipping ../savedData/Minimax/minimax-cpa-2-8-127.npz\n",
      "------------------------------------------------------------\n",
      "Configuration: pile_count: 8, max_pile: 255, max_depth: 2\n",
      "------------------------------------------------------------\n",
      "Skipping ../savedData/Minimax/minimax-n-2-8-255.npz\n",
      "Skipping ../savedData/Minimax/minimax-c-2-8-255.npz\n",
      "Skipping ../savedData/Minimax/minimax-p-2-8-255.npz\n",
      "Skipping ../savedData/Minimax/minimax-a-2-8-255.npz\n",
      "Skipping ../savedData/Minimax/minimax-cp-2-8-255.npz\n",
      "Skipping ../savedData/Minimax/minimax-ca-2-8-255.npz\n",
      "Skipping ../savedData/Minimax/minimax-pa-2-8-255.npz\n",
      "Skipping ../savedData/Minimax/minimax-cpa-2-8-255.npz\n"
     ]
    }
   ],
   "execution_count": 8
  },
  {
   "metadata": {
    "ExecuteTime": {
     "end_time": "2025-06-29T06:29:58.056806Z",
     "start_time": "2025-06-29T06:29:56.065831Z"
    }
   },
   "cell_type": "code",
   "source": [
    "for max_depth in [1, 2]:\n",
    "    plot_results(\n",
    "        vary_pile_counts=[2, 4, 8],\n",
    "        vary_max_piles=[63, 127, 255],\n",
    "        max_depth=max_depth,\n",
    "    )"
   ],
   "id": "fc96521e821241f0",
   "outputs": [
    {
     "name": "stdout",
     "output_type": "stream",
     "text": [
      "Saved nested plot to ../savedPlots/Minimax/nested_depth_1.png\n",
      "Saved nested plot to ../savedPlots/Minimax/nested_depth_2.png\n"
     ]
    }
   ],
   "execution_count": 9
  },
  {
   "metadata": {},
   "cell_type": "markdown",
   "source": "# Max Depth testing on Smaller Configuration",
   "id": "b247608d489d112e"
  },
  {
   "metadata": {
    "ExecuteTime": {
     "end_time": "2025-06-29T06:29:58.110518Z",
     "start_time": "2025-06-29T06:29:58.104486Z"
    }
   },
   "cell_type": "code",
   "source": [
    "EPISODES = 1000\n",
    "\n",
    "PILE_COUNT = 3\n",
    "MAX_PILE = 5\n",
    "\n",
    "MAX_DEPTH = 9999"
   ],
   "id": "253fe7ad0c055649",
   "outputs": [],
   "execution_count": 10
  },
  {
   "metadata": {
    "ExecuteTime": {
     "end_time": "2025-06-29T06:30:35.093574Z",
     "start_time": "2025-06-29T06:29:58.204903Z"
    }
   },
   "cell_type": "code",
   "source": [
    "misere_agents = {\n",
    "    'n': MinimaxAgent(misere=True, max_depth=MAX_DEPTH),\n",
    "    'c': MinimaxAgent(misere=True, max_depth=MAX_DEPTH, canonical=True),\n",
    "    'p': MinimaxAgent(misere=True, max_depth=MAX_DEPTH, P_pruning=True),\n",
    "    'a': MinimaxAgent(misere=True, max_depth=MAX_DEPTH, aggressive=True),\n",
    "    'cp': MinimaxAgent(misere=True, max_depth=MAX_DEPTH, canonical=True, P_pruning=True),\n",
    "    'ca': MinimaxAgent(misere=True, max_depth=MAX_DEPTH, canonical=True, aggressive=True),\n",
    "    'pa': MinimaxAgent(misere=True, max_depth=MAX_DEPTH, P_pruning=True, aggressive=True),\n",
    "    'cpa': MinimaxAgent(misere=True, max_depth=MAX_DEPTH, canonical=True, P_pruning=True, aggressive=True)\n",
    "}\n",
    "\n",
    "normal_agents = {\n",
    "    'n': MinimaxAgent(misere=False, max_depth=MAX_DEPTH),\n",
    "    'c': MinimaxAgent(misere=False, max_depth=MAX_DEPTH, canonical=True),\n",
    "    'p': MinimaxAgent(misere=False, max_depth=MAX_DEPTH, P_pruning=True),\n",
    "    'a': MinimaxAgent(misere=False, max_depth=MAX_DEPTH, aggressive=True),\n",
    "    'cp': MinimaxAgent(misere=False, max_depth=MAX_DEPTH, canonical=True, P_pruning=True),\n",
    "    'ca': MinimaxAgent(misere=False, max_depth=MAX_DEPTH, canonical=True, aggressive=True),\n",
    "    'pa': MinimaxAgent(misere=False, max_depth=MAX_DEPTH, P_pruning=True, aggressive=True),\n",
    "    'cpa': MinimaxAgent(misere=False, max_depth=MAX_DEPTH, canonical=True, P_pruning=True, aggressive=True)\n",
    "}\n",
    "\n",
    "for pile_count in [2, 3, 4]:\n",
    "    for max_pile in [3, 4, 5]:\n",
    "        run_tests(misere_agents, normal_agents, MAX_DEPTH, pile_count, max_pile, EPISODES, \"../savedData/Minimax\")"
   ],
   "id": "e89498c803872a5c",
   "outputs": [
    {
     "name": "stdout",
     "output_type": "stream",
     "text": [
      "------------------------------------------------------------\n",
      "Configuration: pile_count: 2, max_pile: 3, max_depth: 9999\n",
      "------------------------------------------------------------\n",
      "Skipping ../savedData/Minimax/minimax-n-9999-2-3.npz\n",
      "Skipping ../savedData/Minimax/minimax-c-9999-2-3.npz\n",
      "Skipping ../savedData/Minimax/minimax-p-9999-2-3.npz\n",
      "Skipping ../savedData/Minimax/minimax-a-9999-2-3.npz\n",
      "Skipping ../savedData/Minimax/minimax-cp-9999-2-3.npz\n",
      "Skipping ../savedData/Minimax/minimax-ca-9999-2-3.npz\n",
      "Skipping ../savedData/Minimax/minimax-pa-9999-2-3.npz\n",
      "Skipping ../savedData/Minimax/minimax-cpa-9999-2-3.npz\n",
      "------------------------------------------------------------\n",
      "Configuration: pile_count: 2, max_pile: 4, max_depth: 9999\n",
      "------------------------------------------------------------\n"
     ]
    },
    {
     "name": "stderr",
     "output_type": "stream",
     "text": [
      "100%|██████████| 1000/1000 [00:00<00:00, 4380.52it/s]\n"
     ]
    },
    {
     "name": "stdout",
     "output_type": "stream",
     "text": [
      "average explored nodes per move:      19.20\n",
      "average explored nodes per game:      63.84\n",
      "average moves per game:                3.33\n"
     ]
    },
    {
     "name": "stderr",
     "output_type": "stream",
     "text": [
      "100%|██████████| 1000/1000 [00:00<00:00, 12887.98it/s]\n"
     ]
    },
    {
     "name": "stdout",
     "output_type": "stream",
     "text": [
      "average explored nodes per move:      17.22\n",
      "average explored nodes per game:      57.25\n",
      "average moves per game:                3.33\n"
     ]
    },
    {
     "name": "stderr",
     "output_type": "stream",
     "text": [
      "100%|██████████| 1000/1000 [00:00<00:00, 18134.71it/s]\n"
     ]
    },
    {
     "name": "stdout",
     "output_type": "stream",
     "text": [
      "average explored nodes per move:       4.37\n",
      "average explored nodes per game:      14.54\n",
      "average moves per game:                3.33\n"
     ]
    },
    {
     "name": "stderr",
     "output_type": "stream",
     "text": [
      "100%|██████████| 1000/1000 [00:00<00:00, 11131.53it/s]\n"
     ]
    },
    {
     "name": "stdout",
     "output_type": "stream",
     "text": [
      "average explored nodes per move:      13.09\n",
      "average explored nodes per game:      43.53\n",
      "average moves per game:                3.33\n"
     ]
    },
    {
     "name": "stderr",
     "output_type": "stream",
     "text": [
      "100%|██████████| 1000/1000 [00:00<00:00, 29136.82it/s]\n"
     ]
    },
    {
     "name": "stdout",
     "output_type": "stream",
     "text": [
      "average explored nodes per move:       2.86\n",
      "average explored nodes per game:       9.52\n",
      "average moves per game:                3.33\n"
     ]
    },
    {
     "name": "stderr",
     "output_type": "stream",
     "text": [
      "100%|██████████| 1000/1000 [00:00<00:00, 16968.69it/s]\n"
     ]
    },
    {
     "name": "stdout",
     "output_type": "stream",
     "text": [
      "average explored nodes per move:      13.07\n",
      "average explored nodes per game:      43.45\n",
      "average moves per game:                3.33\n"
     ]
    },
    {
     "name": "stderr",
     "output_type": "stream",
     "text": [
      "100%|██████████| 1000/1000 [00:00<00:00, 29521.34it/s]\n"
     ]
    },
    {
     "name": "stdout",
     "output_type": "stream",
     "text": [
      "average explored nodes per move:       3.57\n",
      "average explored nodes per game:       9.54\n",
      "average moves per game:                2.67\n"
     ]
    },
    {
     "name": "stderr",
     "output_type": "stream",
     "text": [
      "100%|██████████| 1000/1000 [00:00<00:00, 35153.20it/s]\n"
     ]
    },
    {
     "name": "stdout",
     "output_type": "stream",
     "text": [
      "average explored nodes per move:       3.32\n",
      "average explored nodes per game:       8.86\n",
      "average moves per game:                2.67\n",
      "------------------------------------------------------------\n",
      "Configuration: pile_count: 2, max_pile: 5, max_depth: 9999\n",
      "------------------------------------------------------------\n",
      "Skipping ../savedData/Minimax/minimax-n-9999-2-5.npz\n",
      "Skipping ../savedData/Minimax/minimax-c-9999-2-5.npz\n",
      "Skipping ../savedData/Minimax/minimax-p-9999-2-5.npz\n",
      "Skipping ../savedData/Minimax/minimax-a-9999-2-5.npz\n",
      "Skipping ../savedData/Minimax/minimax-cp-9999-2-5.npz\n",
      "Skipping ../savedData/Minimax/minimax-ca-9999-2-5.npz\n",
      "Skipping ../savedData/Minimax/minimax-pa-9999-2-5.npz\n",
      "Skipping ../savedData/Minimax/minimax-cpa-9999-2-5.npz\n",
      "------------------------------------------------------------\n",
      "Configuration: pile_count: 3, max_pile: 3, max_depth: 9999\n",
      "------------------------------------------------------------\n",
      "Skipping ../savedData/Minimax/minimax-n-9999-3-3.npz\n",
      "Skipping ../savedData/Minimax/minimax-c-9999-3-3.npz\n",
      "Skipping ../savedData/Minimax/minimax-p-9999-3-3.npz\n",
      "Skipping ../savedData/Minimax/minimax-a-9999-3-3.npz\n",
      "Skipping ../savedData/Minimax/minimax-cp-9999-3-3.npz\n",
      "Skipping ../savedData/Minimax/minimax-ca-9999-3-3.npz\n",
      "Skipping ../savedData/Minimax/minimax-pa-9999-3-3.npz\n",
      "Skipping ../savedData/Minimax/minimax-cpa-9999-3-3.npz\n",
      "------------------------------------------------------------\n",
      "Configuration: pile_count: 3, max_pile: 4, max_depth: 9999\n",
      "------------------------------------------------------------\n"
     ]
    },
    {
     "name": "stderr",
     "output_type": "stream",
     "text": [
      "100%|██████████| 1000/1000 [00:00<00:00, 1442.01it/s]\n"
     ]
    },
    {
     "name": "stdout",
     "output_type": "stream",
     "text": [
      "average explored nodes per move:     103.81\n",
      "average explored nodes per game:     519.03\n",
      "average moves per game:                5.00\n"
     ]
    },
    {
     "name": "stderr",
     "output_type": "stream",
     "text": [
      "100%|██████████| 1000/1000 [00:00<00:00, 1372.66it/s]\n"
     ]
    },
    {
     "name": "stdout",
     "output_type": "stream",
     "text": [
      "average explored nodes per move:     102.45\n",
      "average explored nodes per game:     512.25\n",
      "average moves per game:                5.00\n"
     ]
    },
    {
     "name": "stderr",
     "output_type": "stream",
     "text": [
      "100%|██████████| 1000/1000 [00:00<00:00, 7305.39it/s]\n"
     ]
    },
    {
     "name": "stdout",
     "output_type": "stream",
     "text": [
      "average explored nodes per move:       7.67\n",
      "average explored nodes per game:      37.48\n",
      "average moves per game:                4.89\n"
     ]
    },
    {
     "name": "stderr",
     "output_type": "stream",
     "text": [
      "100%|██████████| 1000/1000 [00:00<00:00, 3432.83it/s]\n"
     ]
    },
    {
     "name": "stdout",
     "output_type": "stream",
     "text": [
      "average explored nodes per move:      44.59\n",
      "average explored nodes per game:     222.93\n",
      "average moves per game:                5.00\n"
     ]
    },
    {
     "name": "stderr",
     "output_type": "stream",
     "text": [
      "100%|██████████| 1000/1000 [00:00<00:00, 10362.04it/s]\n"
     ]
    },
    {
     "name": "stdout",
     "output_type": "stream",
     "text": [
      "average explored nodes per move:       5.59\n",
      "average explored nodes per game:      29.16\n",
      "average moves per game:                5.22\n"
     ]
    },
    {
     "name": "stderr",
     "output_type": "stream",
     "text": [
      "100%|██████████| 1000/1000 [00:00<00:00, 3267.50it/s]\n"
     ]
    },
    {
     "name": "stdout",
     "output_type": "stream",
     "text": [
      "average explored nodes per move:      44.70\n",
      "average explored nodes per game:     223.50\n",
      "average moves per game:                5.00\n"
     ]
    },
    {
     "name": "stderr",
     "output_type": "stream",
     "text": [
      "100%|██████████| 1000/1000 [00:00<00:00, 15409.02it/s]\n"
     ]
    },
    {
     "name": "stdout",
     "output_type": "stream",
     "text": [
      "average explored nodes per move:       5.52\n",
      "average explored nodes per game:      20.17\n",
      "average moves per game:                3.65\n"
     ]
    },
    {
     "name": "stderr",
     "output_type": "stream",
     "text": [
      "100%|██████████| 1000/1000 [00:00<00:00, 15841.37it/s]\n"
     ]
    },
    {
     "name": "stdout",
     "output_type": "stream",
     "text": [
      "average explored nodes per move:       4.90\n",
      "average explored nodes per game:      18.25\n",
      "average moves per game:                3.72\n",
      "------------------------------------------------------------\n",
      "Configuration: pile_count: 3, max_pile: 5, max_depth: 9999\n",
      "------------------------------------------------------------\n",
      "Skipping ../savedData/Minimax/minimax-n-9999-3-5.npz\n",
      "Skipping ../savedData/Minimax/minimax-c-9999-3-5.npz\n",
      "Skipping ../savedData/Minimax/minimax-p-9999-3-5.npz\n",
      "Skipping ../savedData/Minimax/minimax-a-9999-3-5.npz\n",
      "Skipping ../savedData/Minimax/minimax-cp-9999-3-5.npz\n",
      "Skipping ../savedData/Minimax/minimax-ca-9999-3-5.npz\n",
      "Skipping ../savedData/Minimax/minimax-pa-9999-3-5.npz\n",
      "Skipping ../savedData/Minimax/minimax-cpa-9999-3-5.npz\n",
      "------------------------------------------------------------\n",
      "Configuration: pile_count: 4, max_pile: 3, max_depth: 9999\n",
      "------------------------------------------------------------\n",
      "Skipping ../savedData/Minimax/minimax-n-9999-4-3.npz\n",
      "Skipping ../savedData/Minimax/minimax-c-9999-4-3.npz\n",
      "Skipping ../savedData/Minimax/minimax-p-9999-4-3.npz\n",
      "Skipping ../savedData/Minimax/minimax-a-9999-4-3.npz\n",
      "Skipping ../savedData/Minimax/minimax-cp-9999-4-3.npz\n",
      "Skipping ../savedData/Minimax/minimax-ca-9999-4-3.npz\n",
      "Skipping ../savedData/Minimax/minimax-pa-9999-4-3.npz\n",
      "Skipping ../savedData/Minimax/minimax-cpa-9999-4-3.npz\n",
      "------------------------------------------------------------\n",
      "Configuration: pile_count: 4, max_pile: 4, max_depth: 9999\n",
      "------------------------------------------------------------\n"
     ]
    },
    {
     "name": "stderr",
     "output_type": "stream",
     "text": [
      "100%|██████████| 1000/1000 [00:12<00:00, 78.52it/s] \n"
     ]
    },
    {
     "name": "stdout",
     "output_type": "stream",
     "text": [
      "average explored nodes per move:    1385.17\n",
      "average explored nodes per game:    9600.63\n",
      "average moves per game:                6.93\n"
     ]
    },
    {
     "name": "stderr",
     "output_type": "stream",
     "text": [
      "100%|██████████| 1000/1000 [00:09<00:00, 101.75it/s]\n"
     ]
    },
    {
     "name": "stdout",
     "output_type": "stream",
     "text": [
      "average explored nodes per move:    1042.10\n",
      "average explored nodes per game:    7222.82\n",
      "average moves per game:                6.93\n"
     ]
    },
    {
     "name": "stderr",
     "output_type": "stream",
     "text": [
      "100%|██████████| 1000/1000 [00:00<00:00, 1999.36it/s]\n"
     ]
    },
    {
     "name": "stdout",
     "output_type": "stream",
     "text": [
      "average explored nodes per move:      22.85\n",
      "average explored nodes per game:     151.76\n",
      "average moves per game:                6.64\n"
     ]
    },
    {
     "name": "stderr",
     "output_type": "stream",
     "text": [
      "100%|██████████| 1000/1000 [00:05<00:00, 194.62it/s]\n"
     ]
    },
    {
     "name": "stdout",
     "output_type": "stream",
     "text": [
      "average explored nodes per move:     494.76\n",
      "average explored nodes per game:    3429.15\n",
      "average moves per game:                6.93\n"
     ]
    },
    {
     "name": "stderr",
     "output_type": "stream",
     "text": [
      "100%|██████████| 1000/1000 [00:00<00:00, 4185.43it/s]\n"
     ]
    },
    {
     "name": "stdout",
     "output_type": "stream",
     "text": [
      "average explored nodes per move:       9.38\n",
      "average explored nodes per game:      67.72\n",
      "average moves per game:                7.22\n"
     ]
    },
    {
     "name": "stderr",
     "output_type": "stream",
     "text": [
      "100%|██████████| 1000/1000 [00:04<00:00, 204.70it/s]\n"
     ]
    },
    {
     "name": "stdout",
     "output_type": "stream",
     "text": [
      "average explored nodes per move:     454.06\n",
      "average explored nodes per game:    3147.08\n",
      "average moves per game:                6.93\n"
     ]
    },
    {
     "name": "stderr",
     "output_type": "stream",
     "text": [
      "100%|██████████| 1000/1000 [00:00<00:00, 3726.45it/s]\n"
     ]
    },
    {
     "name": "stdout",
     "output_type": "stream",
     "text": [
      "average explored nodes per move:      11.87\n",
      "average explored nodes per game:      57.08\n",
      "average moves per game:                4.81\n"
     ]
    },
    {
     "name": "stderr",
     "output_type": "stream",
     "text": [
      "100%|██████████| 1000/1000 [00:00<00:00, 5583.22it/s]"
     ]
    },
    {
     "name": "stdout",
     "output_type": "stream",
     "text": [
      "average explored nodes per move:       9.53\n",
      "average explored nodes per game:      46.34\n",
      "average moves per game:                4.86\n",
      "------------------------------------------------------------\n",
      "Configuration: pile_count: 4, max_pile: 5, max_depth: 9999\n",
      "------------------------------------------------------------\n",
      "Skipping ../savedData/Minimax/minimax-n-9999-4-5.npz\n",
      "Skipping ../savedData/Minimax/minimax-c-9999-4-5.npz\n",
      "Skipping ../savedData/Minimax/minimax-p-9999-4-5.npz\n",
      "Skipping ../savedData/Minimax/minimax-a-9999-4-5.npz\n",
      "Skipping ../savedData/Minimax/minimax-cp-9999-4-5.npz\n",
      "Skipping ../savedData/Minimax/minimax-ca-9999-4-5.npz\n",
      "Skipping ../savedData/Minimax/minimax-pa-9999-4-5.npz\n",
      "Skipping ../savedData/Minimax/minimax-cpa-9999-4-5.npz\n"
     ]
    },
    {
     "name": "stderr",
     "output_type": "stream",
     "text": [
      "\n"
     ]
    }
   ],
   "execution_count": 11
  },
  {
   "metadata": {
    "ExecuteTime": {
     "end_time": "2025-06-29T06:30:35.706454Z",
     "start_time": "2025-06-29T06:30:35.143359Z"
    }
   },
   "cell_type": "code",
   "source": [
    "plot_results(\n",
    "    vary_pile_counts=[2, 3, 4],\n",
    "    vary_max_piles=[3, 4, 5],\n",
    "    max_depth=MAX_DEPTH\n",
    ")"
   ],
   "id": "332c19ff6a0593c4",
   "outputs": [
    {
     "name": "stdout",
     "output_type": "stream",
     "text": [
      "Saved nested plot to ../savedPlots/Minimax/nested_depth_9999.png\n"
     ]
    }
   ],
   "execution_count": 12
  },
  {
   "metadata": {
    "ExecuteTime": {
     "end_time": "2025-06-29T06:30:35.746189Z",
     "start_time": "2025-06-29T06:30:35.744529Z"
    }
   },
   "cell_type": "code",
   "source": "",
   "id": "3e787fd45c407bc6",
   "outputs": [],
   "execution_count": null
  }
 ],
 "metadata": {
  "kernelspec": {
   "display_name": "Python 3",
   "language": "python",
   "name": "python3"
  },
  "language_info": {
   "codemirror_mode": {
    "name": "ipython",
    "version": 2
   },
   "file_extension": ".py",
   "mimetype": "text/x-python",
   "name": "python",
   "nbconvert_exporter": "python",
   "pygments_lexer": "ipython2",
   "version": "2.7.6"
  }
 },
 "nbformat": 4,
 "nbformat_minor": 5
}
