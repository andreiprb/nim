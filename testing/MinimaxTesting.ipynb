{
 "cells": [
  {
   "metadata": {},
   "cell_type": "markdown",
   "source": "# Imports",
   "id": "7b4c3b0961ac3b1e"
  },
  {
   "metadata": {
    "ExecuteTime": {
     "end_time": "2025-06-29T13:27:47.589569Z",
     "start_time": "2025-06-29T13:27:47.586757Z"
    }
   },
   "cell_type": "code",
   "source": [
    "import os\n",
    "from tqdm import tqdm\n",
    "\n",
    "import numpy as np\n",
    "import pandas as pd\n",
    "\n",
    "import seaborn as sns\n",
    "import matplotlib.pyplot as plt\n",
    "from matplotlib.colors import LogNorm"
   ],
   "id": "f80b91b841340426",
   "outputs": [],
   "execution_count": 68
  },
  {
   "metadata": {
    "ExecuteTime": {
     "end_time": "2025-06-29T13:27:47.598710Z",
     "start_time": "2025-06-29T13:27:47.596663Z"
    }
   },
   "cell_type": "code",
   "source": [
    "from Nim.Nim import Nim\n",
    "from Nim.NimLogic import NimLogic\n",
    "\n",
    "from Agents.MinimaxAgent import MinimaxAgent"
   ],
   "id": "11534c8da0916838",
   "outputs": [],
   "execution_count": 69
  },
  {
   "metadata": {},
   "cell_type": "markdown",
   "source": "# Setup",
   "id": "b58a696a6f76ca45"
  },
  {
   "metadata": {
    "ExecuteTime": {
     "end_time": "2025-06-29T13:27:47.606144Z",
     "start_time": "2025-06-29T13:27:47.604386Z"
    }
   },
   "cell_type": "code",
   "source": [
    "np.random.seed(42)\n",
    "\n",
    "EPISODES = 1000\n",
    "MAX_DEPTH = 9999"
   ],
   "id": "2734ef9cdbee5047",
   "outputs": [],
   "execution_count": 70
  },
  {
   "metadata": {},
   "cell_type": "markdown",
   "source": "# Agent Testing Function",
   "id": "38122e9bb8d5c6dd"
  },
  {
   "metadata": {
    "ExecuteTime": {
     "end_time": "2025-06-29T13:27:47.614394Z",
     "start_time": "2025-06-29T13:27:47.611412Z"
    }
   },
   "cell_type": "code",
   "source": [
    "def test_agent(_misereAgent, _normalAgent, _misere, _initial_piles):\n",
    "    explored_nodes = np.ndarray(EPISODES)\n",
    "    moves_count = np.ndarray(EPISODES)\n",
    "    unweighted_mean_nodes = np.ndarray(EPISODES)\n",
    "\n",
    "    for i in tqdm(range(EPISODES)):\n",
    "        game = Nim(\n",
    "            initial_piles=_initial_piles[i],\n",
    "            misere=_misere[i]\n",
    "        )\n",
    "\n",
    "        agent = _misereAgent if _misere[i] else _normalAgent\n",
    "\n",
    "        winner = game.play(\n",
    "            player1=agent,\n",
    "            player2=agent,\n",
    "            verbose=False\n",
    "        )\n",
    "\n",
    "        \"\"\" AGENT VALIDATION \"\"\"\n",
    "        assert winner == NimLogic.is_p_position(_initial_piles[i], _misere[i])\n",
    "\n",
    "        agent.compute_mean_nodes()\n",
    "\n",
    "        unweighted_mean_nodes[i] = agent.mean_nodes\n",
    "        moves_count[i] = agent.moves_count\n",
    "        explored_nodes[i] = agent.nodes_explored\n",
    "\n",
    "    weighted_mean_nodes = explored_nodes.sum() / moves_count.sum()\n",
    "\n",
    "    avg_explored_nodes = explored_nodes.mean()\n",
    "    avg_moves_count = moves_count.mean()\n",
    "\n",
    "    values = [weighted_mean_nodes, avg_explored_nodes, avg_moves_count]\n",
    "\n",
    "    labels = [\n",
    "        \"average explored nodes per move:\",\n",
    "        \"average explored nodes per game:\",\n",
    "        \"average moves per game:\"\n",
    "    ]\n",
    "\n",
    "    label_width = max(len(lbl) for lbl in labels)\n",
    "\n",
    "    for lbl, val in zip(labels, values):\n",
    "        print(f\"{lbl:<{label_width}} {val:>10.2f}\")\n",
    "\n",
    "    return explored_nodes, moves_count, unweighted_mean_nodes"
   ],
   "id": "b1cb07b39efc962a",
   "outputs": [],
   "execution_count": 71
  },
  {
   "metadata": {},
   "cell_type": "markdown",
   "source": "# Test running function",
   "id": "6a93f6ab20402a72"
  },
  {
   "metadata": {
    "ExecuteTime": {
     "end_time": "2025-06-29T13:27:47.621850Z",
     "start_time": "2025-06-29T13:27:47.619210Z"
    }
   },
   "cell_type": "code",
   "source": [
    "def run_tests(misere_agents, normal_agents, max_depth, pile_count, max_pile, episodes, save_path_prefix):\n",
    "    os.makedirs(save_path_prefix, exist_ok=True)\n",
    "\n",
    "    print(\"-\" * 60)\n",
    "    classic_configuration = False\n",
    "\n",
    "    if pile_count == 0 or max_pile == 0:\n",
    "        classic_configuration = True\n",
    "        initial_piles = np.tile([1, 3, 5, 7], (episodes, 1))\n",
    "\n",
    "        print(\"Classic configuration used\")\n",
    "    else:\n",
    "        initial_piles = np.random.randint(1, max_pile, size=(episodes, pile_count))\n",
    "\n",
    "        print(f\"Configuration: pile_count: {pile_count}, max_pile: {max_pile}, max_depth: {max_depth}\")\n",
    "\n",
    "    print(\"-\" * 60)\n",
    "    misere_modes = np.random.choice([True, False], size=episodes)\n",
    "\n",
    "    for agent_key in misere_agents.keys():\n",
    "        if not classic_configuration:\n",
    "            filename = f\"{save_path_prefix}/minimax-{agent_key}-{max_depth}-{pile_count}-{max_pile}.npz\"\n",
    "        else:\n",
    "            filename = f\"{save_path_prefix}/minimax-{agent_key}-{max_depth}-classic.npz\"\n",
    "\n",
    "        if os.path.exists(filename):\n",
    "            print(f\"Skipping {filename}\")\n",
    "            continue\n",
    "\n",
    "        misere_agent = misere_agents[agent_key]\n",
    "        normal_agent = normal_agents[agent_key]\n",
    "\n",
    "        results = test_agent(misere_agent, normal_agent, misere_modes, initial_piles)\n",
    "        np.savez(filename, results)"
   ],
   "id": "d0d9196a22cda50f",
   "outputs": [],
   "execution_count": 72
  },
  {
   "metadata": {},
   "cell_type": "markdown",
   "source": "# Plotting results",
   "id": "a690d1c8136d9dcb"
  },
  {
   "metadata": {
    "ExecuteTime": {
     "end_time": "2025-06-29T13:27:47.631889Z",
     "start_time": "2025-06-29T13:27:47.626723Z"
    }
   },
   "cell_type": "code",
   "source": [
    "def load_all_results(vary_pile_counts, vary_max_piles,\n",
    "                     max_depth,\n",
    "                     folder=\"../savedData/Minimax\"):\n",
    "    records = []\n",
    "    agents = ['n','c','p','a','cp','ca','pa','cpa']\n",
    "    for ag in agents:\n",
    "        for pc in vary_pile_counts:\n",
    "            for mp in vary_max_piles:\n",
    "                fn = f\"{folder}/minimax-{ag}-{max_depth}-{pc}-{mp}.npz\"\n",
    "                if not os.path.exists(fn):\n",
    "                    continue\n",
    "                exp_nodes, moves_cnt, _ = np.load(fn)['arr_0']\n",
    "                records.append({\n",
    "                    'agent': ag,\n",
    "                    'pile_count': pc,\n",
    "                    'max_pile':   mp,\n",
    "                    'nodes_per_move': exp_nodes.sum() / moves_cnt.sum(),\n",
    "                    'nodes_per_game': exp_nodes.mean(),\n",
    "                    'moves_per_game': moves_cnt.mean()\n",
    "                })\n",
    "    return pd.DataFrame(records)\n",
    "\n",
    "def plot_results(vary_pile_counts, vary_max_piles,\n",
    "                          max_depth,\n",
    "                          folder=\"../savedData/Minimax\",\n",
    "                          save_folder=\"../savedPlots/Minimax\"):\n",
    "    os.makedirs(save_folder, exist_ok=True)\n",
    "    df = load_all_results(vary_pile_counts, vary_max_piles, max_depth, folder)\n",
    "\n",
    "    ordered_agents = ['Normal','Canonical','P-pruning','Aggressive',\n",
    "                  'Canon+P','Canon+A','P+A','All']\n",
    "\n",
    "    name_map = {\n",
    "        'n':'Normal','c':'Canonical','p':'P-pruning','a':'Aggressive',\n",
    "        'cp':'Canon+P','ca':'Canon+A','pa':'P+A','cpa':'All'\n",
    "    }\n",
    "    df['agent_name'] = df['agent'].map(name_map)\n",
    "\n",
    "    metrics = [\n",
    "        ('nodes_per_move', 'Nodes per Move', 'Blues'),\n",
    "        ('nodes_per_game', 'Nodes per Game', 'Greens'),\n",
    "        ('moves_per_game', 'Moves per Game', 'Purples'),\n",
    "    ]\n",
    "\n",
    "    for col, title, cmap in metrics:\n",
    "        vmin = df[col].replace(0, np.nan).min()  # avoid zeros\n",
    "        vmax = df[col].max()\n",
    "        norm = LogNorm(vmin=vmin, vmax=vmax)\n",
    "\n",
    "        fig, axes = plt.subplots(2, 4, figsize=(16, 8), sharex=True, sharey=True)\n",
    "        axes = axes.flatten()\n",
    "\n",
    "        for ax, agent_name in zip(axes, ordered_agents):\n",
    "            grp = df[df['agent_name'] == agent_name]\n",
    "            pivot = grp.pivot(index='pile_count',\n",
    "                              columns='max_pile',\n",
    "                              values=col)\n",
    "\n",
    "            sns.heatmap(pivot, annot=True, fmt=\".1f\", cbar=False,\n",
    "                        cmap=cmap, ax=ax,\n",
    "                        xticklabels=vary_max_piles, yticklabels=vary_pile_counts,\n",
    "                        norm=norm,\n",
    "                        annot_kws={\"fontsize\":6})\n",
    "            ax.set_title(agent_name, fontsize=10)\n",
    "            ax.set_xlabel('max_pile')\n",
    "            ax.set_ylabel('pile_count')\n",
    "\n",
    "        # add shared colorbar\n",
    "        cbar_ax = fig.add_axes([.92, .3, .02, .4])\n",
    "        norm = plt.Normalize(df[col].min(), df[col].max())\n",
    "        sm = plt.cm.ScalarMappable(cmap=cmap, norm=norm)\n",
    "        sm.set_array([])\n",
    "        fig.colorbar(sm, cax=cbar_ax, label=title)\n",
    "\n",
    "        fig.suptitle(f\"{title} (depth={max_depth})\", fontsize=14)\n",
    "        plt.tight_layout(rect=[0,0,0.9,1])\n",
    "        out = f\"{save_folder}/{col}_d{max_depth}.png\"\n",
    "        fig.savefig(out, dpi=200)\n",
    "        plt.close(fig)\n",
    "        print(f\"Saved: {out}\")"
   ],
   "id": "8d58bed70f9f7ce0",
   "outputs": [],
   "execution_count": 73
  },
  {
   "metadata": {},
   "cell_type": "markdown",
   "source": "# Testing on shallow depths",
   "id": "645fd93628f69945"
  },
  {
   "metadata": {
    "ExecuteTime": {
     "end_time": "2025-06-29T21:35:17.739906Z",
     "start_time": "2025-06-29T13:27:47.637198Z"
    }
   },
   "cell_type": "code",
   "source": [
    "for max_depth in [1, 2]:\n",
    "    misere_agents = {\n",
    "        'n': MinimaxAgent(misere=True, max_depth=max_depth),\n",
    "        'c': MinimaxAgent(misere=True, max_depth=max_depth, canonical=True),\n",
    "        'p': MinimaxAgent(misere=True, max_depth=max_depth, P_pruning=True),\n",
    "        'a': MinimaxAgent(misere=True, max_depth=max_depth, aggressive=True),\n",
    "        'cp': MinimaxAgent(misere=True, max_depth=max_depth, canonical=True, P_pruning=True),\n",
    "        'ca': MinimaxAgent(misere=True, max_depth=max_depth, canonical=True, aggressive=True),\n",
    "        'pa': MinimaxAgent(misere=True, max_depth=max_depth, P_pruning=True, aggressive=True),\n",
    "        'cpa': MinimaxAgent(misere=True, max_depth=max_depth, canonical=True, P_pruning=True, aggressive=True)\n",
    "    }\n",
    "\n",
    "    normal_agents = {\n",
    "        'n': MinimaxAgent(misere=False, max_depth=max_depth),\n",
    "        'c': MinimaxAgent(misere=False, max_depth=max_depth, canonical=True),\n",
    "        'p': MinimaxAgent(misere=False, max_depth=max_depth, P_pruning=True),\n",
    "        'a': MinimaxAgent(misere=False, max_depth=max_depth, aggressive=True),\n",
    "        'cp': MinimaxAgent(misere=False, max_depth=max_depth, canonical=True, P_pruning=True),\n",
    "        'ca': MinimaxAgent(misere=False, max_depth=max_depth, canonical=True, aggressive=True),\n",
    "        'pa': MinimaxAgent(misere=False, max_depth=max_depth, P_pruning=True, aggressive=True),\n",
    "        'cpa': MinimaxAgent(misere=False, max_depth=max_depth, canonical=True, P_pruning=True, aggressive=True)\n",
    "    }\n",
    "\n",
    "    for pile_count in [2, 4, 8]:\n",
    "        for max_count in [63, 127, 255]:\n",
    "            run_tests(misere_agents, normal_agents, max_depth, pile_count, max_count, EPISODES, \"../savedData/Minimax\")"
   ],
   "id": "39403c5442a69651",
   "outputs": [
    {
     "name": "stdout",
     "output_type": "stream",
     "text": [
      "------------------------------------------------------------\n",
      "Configuration: pile_count: 2, max_pile: 63, max_depth: 1\n",
      "------------------------------------------------------------\n"
     ]
    },
    {
     "name": "stderr",
     "output_type": "stream",
     "text": [
      "100%|██████████| 1000/1000 [00:00<00:00, 1405.86it/s]\n"
     ]
    },
    {
     "name": "stdout",
     "output_type": "stream",
     "text": [
      "average explored nodes per move:      19.68\n",
      "average explored nodes per game:     383.49\n",
      "average moves per game:               19.49\n"
     ]
    },
    {
     "name": "stderr",
     "output_type": "stream",
     "text": [
      "100%|██████████| 1000/1000 [00:00<00:00, 1817.57it/s]\n"
     ]
    },
    {
     "name": "stdout",
     "output_type": "stream",
     "text": [
      "average explored nodes per move:      19.68\n",
      "average explored nodes per game:     383.49\n",
      "average moves per game:               19.49\n"
     ]
    },
    {
     "name": "stderr",
     "output_type": "stream",
     "text": [
      "100%|██████████| 1000/1000 [00:00<00:00, 1540.91it/s]\n"
     ]
    },
    {
     "name": "stdout",
     "output_type": "stream",
     "text": [
      "average explored nodes per move:      13.76\n",
      "average explored nodes per game:     268.09\n",
      "average moves per game:               19.49\n"
     ]
    },
    {
     "name": "stderr",
     "output_type": "stream",
     "text": [
      "100%|██████████| 1000/1000 [00:00<00:00, 4149.17it/s]\n"
     ]
    },
    {
     "name": "stdout",
     "output_type": "stream",
     "text": [
      "average explored nodes per move:      38.48\n",
      "average explored nodes per game:     132.74\n",
      "average moves per game:                3.45\n"
     ]
    },
    {
     "name": "stderr",
     "output_type": "stream",
     "text": [
      "100%|██████████| 1000/1000 [00:00<00:00, 1992.31it/s]\n"
     ]
    },
    {
     "name": "stdout",
     "output_type": "stream",
     "text": [
      "average explored nodes per move:      11.69\n",
      "average explored nodes per game:     227.78\n",
      "average moves per game:               19.49\n"
     ]
    },
    {
     "name": "stderr",
     "output_type": "stream",
     "text": [
      "100%|██████████| 1000/1000 [00:00<00:00, 5283.82it/s]\n"
     ]
    },
    {
     "name": "stdout",
     "output_type": "stream",
     "text": [
      "average explored nodes per move:      38.48\n",
      "average explored nodes per game:     132.74\n",
      "average moves per game:                3.45\n"
     ]
    },
    {
     "name": "stderr",
     "output_type": "stream",
     "text": [
      "100%|██████████| 1000/1000 [00:00<00:00, 5016.49it/s]\n"
     ]
    },
    {
     "name": "stdout",
     "output_type": "stream",
     "text": [
      "average explored nodes per move:      23.45\n",
      "average explored nodes per game:      80.91\n",
      "average moves per game:                3.45\n"
     ]
    },
    {
     "name": "stderr",
     "output_type": "stream",
     "text": [
      "100%|██████████| 1000/1000 [00:00<00:00, 5400.91it/s]\n"
     ]
    },
    {
     "name": "stdout",
     "output_type": "stream",
     "text": [
      "average explored nodes per move:      23.42\n",
      "average explored nodes per game:      80.81\n",
      "average moves per game:                3.45\n",
      "------------------------------------------------------------\n",
      "Configuration: pile_count: 2, max_pile: 127, max_depth: 1\n",
      "------------------------------------------------------------\n"
     ]
    },
    {
     "name": "stderr",
     "output_type": "stream",
     "text": [
      "100%|██████████| 1000/1000 [00:01<00:00, 997.86it/s]\n"
     ]
    },
    {
     "name": "stdout",
     "output_type": "stream",
     "text": [
      "average explored nodes per move:      26.23\n",
      "average explored nodes per game:     557.52\n",
      "average moves per game:               21.26\n"
     ]
    },
    {
     "name": "stderr",
     "output_type": "stream",
     "text": [
      "100%|██████████| 1000/1000 [00:00<00:00, 1268.43it/s]\n"
     ]
    },
    {
     "name": "stdout",
     "output_type": "stream",
     "text": [
      "average explored nodes per move:      26.23\n",
      "average explored nodes per game:     557.52\n",
      "average moves per game:               21.26\n"
     ]
    },
    {
     "name": "stderr",
     "output_type": "stream",
     "text": [
      "100%|██████████| 1000/1000 [00:00<00:00, 1076.98it/s]\n"
     ]
    },
    {
     "name": "stdout",
     "output_type": "stream",
     "text": [
      "average explored nodes per move:      18.31\n",
      "average explored nodes per game:     389.29\n",
      "average moves per game:               21.26\n"
     ]
    },
    {
     "name": "stderr",
     "output_type": "stream",
     "text": [
      "100%|██████████| 1000/1000 [00:00<00:00, 2141.13it/s]\n"
     ]
    },
    {
     "name": "stdout",
     "output_type": "stream",
     "text": [
      "average explored nodes per move:      71.99\n",
      "average explored nodes per game:     251.08\n",
      "average moves per game:                3.49\n"
     ]
    },
    {
     "name": "stderr",
     "output_type": "stream",
     "text": [
      "100%|██████████| 1000/1000 [00:00<00:00, 1347.00it/s]\n"
     ]
    },
    {
     "name": "stdout",
     "output_type": "stream",
     "text": [
      "average explored nodes per move:      16.54\n",
      "average explored nodes per game:     351.55\n",
      "average moves per game:               21.26\n"
     ]
    },
    {
     "name": "stderr",
     "output_type": "stream",
     "text": [
      "100%|██████████| 1000/1000 [00:00<00:00, 2601.47it/s]\n"
     ]
    },
    {
     "name": "stdout",
     "output_type": "stream",
     "text": [
      "average explored nodes per move:      71.99\n",
      "average explored nodes per game:     251.08\n",
      "average moves per game:                3.49\n"
     ]
    },
    {
     "name": "stderr",
     "output_type": "stream",
     "text": [
      "100%|██████████| 1000/1000 [00:00<00:00, 2160.13it/s]\n"
     ]
    },
    {
     "name": "stdout",
     "output_type": "stream",
     "text": [
      "average explored nodes per move:      42.21\n",
      "average explored nodes per game:     147.22\n",
      "average moves per game:                3.49\n"
     ]
    },
    {
     "name": "stderr",
     "output_type": "stream",
     "text": [
      "100%|██████████| 1000/1000 [00:00<00:00, 3076.60it/s]\n"
     ]
    },
    {
     "name": "stdout",
     "output_type": "stream",
     "text": [
      "average explored nodes per move:      42.20\n",
      "average explored nodes per game:     147.18\n",
      "average moves per game:                3.49\n",
      "------------------------------------------------------------\n",
      "Configuration: pile_count: 2, max_pile: 255, max_depth: 1\n",
      "------------------------------------------------------------\n"
     ]
    },
    {
     "name": "stderr",
     "output_type": "stream",
     "text": [
      "100%|██████████| 1000/1000 [00:01<00:00, 608.18it/s]\n"
     ]
    },
    {
     "name": "stdout",
     "output_type": "stream",
     "text": [
      "average explored nodes per move:      40.93\n",
      "average explored nodes per game:     918.82\n",
      "average moves per game:               22.45\n"
     ]
    },
    {
     "name": "stderr",
     "output_type": "stream",
     "text": [
      "100%|██████████| 1000/1000 [00:01<00:00, 777.56it/s]\n"
     ]
    },
    {
     "name": "stdout",
     "output_type": "stream",
     "text": [
      "average explored nodes per move:      40.93\n",
      "average explored nodes per game:     918.82\n",
      "average moves per game:               22.45\n"
     ]
    },
    {
     "name": "stderr",
     "output_type": "stream",
     "text": [
      "100%|██████████| 1000/1000 [00:01<00:00, 649.36it/s]\n"
     ]
    },
    {
     "name": "stdout",
     "output_type": "stream",
     "text": [
      "average explored nodes per move:      28.59\n",
      "average explored nodes per game:     641.77\n",
      "average moves per game:               22.45\n"
     ]
    },
    {
     "name": "stderr",
     "output_type": "stream",
     "text": [
      "100%|██████████| 1000/1000 [00:00<00:00, 1034.04it/s]\n"
     ]
    },
    {
     "name": "stdout",
     "output_type": "stream",
     "text": [
      "average explored nodes per move:     151.82\n",
      "average explored nodes per game:     531.66\n",
      "average moves per game:                3.50\n"
     ]
    },
    {
     "name": "stderr",
     "output_type": "stream",
     "text": [
      "100%|██████████| 1000/1000 [00:01<00:00, 816.29it/s]\n"
     ]
    },
    {
     "name": "stdout",
     "output_type": "stream",
     "text": [
      "average explored nodes per move:      26.27\n",
      "average explored nodes per game:     589.68\n",
      "average moves per game:               22.45\n"
     ]
    },
    {
     "name": "stderr",
     "output_type": "stream",
     "text": [
      "100%|██████████| 1000/1000 [00:00<00:00, 1057.75it/s]\n"
     ]
    },
    {
     "name": "stdout",
     "output_type": "stream",
     "text": [
      "average explored nodes per move:     151.82\n",
      "average explored nodes per game:     531.66\n",
      "average moves per game:                3.50\n"
     ]
    },
    {
     "name": "stderr",
     "output_type": "stream",
     "text": [
      "100%|██████████| 1000/1000 [00:00<00:00, 1163.18it/s]\n"
     ]
    },
    {
     "name": "stdout",
     "output_type": "stream",
     "text": [
      "average explored nodes per move:      90.34\n",
      "average explored nodes per game:     316.36\n",
      "average moves per game:                3.50\n"
     ]
    },
    {
     "name": "stderr",
     "output_type": "stream",
     "text": [
      "100%|██████████| 1000/1000 [00:00<00:00, 1284.79it/s]\n"
     ]
    },
    {
     "name": "stdout",
     "output_type": "stream",
     "text": [
      "average explored nodes per move:      90.31\n",
      "average explored nodes per game:     316.27\n",
      "average moves per game:                3.50\n",
      "------------------------------------------------------------\n",
      "Configuration: pile_count: 4, max_pile: 63, max_depth: 1\n",
      "------------------------------------------------------------\n"
     ]
    },
    {
     "name": "stderr",
     "output_type": "stream",
     "text": [
      "100%|██████████| 1000/1000 [00:01<00:00, 626.45it/s]\n"
     ]
    },
    {
     "name": "stdout",
     "output_type": "stream",
     "text": [
      "average explored nodes per move:      33.42\n",
      "average explored nodes per game:     807.50\n",
      "average moves per game:               24.16\n"
     ]
    },
    {
     "name": "stderr",
     "output_type": "stream",
     "text": [
      "100%|██████████| 1000/1000 [00:01<00:00, 573.75it/s]\n"
     ]
    },
    {
     "name": "stdout",
     "output_type": "stream",
     "text": [
      "average explored nodes per move:      32.20\n",
      "average explored nodes per game:    1149.03\n",
      "average moves per game:               35.69\n"
     ]
    },
    {
     "name": "stderr",
     "output_type": "stream",
     "text": [
      "100%|██████████| 1000/1000 [00:01<00:00, 695.26it/s]\n"
     ]
    },
    {
     "name": "stdout",
     "output_type": "stream",
     "text": [
      "average explored nodes per move:      22.89\n",
      "average explored nodes per game:     553.15\n",
      "average moves per game:               24.16\n"
     ]
    },
    {
     "name": "stderr",
     "output_type": "stream",
     "text": [
      "100%|██████████| 1000/1000 [00:00<00:00, 1378.30it/s]\n"
     ]
    },
    {
     "name": "stdout",
     "output_type": "stream",
     "text": [
      "average explored nodes per move:      50.84\n",
      "average explored nodes per game:     358.96\n",
      "average moves per game:                7.06\n"
     ]
    },
    {
     "name": "stderr",
     "output_type": "stream",
     "text": [
      "100%|██████████| 1000/1000 [00:01<00:00, 605.08it/s]\n"
     ]
    },
    {
     "name": "stdout",
     "output_type": "stream",
     "text": [
      "average explored nodes per move:      19.95\n",
      "average explored nodes per game:     711.96\n",
      "average moves per game:               35.69\n"
     ]
    },
    {
     "name": "stderr",
     "output_type": "stream",
     "text": [
      "100%|██████████| 1000/1000 [00:00<00:00, 1718.32it/s]\n"
     ]
    },
    {
     "name": "stdout",
     "output_type": "stream",
     "text": [
      "average explored nodes per move:      50.82\n",
      "average explored nodes per game:     359.24\n",
      "average moves per game:                7.07\n"
     ]
    },
    {
     "name": "stderr",
     "output_type": "stream",
     "text": [
      "100%|██████████| 1000/1000 [00:00<00:00, 1654.90it/s]\n"
     ]
    },
    {
     "name": "stdout",
     "output_type": "stream",
     "text": [
      "average explored nodes per move:      31.46\n",
      "average explored nodes per game:     222.12\n",
      "average moves per game:                7.06\n"
     ]
    },
    {
     "name": "stderr",
     "output_type": "stream",
     "text": [
      "100%|██████████| 1000/1000 [00:00<00:00, 1878.26it/s]\n"
     ]
    },
    {
     "name": "stdout",
     "output_type": "stream",
     "text": [
      "average explored nodes per move:      31.47\n",
      "average explored nodes per game:     222.47\n",
      "average moves per game:                7.07\n",
      "------------------------------------------------------------\n",
      "Configuration: pile_count: 4, max_pile: 127, max_depth: 1\n",
      "------------------------------------------------------------\n"
     ]
    },
    {
     "name": "stderr",
     "output_type": "stream",
     "text": [
      "100%|██████████| 1000/1000 [00:02<00:00, 342.59it/s]\n"
     ]
    },
    {
     "name": "stdout",
     "output_type": "stream",
     "text": [
      "average explored nodes per move:      55.10\n",
      "average explored nodes per game:    1490.49\n",
      "average moves per game:               27.05\n"
     ]
    },
    {
     "name": "stderr",
     "output_type": "stream",
     "text": [
      "100%|██████████| 1000/1000 [00:02<00:00, 390.75it/s]\n"
     ]
    },
    {
     "name": "stdout",
     "output_type": "stream",
     "text": [
      "average explored nodes per move:      44.89\n",
      "average explored nodes per game:    1690.69\n",
      "average moves per game:               37.66\n"
     ]
    },
    {
     "name": "stderr",
     "output_type": "stream",
     "text": [
      "100%|██████████| 1000/1000 [00:02<00:00, 372.76it/s]\n"
     ]
    },
    {
     "name": "stdout",
     "output_type": "stream",
     "text": [
      "average explored nodes per move:      37.19\n",
      "average explored nodes per game:    1005.99\n",
      "average moves per game:               27.05\n"
     ]
    },
    {
     "name": "stderr",
     "output_type": "stream",
     "text": [
      "100%|██████████| 1000/1000 [00:01<00:00, 676.63it/s]\n"
     ]
    },
    {
     "name": "stdout",
     "output_type": "stream",
     "text": [
      "average explored nodes per move:     100.08\n",
      "average explored nodes per game:     733.26\n",
      "average moves per game:                7.33\n"
     ]
    },
    {
     "name": "stderr",
     "output_type": "stream",
     "text": [
      "100%|██████████| 1000/1000 [00:02<00:00, 395.23it/s]\n"
     ]
    },
    {
     "name": "stdout",
     "output_type": "stream",
     "text": [
      "average explored nodes per move:      29.09\n",
      "average explored nodes per game:    1095.80\n",
      "average moves per game:               37.66\n"
     ]
    },
    {
     "name": "stderr",
     "output_type": "stream",
     "text": [
      "100%|██████████| 1000/1000 [00:01<00:00, 868.42it/s]\n"
     ]
    },
    {
     "name": "stdout",
     "output_type": "stream",
     "text": [
      "average explored nodes per move:     100.09\n",
      "average explored nodes per game:     733.18\n",
      "average moves per game:                7.33\n"
     ]
    },
    {
     "name": "stderr",
     "output_type": "stream",
     "text": [
      "100%|██████████| 1000/1000 [00:01<00:00, 812.78it/s]\n"
     ]
    },
    {
     "name": "stdout",
     "output_type": "stream",
     "text": [
      "average explored nodes per move:      61.91\n",
      "average explored nodes per game:     453.63\n",
      "average moves per game:                7.33\n"
     ]
    },
    {
     "name": "stderr",
     "output_type": "stream",
     "text": [
      "100%|██████████| 1000/1000 [00:01<00:00, 915.66it/s]\n"
     ]
    },
    {
     "name": "stdout",
     "output_type": "stream",
     "text": [
      "average explored nodes per move:      61.91\n",
      "average explored nodes per game:     453.50\n",
      "average moves per game:                7.33\n",
      "------------------------------------------------------------\n",
      "Configuration: pile_count: 4, max_pile: 255, max_depth: 1\n",
      "------------------------------------------------------------\n"
     ]
    },
    {
     "name": "stderr",
     "output_type": "stream",
     "text": [
      "100%|██████████| 1000/1000 [00:05<00:00, 172.11it/s]\n"
     ]
    },
    {
     "name": "stdout",
     "output_type": "stream",
     "text": [
      "average explored nodes per move:      99.68\n",
      "average explored nodes per game:    2970.62\n",
      "average moves per game:               29.80\n"
     ]
    },
    {
     "name": "stderr",
     "output_type": "stream",
     "text": [
      "100%|██████████| 1000/1000 [00:04<00:00, 248.97it/s]\n"
     ]
    },
    {
     "name": "stdout",
     "output_type": "stream",
     "text": [
      "average explored nodes per move:      67.32\n",
      "average explored nodes per game:    2645.92\n",
      "average moves per game:               39.30\n"
     ]
    },
    {
     "name": "stderr",
     "output_type": "stream",
     "text": [
      "100%|██████████| 1000/1000 [00:05<00:00, 193.89it/s]\n"
     ]
    },
    {
     "name": "stdout",
     "output_type": "stream",
     "text": [
      "average explored nodes per move:      67.35\n",
      "average explored nodes per game:    2007.21\n",
      "average moves per game:               29.80\n"
     ]
    },
    {
     "name": "stderr",
     "output_type": "stream",
     "text": [
      "100%|██████████| 1000/1000 [00:02<00:00, 345.02it/s]\n"
     ]
    },
    {
     "name": "stdout",
     "output_type": "stream",
     "text": [
      "average explored nodes per move:     194.68\n",
      "average explored nodes per game:    1440.03\n",
      "average moves per game:                7.40\n"
     ]
    },
    {
     "name": "stderr",
     "output_type": "stream",
     "text": [
      "100%|██████████| 1000/1000 [00:03<00:00, 255.27it/s]\n"
     ]
    },
    {
     "name": "stdout",
     "output_type": "stream",
     "text": [
      "average explored nodes per move:      43.14\n",
      "average explored nodes per game:    1695.73\n",
      "average moves per game:               39.30\n"
     ]
    },
    {
     "name": "stderr",
     "output_type": "stream",
     "text": [
      "100%|██████████| 1000/1000 [00:02<00:00, 445.95it/s]\n"
     ]
    },
    {
     "name": "stdout",
     "output_type": "stream",
     "text": [
      "average explored nodes per move:     194.55\n",
      "average explored nodes per game:    1439.87\n",
      "average moves per game:                7.40\n"
     ]
    },
    {
     "name": "stderr",
     "output_type": "stream",
     "text": [
      "100%|██████████| 1000/1000 [00:02<00:00, 416.13it/s]\n"
     ]
    },
    {
     "name": "stdout",
     "output_type": "stream",
     "text": [
      "average explored nodes per move:     120.62\n",
      "average explored nodes per game:     892.20\n",
      "average moves per game:                7.40\n"
     ]
    },
    {
     "name": "stderr",
     "output_type": "stream",
     "text": [
      "100%|██████████| 1000/1000 [00:02<00:00, 448.62it/s]\n"
     ]
    },
    {
     "name": "stdout",
     "output_type": "stream",
     "text": [
      "average explored nodes per move:     120.43\n",
      "average explored nodes per game:     891.34\n",
      "average moves per game:                7.40\n",
      "------------------------------------------------------------\n",
      "Configuration: pile_count: 8, max_pile: 63, max_depth: 1\n",
      "------------------------------------------------------------\n"
     ]
    },
    {
     "name": "stderr",
     "output_type": "stream",
     "text": [
      "100%|██████████| 1000/1000 [00:07<00:00, 125.38it/s]\n"
     ]
    },
    {
     "name": "stdout",
     "output_type": "stream",
     "text": [
      "average explored nodes per move:      78.65\n",
      "average explored nodes per game:    3503.96\n",
      "average moves per game:               44.55\n"
     ]
    },
    {
     "name": "stderr",
     "output_type": "stream",
     "text": [
      "100%|██████████| 1000/1000 [00:06<00:00, 164.03it/s]\n"
     ]
    },
    {
     "name": "stdout",
     "output_type": "stream",
     "text": [
      "average explored nodes per move:      60.17\n",
      "average explored nodes per game:    3379.32\n",
      "average moves per game:               56.16\n"
     ]
    },
    {
     "name": "stderr",
     "output_type": "stream",
     "text": [
      "100%|██████████| 1000/1000 [00:06<00:00, 153.98it/s]\n"
     ]
    },
    {
     "name": "stdout",
     "output_type": "stream",
     "text": [
      "average explored nodes per move:      50.20\n",
      "average explored nodes per game:    2236.80\n",
      "average moves per game:               44.55\n"
     ]
    },
    {
     "name": "stderr",
     "output_type": "stream",
     "text": [
      "100%|██████████| 1000/1000 [00:02<00:00, 386.84it/s]\n"
     ]
    },
    {
     "name": "stdout",
     "output_type": "stream",
     "text": [
      "average explored nodes per move:      82.80\n",
      "average explored nodes per game:    1117.08\n",
      "average moves per game:               13.49\n"
     ]
    },
    {
     "name": "stderr",
     "output_type": "stream",
     "text": [
      "100%|██████████| 1000/1000 [00:05<00:00, 182.14it/s]\n"
     ]
    },
    {
     "name": "stdout",
     "output_type": "stream",
     "text": [
      "average explored nodes per move:      36.27\n",
      "average explored nodes per game:    2036.89\n",
      "average moves per game:               56.16\n"
     ]
    },
    {
     "name": "stderr",
     "output_type": "stream",
     "text": [
      "100%|██████████| 1000/1000 [00:02<00:00, 481.75it/s]\n"
     ]
    },
    {
     "name": "stdout",
     "output_type": "stream",
     "text": [
      "average explored nodes per move:      82.94\n",
      "average explored nodes per game:    1118.74\n",
      "average moves per game:               13.49\n"
     ]
    },
    {
     "name": "stderr",
     "output_type": "stream",
     "text": [
      "100%|██████████| 1000/1000 [00:01<00:00, 505.45it/s]\n"
     ]
    },
    {
     "name": "stdout",
     "output_type": "stream",
     "text": [
      "average explored nodes per move:      49.12\n",
      "average explored nodes per game:     662.69\n",
      "average moves per game:               13.49\n"
     ]
    },
    {
     "name": "stderr",
     "output_type": "stream",
     "text": [
      "100%|██████████| 1000/1000 [00:01<00:00, 536.73it/s]\n"
     ]
    },
    {
     "name": "stdout",
     "output_type": "stream",
     "text": [
      "average explored nodes per move:      49.18\n",
      "average explored nodes per game:     663.39\n",
      "average moves per game:               13.49\n",
      "------------------------------------------------------------\n",
      "Configuration: pile_count: 8, max_pile: 127, max_depth: 1\n",
      "------------------------------------------------------------\n"
     ]
    },
    {
     "name": "stderr",
     "output_type": "stream",
     "text": [
      "100%|██████████| 1000/1000 [00:17<00:00, 58.64it/s]\n"
     ]
    },
    {
     "name": "stdout",
     "output_type": "stream",
     "text": [
      "average explored nodes per move:     142.79\n",
      "average explored nodes per game:    7638.42\n",
      "average moves per game:               53.49\n"
     ]
    },
    {
     "name": "stderr",
     "output_type": "stream",
     "text": [
      "100%|██████████| 1000/1000 [00:12<00:00, 82.64it/s]\n"
     ]
    },
    {
     "name": "stdout",
     "output_type": "stream",
     "text": [
      "average explored nodes per move:     107.96\n",
      "average explored nodes per game:    6742.94\n",
      "average moves per game:               62.46\n"
     ]
    },
    {
     "name": "stderr",
     "output_type": "stream",
     "text": [
      "100%|██████████| 1000/1000 [00:14<00:00, 71.25it/s]\n"
     ]
    },
    {
     "name": "stdout",
     "output_type": "stream",
     "text": [
      "average explored nodes per move:      90.52\n",
      "average explored nodes per game:    4842.32\n",
      "average moves per game:               53.49\n"
     ]
    },
    {
     "name": "stderr",
     "output_type": "stream",
     "text": [
      "100%|██████████| 1000/1000 [00:05<00:00, 193.00it/s]\n"
     ]
    },
    {
     "name": "stdout",
     "output_type": "stream",
     "text": [
      "average explored nodes per move:     157.87\n",
      "average explored nodes per game:    2247.26\n",
      "average moves per game:               14.23\n"
     ]
    },
    {
     "name": "stderr",
     "output_type": "stream",
     "text": [
      "100%|██████████| 1000/1000 [00:11<00:00, 88.87it/s]\n"
     ]
    },
    {
     "name": "stdout",
     "output_type": "stream",
     "text": [
      "average explored nodes per move:      66.77\n",
      "average explored nodes per game:    4170.50\n",
      "average moves per game:               62.46\n"
     ]
    },
    {
     "name": "stderr",
     "output_type": "stream",
     "text": [
      "100%|██████████| 1000/1000 [00:04<00:00, 240.49it/s]\n"
     ]
    },
    {
     "name": "stdout",
     "output_type": "stream",
     "text": [
      "average explored nodes per move:     157.98\n",
      "average explored nodes per game:    2248.48\n",
      "average moves per game:               14.23\n"
     ]
    },
    {
     "name": "stderr",
     "output_type": "stream",
     "text": [
      "100%|██████████| 1000/1000 [00:03<00:00, 254.23it/s]\n"
     ]
    },
    {
     "name": "stdout",
     "output_type": "stream",
     "text": [
      "average explored nodes per move:      92.68\n",
      "average explored nodes per game:    1319.30\n",
      "average moves per game:               14.23\n"
     ]
    },
    {
     "name": "stderr",
     "output_type": "stream",
     "text": [
      "100%|██████████| 1000/1000 [00:03<00:00, 269.95it/s]\n"
     ]
    },
    {
     "name": "stdout",
     "output_type": "stream",
     "text": [
      "average explored nodes per move:      92.79\n",
      "average explored nodes per game:    1320.74\n",
      "average moves per game:               14.23\n",
      "------------------------------------------------------------\n",
      "Configuration: pile_count: 8, max_pile: 255, max_depth: 1\n",
      "------------------------------------------------------------\n"
     ]
    },
    {
     "name": "stderr",
     "output_type": "stream",
     "text": [
      "100%|██████████| 1000/1000 [00:32<00:00, 30.90it/s]\n"
     ]
    },
    {
     "name": "stdout",
     "output_type": "stream",
     "text": [
      "average explored nodes per move:     234.63\n",
      "average explored nodes per game:   14684.85\n",
      "average moves per game:               62.59\n"
     ]
    },
    {
     "name": "stderr",
     "output_type": "stream",
     "text": [
      "100%|██████████| 1000/1000 [00:19<00:00, 51.73it/s]\n"
     ]
    },
    {
     "name": "stdout",
     "output_type": "stream",
     "text": [
      "average explored nodes per move:     158.77\n",
      "average explored nodes per game:   10696.10\n",
      "average moves per game:               67.37\n"
     ]
    },
    {
     "name": "stderr",
     "output_type": "stream",
     "text": [
      "100%|██████████| 1000/1000 [00:26<00:00, 37.56it/s]\n"
     ]
    },
    {
     "name": "stdout",
     "output_type": "stream",
     "text": [
      "average explored nodes per move:     148.73\n",
      "average explored nodes per game:    9308.69\n",
      "average moves per game:               62.59\n"
     ]
    },
    {
     "name": "stderr",
     "output_type": "stream",
     "text": [
      "100%|██████████| 1000/1000 [00:10<00:00, 94.45it/s]\n"
     ]
    },
    {
     "name": "stdout",
     "output_type": "stream",
     "text": [
      "average explored nodes per move:     306.14\n",
      "average explored nodes per game:    4537.55\n",
      "average moves per game:               14.82\n"
     ]
    },
    {
     "name": "stderr",
     "output_type": "stream",
     "text": [
      "100%|██████████| 1000/1000 [00:17<00:00, 56.23it/s]\n"
     ]
    },
    {
     "name": "stdout",
     "output_type": "stream",
     "text": [
      "average explored nodes per move:      97.09\n",
      "average explored nodes per game:    6541.25\n",
      "average moves per game:               67.37\n"
     ]
    },
    {
     "name": "stderr",
     "output_type": "stream",
     "text": [
      "100%|██████████| 1000/1000 [00:08<00:00, 119.06it/s]\n"
     ]
    },
    {
     "name": "stdout",
     "output_type": "stream",
     "text": [
      "average explored nodes per move:     305.55\n",
      "average explored nodes per game:    4533.69\n",
      "average moves per game:               14.84\n"
     ]
    },
    {
     "name": "stderr",
     "output_type": "stream",
     "text": [
      "100%|██████████| 1000/1000 [00:08<00:00, 123.47it/s]\n"
     ]
    },
    {
     "name": "stdout",
     "output_type": "stream",
     "text": [
      "average explored nodes per move:     180.46\n",
      "average explored nodes per game:    2674.81\n",
      "average moves per game:               14.82\n"
     ]
    },
    {
     "name": "stderr",
     "output_type": "stream",
     "text": [
      "100%|██████████| 1000/1000 [00:07<00:00, 133.56it/s]\n"
     ]
    },
    {
     "name": "stdout",
     "output_type": "stream",
     "text": [
      "average explored nodes per move:     179.83\n",
      "average explored nodes per game:    2668.28\n",
      "average moves per game:               14.84\n",
      "------------------------------------------------------------\n",
      "Configuration: pile_count: 2, max_pile: 63, max_depth: 2\n",
      "------------------------------------------------------------\n"
     ]
    },
    {
     "name": "stderr",
     "output_type": "stream",
     "text": [
      "100%|██████████| 1000/1000 [00:06<00:00, 163.25it/s]\n"
     ]
    },
    {
     "name": "stdout",
     "output_type": "stream",
     "text": [
      "average explored nodes per move:     280.88\n",
      "average explored nodes per game:    3336.87\n",
      "average moves per game:               11.88\n"
     ]
    },
    {
     "name": "stderr",
     "output_type": "stream",
     "text": [
      "100%|██████████| 1000/1000 [00:04<00:00, 221.88it/s]\n"
     ]
    },
    {
     "name": "stdout",
     "output_type": "stream",
     "text": [
      "average explored nodes per move:     264.53\n",
      "average explored nodes per game:    3142.60\n",
      "average moves per game:               11.88\n"
     ]
    },
    {
     "name": "stderr",
     "output_type": "stream",
     "text": [
      "100%|██████████| 1000/1000 [00:08<00:00, 121.25it/s]\n"
     ]
    },
    {
     "name": "stdout",
     "output_type": "stream",
     "text": [
      "average explored nodes per move:     166.41\n",
      "average explored nodes per game:    3281.22\n",
      "average moves per game:               19.72\n"
     ]
    },
    {
     "name": "stderr",
     "output_type": "stream",
     "text": [
      "100%|██████████| 1000/1000 [00:03<00:00, 270.10it/s]\n"
     ]
    },
    {
     "name": "stdout",
     "output_type": "stream",
     "text": [
      "average explored nodes per move:     429.89\n",
      "average explored nodes per game:    1900.97\n",
      "average moves per game:                4.42\n"
     ]
    },
    {
     "name": "stderr",
     "output_type": "stream",
     "text": [
      "100%|██████████| 1000/1000 [00:06<00:00, 157.68it/s]\n"
     ]
    },
    {
     "name": "stdout",
     "output_type": "stream",
     "text": [
      "average explored nodes per move:     147.43\n",
      "average explored nodes per game:    2906.93\n",
      "average moves per game:               19.72\n"
     ]
    },
    {
     "name": "stderr",
     "output_type": "stream",
     "text": [
      "100%|██████████| 1000/1000 [00:02<00:00, 337.20it/s]\n"
     ]
    },
    {
     "name": "stdout",
     "output_type": "stream",
     "text": [
      "average explored nodes per move:     427.88\n",
      "average explored nodes per game:    1892.10\n",
      "average moves per game:                4.42\n"
     ]
    },
    {
     "name": "stderr",
     "output_type": "stream",
     "text": [
      "100%|██████████| 1000/1000 [00:04<00:00, 242.22it/s]\n"
     ]
    },
    {
     "name": "stdout",
     "output_type": "stream",
     "text": [
      "average explored nodes per move:     466.39\n",
      "average explored nodes per game:    1617.43\n",
      "average moves per game:                3.47\n"
     ]
    },
    {
     "name": "stderr",
     "output_type": "stream",
     "text": [
      "100%|██████████| 1000/1000 [00:03<00:00, 275.40it/s]\n"
     ]
    },
    {
     "name": "stdout",
     "output_type": "stream",
     "text": [
      "average explored nodes per move:     463.80\n",
      "average explored nodes per game:    1608.45\n",
      "average moves per game:                3.47\n",
      "------------------------------------------------------------\n",
      "Configuration: pile_count: 2, max_pile: 127, max_depth: 2\n",
      "------------------------------------------------------------\n"
     ]
    },
    {
     "name": "stderr",
     "output_type": "stream",
     "text": [
      "100%|██████████| 1000/1000 [00:19<00:00, 52.12it/s]\n"
     ]
    },
    {
     "name": "stdout",
     "output_type": "stream",
     "text": [
      "average explored nodes per move:     813.42\n",
      "average explored nodes per game:   10362.93\n",
      "average moves per game:               12.74\n"
     ]
    },
    {
     "name": "stderr",
     "output_type": "stream",
     "text": [
      "100%|██████████| 1000/1000 [00:14<00:00, 67.18it/s]\n"
     ]
    },
    {
     "name": "stdout",
     "output_type": "stream",
     "text": [
      "average explored nodes per move:     829.09\n",
      "average explored nodes per game:   10562.63\n",
      "average moves per game:               12.74\n"
     ]
    },
    {
     "name": "stderr",
     "output_type": "stream",
     "text": [
      "100%|██████████| 1000/1000 [00:26<00:00, 37.98it/s]\n"
     ]
    },
    {
     "name": "stdout",
     "output_type": "stream",
     "text": [
      "average explored nodes per move:     497.48\n",
      "average explored nodes per game:   10650.06\n",
      "average moves per game:               21.41\n"
     ]
    },
    {
     "name": "stderr",
     "output_type": "stream",
     "text": [
      "100%|██████████| 1000/1000 [00:14<00:00, 67.71it/s]\n"
     ]
    },
    {
     "name": "stdout",
     "output_type": "stream",
     "text": [
      "average explored nodes per move:    1677.49\n",
      "average explored nodes per game:    7431.30\n",
      "average moves per game:                4.43\n"
     ]
    },
    {
     "name": "stderr",
     "output_type": "stream",
     "text": [
      "100%|██████████| 1000/1000 [00:22<00:00, 43.92it/s]\n"
     ]
    },
    {
     "name": "stdout",
     "output_type": "stream",
     "text": [
      "average explored nodes per move:     495.73\n",
      "average explored nodes per game:   10612.56\n",
      "average moves per game:               21.41\n"
     ]
    },
    {
     "name": "stderr",
     "output_type": "stream",
     "text": [
      "100%|██████████| 1000/1000 [00:11<00:00, 86.28it/s]\n"
     ]
    },
    {
     "name": "stdout",
     "output_type": "stream",
     "text": [
      "average explored nodes per move:    1674.10\n",
      "average explored nodes per game:    7416.27\n",
      "average moves per game:                4.43\n"
     ]
    },
    {
     "name": "stderr",
     "output_type": "stream",
     "text": [
      "100%|██████████| 1000/1000 [00:17<00:00, 57.14it/s]\n"
     ]
    },
    {
     "name": "stdout",
     "output_type": "stream",
     "text": [
      "average explored nodes per move:    1977.23\n",
      "average explored nodes per game:    6860.98\n",
      "average moves per game:                3.47\n"
     ]
    },
    {
     "name": "stderr",
     "output_type": "stream",
     "text": [
      "100%|██████████| 1000/1000 [00:15<00:00, 65.55it/s]\n"
     ]
    },
    {
     "name": "stdout",
     "output_type": "stream",
     "text": [
      "average explored nodes per move:    1972.87\n",
      "average explored nodes per game:    6845.85\n",
      "average moves per game:                3.47\n",
      "------------------------------------------------------------\n",
      "Configuration: pile_count: 2, max_pile: 255, max_depth: 2\n",
      "------------------------------------------------------------\n"
     ]
    },
    {
     "name": "stderr",
     "output_type": "stream",
     "text": [
      "100%|██████████| 1000/1000 [01:10<00:00, 14.12it/s]\n"
     ]
    },
    {
     "name": "stdout",
     "output_type": "stream",
     "text": [
      "average explored nodes per move:    2851.12\n",
      "average explored nodes per game:   38407.38\n",
      "average moves per game:               13.47\n"
     ]
    },
    {
     "name": "stderr",
     "output_type": "stream",
     "text": [
      "100%|██████████| 1000/1000 [00:54<00:00, 18.41it/s]\n"
     ]
    },
    {
     "name": "stdout",
     "output_type": "stream",
     "text": [
      "average explored nodes per move:    2859.15\n",
      "average explored nodes per game:   38515.67\n",
      "average moves per game:               13.47\n"
     ]
    },
    {
     "name": "stderr",
     "output_type": "stream",
     "text": [
      "100%|██████████| 1000/1000 [01:33<00:00, 10.68it/s]\n"
     ]
    },
    {
     "name": "stdout",
     "output_type": "stream",
     "text": [
      "average explored nodes per move:    1723.58\n",
      "average explored nodes per game:   38544.31\n",
      "average moves per game:               22.36\n"
     ]
    },
    {
     "name": "stderr",
     "output_type": "stream",
     "text": [
      "100%|██████████| 1000/1000 [01:01<00:00, 16.32it/s]\n"
     ]
    },
    {
     "name": "stdout",
     "output_type": "stream",
     "text": [
      "average explored nodes per move:    6826.65\n",
      "average explored nodes per game:   30590.21\n",
      "average moves per game:                4.48\n"
     ]
    },
    {
     "name": "stderr",
     "output_type": "stream",
     "text": [
      "100%|██████████| 1000/1000 [01:20<00:00, 12.38it/s]\n"
     ]
    },
    {
     "name": "stdout",
     "output_type": "stream",
     "text": [
      "average explored nodes per move:    1696.89\n",
      "average explored nodes per game:   37947.55\n",
      "average moves per game:               22.36\n"
     ]
    },
    {
     "name": "stderr",
     "output_type": "stream",
     "text": [
      "100%|██████████| 1000/1000 [00:47<00:00, 20.91it/s]\n"
     ]
    },
    {
     "name": "stdout",
     "output_type": "stream",
     "text": [
      "average explored nodes per move:    6817.23\n",
      "average explored nodes per game:   30548.01\n",
      "average moves per game:                4.48\n"
     ]
    },
    {
     "name": "stderr",
     "output_type": "stream",
     "text": [
      "100%|██████████| 1000/1000 [01:14<00:00, 13.37it/s]\n"
     ]
    },
    {
     "name": "stdout",
     "output_type": "stream",
     "text": [
      "average explored nodes per move:    8424.63\n",
      "average explored nodes per game:   29410.37\n",
      "average moves per game:                3.49\n"
     ]
    },
    {
     "name": "stderr",
     "output_type": "stream",
     "text": [
      "100%|██████████| 1000/1000 [01:05<00:00, 15.30it/s]\n"
     ]
    },
    {
     "name": "stdout",
     "output_type": "stream",
     "text": [
      "average explored nodes per move:    8412.51\n",
      "average explored nodes per game:   29368.06\n",
      "average moves per game:                3.49\n",
      "------------------------------------------------------------\n",
      "Configuration: pile_count: 4, max_pile: 63, max_depth: 2\n",
      "------------------------------------------------------------\n"
     ]
    },
    {
     "name": "stderr",
     "output_type": "stream",
     "text": [
      "100%|██████████| 1000/1000 [00:28<00:00, 34.67it/s]\n"
     ]
    },
    {
     "name": "stdout",
     "output_type": "stream",
     "text": [
      "average explored nodes per move:     729.34\n",
      "average explored nodes per game:   14499.27\n",
      "average moves per game:               19.88\n"
     ]
    },
    {
     "name": "stderr",
     "output_type": "stream",
     "text": [
      "100%|██████████| 1000/1000 [00:27<00:00, 35.95it/s]\n"
     ]
    },
    {
     "name": "stdout",
     "output_type": "stream",
     "text": [
      "average explored nodes per move:     674.64\n",
      "average explored nodes per game:   17732.12\n",
      "average moves per game:               26.28\n"
     ]
    },
    {
     "name": "stderr",
     "output_type": "stream",
     "text": [
      "100%|██████████| 1000/1000 [00:33<00:00, 29.56it/s]\n"
     ]
    },
    {
     "name": "stdout",
     "output_type": "stream",
     "text": [
      "average explored nodes per move:     554.42\n",
      "average explored nodes per game:   13052.06\n",
      "average moves per game:               23.54\n"
     ]
    },
    {
     "name": "stderr",
     "output_type": "stream",
     "text": [
      "100%|██████████| 1000/1000 [00:18<00:00, 53.88it/s]\n"
     ]
    },
    {
     "name": "stdout",
     "output_type": "stream",
     "text": [
      "average explored nodes per move:    1057.37\n",
      "average explored nodes per game:    8634.45\n",
      "average moves per game:                8.17\n"
     ]
    },
    {
     "name": "stderr",
     "output_type": "stream",
     "text": [
      "100%|██████████| 1000/1000 [00:36<00:00, 27.13it/s]\n"
     ]
    },
    {
     "name": "stdout",
     "output_type": "stream",
     "text": [
      "average explored nodes per move:     448.76\n",
      "average explored nodes per game:   15821.37\n",
      "average moves per game:               35.26\n"
     ]
    },
    {
     "name": "stderr",
     "output_type": "stream",
     "text": [
      "100%|██████████| 1000/1000 [00:14<00:00, 66.72it/s]\n"
     ]
    },
    {
     "name": "stdout",
     "output_type": "stream",
     "text": [
      "average explored nodes per move:    1053.42\n",
      "average explored nodes per game:    8606.43\n",
      "average moves per game:                8.17\n"
     ]
    },
    {
     "name": "stderr",
     "output_type": "stream",
     "text": [
      "100%|██████████| 1000/1000 [00:21<00:00, 47.30it/s]\n"
     ]
    },
    {
     "name": "stdout",
     "output_type": "stream",
     "text": [
      "average explored nodes per move:    1109.38\n",
      "average explored nodes per game:    7854.44\n",
      "average moves per game:                7.08\n"
     ]
    },
    {
     "name": "stderr",
     "output_type": "stream",
     "text": [
      "100%|██████████| 1000/1000 [00:19<00:00, 52.02it/s]\n"
     ]
    },
    {
     "name": "stdout",
     "output_type": "stream",
     "text": [
      "average explored nodes per move:    1106.68\n",
      "average explored nodes per game:    7826.41\n",
      "average moves per game:                7.07\n",
      "------------------------------------------------------------\n",
      "Configuration: pile_count: 4, max_pile: 127, max_depth: 2\n",
      "------------------------------------------------------------\n"
     ]
    },
    {
     "name": "stderr",
     "output_type": "stream",
     "text": [
      "100%|██████████| 1000/1000 [01:48<00:00,  9.19it/s]\n"
     ]
    },
    {
     "name": "stdout",
     "output_type": "stream",
     "text": [
      "average explored nodes per move:    2344.09\n",
      "average explored nodes per game:   54493.04\n",
      "average moves per game:               23.25\n"
     ]
    },
    {
     "name": "stderr",
     "output_type": "stream",
     "text": [
      "100%|██████████| 1000/1000 [01:20<00:00, 12.44it/s]\n"
     ]
    },
    {
     "name": "stdout",
     "output_type": "stream",
     "text": [
      "average explored nodes per move:    1797.31\n",
      "average explored nodes per game:   51340.29\n",
      "average moves per game:               28.57\n"
     ]
    },
    {
     "name": "stderr",
     "output_type": "stream",
     "text": [
      "100%|██████████| 1000/1000 [02:13<00:00,  7.52it/s]\n"
     ]
    },
    {
     "name": "stdout",
     "output_type": "stream",
     "text": [
      "average explored nodes per move:    1924.21\n",
      "average explored nodes per game:   51543.94\n",
      "average moves per game:               26.79\n"
     ]
    },
    {
     "name": "stderr",
     "output_type": "stream",
     "text": [
      "100%|██████████| 1000/1000 [01:09<00:00, 14.31it/s]\n"
     ]
    },
    {
     "name": "stdout",
     "output_type": "stream",
     "text": [
      "average explored nodes per move:    3857.71\n",
      "average explored nodes per game:   32192.56\n",
      "average moves per game:                8.35\n"
     ]
    },
    {
     "name": "stderr",
     "output_type": "stream",
     "text": [
      "100%|██████████| 1000/1000 [01:52<00:00,  8.90it/s]\n"
     ]
    },
    {
     "name": "stdout",
     "output_type": "stream",
     "text": [
      "average explored nodes per move:    1299.87\n",
      "average explored nodes per game:   48333.13\n",
      "average moves per game:               37.18\n"
     ]
    },
    {
     "name": "stderr",
     "output_type": "stream",
     "text": [
      "100%|██████████| 1000/1000 [00:56<00:00, 17.74it/s]\n"
     ]
    },
    {
     "name": "stdout",
     "output_type": "stream",
     "text": [
      "average explored nodes per move:    3843.81\n",
      "average explored nodes per game:   32107.36\n",
      "average moves per game:                8.35\n"
     ]
    },
    {
     "name": "stderr",
     "output_type": "stream",
     "text": [
      "100%|██████████| 1000/1000 [01:22<00:00, 12.18it/s]\n"
     ]
    },
    {
     "name": "stdout",
     "output_type": "stream",
     "text": [
      "average explored nodes per move:    4215.04\n",
      "average explored nodes per game:   30664.40\n",
      "average moves per game:                7.28\n"
     ]
    },
    {
     "name": "stderr",
     "output_type": "stream",
     "text": [
      "100%|██████████| 1000/1000 [01:14<00:00, 13.43it/s]\n"
     ]
    },
    {
     "name": "stdout",
     "output_type": "stream",
     "text": [
      "average explored nodes per move:    4197.73\n",
      "average explored nodes per game:   30580.47\n",
      "average moves per game:                7.29\n",
      "------------------------------------------------------------\n",
      "Configuration: pile_count: 4, max_pile: 255, max_depth: 2\n",
      "------------------------------------------------------------\n"
     ]
    },
    {
     "name": "stderr",
     "output_type": "stream",
     "text": [
      "100%|██████████| 1000/1000 [07:59<00:00,  2.09it/s]\n"
     ]
    },
    {
     "name": "stdout",
     "output_type": "stream",
     "text": [
      "average explored nodes per move:    9040.76\n",
      "average explored nodes per game:  239083.00\n",
      "average moves per game:               26.45\n"
     ]
    },
    {
     "name": "stderr",
     "output_type": "stream",
     "text": [
      "100%|██████████| 1000/1000 [04:28<00:00,  3.72it/s]\n"
     ]
    },
    {
     "name": "stdout",
     "output_type": "stream",
     "text": [
      "average explored nodes per move:    5580.74\n",
      "average explored nodes per game:  169090.87\n",
      "average moves per game:               30.30\n"
     ]
    },
    {
     "name": "stderr",
     "output_type": "stream",
     "text": [
      "100%|██████████| 1000/1000 [10:04<00:00,  1.65it/s]\n"
     ]
    },
    {
     "name": "stdout",
     "output_type": "stream",
     "text": [
      "average explored nodes per move:    7644.34\n",
      "average explored nodes per game:  232640.19\n",
      "average moves per game:               30.43\n"
     ]
    },
    {
     "name": "stderr",
     "output_type": "stream",
     "text": [
      "100%|██████████| 1000/1000 [04:46<00:00,  3.49it/s]\n"
     ]
    },
    {
     "name": "stdout",
     "output_type": "stream",
     "text": [
      "average explored nodes per move:   15555.20\n",
      "average explored nodes per game:  129870.33\n",
      "average moves per game:                8.35\n"
     ]
    },
    {
     "name": "stderr",
     "output_type": "stream",
     "text": [
      "100%|██████████| 1000/1000 [06:23<00:00,  2.61it/s]\n"
     ]
    },
    {
     "name": "stdout",
     "output_type": "stream",
     "text": [
      "average explored nodes per move:    4110.93\n",
      "average explored nodes per game:  163907.02\n",
      "average moves per game:               39.87\n"
     ]
    },
    {
     "name": "stderr",
     "output_type": "stream",
     "text": [
      "100%|██████████| 1000/1000 [03:50<00:00,  4.34it/s]\n"
     ]
    },
    {
     "name": "stdout",
     "output_type": "stream",
     "text": [
      "average explored nodes per move:   15533.20\n",
      "average explored nodes per game:  129655.58\n",
      "average moves per game:                8.35\n"
     ]
    },
    {
     "name": "stderr",
     "output_type": "stream",
     "text": [
      "100%|██████████| 1000/1000 [05:42<00:00,  2.92it/s]\n"
     ]
    },
    {
     "name": "stdout",
     "output_type": "stream",
     "text": [
      "average explored nodes per move:   17236.02\n",
      "average explored nodes per game:  126770.89\n",
      "average moves per game:                7.36\n"
     ]
    },
    {
     "name": "stderr",
     "output_type": "stream",
     "text": [
      "100%|██████████| 1000/1000 [05:09<00:00,  3.23it/s]\n"
     ]
    },
    {
     "name": "stdout",
     "output_type": "stream",
     "text": [
      "average explored nodes per move:   17211.77\n",
      "average explored nodes per game:  126558.17\n",
      "average moves per game:                7.35\n",
      "------------------------------------------------------------\n",
      "Configuration: pile_count: 8, max_pile: 63, max_depth: 2\n",
      "------------------------------------------------------------\n"
     ]
    },
    {
     "name": "stderr",
     "output_type": "stream",
     "text": [
      "100%|██████████| 1000/1000 [03:33<00:00,  4.68it/s]\n"
     ]
    },
    {
     "name": "stdout",
     "output_type": "stream",
     "text": [
      "average explored nodes per move:    2142.44\n",
      "average explored nodes per game:   92437.74\n",
      "average moves per game:               43.15\n"
     ]
    },
    {
     "name": "stderr",
     "output_type": "stream",
     "text": [
      "100%|██████████| 1000/1000 [02:17<00:00,  7.25it/s]\n"
     ]
    },
    {
     "name": "stdout",
     "output_type": "stream",
     "text": [
      "average explored nodes per move:    1554.48\n",
      "average explored nodes per game:   72469.82\n",
      "average moves per game:               46.62\n"
     ]
    },
    {
     "name": "stderr",
     "output_type": "stream",
     "text": [
      "100%|██████████| 1000/1000 [04:03<00:00,  4.11it/s]\n"
     ]
    },
    {
     "name": "stdout",
     "output_type": "stream",
     "text": [
      "average explored nodes per move:    1900.07\n",
      "average explored nodes per game:   84021.10\n",
      "average moves per game:               44.22\n"
     ]
    },
    {
     "name": "stderr",
     "output_type": "stream",
     "text": [
      "100%|██████████| 1000/1000 [01:44<00:00,  9.53it/s]\n"
     ]
    },
    {
     "name": "stdout",
     "output_type": "stream",
     "text": [
      "average explored nodes per move:    2852.18\n",
      "average explored nodes per game:   41989.80\n",
      "average moves per game:               14.72\n"
     ]
    },
    {
     "name": "stderr",
     "output_type": "stream",
     "text": [
      "100%|██████████| 1000/1000 [02:58<00:00,  5.61it/s]\n"
     ]
    },
    {
     "name": "stdout",
     "output_type": "stream",
     "text": [
      "average explored nodes per move:    1158.17\n",
      "average explored nodes per game:   65058.94\n",
      "average moves per game:               56.17\n"
     ]
    },
    {
     "name": "stderr",
     "output_type": "stream",
     "text": [
      "100%|██████████| 1000/1000 [01:26<00:00, 11.52it/s]\n"
     ]
    },
    {
     "name": "stdout",
     "output_type": "stream",
     "text": [
      "average explored nodes per move:    2850.07\n",
      "average explored nodes per game:   41941.69\n",
      "average moves per game:               14.72\n"
     ]
    },
    {
     "name": "stderr",
     "output_type": "stream",
     "text": [
      "100%|██████████| 1000/1000 [01:58<00:00,  8.44it/s]\n"
     ]
    },
    {
     "name": "stdout",
     "output_type": "stream",
     "text": [
      "average explored nodes per move:    2893.63\n",
      "average explored nodes per game:   39393.89\n",
      "average moves per game:               13.61\n"
     ]
    },
    {
     "name": "stderr",
     "output_type": "stream",
     "text": [
      "100%|██████████| 1000/1000 [01:51<00:00,  8.99it/s]\n"
     ]
    },
    {
     "name": "stdout",
     "output_type": "stream",
     "text": [
      "average explored nodes per move:    2893.28\n",
      "average explored nodes per game:   39348.67\n",
      "average moves per game:               13.60\n",
      "------------------------------------------------------------\n",
      "Configuration: pile_count: 8, max_pile: 127, max_depth: 2\n",
      "------------------------------------------------------------\n"
     ]
    },
    {
     "name": "stderr",
     "output_type": "stream",
     "text": [
      "100%|██████████| 1000/1000 [15:36<00:00,  1.07it/s]\n"
     ]
    },
    {
     "name": "stdout",
     "output_type": "stream",
     "text": [
      "average explored nodes per move:    7584.72\n",
      "average explored nodes per game:  404068.18\n",
      "average moves per game:               53.27\n"
     ]
    },
    {
     "name": "stderr",
     "output_type": "stream",
     "text": [
      "100%|██████████| 1000/1000 [10:12<00:00,  1.63it/s]\n"
     ]
    },
    {
     "name": "stdout",
     "output_type": "stream",
     "text": [
      "average explored nodes per move:    6075.54\n",
      "average explored nodes per game:  321870.17\n",
      "average moves per game:               52.98\n"
     ]
    },
    {
     "name": "stderr",
     "output_type": "stream",
     "text": [
      "100%|██████████| 1000/1000 [18:28<00:00,  1.11s/it]\n"
     ]
    },
    {
     "name": "stdout",
     "output_type": "stream",
     "text": [
      "average explored nodes per move:    7085.89\n",
      "average explored nodes per game:  385203.29\n",
      "average moves per game:               54.36\n"
     ]
    },
    {
     "name": "stderr",
     "output_type": "stream",
     "text": [
      "100%|██████████| 1000/1000 [06:54<00:00,  2.41it/s]\n"
     ]
    },
    {
     "name": "stdout",
     "output_type": "stream",
     "text": [
      "average explored nodes per move:   10518.23\n",
      "average explored nodes per game:  163285.02\n",
      "average moves per game:               15.52\n"
     ]
    },
    {
     "name": "stderr",
     "output_type": "stream",
     "text": [
      "100%|██████████| 1000/1000 [14:04<00:00,  1.18it/s]\n"
     ]
    },
    {
     "name": "stdout",
     "output_type": "stream",
     "text": [
      "average explored nodes per move:    4925.16\n",
      "average explored nodes per game:  306266.19\n",
      "average moves per game:               62.18\n"
     ]
    },
    {
     "name": "stderr",
     "output_type": "stream",
     "text": [
      "100%|██████████| 1000/1000 [05:45<00:00,  2.89it/s]\n"
     ]
    },
    {
     "name": "stdout",
     "output_type": "stream",
     "text": [
      "average explored nodes per move:   10515.06\n",
      "average explored nodes per game:  162920.38\n",
      "average moves per game:               15.49\n"
     ]
    },
    {
     "name": "stderr",
     "output_type": "stream",
     "text": [
      "100%|██████████| 1000/1000 [07:59<00:00,  2.08it/s]\n"
     ]
    },
    {
     "name": "stdout",
     "output_type": "stream",
     "text": [
      "average explored nodes per move:   11046.42\n",
      "average explored nodes per game:  158096.43\n",
      "average moves per game:               14.31\n"
     ]
    },
    {
     "name": "stderr",
     "output_type": "stream",
     "text": [
      "100%|██████████| 1000/1000 [07:33<00:00,  2.21it/s]\n"
     ]
    },
    {
     "name": "stdout",
     "output_type": "stream",
     "text": [
      "average explored nodes per move:   11042.93\n",
      "average explored nodes per game:  157737.22\n",
      "average moves per game:               14.28\n",
      "------------------------------------------------------------\n",
      "Configuration: pile_count: 8, max_pile: 255, max_depth: 2\n",
      "------------------------------------------------------------\n"
     ]
    },
    {
     "name": "stderr",
     "output_type": "stream",
     "text": [
      "100%|██████████| 1000/1000 [56:35<00:00,  3.40s/it] \n"
     ]
    },
    {
     "name": "stdout",
     "output_type": "stream",
     "text": [
      "average explored nodes per move:   23737.25\n",
      "average explored nodes per game: 1470665.24\n",
      "average moves per game:               61.96\n"
     ]
    },
    {
     "name": "stderr",
     "output_type": "stream",
     "text": [
      "100%|██████████| 1000/1000 [25:59<00:00,  1.56s/it]\n"
     ]
    },
    {
     "name": "stdout",
     "output_type": "stream",
     "text": [
      "average explored nodes per move:   14063.83\n",
      "average explored nodes per game:  819246.14\n",
      "average moves per game:               58.25\n"
     ]
    },
    {
     "name": "stderr",
     "output_type": "stream",
     "text": [
      "100%|██████████| 1000/1000 [1:07:35<00:00,  4.06s/it]\n"
     ]
    },
    {
     "name": "stdout",
     "output_type": "stream",
     "text": [
      "average explored nodes per move:   22695.85\n",
      "average explored nodes per game: 1434151.01\n",
      "average moves per game:               63.19\n"
     ]
    },
    {
     "name": "stderr",
     "output_type": "stream",
     "text": [
      "100%|██████████| 1000/1000 [28:01<00:00,  1.68s/it]\n"
     ]
    },
    {
     "name": "stdout",
     "output_type": "stream",
     "text": [
      "average explored nodes per move:   41333.29\n",
      "average explored nodes per game:  660423.24\n",
      "average moves per game:               15.98\n"
     ]
    },
    {
     "name": "stderr",
     "output_type": "stream",
     "text": [
      "100%|██████████| 1000/1000 [35:37<00:00,  2.14s/it]\n"
     ]
    },
    {
     "name": "stdout",
     "output_type": "stream",
     "text": [
      "average explored nodes per move:   11737.67\n",
      "average explored nodes per game:  793818.35\n",
      "average moves per game:               67.63\n"
     ]
    },
    {
     "name": "stderr",
     "output_type": "stream",
     "text": [
      "100%|██████████| 1000/1000 [23:07<00:00,  1.39s/it]\n"
     ]
    },
    {
     "name": "stdout",
     "output_type": "stream",
     "text": [
      "average explored nodes per move:   41246.62\n",
      "average explored nodes per game:  659120.94\n",
      "average moves per game:               15.98\n"
     ]
    },
    {
     "name": "stderr",
     "output_type": "stream",
     "text": [
      "100%|██████████| 1000/1000 [32:25<00:00,  1.95s/it]\n"
     ]
    },
    {
     "name": "stdout",
     "output_type": "stream",
     "text": [
      "average explored nodes per move:   43925.07\n",
      "average explored nodes per game:  649915.40\n",
      "average moves per game:               14.80\n"
     ]
    },
    {
     "name": "stderr",
     "output_type": "stream",
     "text": [
      "100%|██████████| 1000/1000 [30:34<00:00,  1.83s/it]"
     ]
    },
    {
     "name": "stdout",
     "output_type": "stream",
     "text": [
      "average explored nodes per move:   43784.45\n",
      "average explored nodes per game:  648622.85\n",
      "average moves per game:               14.81\n"
     ]
    },
    {
     "name": "stderr",
     "output_type": "stream",
     "text": [
      "\n"
     ]
    }
   ],
   "execution_count": 74
  },
  {
   "metadata": {
    "ExecuteTime": {
     "end_time": "2025-06-29T21:35:19.867192Z",
     "start_time": "2025-06-29T21:35:17.847297Z"
    }
   },
   "cell_type": "code",
   "source": [
    "# for max_depth in [1, 2]:\n",
    "#     plot_results(\n",
    "#         vary_pile_counts=[2, 4, 8],\n",
    "#         vary_max_piles=[63, 127, 255],\n",
    "#         max_depth=max_depth,\n",
    "#     )"
   ],
   "id": "fc96521e821241f0",
   "outputs": [
    {
     "name": "stderr",
     "output_type": "stream",
     "text": [
      "/var/folders/wz/c3crfx495cq6412hrdzsvv0r0000gn/T/ipykernel_20346/3123813282.py:76: UserWarning: This figure includes Axes that are not compatible with tight_layout, so results might be incorrect.\n",
      "  plt.tight_layout(rect=[0,0,0.9,1])\n"
     ]
    },
    {
     "name": "stdout",
     "output_type": "stream",
     "text": [
      "Saved: ../savedPlots/Minimax/nodes_per_move_d1.png\n"
     ]
    },
    {
     "name": "stderr",
     "output_type": "stream",
     "text": [
      "/var/folders/wz/c3crfx495cq6412hrdzsvv0r0000gn/T/ipykernel_20346/3123813282.py:76: UserWarning: This figure includes Axes that are not compatible with tight_layout, so results might be incorrect.\n",
      "  plt.tight_layout(rect=[0,0,0.9,1])\n"
     ]
    },
    {
     "name": "stdout",
     "output_type": "stream",
     "text": [
      "Saved: ../savedPlots/Minimax/nodes_per_game_d1.png\n"
     ]
    },
    {
     "name": "stderr",
     "output_type": "stream",
     "text": [
      "/var/folders/wz/c3crfx495cq6412hrdzsvv0r0000gn/T/ipykernel_20346/3123813282.py:76: UserWarning: This figure includes Axes that are not compatible with tight_layout, so results might be incorrect.\n",
      "  plt.tight_layout(rect=[0,0,0.9,1])\n"
     ]
    },
    {
     "name": "stdout",
     "output_type": "stream",
     "text": [
      "Saved: ../savedPlots/Minimax/moves_per_game_d1.png\n"
     ]
    },
    {
     "name": "stderr",
     "output_type": "stream",
     "text": [
      "/var/folders/wz/c3crfx495cq6412hrdzsvv0r0000gn/T/ipykernel_20346/3123813282.py:76: UserWarning: This figure includes Axes that are not compatible with tight_layout, so results might be incorrect.\n",
      "  plt.tight_layout(rect=[0,0,0.9,1])\n"
     ]
    },
    {
     "name": "stdout",
     "output_type": "stream",
     "text": [
      "Saved: ../savedPlots/Minimax/nodes_per_move_d2.png\n"
     ]
    },
    {
     "name": "stderr",
     "output_type": "stream",
     "text": [
      "/var/folders/wz/c3crfx495cq6412hrdzsvv0r0000gn/T/ipykernel_20346/3123813282.py:76: UserWarning: This figure includes Axes that are not compatible with tight_layout, so results might be incorrect.\n",
      "  plt.tight_layout(rect=[0,0,0.9,1])\n"
     ]
    },
    {
     "name": "stdout",
     "output_type": "stream",
     "text": [
      "Saved: ../savedPlots/Minimax/nodes_per_game_d2.png\n",
      "Saved: ../savedPlots/Minimax/moves_per_game_d2.png\n"
     ]
    },
    {
     "name": "stderr",
     "output_type": "stream",
     "text": [
      "/var/folders/wz/c3crfx495cq6412hrdzsvv0r0000gn/T/ipykernel_20346/3123813282.py:76: UserWarning: This figure includes Axes that are not compatible with tight_layout, so results might be incorrect.\n",
      "  plt.tight_layout(rect=[0,0,0.9,1])\n"
     ]
    }
   ],
   "execution_count": 75
  },
  {
   "metadata": {},
   "cell_type": "markdown",
   "source": "# Max depth testing on a smaller configuration",
   "id": "b247608d489d112e"
  },
  {
   "metadata": {
    "ExecuteTime": {
     "end_time": "2025-06-29T21:51:18.860755Z",
     "start_time": "2025-06-29T21:51:18.856808Z"
    }
   },
   "cell_type": "code",
   "source": [
    "misere_agents = {\n",
    "    'n': MinimaxAgent(misere=True, max_depth=MAX_DEPTH),\n",
    "    'c': MinimaxAgent(misere=True, max_depth=MAX_DEPTH, canonical=True),\n",
    "    'p': MinimaxAgent(misere=True, max_depth=MAX_DEPTH, P_pruning=True),\n",
    "    'a': MinimaxAgent(misere=True, max_depth=MAX_DEPTH, aggressive=True),\n",
    "    'cp': MinimaxAgent(misere=True, max_depth=MAX_DEPTH, canonical=True, P_pruning=True),\n",
    "    'ca': MinimaxAgent(misere=True, max_depth=MAX_DEPTH, canonical=True, aggressive=True),\n",
    "    'pa': MinimaxAgent(misere=True, max_depth=MAX_DEPTH, P_pruning=True, aggressive=True),\n",
    "    'cpa': MinimaxAgent(misere=True, max_depth=MAX_DEPTH, canonical=True, P_pruning=True, aggressive=True)\n",
    "}\n",
    "\n",
    "normal_agents = {\n",
    "    'n': MinimaxAgent(misere=False, max_depth=MAX_DEPTH),\n",
    "    'c': MinimaxAgent(misere=False, max_depth=MAX_DEPTH, canonical=True),\n",
    "    'p': MinimaxAgent(misere=False, max_depth=MAX_DEPTH, P_pruning=True),\n",
    "    'a': MinimaxAgent(misere=False, max_depth=MAX_DEPTH, aggressive=True),\n",
    "    'cp': MinimaxAgent(misere=False, max_depth=MAX_DEPTH, canonical=True, P_pruning=True),\n",
    "    'ca': MinimaxAgent(misere=False, max_depth=MAX_DEPTH, canonical=True, aggressive=True),\n",
    "    'pa': MinimaxAgent(misere=False, max_depth=MAX_DEPTH, P_pruning=True, aggressive=True),\n",
    "    'cpa': MinimaxAgent(misere=False, max_depth=MAX_DEPTH, canonical=True, P_pruning=True, aggressive=True)\n",
    "}\n",
    "\n",
    "for pile_count in [2, 3, 4]:\n",
    "    for max_pile in [3, 4, 5]:\n",
    "        run_tests(misere_agents, normal_agents, MAX_DEPTH, pile_count, max_pile, EPISODES, \"../savedData/Minimax\")"
   ],
   "id": "e89498c803872a5c",
   "outputs": [
    {
     "name": "stdout",
     "output_type": "stream",
     "text": [
      "------------------------------------------------------------\n",
      "Configuration: pile_count: 2, max_pile: 3, max_depth: 9999\n",
      "------------------------------------------------------------\n",
      "Skipping ../savedData/Minimax/minimax-n-9999-2-3.npz\n",
      "Skipping ../savedData/Minimax/minimax-c-9999-2-3.npz\n",
      "Skipping ../savedData/Minimax/minimax-p-9999-2-3.npz\n",
      "Skipping ../savedData/Minimax/minimax-a-9999-2-3.npz\n",
      "Skipping ../savedData/Minimax/minimax-cp-9999-2-3.npz\n",
      "Skipping ../savedData/Minimax/minimax-ca-9999-2-3.npz\n",
      "Skipping ../savedData/Minimax/minimax-pa-9999-2-3.npz\n",
      "Skipping ../savedData/Minimax/minimax-cpa-9999-2-3.npz\n",
      "------------------------------------------------------------\n",
      "Configuration: pile_count: 2, max_pile: 4, max_depth: 9999\n",
      "------------------------------------------------------------\n",
      "Skipping ../savedData/Minimax/minimax-n-9999-2-4.npz\n",
      "Skipping ../savedData/Minimax/minimax-c-9999-2-4.npz\n",
      "Skipping ../savedData/Minimax/minimax-p-9999-2-4.npz\n",
      "Skipping ../savedData/Minimax/minimax-a-9999-2-4.npz\n",
      "Skipping ../savedData/Minimax/minimax-cp-9999-2-4.npz\n",
      "Skipping ../savedData/Minimax/minimax-ca-9999-2-4.npz\n",
      "Skipping ../savedData/Minimax/minimax-pa-9999-2-4.npz\n",
      "Skipping ../savedData/Minimax/minimax-cpa-9999-2-4.npz\n",
      "------------------------------------------------------------\n",
      "Configuration: pile_count: 2, max_pile: 5, max_depth: 9999\n",
      "------------------------------------------------------------\n",
      "Skipping ../savedData/Minimax/minimax-n-9999-2-5.npz\n",
      "Skipping ../savedData/Minimax/minimax-c-9999-2-5.npz\n",
      "Skipping ../savedData/Minimax/minimax-p-9999-2-5.npz\n",
      "Skipping ../savedData/Minimax/minimax-a-9999-2-5.npz\n",
      "Skipping ../savedData/Minimax/minimax-cp-9999-2-5.npz\n",
      "Skipping ../savedData/Minimax/minimax-ca-9999-2-5.npz\n",
      "Skipping ../savedData/Minimax/minimax-pa-9999-2-5.npz\n",
      "Skipping ../savedData/Minimax/minimax-cpa-9999-2-5.npz\n",
      "------------------------------------------------------------\n",
      "Configuration: pile_count: 3, max_pile: 3, max_depth: 9999\n",
      "------------------------------------------------------------\n",
      "Skipping ../savedData/Minimax/minimax-n-9999-3-3.npz\n",
      "Skipping ../savedData/Minimax/minimax-c-9999-3-3.npz\n",
      "Skipping ../savedData/Minimax/minimax-p-9999-3-3.npz\n",
      "Skipping ../savedData/Minimax/minimax-a-9999-3-3.npz\n",
      "Skipping ../savedData/Minimax/minimax-cp-9999-3-3.npz\n",
      "Skipping ../savedData/Minimax/minimax-ca-9999-3-3.npz\n",
      "Skipping ../savedData/Minimax/minimax-pa-9999-3-3.npz\n",
      "Skipping ../savedData/Minimax/minimax-cpa-9999-3-3.npz\n",
      "------------------------------------------------------------\n",
      "Configuration: pile_count: 3, max_pile: 4, max_depth: 9999\n",
      "------------------------------------------------------------\n",
      "Skipping ../savedData/Minimax/minimax-n-9999-3-4.npz\n",
      "Skipping ../savedData/Minimax/minimax-c-9999-3-4.npz\n",
      "Skipping ../savedData/Minimax/minimax-p-9999-3-4.npz\n",
      "Skipping ../savedData/Minimax/minimax-a-9999-3-4.npz\n",
      "Skipping ../savedData/Minimax/minimax-cp-9999-3-4.npz\n",
      "Skipping ../savedData/Minimax/minimax-ca-9999-3-4.npz\n",
      "Skipping ../savedData/Minimax/minimax-pa-9999-3-4.npz\n",
      "Skipping ../savedData/Minimax/minimax-cpa-9999-3-4.npz\n",
      "------------------------------------------------------------\n",
      "Configuration: pile_count: 3, max_pile: 5, max_depth: 9999\n",
      "------------------------------------------------------------\n",
      "Skipping ../savedData/Minimax/minimax-n-9999-3-5.npz\n",
      "Skipping ../savedData/Minimax/minimax-c-9999-3-5.npz\n",
      "Skipping ../savedData/Minimax/minimax-p-9999-3-5.npz\n",
      "Skipping ../savedData/Minimax/minimax-a-9999-3-5.npz\n",
      "Skipping ../savedData/Minimax/minimax-cp-9999-3-5.npz\n",
      "Skipping ../savedData/Minimax/minimax-ca-9999-3-5.npz\n",
      "Skipping ../savedData/Minimax/minimax-pa-9999-3-5.npz\n",
      "Skipping ../savedData/Minimax/minimax-cpa-9999-3-5.npz\n",
      "------------------------------------------------------------\n",
      "Configuration: pile_count: 4, max_pile: 3, max_depth: 9999\n",
      "------------------------------------------------------------\n",
      "Skipping ../savedData/Minimax/minimax-n-9999-4-3.npz\n",
      "Skipping ../savedData/Minimax/minimax-c-9999-4-3.npz\n",
      "Skipping ../savedData/Minimax/minimax-p-9999-4-3.npz\n",
      "Skipping ../savedData/Minimax/minimax-a-9999-4-3.npz\n",
      "Skipping ../savedData/Minimax/minimax-cp-9999-4-3.npz\n",
      "Skipping ../savedData/Minimax/minimax-ca-9999-4-3.npz\n",
      "Skipping ../savedData/Minimax/minimax-pa-9999-4-3.npz\n",
      "Skipping ../savedData/Minimax/minimax-cpa-9999-4-3.npz\n",
      "------------------------------------------------------------\n",
      "Configuration: pile_count: 4, max_pile: 4, max_depth: 9999\n",
      "------------------------------------------------------------\n",
      "Skipping ../savedData/Minimax/minimax-n-9999-4-4.npz\n",
      "Skipping ../savedData/Minimax/minimax-c-9999-4-4.npz\n",
      "Skipping ../savedData/Minimax/minimax-p-9999-4-4.npz\n",
      "Skipping ../savedData/Minimax/minimax-a-9999-4-4.npz\n",
      "Skipping ../savedData/Minimax/minimax-cp-9999-4-4.npz\n",
      "Skipping ../savedData/Minimax/minimax-ca-9999-4-4.npz\n",
      "Skipping ../savedData/Minimax/minimax-pa-9999-4-4.npz\n",
      "Skipping ../savedData/Minimax/minimax-cpa-9999-4-4.npz\n",
      "------------------------------------------------------------\n",
      "Configuration: pile_count: 4, max_pile: 5, max_depth: 9999\n",
      "------------------------------------------------------------\n",
      "Skipping ../savedData/Minimax/minimax-n-9999-4-5.npz\n",
      "Skipping ../savedData/Minimax/minimax-c-9999-4-5.npz\n",
      "Skipping ../savedData/Minimax/minimax-p-9999-4-5.npz\n",
      "Skipping ../savedData/Minimax/minimax-a-9999-4-5.npz\n",
      "Skipping ../savedData/Minimax/minimax-cp-9999-4-5.npz\n",
      "Skipping ../savedData/Minimax/minimax-ca-9999-4-5.npz\n",
      "Skipping ../savedData/Minimax/minimax-pa-9999-4-5.npz\n",
      "Skipping ../savedData/Minimax/minimax-cpa-9999-4-5.npz\n"
     ]
    }
   ],
   "execution_count": 78
  },
  {
   "metadata": {
    "ExecuteTime": {
     "end_time": "2025-06-29T21:51:18.819666Z",
     "start_time": "2025-06-29T21:51:17.882496Z"
    }
   },
   "cell_type": "code",
   "source": [
    "# plot_results(\n",
    "#     vary_pile_counts=[2, 3, 4],\n",
    "#     vary_max_piles=[3, 4, 5],\n",
    "#     max_depth=MAX_DEPTH\n",
    "# )"
   ],
   "id": "332c19ff6a0593c4",
   "outputs": [
    {
     "name": "stderr",
     "output_type": "stream",
     "text": [
      "/var/folders/wz/c3crfx495cq6412hrdzsvv0r0000gn/T/ipykernel_20346/3123813282.py:76: UserWarning: This figure includes Axes that are not compatible with tight_layout, so results might be incorrect.\n",
      "  plt.tight_layout(rect=[0,0,0.9,1])\n"
     ]
    },
    {
     "name": "stdout",
     "output_type": "stream",
     "text": [
      "Saved: ../savedPlots/Minimax/nodes_per_move_d9999.png\n"
     ]
    },
    {
     "name": "stderr",
     "output_type": "stream",
     "text": [
      "/var/folders/wz/c3crfx495cq6412hrdzsvv0r0000gn/T/ipykernel_20346/3123813282.py:76: UserWarning: This figure includes Axes that are not compatible with tight_layout, so results might be incorrect.\n",
      "  plt.tight_layout(rect=[0,0,0.9,1])\n"
     ]
    },
    {
     "name": "stdout",
     "output_type": "stream",
     "text": [
      "Saved: ../savedPlots/Minimax/nodes_per_game_d9999.png\n",
      "Saved: ../savedPlots/Minimax/moves_per_game_d9999.png\n"
     ]
    },
    {
     "name": "stderr",
     "output_type": "stream",
     "text": [
      "/var/folders/wz/c3crfx495cq6412hrdzsvv0r0000gn/T/ipykernel_20346/3123813282.py:76: UserWarning: This figure includes Axes that are not compatible with tight_layout, so results might be incorrect.\n",
      "  plt.tight_layout(rect=[0,0,0.9,1])\n"
     ]
    }
   ],
   "execution_count": 77
  },
  {
   "metadata": {
    "ExecuteTime": {
     "end_time": "2025-06-29T21:51:18.829934Z",
     "start_time": "2025-06-29T21:51:18.828695Z"
    }
   },
   "cell_type": "code",
   "source": "",
   "id": "3e787fd45c407bc6",
   "outputs": [],
   "execution_count": null
  }
 ],
 "metadata": {
  "kernelspec": {
   "display_name": "Python 3",
   "language": "python",
   "name": "python3"
  },
  "language_info": {
   "codemirror_mode": {
    "name": "ipython",
    "version": 2
   },
   "file_extension": ".py",
   "mimetype": "text/x-python",
   "name": "python",
   "nbconvert_exporter": "python",
   "pygments_lexer": "ipython2",
   "version": "2.7.6"
  }
 },
 "nbformat": 4,
 "nbformat_minor": 5
}
