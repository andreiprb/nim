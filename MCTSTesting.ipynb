{
 "cells": [
  {
   "metadata": {},
   "cell_type": "markdown",
   "source": "# Imports",
   "id": "7b4c3b0961ac3b1e"
  },
  {
   "metadata": {
    "ExecuteTime": {
     "end_time": "2025-05-15T09:44:55.363365Z",
     "start_time": "2025-05-15T09:44:54.843535Z"
    }
   },
   "cell_type": "code",
   "source": [
    "import os\n",
    "import numpy as np\n",
    "\n",
    "from tqdm import tqdm\n",
    "\n",
    "import matplotlib.pyplot as plt"
   ],
   "id": "f80b91b841340426",
   "outputs": [],
   "execution_count": 1
  },
  {
   "cell_type": "code",
   "id": "initial_id",
   "metadata": {
    "collapsed": true,
    "ExecuteTime": {
     "end_time": "2025-05-15T09:44:55.390490Z",
     "start_time": "2025-05-15T09:44:55.383026Z"
    }
   },
   "source": [
    "from Nim.Nim import Nim\n",
    "from Nim.NimLogic import NimLogic\n",
    "\n",
    "from Agents.MCTS.MCTSAgentV1 import MCTSAgentV1"
   ],
   "outputs": [],
   "execution_count": 2
  },
  {
   "metadata": {},
   "cell_type": "markdown",
   "source": "Random seed for reproducibility",
   "id": "b58a696a6f76ca45"
  },
  {
   "metadata": {
    "ExecuteTime": {
     "end_time": "2025-05-15T09:44:55.580693Z",
     "start_time": "2025-05-15T09:44:55.401107Z"
    }
   },
   "cell_type": "code",
   "source": "np.random.seed(42)",
   "id": "2734ef9cdbee5047",
   "outputs": [],
   "execution_count": 3
  },
  {
   "metadata": {},
   "cell_type": "markdown",
   "source": "# Agent Testing Function",
   "id": "38122e9bb8d5c6dd"
  },
  {
   "metadata": {
    "ExecuteTime": {
     "end_time": "2025-05-15T09:44:55.686218Z",
     "start_time": "2025-05-15T09:44:55.682695Z"
    }
   },
   "cell_type": "code",
   "source": [
    "def test_agent(_misereAgent, _normalAgent, _misere, _initial_piles):\n",
    "    explored_nodes = np.ndarray(EPISODES)\n",
    "    moves_count = np.ndarray(EPISODES)\n",
    "    mean_nodes = np.ndarray(EPISODES)\n",
    "\n",
    "    for i in tqdm(range(EPISODES)):\n",
    "        game = Nim(\n",
    "            initial_piles=_initial_piles[i],\n",
    "            misere=_misere[i]\n",
    "        )\n",
    "\n",
    "        agent = _misereAgent if _misere[i] else _normalAgent\n",
    "\n",
    "        winner = game.play(\n",
    "            player1=agent,\n",
    "            player2=agent,\n",
    "            verbose=False\n",
    "        )\n",
    "\n",
    "        assert winner == NimLogic.is_p_position(_initial_piles[i], _misere[i])\n",
    "\n",
    "        agent.compute_mean_nodes()\n",
    "\n",
    "        mean_nodes[i] = agent.mean_nodes\n",
    "        moves_count[i] = agent.moves_count\n",
    "        explored_nodes[i] = agent.nodes_explored\n",
    "\n",
    "    weighted_mean_nodes = explored_nodes.sum() / moves_count.sum()\n",
    "\n",
    "    avg_explored_nodes = explored_nodes.mean()\n",
    "    avg_moves_count = moves_count.mean()\n",
    "\n",
    "    values = [weighted_mean_nodes, avg_explored_nodes, avg_moves_count]\n",
    "\n",
    "    labels = [\n",
    "        \"average explored nodes per move:\",\n",
    "        \"average explored nodes per game:\",\n",
    "        \"average moves per game:\"\n",
    "    ]\n",
    "\n",
    "    label_width = max(len(lbl) for lbl in labels)\n",
    "\n",
    "    for lbl, val in zip(labels, values):\n",
    "        print(f\"{lbl:<{label_width}} {val:>10.2f}\")\n",
    "\n",
    "    return explored_nodes, moves_count, mean_nodes"
   ],
   "id": "b1cb07b39efc962a",
   "outputs": [],
   "execution_count": 4
  },
  {
   "metadata": {},
   "cell_type": "markdown",
   "source": "# Test running function",
   "id": "6a93f6ab20402a72"
  },
  {
   "metadata": {
    "ExecuteTime": {
     "end_time": "2025-05-15T09:44:55.702291Z",
     "start_time": "2025-05-15T09:44:55.698087Z"
    }
   },
   "cell_type": "code",
   "source": [
    "def run_tests(misere_v1, misere_v2, misere_v3, normal_v1, normal_v2, normal_v3, max_depth, pile_count, max_pile, episodes, save_path_prefix):\n",
    "    os.makedirs(save_path_prefix, exist_ok=True)\n",
    "\n",
    "    print(\"-\" * 60)\n",
    "    classic_configuration = False\n",
    "\n",
    "    if pile_count == 0 or max_pile == 0:\n",
    "        classic_configuration = True\n",
    "        initial_piles = np.tile([1, 3, 5, 7], (episodes, 1))\n",
    "        print(f\"\\tTestare fara max_depth, pe configuratia clasica\")\n",
    "    else:\n",
    "        initial_piles = np.random.randint(1, max_pile, size=(episodes, pile_count))\n",
    "        print(f\"\\tTestare cu max_depth={max_depth}, pile_count={pile_count}, max_pile={max_pile}\")\n",
    "\n",
    "    print(\"-\" * 60)\n",
    "    misere_modes = np.random.choice([True, False], size=episodes)\n",
    "\n",
    "    results = {\n",
    "        'v1': test_agent(misere_v1, normal_v1, misere_modes, initial_piles),\n",
    "        'v2': test_agent(misere_v2, normal_v2, misere_modes, initial_piles),\n",
    "        'v3': test_agent(misere_v3, normal_v3, misere_modes, initial_piles),\n",
    "    }\n",
    "\n",
    "    for version, result in results.items():\n",
    "        if not classic_configuration:\n",
    "            filename = f\"{save_path_prefix}/minimax-{version}-{max_depth}-{pile_count}-{max_pile}.npz\"\n",
    "        else:\n",
    "            filename = f\"{save_path_prefix}/minimax-{version}-{max_depth}-classic.npz\"\n",
    "        np.savez(filename, result)"
   ],
   "id": "d0d9196a22cda50f",
   "outputs": [],
   "execution_count": 5
  },
  {
   "metadata": {},
   "cell_type": "markdown",
   "source": "# Plotting results",
   "id": "a690d1c8136d9dcb"
  },
  {
   "metadata": {
    "ExecuteTime": {
     "end_time": "2025-05-15T09:44:55.766127Z",
     "start_time": "2025-05-15T09:44:55.759717Z"
    }
   },
   "cell_type": "code",
   "source": [
    "def _first_existing_file(patterns):\n",
    "    for p in patterns:\n",
    "        if os.path.exists(p):\n",
    "            return p\n",
    "    return None\n",
    "\n",
    "def plot_results(vary_parameter,\n",
    "                 max_depth_values,\n",
    "                 vary_values,\n",
    "                 fixed_pile_count,\n",
    "                 fixed_max_pile,\n",
    "                 folder=\"savedData/Minimax\",\n",
    "                 save_folder=\"savedPlots/Minimax\"):\n",
    "    os.makedirs(save_folder, exist_ok=True)\n",
    "\n",
    "    models       = ['v1', 'v2', 'v3']\n",
    "    model_names  = ['Minimax V1', 'Minimax V2', 'Minimax V3']\n",
    "    colors       = ['#4B0082', '#4169E1', '#9370DB']\n",
    "    metric_labels = [\n",
    "        'Avg Nodes/Move',\n",
    "        'Avg Nodes/Game',\n",
    "        'Avg Moves/Game'\n",
    "    ]\n",
    "\n",
    "    bar_width = 0.3\n",
    "    x_indices = np.arange(len(vary_values))\n",
    "\n",
    "    for max_depth in max_depth_values:\n",
    "        fig, axes = plt.subplots(1, 3, figsize=(10, 4), facecolor='white', sharex=True)\n",
    "        axes = axes.ravel()\n",
    "\n",
    "        all_metrics = {m: {i: [] for i in range(3)} for m in models}\n",
    "\n",
    "        for vary_value in vary_values:\n",
    "            for model in models:\n",
    "                pile_count = vary_value if vary_parameter == \"heap_count\" else fixed_pile_count\n",
    "                max_pile   = fixed_max_pile if vary_parameter == \"heap_count\" else vary_value\n",
    "\n",
    "                candidate_files = [\n",
    "                    f\"{folder}/minimax-{model}-{max_depth}-{pile_count}-{max_pile}.npz\",\n",
    "                    # f\"{folder}/minimax-{model}-{max_depth}-classic.npz\",\n",
    "                ]\n",
    "\n",
    "                filename = _first_existing_file(candidate_files)\n",
    "\n",
    "                if filename is None:\n",
    "                    print(f\"⚠️ Lipsă fișier pentru: depth={max_depth}, \"\n",
    "                          f\"{vary_parameter}={vary_value} → {candidate_files[-1].split('/')[-1]}\")\n",
    "                    for i in range(3):\n",
    "                        all_metrics[model][i].append(np.nan)\n",
    "                    continue\n",
    "\n",
    "                data                = np.load(filename)\n",
    "                test_data           = data.get('arr_0')\n",
    "                explored_nodes, moves_count, mean_nodes = test_data\n",
    "\n",
    "                metrics_values = [\n",
    "                    explored_nodes.sum() / moves_count.sum(),\n",
    "                    explored_nodes.mean(),\n",
    "                    moves_count.mean()\n",
    "                ]\n",
    "                for i in range(3):\n",
    "                    all_metrics[model][i].append(metrics_values[i])\n",
    "\n",
    "        for metric_idx, ax in enumerate(axes):\n",
    "            for model_idx, model in enumerate(models):\n",
    "                offset = -0.2 + 0.2 * model_idx\n",
    "                ax.bar(\n",
    "                    x_indices + offset,\n",
    "                    all_metrics[model][metric_idx],\n",
    "                    width=bar_width,\n",
    "                    color=colors[model_idx],\n",
    "                    alpha=1,\n",
    "                    # alpha=0.6 + 0.2 * model_idx,\n",
    "                    # edgecolor='black',\n",
    "                    # linewidth=0.8,\n",
    "                    label=model_names[model_idx]\n",
    "                )\n",
    "            ax.set_ylabel(metric_labels[metric_idx], fontsize=14)\n",
    "            ax.set_xlabel(vary_parameter.upper(), fontsize=14)\n",
    "            ax.set_xticks(x_indices)\n",
    "            ax.set_xticklabels(vary_values)\n",
    "            ax.grid(True, axis='y', alpha=0.3)\n",
    "            if metric_idx == 0:\n",
    "                ax.legend(loc='upper right')\n",
    "\n",
    "        plt.tight_layout(rect=[0, 0, 1, 0.97])\n",
    "\n",
    "        save_path = os.path.join(save_folder,\n",
    "                                 f\"minimax_variation_{vary_parameter}_depth_{max_depth}.png\")\n",
    "        plt.savefig(save_path, facecolor='white')\n",
    "        plt.close()\n"
   ],
   "id": "8d58bed70f9f7ce0",
   "outputs": [],
   "execution_count": 6
  },
  {
   "metadata": {
    "ExecuteTime": {
     "end_time": "2025-05-15T09:44:56.513090Z",
     "start_time": "2025-05-15T09:44:55.774611Z"
    }
   },
   "cell_type": "code",
   "source": [
    "EPISODES = 10000\n",
    "\n",
    "PILE_COUNT = 4\n",
    "MAX_PILE = 127\n",
    "\n",
    "for _ in range(EPISODES):\n",
    "    initial_piles = np.random.randint(1, MAX_PILE, size=(PILE_COUNT,))\n",
    "    misere = np.random.choice([True, False], PILE_COUNT)\n",
    "\n",
    "    normalAgent = MCTSAgentV1(\n",
    "        misere=False,\n",
    "        simulation_limit=1000,\n",
    "        time_limit=1.0\n",
    "    )\n",
    "\n",
    "    misereAgent = MCTSAgentV1(\n",
    "        misere=True,\n",
    "        simulation_limit=1000,\n",
    "        time_limit=1.0\n",
    "    )\n",
    "\n",
    "    test_agent(\n",
    "        misereAgent,\n",
    "        normalAgent,\n",
    "        misere,\n",
    "        initial_piles\n",
    "    )"
   ],
   "id": "14c90ec247a083c2",
   "outputs": [
    {
     "name": "stderr",
     "output_type": "stream",
     "text": [
      "  0%|          | 0/10000 [00:00<?, ?it/s]\n"
     ]
    },
    {
     "ename": "TypeError",
     "evalue": "'numpy.int64' object is not iterable",
     "output_type": "error",
     "traceback": [
      "\u001B[0;31m---------------------------------------------------------------------------\u001B[0m",
      "\u001B[0;31mTypeError\u001B[0m                                 Traceback (most recent call last)",
      "Cell \u001B[0;32mIn[7], line 22\u001B[0m\n\u001B[1;32m     10\u001B[0m normalAgent \u001B[38;5;241m=\u001B[39m MCTSAgentV1(\n\u001B[1;32m     11\u001B[0m     misere\u001B[38;5;241m=\u001B[39m\u001B[38;5;28;01mFalse\u001B[39;00m,\n\u001B[1;32m     12\u001B[0m     simulation_limit\u001B[38;5;241m=\u001B[39m\u001B[38;5;241m1000\u001B[39m,\n\u001B[1;32m     13\u001B[0m     time_limit\u001B[38;5;241m=\u001B[39m\u001B[38;5;241m1.0\u001B[39m\n\u001B[1;32m     14\u001B[0m )\n\u001B[1;32m     16\u001B[0m misereAgent \u001B[38;5;241m=\u001B[39m MCTSAgentV1(\n\u001B[1;32m     17\u001B[0m     misere\u001B[38;5;241m=\u001B[39m\u001B[38;5;28;01mTrue\u001B[39;00m,\n\u001B[1;32m     18\u001B[0m     simulation_limit\u001B[38;5;241m=\u001B[39m\u001B[38;5;241m1000\u001B[39m,\n\u001B[1;32m     19\u001B[0m     time_limit\u001B[38;5;241m=\u001B[39m\u001B[38;5;241m1.0\u001B[39m\n\u001B[1;32m     20\u001B[0m )\n\u001B[0;32m---> 22\u001B[0m \u001B[43mtest_agent\u001B[49m\u001B[43m(\u001B[49m\n\u001B[1;32m     23\u001B[0m \u001B[43m    \u001B[49m\u001B[43mmisereAgent\u001B[49m\u001B[43m,\u001B[49m\n\u001B[1;32m     24\u001B[0m \u001B[43m    \u001B[49m\u001B[43mnormalAgent\u001B[49m\u001B[43m,\u001B[49m\n\u001B[1;32m     25\u001B[0m \u001B[43m    \u001B[49m\u001B[43mmisere\u001B[49m\u001B[43m,\u001B[49m\n\u001B[1;32m     26\u001B[0m \u001B[43m    \u001B[49m\u001B[43minitial_piles\u001B[49m\n\u001B[1;32m     27\u001B[0m \u001B[43m\u001B[49m\u001B[43m)\u001B[49m\n",
      "Cell \u001B[0;32mIn[4], line 14\u001B[0m, in \u001B[0;36mtest_agent\u001B[0;34m(_misereAgent, _normalAgent, _misere, _initial_piles)\u001B[0m\n\u001B[1;32m      7\u001B[0m game \u001B[38;5;241m=\u001B[39m Nim(\n\u001B[1;32m      8\u001B[0m     initial_piles\u001B[38;5;241m=\u001B[39m_initial_piles[i],\n\u001B[1;32m      9\u001B[0m     misere\u001B[38;5;241m=\u001B[39m_misere[i]\n\u001B[1;32m     10\u001B[0m )\n\u001B[1;32m     12\u001B[0m agent \u001B[38;5;241m=\u001B[39m _misereAgent \u001B[38;5;28;01mif\u001B[39;00m _misere[i] \u001B[38;5;28;01melse\u001B[39;00m _normalAgent\n\u001B[0;32m---> 14\u001B[0m winner \u001B[38;5;241m=\u001B[39m \u001B[43mgame\u001B[49m\u001B[38;5;241;43m.\u001B[39;49m\u001B[43mplay\u001B[49m\u001B[43m(\u001B[49m\n\u001B[1;32m     15\u001B[0m \u001B[43m    \u001B[49m\u001B[43mplayer1\u001B[49m\u001B[38;5;241;43m=\u001B[39;49m\u001B[43magent\u001B[49m\u001B[43m,\u001B[49m\n\u001B[1;32m     16\u001B[0m \u001B[43m    \u001B[49m\u001B[43mplayer2\u001B[49m\u001B[38;5;241;43m=\u001B[39;49m\u001B[43magent\u001B[49m\u001B[43m,\u001B[49m\n\u001B[1;32m     17\u001B[0m \u001B[43m    \u001B[49m\u001B[43mverbose\u001B[49m\u001B[38;5;241;43m=\u001B[39;49m\u001B[38;5;28;43;01mFalse\u001B[39;49;00m\n\u001B[1;32m     18\u001B[0m \u001B[43m\u001B[49m\u001B[43m)\u001B[49m\n\u001B[1;32m     20\u001B[0m \u001B[38;5;28;01massert\u001B[39;00m winner \u001B[38;5;241m==\u001B[39m NimLogic\u001B[38;5;241m.\u001B[39mis_p_position(_initial_piles[i], _misere[i])\n\u001B[1;32m     22\u001B[0m agent\u001B[38;5;241m.\u001B[39mcompute_mean_nodes()\n",
      "File \u001B[0;32m~/PycharmProjects/reinforcement_learning_nim/Nim/Nim.py:45\u001B[0m, in \u001B[0;36mNim.play\u001B[0;34m(self, player1, player2, verbose)\u001B[0m\n\u001B[1;32m     42\u001B[0m current_player \u001B[38;5;241m=\u001B[39m \u001B[38;5;28mself\u001B[39m\u001B[38;5;241m.\u001B[39mplayer\n\u001B[1;32m     43\u001B[0m current_agent \u001B[38;5;241m=\u001B[39m players[current_player]\n\u001B[0;32m---> 45\u001B[0m pile, count \u001B[38;5;241m=\u001B[39m \u001B[43mcurrent_agent\u001B[49m\u001B[38;5;241;43m.\u001B[39;49m\u001B[43mchoose_action\u001B[49m\u001B[43m(\u001B[49m\u001B[38;5;28;43mself\u001B[39;49m\u001B[38;5;241;43m.\u001B[39;49m\u001B[43mpiles\u001B[49m\u001B[43m)\u001B[49m\n\u001B[1;32m     47\u001B[0m \u001B[38;5;28;01mif\u001B[39;00m verbose:\n\u001B[1;32m     48\u001B[0m     \u001B[38;5;28mprint\u001B[39m(\u001B[38;5;124mf\u001B[39m\u001B[38;5;124m\"\u001B[39m\u001B[38;5;124mPlayer \u001B[39m\u001B[38;5;132;01m{\u001B[39;00m\u001B[38;5;28mint\u001B[39m(current_player)\u001B[38;5;250m \u001B[39m\u001B[38;5;241m+\u001B[39m\u001B[38;5;250m \u001B[39m\u001B[38;5;241m1\u001B[39m\u001B[38;5;132;01m}\u001B[39;00m\u001B[38;5;124m (\u001B[39m\u001B[38;5;132;01m{\u001B[39;00mcurrent_agent\u001B[38;5;241m.\u001B[39mname\u001B[38;5;132;01m}\u001B[39;00m\u001B[38;5;124m) takes \u001B[39m\u001B[38;5;132;01m{\u001B[39;00mcount\u001B[38;5;132;01m}\u001B[39;00m\u001B[38;5;124m from pile \u001B[39m\u001B[38;5;132;01m{\u001B[39;00mpile\u001B[38;5;132;01m}\u001B[39;00m\u001B[38;5;124m\"\u001B[39m)\n",
      "File \u001B[0;32m~/PycharmProjects/reinforcement_learning_nim/Agents/MCTS/MCTSAgentV1.py:88\u001B[0m, in \u001B[0;36mMCTSAgentV1.choose_action\u001B[0;34m(self, state)\u001B[0m\n\u001B[1;32m     85\u001B[0m \u001B[38;5;28;01mdef\u001B[39;00m\u001B[38;5;250m \u001B[39m\u001B[38;5;21mchoose_action\u001B[39m(\u001B[38;5;28mself\u001B[39m, state):\n\u001B[1;32m     86\u001B[0m     \u001B[38;5;28mself\u001B[39m\u001B[38;5;241m.\u001B[39mmoves_count \u001B[38;5;241m+\u001B[39m\u001B[38;5;241m=\u001B[39m \u001B[38;5;241m1\u001B[39m\n\u001B[0;32m---> 88\u001B[0m     root \u001B[38;5;241m=\u001B[39m \u001B[43mMCTSNode\u001B[49m\u001B[43m(\u001B[49m\u001B[43mstate\u001B[49m\u001B[43m,\u001B[49m\u001B[43m \u001B[49m\u001B[38;5;28;43mself\u001B[39;49m\u001B[38;5;241;43m.\u001B[39;49m\u001B[43mc_uct\u001B[49m\u001B[43m)\u001B[49m\n\u001B[1;32m     90\u001B[0m     start_time \u001B[38;5;241m=\u001B[39m time\u001B[38;5;241m.\u001B[39mtime()\n\u001B[1;32m     91\u001B[0m     simulation_count \u001B[38;5;241m=\u001B[39m \u001B[38;5;241m0\u001B[39m\n",
      "File \u001B[0;32m~/PycharmProjects/reinforcement_learning_nim/Agents/MCTS/MCTSAgentV1.py:16\u001B[0m, in \u001B[0;36mMCTSNode.__init__\u001B[0;34m(self, state, parent, action)\u001B[0m\n\u001B[1;32m     14\u001B[0m \u001B[38;5;28mself\u001B[39m\u001B[38;5;241m.\u001B[39mvisits \u001B[38;5;241m=\u001B[39m \u001B[38;5;241m0\u001B[39m\n\u001B[1;32m     15\u001B[0m \u001B[38;5;28mself\u001B[39m\u001B[38;5;241m.\u001B[39mvalue \u001B[38;5;241m=\u001B[39m \u001B[38;5;241m0\u001B[39m\n\u001B[0;32m---> 16\u001B[0m \u001B[38;5;28mself\u001B[39m\u001B[38;5;241m.\u001B[39muntried_actions \u001B[38;5;241m=\u001B[39m \u001B[38;5;28mlist\u001B[39m(\u001B[43mNimLogic\u001B[49m\u001B[38;5;241;43m.\u001B[39;49m\u001B[43mavailable_actions\u001B[49m\u001B[43m(\u001B[49m\u001B[43mstate\u001B[49m\u001B[43m)\u001B[49m)\n\u001B[1;32m     17\u001B[0m random\u001B[38;5;241m.\u001B[39mshuffle(\u001B[38;5;28mself\u001B[39m\u001B[38;5;241m.\u001B[39muntried_actions)\n",
      "File \u001B[0;32m~/PycharmProjects/reinforcement_learning_nim/Nim/NimLogic.py:8\u001B[0m, in \u001B[0;36mNimLogic.available_actions\u001B[0;34m(state)\u001B[0m\n\u001B[1;32m      5\u001B[0m \u001B[38;5;129m@staticmethod\u001B[39m\n\u001B[1;32m      6\u001B[0m \u001B[38;5;28;01mdef\u001B[39;00m\u001B[38;5;250m \u001B[39m\u001B[38;5;21mavailable_actions\u001B[39m(state):\n\u001B[1;32m      7\u001B[0m     actions \u001B[38;5;241m=\u001B[39m \u001B[38;5;28mset\u001B[39m()\n\u001B[0;32m----> 8\u001B[0m     \u001B[38;5;28;01mfor\u001B[39;00m i, pile \u001B[38;5;129;01min\u001B[39;00m \u001B[38;5;28;43menumerate\u001B[39;49m\u001B[43m(\u001B[49m\u001B[43mstate\u001B[49m\u001B[43m)\u001B[49m:\n\u001B[1;32m      9\u001B[0m         \u001B[38;5;28;01mfor\u001B[39;00m j \u001B[38;5;129;01min\u001B[39;00m \u001B[38;5;28mrange\u001B[39m(\u001B[38;5;241m1\u001B[39m, pile \u001B[38;5;241m+\u001B[39m \u001B[38;5;241m1\u001B[39m):\n\u001B[1;32m     10\u001B[0m             actions\u001B[38;5;241m.\u001B[39madd((i, j))\n",
      "\u001B[0;31mTypeError\u001B[0m: 'numpy.int64' object is not iterable"
     ]
    }
   ],
   "execution_count": 7
  },
  {
   "metadata": {},
   "cell_type": "code",
   "source": "",
   "id": "64aa5509e36659d1",
   "outputs": [],
   "execution_count": null
  }
 ],
 "metadata": {
  "kernelspec": {
   "display_name": "Python 3",
   "language": "python",
   "name": "python3"
  },
  "language_info": {
   "codemirror_mode": {
    "name": "ipython",
    "version": 2
   },
   "file_extension": ".py",
   "mimetype": "text/x-python",
   "name": "python",
   "nbconvert_exporter": "python",
   "pygments_lexer": "ipython2",
   "version": "2.7.6"
  }
 },
 "nbformat": 4,
 "nbformat_minor": 5
}
