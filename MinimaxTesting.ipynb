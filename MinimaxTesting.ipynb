{
 "cells": [
  {
   "metadata": {},
   "cell_type": "markdown",
   "source": "# Imports",
   "id": "7b4c3b0961ac3b1e"
  },
  {
   "metadata": {
    "ExecuteTime": {
     "end_time": "2025-04-27T16:59:46.970310Z",
     "start_time": "2025-04-27T16:59:46.810666Z"
    }
   },
   "cell_type": "code",
   "source": [
    "import numpy as np\n",
    "\n",
    "from tqdm import tqdm\n",
    "\n",
    "import matplotlib.pyplot as plt"
   ],
   "id": "f80b91b841340426",
   "outputs": [],
   "execution_count": 1
  },
  {
   "cell_type": "code",
   "id": "initial_id",
   "metadata": {
    "collapsed": true,
    "ExecuteTime": {
     "end_time": "2025-04-27T16:59:47.029588Z",
     "start_time": "2025-04-27T16:59:47.025995Z"
    }
   },
   "source": [
    "from Nim.Nim import Nim\n",
    "from Nim.NimLogic import NimLogic\n",
    "\n",
    "from Agents.Minimax.MinimaxAgentV1 import MinimaxAgentV1\n",
    "from Agents.Minimax.MinimaxAgentV2 import MinimaxAgentV2\n",
    "from Agents.Minimax.MinimaxAgentV3 import MinimaxAgentV3"
   ],
   "outputs": [],
   "execution_count": 2
  },
  {
   "metadata": {},
   "cell_type": "markdown",
   "source": "# Constants",
   "id": "6469a4493d07d6a7"
  },
  {
   "metadata": {
    "ExecuteTime": {
     "end_time": "2025-04-27T16:59:47.044528Z",
     "start_time": "2025-04-27T16:59:47.034303Z"
    }
   },
   "cell_type": "code",
   "source": [
    "# Random seed for reproducibility\n",
    "np.random.seed(42)\n",
    "\n",
    "# Test parameters\n",
    "EPISODES = 10000\n",
    "\n",
    "# Game parameters\n",
    "PILE_COUNT = 4\n",
    "MAX_PILE = 127\n",
    "\n",
    "# Minimax parameters\n",
    "MAX_DEPTH = 2"
   ],
   "id": "2734ef9cdbee5047",
   "outputs": [],
   "execution_count": 3
  },
  {
   "metadata": {},
   "cell_type": "markdown",
   "source": "# Agent Testing Function",
   "id": "38122e9bb8d5c6dd"
  },
  {
   "metadata": {
    "ExecuteTime": {
     "end_time": "2025-04-27T16:59:47.054166Z",
     "start_time": "2025-04-27T16:59:47.051489Z"
    }
   },
   "cell_type": "code",
   "source": [
    "def test_agent(_misereAgent, _normalAgent, _misere, _initial_piles):\n",
    "    explored_nodes = 0\n",
    "    moves_count = 0\n",
    "    mean_nodes = 0\n",
    "\n",
    "    for i in tqdm(range(EPISODES)):\n",
    "        game = Nim(\n",
    "            initial_piles=_initial_piles[i],\n",
    "            misere=_misere[i]\n",
    "        )\n",
    "\n",
    "        agent = _misereAgent if _misere[i] else _normalAgent\n",
    "\n",
    "        winner = game.play(\n",
    "            player1=agent,\n",
    "            player2=agent,\n",
    "            verbose=False\n",
    "        )\n",
    "\n",
    "        assert winner == NimLogic.is_p_position(_initial_piles[i], _misere[i])\n",
    "\n",
    "        agent.compute_mean_nodes()\n",
    "        mean_nodes += agent.mean_nodes\n",
    "        moves_count += agent.moves_count\n",
    "        explored_nodes += agent.nodes_explored\n",
    "\n",
    "    weighted_mean_nodes = explored_nodes / moves_count\n",
    "    unweighted_mean_nodes = mean_nodes / EPISODES\n",
    "\n",
    "    explored_nodes /= EPISODES\n",
    "    moves_count /= EPISODES\n",
    "\n",
    "    values = [unweighted_mean_nodes, weighted_mean_nodes, explored_nodes, moves_count]\n",
    "\n",
    "    labels = [\n",
    "        \"unweighted average explored nodes per move:\",\n",
    "        \"weighted average explored nodes per move:\",\n",
    "        \"average explored nodes per game:\",\n",
    "        \"average moves per game:\"\n",
    "    ]\n",
    "\n",
    "    label_width = max(len(lbl) for lbl in labels)\n",
    "\n",
    "    for lbl, val in zip(labels, values):\n",
    "        print(f\"{lbl:<{label_width}} {val:>10.2f}\")\n",
    "\n",
    "    return values"
   ],
   "id": "b1cb07b39efc962a",
   "outputs": [],
   "execution_count": 4
  },
  {
   "metadata": {},
   "cell_type": "markdown",
   "source": "# Agent Initialization For First 2 Tests",
   "id": "22b09aed2923ca50"
  },
  {
   "metadata": {
    "ExecuteTime": {
     "end_time": "2025-04-27T16:59:47.060618Z",
     "start_time": "2025-04-27T16:59:47.058905Z"
    }
   },
   "cell_type": "code",
   "source": [
    "misereAgent1 = MinimaxAgentV1(misere=True, max_depth=MAX_DEPTH)\n",
    "misereAgent2 = MinimaxAgentV2(misere=True, max_depth=MAX_DEPTH)\n",
    "misereAgent3 = MinimaxAgentV3(misere=True, max_depth=MAX_DEPTH)\n",
    "\n",
    "normalAgent1 = MinimaxAgentV1(misere=False, max_depth=MAX_DEPTH)\n",
    "normalAgent2 = MinimaxAgentV2(misere=False, max_depth=MAX_DEPTH)\n",
    "normalAgent3 = MinimaxAgentV3(misere=False, max_depth=MAX_DEPTH)"
   ],
   "id": "47d4f0ed4303df58",
   "outputs": [],
   "execution_count": 5
  },
  {
   "metadata": {},
   "cell_type": "markdown",
   "source": "# Random Game All Agent Test - Max Pile",
   "id": "6a93f6ab20402a72"
  },
  {
   "metadata": {
    "ExecuteTime": {
     "end_time": "2025-04-27T17:11:58.375231Z",
     "start_time": "2025-04-27T16:59:47.066920Z"
    }
   },
   "cell_type": "code",
   "source": [
    "MAX_PILE_RESULTS = []\n",
    "\n",
    "for max_pile in [63, 127, 255]:\n",
    "    initial_piles = np.random.randint(1, max_pile, size=(EPISODES, PILE_COUNT))\n",
    "    misere = np.random.choice([True, False], size=EPISODES)\n",
    "\n",
    "    print(\"---------------------------------------------------------------------------------\")\n",
    "    print(f\"\\tTesting with max_depth={MAX_DEPTH}, pile_count={PILE_COUNT}, max_pile={max_pile}\")\n",
    "    print(\"---------------------------------------------------------------------------------\")\n",
    "\n",
    "    MAX_PILE_RESULTS.append(test_agent(misereAgent1, normalAgent1, misere, initial_piles))\n",
    "    MAX_PILE_RESULTS.append(test_agent(misereAgent2, normalAgent2, misere, initial_piles))\n",
    "    MAX_PILE_RESULTS.append(test_agent(misereAgent3, normalAgent3, misere, initial_piles))"
   ],
   "id": "962a2de125248f9b",
   "outputs": [
    {
     "name": "stdout",
     "output_type": "stream",
     "text": [
      "---------------------------------------------------------------------------------\n",
      "\tTesting with max_depth=2, pile_count=4, max_pile=63\n",
      "---------------------------------------------------------------------------------\n"
     ]
    },
    {
     "name": "stderr",
     "output_type": "stream",
     "text": [
      "100%|██████████| 10000/10000 [04:50<00:00, 34.45it/s]\n"
     ]
    },
    {
     "name": "stdout",
     "output_type": "stream",
     "text": [
      "unweighted average explored nodes per move:     738.70\n",
      "weighted average explored nodes per move:       705.66\n",
      "average explored nodes per game:              14612.08\n",
      "average moves per game:                          20.71\n"
     ]
    },
    {
     "name": "stderr",
     "output_type": "stream",
     "text": [
      "100%|██████████| 10000/10000 [05:48<00:00, 28.71it/s]\n"
     ]
    },
    {
     "name": "stdout",
     "output_type": "stream",
     "text": [
      "unweighted average explored nodes per move:     556.32\n",
      "weighted average explored nodes per move:       540.24\n",
      "average explored nodes per game:              13126.99\n",
      "average moves per game:                          24.30\n"
     ]
    },
    {
     "name": "stderr",
     "output_type": "stream",
     "text": [
      " 43%|████▎     | 4322/10000 [01:32<02:01, 46.64it/s]\n"
     ]
    },
    {
     "ename": "KeyboardInterrupt",
     "evalue": "",
     "output_type": "error",
     "traceback": [
      "\u001B[0;31m---------------------------------------------------------------------------\u001B[0m",
      "\u001B[0;31mKeyboardInterrupt\u001B[0m                         Traceback (most recent call last)",
      "Cell \u001B[0;32mIn[6], line 13\u001B[0m\n\u001B[1;32m     11\u001B[0m MAX_PILE_RESULTS\u001B[38;5;241m.\u001B[39mappend(test_agent(misereAgent1, normalAgent1, misere, initial_piles))\n\u001B[1;32m     12\u001B[0m MAX_PILE_RESULTS\u001B[38;5;241m.\u001B[39mappend(test_agent(misereAgent2, normalAgent2, misere, initial_piles))\n\u001B[0;32m---> 13\u001B[0m MAX_PILE_RESULTS\u001B[38;5;241m.\u001B[39mappend(\u001B[43mtest_agent\u001B[49m\u001B[43m(\u001B[49m\u001B[43mmisereAgent3a\u001B[49m\u001B[43m,\u001B[49m\u001B[43m \u001B[49m\u001B[43mnormalAgent3a\u001B[49m\u001B[43m,\u001B[49m\u001B[43m \u001B[49m\u001B[43mmisere\u001B[49m\u001B[43m,\u001B[49m\u001B[43m \u001B[49m\u001B[43minitial_piles\u001B[49m\u001B[43m)\u001B[49m)\n\u001B[1;32m     14\u001B[0m MAX_PILE_RESULTS\u001B[38;5;241m.\u001B[39mappend(test_agent(misereAgent3b, normalAgent3b, misere, initial_piles))\n",
      "Cell \u001B[0;32mIn[4], line 14\u001B[0m, in \u001B[0;36mtest_agent\u001B[0;34m(_misereAgent, _normalAgent, _misere, _initial_piles)\u001B[0m\n\u001B[1;32m      7\u001B[0m game \u001B[38;5;241m=\u001B[39m Nim(\n\u001B[1;32m      8\u001B[0m     initial_piles\u001B[38;5;241m=\u001B[39m_initial_piles[i],\n\u001B[1;32m      9\u001B[0m     misere\u001B[38;5;241m=\u001B[39m_misere[i]\n\u001B[1;32m     10\u001B[0m )\n\u001B[1;32m     12\u001B[0m agent \u001B[38;5;241m=\u001B[39m _misereAgent \u001B[38;5;28;01mif\u001B[39;00m _misere[i] \u001B[38;5;28;01melse\u001B[39;00m _normalAgent\n\u001B[0;32m---> 14\u001B[0m winner \u001B[38;5;241m=\u001B[39m \u001B[43mgame\u001B[49m\u001B[38;5;241;43m.\u001B[39;49m\u001B[43mplay\u001B[49m\u001B[43m(\u001B[49m\n\u001B[1;32m     15\u001B[0m \u001B[43m    \u001B[49m\u001B[43mplayer1\u001B[49m\u001B[38;5;241;43m=\u001B[39;49m\u001B[43magent\u001B[49m\u001B[43m,\u001B[49m\n\u001B[1;32m     16\u001B[0m \u001B[43m    \u001B[49m\u001B[43mplayer2\u001B[49m\u001B[38;5;241;43m=\u001B[39;49m\u001B[43magent\u001B[49m\u001B[43m,\u001B[49m\n\u001B[1;32m     17\u001B[0m \u001B[43m    \u001B[49m\u001B[43mverbose\u001B[49m\u001B[38;5;241;43m=\u001B[39;49m\u001B[38;5;28;43;01mFalse\u001B[39;49;00m\n\u001B[1;32m     18\u001B[0m \u001B[43m\u001B[49m\u001B[43m)\u001B[49m\n\u001B[1;32m     20\u001B[0m \u001B[38;5;28;01massert\u001B[39;00m winner \u001B[38;5;241m==\u001B[39m NimLogic\u001B[38;5;241m.\u001B[39mis_p_position(_initial_piles[i], _misere[i])\n\u001B[1;32m     22\u001B[0m agent\u001B[38;5;241m.\u001B[39mcompute_mean_nodes()\n",
      "File \u001B[0;32m~/PycharmProjects/reinforcement_learning_nim/Nim/Nim.py:45\u001B[0m, in \u001B[0;36mNim.play\u001B[0;34m(self, player1, player2, verbose)\u001B[0m\n\u001B[1;32m     42\u001B[0m current_player \u001B[38;5;241m=\u001B[39m \u001B[38;5;28mself\u001B[39m\u001B[38;5;241m.\u001B[39mplayer\n\u001B[1;32m     43\u001B[0m current_agent \u001B[38;5;241m=\u001B[39m players[current_player]\n\u001B[0;32m---> 45\u001B[0m pile, count \u001B[38;5;241m=\u001B[39m \u001B[43mcurrent_agent\u001B[49m\u001B[38;5;241;43m.\u001B[39;49m\u001B[43mchoose_action\u001B[49m\u001B[43m(\u001B[49m\u001B[38;5;28;43mself\u001B[39;49m\u001B[38;5;241;43m.\u001B[39;49m\u001B[43mpiles\u001B[49m\u001B[43m)\u001B[49m\n\u001B[1;32m     47\u001B[0m \u001B[38;5;28;01mif\u001B[39;00m verbose:\n\u001B[1;32m     48\u001B[0m     \u001B[38;5;28mprint\u001B[39m(\u001B[38;5;124mf\u001B[39m\u001B[38;5;124m\"\u001B[39m\u001B[38;5;124mPlayer \u001B[39m\u001B[38;5;132;01m{\u001B[39;00m\u001B[38;5;28mint\u001B[39m(current_player)\u001B[38;5;250m \u001B[39m\u001B[38;5;241m+\u001B[39m\u001B[38;5;250m \u001B[39m\u001B[38;5;241m1\u001B[39m\u001B[38;5;132;01m}\u001B[39;00m\u001B[38;5;124m (\u001B[39m\u001B[38;5;132;01m{\u001B[39;00mcurrent_agent\u001B[38;5;241m.\u001B[39mname\u001B[38;5;132;01m}\u001B[39;00m\u001B[38;5;124m) takes \u001B[39m\u001B[38;5;132;01m{\u001B[39;00mcount\u001B[38;5;132;01m}\u001B[39;00m\u001B[38;5;124m from pile \u001B[39m\u001B[38;5;132;01m{\u001B[39;00mpile\u001B[38;5;132;01m}\u001B[39;00m\u001B[38;5;124m\"\u001B[39m)\n",
      "File \u001B[0;32m~/PycharmProjects/reinforcement_learning_nim/Agents/Minimax/MinimaxAgentV3.py:32\u001B[0m, in \u001B[0;36mMinimaxAgentV3.choose_action\u001B[0;34m(self, state)\u001B[0m\n\u001B[1;32m     29\u001B[0m \u001B[38;5;28;01mdef\u001B[39;00m\u001B[38;5;250m \u001B[39m\u001B[38;5;21mchoose_action\u001B[39m(\u001B[38;5;28mself\u001B[39m, state):\n\u001B[1;32m     30\u001B[0m     \u001B[38;5;28mself\u001B[39m\u001B[38;5;241m.\u001B[39mmoves_count \u001B[38;5;241m+\u001B[39m\u001B[38;5;241m=\u001B[39m \u001B[38;5;241m1\u001B[39m\n\u001B[0;32m---> 32\u001B[0m     _, best_action \u001B[38;5;241m=\u001B[39m \u001B[38;5;28;43mself\u001B[39;49m\u001B[38;5;241;43m.\u001B[39;49m\u001B[43m_minimax\u001B[49m\u001B[43m(\u001B[49m\u001B[43mstate\u001B[49m\u001B[43m,\u001B[49m\u001B[43m \u001B[49m\u001B[38;5;241;43m0\u001B[39;49m\u001B[43m,\u001B[49m\u001B[43m \u001B[49m\u001B[38;5;28;43mfloat\u001B[39;49m\u001B[43m(\u001B[49m\u001B[38;5;124;43m'\u001B[39;49m\u001B[38;5;124;43m-inf\u001B[39;49m\u001B[38;5;124;43m'\u001B[39;49m\u001B[43m)\u001B[49m\u001B[43m,\u001B[49m\u001B[43m \u001B[49m\u001B[38;5;28;43mfloat\u001B[39;49m\u001B[43m(\u001B[49m\u001B[38;5;124;43m'\u001B[39;49m\u001B[38;5;124;43minf\u001B[39;49m\u001B[38;5;124;43m'\u001B[39;49m\u001B[43m)\u001B[49m\u001B[43m,\u001B[49m\u001B[43m \u001B[49m\u001B[38;5;241;43m0\u001B[39;49m\u001B[43m)\u001B[49m\n\u001B[1;32m     34\u001B[0m     \u001B[38;5;28mself\u001B[39m\u001B[38;5;241m.\u001B[39mmean_nodes \u001B[38;5;241m=\u001B[39m \u001B[38;5;28mself\u001B[39m\u001B[38;5;241m.\u001B[39mnodes_explored \u001B[38;5;241m/\u001B[39m \u001B[38;5;28mself\u001B[39m\u001B[38;5;241m.\u001B[39mmoves_count\n\u001B[1;32m     36\u001B[0m     \u001B[38;5;28;01mreturn\u001B[39;00m best_action\n",
      "File \u001B[0;32m~/PycharmProjects/reinforcement_learning_nim/Agents/Minimax/MinimaxAgentV3.py:63\u001B[0m, in \u001B[0;36mMinimaxAgentV3._minimax\u001B[0;34m(self, state, player, alpha, beta, depth)\u001B[0m\n\u001B[1;32m     60\u001B[0m \u001B[38;5;28;01mif\u001B[39;00m NimLogic\u001B[38;5;241m.\u001B[39mis_p_position(new_state, \u001B[38;5;28mself\u001B[39m\u001B[38;5;241m.\u001B[39mmisere):\n\u001B[1;32m     61\u001B[0m     \u001B[38;5;28;01mreturn\u001B[39;00m (\u001B[38;5;28mself\u001B[39m\u001B[38;5;241m.\u001B[39mdefault \u001B[38;5;241m-\u001B[39m depth), action\n\u001B[0;32m---> 63\u001B[0m new_value, _ \u001B[38;5;241m=\u001B[39m \u001B[38;5;28;43mself\u001B[39;49m\u001B[38;5;241;43m.\u001B[39;49m\u001B[43m_minimax\u001B[49m\u001B[43m(\u001B[49m\u001B[43mnew_state\u001B[49m\u001B[43m,\u001B[49m\u001B[43m \u001B[49m\u001B[38;5;241;43m1\u001B[39;49m\u001B[43m,\u001B[49m\u001B[43m \u001B[49m\u001B[43malpha\u001B[49m\u001B[43m,\u001B[49m\u001B[43m \u001B[49m\u001B[43mbeta\u001B[49m\u001B[43m,\u001B[49m\u001B[43m \u001B[49m\u001B[43mdepth\u001B[49m\u001B[43m \u001B[49m\u001B[38;5;241;43m+\u001B[39;49m\u001B[43m \u001B[49m\u001B[38;5;241;43m1\u001B[39;49m\u001B[43m)\u001B[49m\n\u001B[1;32m     64\u001B[0m \u001B[38;5;28;01mif\u001B[39;00m new_value \u001B[38;5;241m>\u001B[39m value:\n\u001B[1;32m     65\u001B[0m     value \u001B[38;5;241m=\u001B[39m new_value\n",
      "File \u001B[0;32m~/PycharmProjects/reinforcement_learning_nim/Agents/Minimax/MinimaxAgentV3.py:82\u001B[0m, in \u001B[0;36mMinimaxAgentV3._minimax\u001B[0;34m(self, state, player, alpha, beta, depth)\u001B[0m\n\u001B[1;32m     79\u001B[0m \u001B[38;5;28;01mif\u001B[39;00m NimLogic\u001B[38;5;241m.\u001B[39mis_p_position(new_state, \u001B[38;5;28mself\u001B[39m\u001B[38;5;241m.\u001B[39mmisere):\n\u001B[1;32m     80\u001B[0m     \u001B[38;5;28;01mreturn\u001B[39;00m (depth \u001B[38;5;241m-\u001B[39m \u001B[38;5;28mself\u001B[39m\u001B[38;5;241m.\u001B[39mdefault), action\n\u001B[0;32m---> 82\u001B[0m new_value, _ \u001B[38;5;241m=\u001B[39m \u001B[38;5;28;43mself\u001B[39;49m\u001B[38;5;241;43m.\u001B[39;49m\u001B[43m_minimax\u001B[49m\u001B[43m(\u001B[49m\u001B[43mnew_state\u001B[49m\u001B[43m,\u001B[49m\u001B[43m \u001B[49m\u001B[38;5;241;43m0\u001B[39;49m\u001B[43m,\u001B[49m\u001B[43m \u001B[49m\u001B[43malpha\u001B[49m\u001B[43m,\u001B[49m\u001B[43m \u001B[49m\u001B[43mbeta\u001B[49m\u001B[43m,\u001B[49m\u001B[43m \u001B[49m\u001B[43mdepth\u001B[49m\u001B[43m \u001B[49m\u001B[38;5;241;43m+\u001B[39;49m\u001B[43m \u001B[49m\u001B[38;5;241;43m1\u001B[39;49m\u001B[43m)\u001B[49m\n\u001B[1;32m     83\u001B[0m \u001B[38;5;28;01mif\u001B[39;00m new_value \u001B[38;5;241m<\u001B[39m value:\n\u001B[1;32m     84\u001B[0m     value \u001B[38;5;241m=\u001B[39m new_value\n",
      "File \u001B[0;32m~/PycharmProjects/reinforcement_learning_nim/Agents/Minimax/MinimaxAgentV3.py:46\u001B[0m, in \u001B[0;36mMinimaxAgentV3._minimax\u001B[0;34m(self, state, player, alpha, beta, depth)\u001B[0m\n\u001B[1;32m     43\u001B[0m     \u001B[38;5;28;01mreturn\u001B[39;00m sign \u001B[38;5;241m*\u001B[39m (\u001B[38;5;28mself\u001B[39m\u001B[38;5;241m.\u001B[39mdefault \u001B[38;5;241m-\u001B[39m depth), \u001B[38;5;28;01mNone\u001B[39;00m\n\u001B[1;32m     45\u001B[0m \u001B[38;5;28;01mif\u001B[39;00m \u001B[38;5;28mself\u001B[39m\u001B[38;5;241m.\u001B[39mmax_depth \u001B[38;5;129;01mis\u001B[39;00m \u001B[38;5;129;01mnot\u001B[39;00m \u001B[38;5;28;01mNone\u001B[39;00m \u001B[38;5;129;01mand\u001B[39;00m depth \u001B[38;5;241m>\u001B[39m\u001B[38;5;241m=\u001B[39m \u001B[38;5;28mself\u001B[39m\u001B[38;5;241m.\u001B[39mmax_depth:\n\u001B[0;32m---> 46\u001B[0m     heuristic_score \u001B[38;5;241m=\u001B[39m \u001B[43mNimLogic\u001B[49m\u001B[38;5;241;43m.\u001B[39;49m\u001B[43mheuristic_evaluation\u001B[49m\u001B[43m(\u001B[49m\u001B[43mstate\u001B[49m\u001B[43m,\u001B[49m\u001B[43m \u001B[49m\u001B[43mplayer\u001B[49m\u001B[43m,\u001B[49m\u001B[43m \u001B[49m\u001B[38;5;28;43mself\u001B[39;49m\u001B[38;5;241;43m.\u001B[39;49m\u001B[43mmisere\u001B[49m\u001B[43m)\u001B[49m\n\u001B[1;32m     47\u001B[0m     \u001B[38;5;28;01mreturn\u001B[39;00m heuristic_score, \u001B[38;5;28;01mNone\u001B[39;00m\n\u001B[1;32m     49\u001B[0m actions \u001B[38;5;241m=\u001B[39m NimLogic\u001B[38;5;241m.\u001B[39mavailable_actions(state)\n",
      "File \u001B[0;32m~/PycharmProjects/reinforcement_learning_nim/Nim/NimLogic.py:31\u001B[0m, in \u001B[0;36mNimLogic.heuristic_evaluation\u001B[0;34m(state, player, misere)\u001B[0m\n\u001B[1;32m     28\u001B[0m \u001B[38;5;129m@staticmethod\u001B[39m\n\u001B[1;32m     29\u001B[0m \u001B[38;5;28;01mdef\u001B[39;00m\u001B[38;5;250m \u001B[39m\u001B[38;5;21mheuristic_evaluation\u001B[39m(state, player, misere):\n\u001B[1;32m     30\u001B[0m     one_piles \u001B[38;5;241m=\u001B[39m \u001B[38;5;28msum\u001B[39m(\u001B[38;5;241m1\u001B[39m \u001B[38;5;28;01mfor\u001B[39;00m pile \u001B[38;5;129;01min\u001B[39;00m state \u001B[38;5;28;01mif\u001B[39;00m pile \u001B[38;5;241m==\u001B[39m \u001B[38;5;241m1\u001B[39m)\n\u001B[0;32m---> 31\u001B[0m     greater_piles \u001B[38;5;241m=\u001B[39m \u001B[38;5;28;43msum\u001B[39;49m\u001B[43m(\u001B[49m\u001B[38;5;241;43m1\u001B[39;49m\u001B[43m \u001B[49m\u001B[38;5;28;43;01mfor\u001B[39;49;00m\u001B[43m \u001B[49m\u001B[43mpile\u001B[49m\u001B[43m \u001B[49m\u001B[38;5;129;43;01min\u001B[39;49;00m\u001B[43m \u001B[49m\u001B[43mstate\u001B[49m\u001B[43m \u001B[49m\u001B[38;5;28;43;01mif\u001B[39;49;00m\u001B[43m \u001B[49m\u001B[43mpile\u001B[49m\u001B[43m \u001B[49m\u001B[38;5;241;43m>\u001B[39;49m\u001B[43m \u001B[49m\u001B[38;5;241;43m1\u001B[39;49m\u001B[43m)\u001B[49m\n\u001B[1;32m     33\u001B[0m     \u001B[38;5;28;01mif\u001B[39;00m greater_piles \u001B[38;5;241m==\u001B[39m \u001B[38;5;241m0\u001B[39m:\n\u001B[1;32m     34\u001B[0m         \u001B[38;5;28;01mif\u001B[39;00m (one_piles \u001B[38;5;241m%\u001B[39m \u001B[38;5;241m2\u001B[39m \u001B[38;5;241m==\u001B[39m \u001B[38;5;241m0\u001B[39m \u001B[38;5;129;01mand\u001B[39;00m misere) \u001B[38;5;129;01mor\u001B[39;00m (one_piles \u001B[38;5;241m%\u001B[39m \u001B[38;5;241m2\u001B[39m \u001B[38;5;241m==\u001B[39m \u001B[38;5;241m1\u001B[39m \u001B[38;5;129;01mand\u001B[39;00m \u001B[38;5;129;01mnot\u001B[39;00m misere):\n",
      "File \u001B[0;32m~/PycharmProjects/reinforcement_learning_nim/Nim/NimLogic.py:31\u001B[0m, in \u001B[0;36m<genexpr>\u001B[0;34m(.0)\u001B[0m\n\u001B[1;32m     28\u001B[0m \u001B[38;5;129m@staticmethod\u001B[39m\n\u001B[1;32m     29\u001B[0m \u001B[38;5;28;01mdef\u001B[39;00m\u001B[38;5;250m \u001B[39m\u001B[38;5;21mheuristic_evaluation\u001B[39m(state, player, misere):\n\u001B[1;32m     30\u001B[0m     one_piles \u001B[38;5;241m=\u001B[39m \u001B[38;5;28msum\u001B[39m(\u001B[38;5;241m1\u001B[39m \u001B[38;5;28;01mfor\u001B[39;00m pile \u001B[38;5;129;01min\u001B[39;00m state \u001B[38;5;28;01mif\u001B[39;00m pile \u001B[38;5;241m==\u001B[39m \u001B[38;5;241m1\u001B[39m)\n\u001B[0;32m---> 31\u001B[0m     greater_piles \u001B[38;5;241m=\u001B[39m \u001B[38;5;28msum\u001B[39m(\u001B[38;5;241m1\u001B[39m \u001B[38;5;28;01mfor\u001B[39;00m pile \u001B[38;5;129;01min\u001B[39;00m state \u001B[38;5;28;01mif\u001B[39;00m pile \u001B[38;5;241m>\u001B[39m \u001B[38;5;241m1\u001B[39m)\n\u001B[1;32m     33\u001B[0m     \u001B[38;5;28;01mif\u001B[39;00m greater_piles \u001B[38;5;241m==\u001B[39m \u001B[38;5;241m0\u001B[39m:\n\u001B[1;32m     34\u001B[0m         \u001B[38;5;28;01mif\u001B[39;00m (one_piles \u001B[38;5;241m%\u001B[39m \u001B[38;5;241m2\u001B[39m \u001B[38;5;241m==\u001B[39m \u001B[38;5;241m0\u001B[39m \u001B[38;5;129;01mand\u001B[39;00m misere) \u001B[38;5;129;01mor\u001B[39;00m (one_piles \u001B[38;5;241m%\u001B[39m \u001B[38;5;241m2\u001B[39m \u001B[38;5;241m==\u001B[39m \u001B[38;5;241m1\u001B[39m \u001B[38;5;129;01mand\u001B[39;00m \u001B[38;5;129;01mnot\u001B[39;00m misere):\n",
      "\u001B[0;31mKeyboardInterrupt\u001B[0m: "
     ]
    }
   ],
   "execution_count": 6
  },
  {
   "metadata": {},
   "cell_type": "markdown",
   "source": "# Random Game All Agent Test - Pile Count\n",
   "id": "f14a22549905d597"
  },
  {
   "metadata": {},
   "cell_type": "code",
   "source": [
    "PILE_COUNT_RESULTS = []\n",
    "\n",
    "for pile_count in [2, 4, 8]:\n",
    "    initial_piles = np.random.randint(1, MAX_PILE, size=(EPISODES, pile_count))\n",
    "    misere = np.random.choice([True, False], size=EPISODES)\n",
    "\n",
    "    print(\"---------------------------------------------------------------------------------\")\n",
    "    print(f\"\\tTesting with max_depth={MAX_DEPTH}, pile_count={pile_count}, max_pile={MAX_PILE}\")\n",
    "    print(\"---------------------------------------------------------------------------------\")\n",
    "\n",
    "    PILE_COUNT_RESULTS.append(test_agent(misereAgent1, normalAgent1, misere, initial_piles))\n",
    "    PILE_COUNT_RESULTS.append(test_agent(misereAgent2, normalAgent2, misere, initial_piles))\n",
    "    PILE_COUNT_RESULTS.append(test_agent(misereAgent3, normalAgent3, misere, initial_piles))"
   ],
   "id": "526eb1122aed37b3",
   "outputs": [],
   "execution_count": null
  },
  {
   "metadata": {},
   "cell_type": "markdown",
   "source": "# Random Game All Agent Test - Max Depth\n",
   "id": "586f86fb4611f87d"
  },
  {
   "metadata": {},
   "cell_type": "code",
   "source": [
    "MAX_DEPTH_RESULTS = []\n",
    "\n",
    "INITIAL_PILES = np.random.randint(1, MAX_PILE, size=(EPISODES, PILE_COUNT))\n",
    "MISERE = np.random.choice([True, False], size=EPISODES)\n",
    "\n",
    "for max_depth in [1, 2, 3]:\n",
    "    _misereAgent1 = MinimaxAgentV1(misere=True, max_depth=max_depth)\n",
    "    _misereAgent2 = MinimaxAgentV2(misere=True, max_depth=max_depth)\n",
    "    _misereAgent3 = MinimaxAgentV3(misere=True, max_depth=max_depth)\n",
    "\n",
    "    _normalAgent1 = MinimaxAgentV1(misere=False, max_depth=max_depth)\n",
    "    _normalAgent2 = MinimaxAgentV2(misere=False, max_depth=max_depth)\n",
    "    _normalAgent3 = MinimaxAgentV3(misere=False, max_depth=max_depth)\n",
    "\n",
    "    print(\"---------------------------------------------------------------------------------\")\n",
    "    print(f\"\\tTesting with max_depth={max_depth}, pile_count={PILE_COUNT}, max_pile={MAX_PILE}\")\n",
    "    print(\"---------------------------------------------------------------------------------\")\n",
    "\n",
    "    MAX_DEPTH_RESULTS.append(test_agent(_misereAgent1, _normalAgent1, MISERE, INITIAL_PILES))\n",
    "    MAX_DEPTH_RESULTS.append(test_agent(_misereAgent2, _normalAgent2, MISERE, INITIAL_PILES))\n",
    "    MAX_DEPTH_RESULTS.append(test_agent(_misereAgent3, _normalAgent3, MISERE, INITIAL_PILES))"
   ],
   "id": "9c8ce5b45cea5ed3",
   "outputs": [],
   "execution_count": null
  },
  {
   "metadata": {},
   "cell_type": "markdown",
   "source": "# Plotting results",
   "id": "a690d1c8136d9dcb"
  },
  {
   "metadata": {},
   "cell_type": "code",
   "source": [
    "MAX_PILE_RESULTS = np.array(MAX_PILE_RESULTS).reshape(3, 4, 4)\n",
    "PILE_COUNT_RESULTS = np.array(PILE_COUNT_RESULTS).reshape(3, 4, 4)\n",
    "MAX_DEPTH_RESULTS = np.array(MAX_DEPTH_RESULTS).reshape(3, 4, 4)\n",
    "\n",
    "colors = ['#4B0082', '#4169E1', '#9370DB', '#8A2BE2']\n",
    "models = ['Minimax V1', 'Minimax V2', 'Minimax V3a', 'Minimax V3b']\n",
    "metrics = ['Unweighted Avg Nodes/Move', 'Weighted Avg Nodes/Move',\n",
    "           'Avg Nodes/Game', 'Avg Moves/Game']\n",
    "\n",
    "x_values = {\n",
    "    'max_pile': [63, 127, 255],\n",
    "    'pile_count': [2, 4, 8],\n",
    "    'max_depth': [1, 2, 3]\n",
    "}\n",
    "\n",
    "def plot_results(results, x_label, x_vals):\n",
    "    fig, axes = plt.subplots(2, 2, figsize=(15, 12))\n",
    "    axes = axes.ravel()\n",
    "\n",
    "    for metric_idx in range(4):\n",
    "        ax = axes[metric_idx]\n",
    "        for model_idx in range(4):\n",
    "            ax.plot(x_vals, results[:, model_idx, metric_idx],\n",
    "                    color=colors[model_idx], marker='o', label=models[model_idx])\n",
    "\n",
    "        ax.set_xlabel(x_label)\n",
    "        ax.set_ylabel(metrics[metric_idx])\n",
    "        ax.grid(True, alpha=0.3)\n",
    "        if metric_idx == 0:\n",
    "            ax.legend()\n",
    "\n",
    "    plt.tight_layout()\n",
    "    plt.show()"
   ],
   "id": "8d58bed70f9f7ce0",
   "outputs": [],
   "execution_count": null
  },
  {
   "metadata": {},
   "cell_type": "code",
   "source": [
    "plot_results(MAX_PILE_RESULTS, 'Max Pile Size', x_values['max_pile'])\n",
    "plot_results(PILE_COUNT_RESULTS, 'Pile Count', x_values['pile_count'])\n",
    "plot_results(MAX_DEPTH_RESULTS, 'Max Depth', x_values['max_depth'])"
   ],
   "id": "39403c5442a69651",
   "outputs": [],
   "execution_count": null
  }
 ],
 "metadata": {
  "kernelspec": {
   "display_name": "Python 3",
   "language": "python",
   "name": "python3"
  },
  "language_info": {
   "codemirror_mode": {
    "name": "ipython",
    "version": 2
   },
   "file_extension": ".py",
   "mimetype": "text/x-python",
   "name": "python",
   "nbconvert_exporter": "python",
   "pygments_lexer": "ipython2",
   "version": "2.7.6"
  }
 },
 "nbformat": 4,
 "nbformat_minor": 5
}
