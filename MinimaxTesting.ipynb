{
 "cells": [
  {
   "metadata": {},
   "cell_type": "markdown",
   "source": "# Imports",
   "id": "7b4c3b0961ac3b1e"
  },
  {
   "metadata": {
    "ExecuteTime": {
     "end_time": "2025-04-28T12:31:38.183472Z",
     "start_time": "2025-04-28T12:31:37.985007Z"
    }
   },
   "cell_type": "code",
   "source": [
    "import os\n",
    "import numpy as np\n",
    "\n",
    "from tqdm import tqdm\n",
    "\n",
    "import matplotlib.pyplot as plt"
   ],
   "id": "f80b91b841340426",
   "outputs": [],
   "execution_count": 3
  },
  {
   "cell_type": "code",
   "id": "initial_id",
   "metadata": {
    "collapsed": true,
    "ExecuteTime": {
     "end_time": "2025-04-28T12:31:40.249192Z",
     "start_time": "2025-04-28T12:31:40.236913Z"
    }
   },
   "source": [
    "from Nim.Nim import Nim\n",
    "from Nim.NimLogic import NimLogic\n",
    "\n",
    "from Agents.Minimax.MinimaxAgentV1 import MinimaxAgentV1\n",
    "from Agents.Minimax.MinimaxAgentV2 import MinimaxAgentV2\n",
    "from Agents.Minimax.MinimaxAgentV3 import MinimaxAgentV3"
   ],
   "outputs": [],
   "execution_count": 4
  },
  {
   "metadata": {},
   "cell_type": "markdown",
   "source": "# Constants",
   "id": "6469a4493d07d6a7"
  },
  {
   "metadata": {
    "ExecuteTime": {
     "end_time": "2025-04-28T12:31:40.496793Z",
     "start_time": "2025-04-28T12:31:40.474648Z"
    }
   },
   "cell_type": "code",
   "source": [
    "# Random seed for reproducibility\n",
    "np.random.seed(42)\n",
    "\n",
    "# Training parameters\n",
    "EPISODES = 10000\n",
    "\n",
    "# Game parameters\n",
    "PILE_COUNT = 4\n",
    "MAX_PILE = 127"
   ],
   "id": "2734ef9cdbee5047",
   "outputs": [],
   "execution_count": 5
  },
  {
   "metadata": {},
   "cell_type": "markdown",
   "source": "# Agent Testing Function",
   "id": "38122e9bb8d5c6dd"
  },
  {
   "metadata": {
    "ExecuteTime": {
     "end_time": "2025-04-28T12:31:40.710687Z",
     "start_time": "2025-04-28T12:31:40.706422Z"
    }
   },
   "cell_type": "code",
   "source": [
    "def test_agent(_misereAgent, _normalAgent, _misere, _initial_piles):\n",
    "    explored_nodes = np.ndarray(EPISODES)\n",
    "    moves_count = np.ndarray(EPISODES)\n",
    "    mean_nodes = np.ndarray(EPISODES)\n",
    "\n",
    "    for i in tqdm(range(EPISODES)):\n",
    "        game = Nim(\n",
    "            initial_piles=_initial_piles[i],\n",
    "            misere=_misere[i]\n",
    "        )\n",
    "\n",
    "        agent = _misereAgent if _misere[i] else _normalAgent\n",
    "\n",
    "        winner = game.play(\n",
    "            player1=agent,\n",
    "            player2=agent,\n",
    "            verbose=False\n",
    "        )\n",
    "\n",
    "        assert winner == NimLogic.is_p_position(_initial_piles[i], _misere[i])\n",
    "\n",
    "        agent.compute_mean_nodes()\n",
    "\n",
    "        mean_nodes[i] = agent.mean_nodes\n",
    "        moves_count[i] = agent.moves_count\n",
    "        explored_nodes[i] = agent.nodes_explored\n",
    "\n",
    "    weighted_mean_nodes = explored_nodes.sum() / moves_count.sum()\n",
    "    unweighted_mean_nodes = mean_nodes.mean()\n",
    "\n",
    "    avg_explored_nodes = explored_nodes.mean()\n",
    "    avg_moves_count = moves_count.mean()\n",
    "\n",
    "    values = [unweighted_mean_nodes, weighted_mean_nodes, avg_explored_nodes, avg_moves_count]\n",
    "\n",
    "    labels = [\n",
    "        \"unweighted average explored nodes per move:\",\n",
    "        \"weighted average explored nodes per move:\",\n",
    "        \"average explored nodes per game:\",\n",
    "        \"average moves per game:\"\n",
    "    ]\n",
    "\n",
    "    label_width = max(len(lbl) for lbl in labels)\n",
    "\n",
    "    for lbl, val in zip(labels, values):\n",
    "        print(f\"{lbl:<{label_width}} {val:>10.2f}\")\n",
    "\n",
    "    return explored_nodes, moves_count, mean_nodes"
   ],
   "id": "b1cb07b39efc962a",
   "outputs": [],
   "execution_count": 6
  },
  {
   "metadata": {},
   "cell_type": "markdown",
   "source": "# Random Game All Agent Test",
   "id": "6a93f6ab20402a72"
  },
  {
   "metadata": {},
   "cell_type": "code",
   "source": [
    "def run_tests(agent_v1, agent_v2, agent_v3, normal_v1, normal_v2, normal_v3, max_depth, pile_count, max_pile, episodes, save_path_prefix):\n",
    "    initial_piles = np.random.randint(1, max_pile, size=(episodes, pile_count))\n",
    "    misere_modes = np.random.choice([True, False], size=episodes)\n",
    "\n",
    "    print(\"-\" * 60)\n",
    "    print(f\"\\tTestare cu max_depth={max_depth}, pile_count={pile_count}, max_pile={max_pile}\")\n",
    "    print(\"-\" * 60)\n",
    "\n",
    "    results = {\n",
    "        'v1': test_agent(agent_v1, normal_v1, misere_modes, initial_piles),\n",
    "        'v2': test_agent(agent_v2, normal_v2, misere_modes, initial_piles),\n",
    "        'v3': test_agent(agent_v3, normal_v3, misere_modes, initial_piles),\n",
    "    }\n",
    "\n",
    "    for version, result in results.items():\n",
    "        filename = f\"{save_path_prefix}/minimax-{version}-{max_depth}-{pile_count}-{max_pile}.npz\"\n",
    "        np.savez(filename, result)"
   ],
   "id": "d0d9196a22cda50f",
   "outputs": [],
   "execution_count": null
  },
  {
   "metadata": {},
   "cell_type": "code",
   "source": [
    "os.makedirs(\"savedData/Minimax\", exist_ok=True)\n",
    "\n",
    "for max_depth in [1, 2]:\n",
    "    misere_agents = [\n",
    "        MinimaxAgentV1(misere=True, max_depth=max_depth),\n",
    "        MinimaxAgentV2(misere=True, max_depth=max_depth),\n",
    "        MinimaxAgentV3(misere=True, max_depth=max_depth)\n",
    "    ]\n",
    "\n",
    "    normal_agents = [\n",
    "        MinimaxAgentV1(misere=False, max_depth=max_depth),\n",
    "        MinimaxAgentV2(misere=False, max_depth=max_depth),\n",
    "        MinimaxAgentV3(misere=False, max_depth=max_depth)\n",
    "    ]\n",
    "\n",
    "    for pile_count in [2, 4, 8]:\n",
    "        run_tests(*misere_agents, *normal_agents, max_depth, pile_count, MAX_PILE, EPISODES, \"savedData/Minimax\")\n",
    "\n",
    "    for max_pile in [63, 255]:\n",
    "        run_tests(*misere_agents, *normal_agents, max_depth, PILE_COUNT, max_pile, EPISODES, \"savedData/Minimax\")"
   ],
   "id": "962a2de125248f9b",
   "outputs": [],
   "execution_count": null
  },
  {
   "metadata": {},
   "cell_type": "markdown",
   "source": "# Plotting results",
   "id": "a690d1c8136d9dcb"
  },
  {
   "metadata": {
    "ExecuteTime": {
     "end_time": "2025-04-28T12:53:41.687074Z",
     "start_time": "2025-04-28T12:53:41.681823Z"
    }
   },
   "cell_type": "code",
   "source": [
    "def plot_results(vary_parameter, vary_values, fixed_pile_count, fixed_max_pile, folder=\"savedData/Minimax\", save_folder=\"savedPlots/Minimax\"):\n",
    "    os.makedirs(save_folder, exist_ok=True)\n",
    "\n",
    "    models = ['v1', 'v2', 'v3']\n",
    "    model_names = ['Minimax V1', 'Minimax V2', 'Minimax V3']\n",
    "    colors = ['#4B0082', '#4169E1', '#9370DB']\n",
    "    metric_labels = [\n",
    "        'Unweighted Avg Nodes/Move',\n",
    "        'Weighted Avg Nodes/Move',\n",
    "        'Avg Nodes/Game',\n",
    "        'Avg Moves/Game'\n",
    "    ]\n",
    "\n",
    "    for max_depth in [1, 2]:\n",
    "        fig, axes = plt.subplots(2, 2, figsize=(10, 7), facecolor='white', sharex=True)\n",
    "        axes = axes.ravel()\n",
    "\n",
    "        all_metrics = {model: {i: [] for i in range(4)} for model in models}\n",
    "\n",
    "        for vary_value in vary_values:\n",
    "            for model in models:\n",
    "                pile_count = vary_value if vary_parameter == \"pile_count\" else fixed_pile_count\n",
    "                max_pile = fixed_max_pile if vary_parameter == \"pile_count\" else vary_value\n",
    "\n",
    "                filename = f\"{folder}/minimax-{model}-{max_depth}-{pile_count}-{max_pile}.npz\"\n",
    "                if not os.path.exists(filename):\n",
    "                    print(f\"⚠️ Lipsă fișier: {filename}\")\n",
    "                    for i in range(4):\n",
    "                        all_metrics[model][i].append(np.nan)\n",
    "                    continue\n",
    "\n",
    "                data = np.load(filename)\n",
    "                test_data = data.get('arr_0')\n",
    "                explored_nodes, moves_count, mean_nodes = test_data\n",
    "\n",
    "                metrics_values = [\n",
    "                    mean_nodes.mean(),\n",
    "                    explored_nodes.sum() / moves_count.sum(),\n",
    "                    explored_nodes.mean(),\n",
    "                    moves_count.mean()\n",
    "                ]\n",
    "\n",
    "                for i in range(4):\n",
    "                    all_metrics[model][i].append(metrics_values[i])\n",
    "\n",
    "        for metric_idx, ax in enumerate(axes):\n",
    "            for model_idx, model in enumerate(models):\n",
    "                ax.plot(\n",
    "                    vary_values,\n",
    "                    all_metrics[model][metric_idx],\n",
    "                    color=colors[model_idx],\n",
    "                    marker='o',\n",
    "                    alpha=0.5,\n",
    "                    label=model_names[model_idx]\n",
    "                )\n",
    "            ax.set_ylabel(metric_labels[metric_idx], fontsize=16)\n",
    "            ax.set_xlabel(vary_parameter.upper(), fontsize=16)\n",
    "            ax.grid(True, alpha=0.3)\n",
    "            if metric_idx == 0:\n",
    "                ax.legend()\n",
    "\n",
    "        fig.suptitle(f\"Variation over {vary_parameter} with search depth of {max_depth}\", fontsize=16)\n",
    "\n",
    "        plt.tight_layout(rect=[0, 0, 1, 0.99])\n",
    "\n",
    "        save_path = os.path.join(save_folder, f\"variation_{vary_parameter}_depth_{max_depth}.png\")\n",
    "        plt.savefig(save_path, facecolor='white')\n",
    "        plt.close()\n"
   ],
   "id": "8d58bed70f9f7ce0",
   "outputs": [],
   "execution_count": 63
  },
  {
   "metadata": {
    "ExecuteTime": {
     "end_time": "2025-04-28T12:53:42.515763Z",
     "start_time": "2025-04-28T12:53:41.958548Z"
    }
   },
   "cell_type": "code",
   "source": [
    "plot_results(vary_parameter=\"pile_count\", vary_values=[2, 4, 8], fixed_pile_count=4, fixed_max_pile=127)\n",
    "plot_results(vary_parameter=\"max_pile\", vary_values=[63, 127, 255], fixed_pile_count=4, fixed_max_pile=127)"
   ],
   "id": "39403c5442a69651",
   "outputs": [],
   "execution_count": 64
  },
  {
   "metadata": {},
   "cell_type": "code",
   "source": "",
   "id": "901034453bebf9ca",
   "outputs": [],
   "execution_count": null
  }
 ],
 "metadata": {
  "kernelspec": {
   "display_name": "Python 3",
   "language": "python",
   "name": "python3"
  },
  "language_info": {
   "codemirror_mode": {
    "name": "ipython",
    "version": 2
   },
   "file_extension": ".py",
   "mimetype": "text/x-python",
   "name": "python",
   "nbconvert_exporter": "python",
   "pygments_lexer": "ipython2",
   "version": "2.7.6"
  }
 },
 "nbformat": 4,
 "nbformat_minor": 5
}
