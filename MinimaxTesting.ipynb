{
 "cells": [
  {
   "metadata": {},
   "cell_type": "markdown",
   "source": "# Imports",
   "id": "7b4c3b0961ac3b1e"
  },
  {
   "metadata": {},
   "cell_type": "code",
   "source": [
    "import numpy as np\n",
    "\n",
    "from tqdm import tqdm\n",
    "\n",
    "import matplotlib.pyplot as plt"
   ],
   "id": "f80b91b841340426",
   "outputs": [],
   "execution_count": null
  },
  {
   "cell_type": "code",
   "id": "initial_id",
   "metadata": {
    "collapsed": true
   },
   "source": [
    "from Nim.Nim import Nim\n",
    "from Nim.NimLogic import NimLogic\n",
    "\n",
    "from Agents.Minimax.MinimaxAgentV1 import MinimaxAgentV1\n",
    "from Agents.Minimax.MinimaxAgentV2 import MinimaxAgentV2\n",
    "from Agents.Minimax.MinimaxAgentV3 import MinimaxAgentV3"
   ],
   "outputs": [],
   "execution_count": null
  },
  {
   "metadata": {},
   "cell_type": "markdown",
   "source": "# Constants",
   "id": "6469a4493d07d6a7"
  },
  {
   "metadata": {},
   "cell_type": "code",
   "source": [
    "# Random seed for reproducibility\n",
    "np.random.seed(42)\n",
    "\n",
    "# Test parameters\n",
    "EPISODES = 10000\n",
    "\n",
    "# Game parameters\n",
    "PILE_COUNT = 2\n",
    "MAX_PILE = 63\n",
    "\n",
    "# Minimax parameters\n",
    "MAX_DEPTH = 1"
   ],
   "id": "2734ef9cdbee5047",
   "outputs": [],
   "execution_count": null
  },
  {
   "metadata": {},
   "cell_type": "markdown",
   "source": "# Agent Testing Function",
   "id": "38122e9bb8d5c6dd"
  },
  {
   "metadata": {},
   "cell_type": "code",
   "source": [
    "def test_agent(_misereAgent, _normalAgent, _misere, _initial_piles):\n",
    "    explored_nodes = 0\n",
    "    moves_count = 0\n",
    "    mean_nodes = 0\n",
    "\n",
    "    for i in tqdm(range(EPISODES)):\n",
    "        game = Nim(\n",
    "            initial_piles=_initial_piles[i],\n",
    "            misere=_misere[i]\n",
    "        )\n",
    "\n",
    "        agent = _misereAgent if _misere[i] else _normalAgent\n",
    "\n",
    "        winner = game.play(\n",
    "            player1=agent,\n",
    "            player2=agent,\n",
    "            verbose=False\n",
    "        )\n",
    "\n",
    "        assert winner == NimLogic.is_p_position(_initial_piles[i], _misere[i])\n",
    "\n",
    "        agent.compute_mean_nodes()\n",
    "        mean_nodes += agent.mean_nodes\n",
    "        moves_count += agent.moves_count\n",
    "        explored_nodes += agent.nodes_explored\n",
    "\n",
    "    weighted_mean_nodes = explored_nodes / moves_count\n",
    "    unweighted_mean_nodes = mean_nodes / EPISODES\n",
    "\n",
    "    explored_nodes /= EPISODES\n",
    "    moves_count /= EPISODES\n",
    "\n",
    "    values = [unweighted_mean_nodes, weighted_mean_nodes, explored_nodes, moves_count]\n",
    "\n",
    "    labels = [\n",
    "        \"unweighted average explored nodes per move:\",\n",
    "        \"weighted average explored nodes per move:\",\n",
    "        \"average explored nodes per game:\",\n",
    "        \"average moves per game:\"\n",
    "    ]\n",
    "\n",
    "    label_width = max(len(lbl) for lbl in labels)\n",
    "\n",
    "    for lbl, val in zip(labels, values):\n",
    "        print(f\"{lbl:<{label_width}} {val:>10.2f}\")\n",
    "\n",
    "    return values"
   ],
   "id": "b1cb07b39efc962a",
   "outputs": [],
   "execution_count": null
  },
  {
   "metadata": {},
   "cell_type": "markdown",
   "source": "# Agent Initialization For First 2 Tests",
   "id": "22b09aed2923ca50"
  },
  {
   "metadata": {},
   "cell_type": "code",
   "source": [
    "misereAgent1 = MinimaxAgentV1(misere=True, max_depth=MAX_DEPTH)\n",
    "misereAgent2 = MinimaxAgentV2(misere=True, max_depth=MAX_DEPTH)\n",
    "misereAgent3a = MinimaxAgentV3(misere=True, max_depth=MAX_DEPTH, reverse=True)\n",
    "misereAgent3b = MinimaxAgentV3(misere=True, max_depth=MAX_DEPTH, reverse=False)\n",
    "\n",
    "normalAgent1 = MinimaxAgentV1(misere=False, max_depth=MAX_DEPTH)\n",
    "normalAgent2 = MinimaxAgentV2(misere=False, max_depth=MAX_DEPTH)\n",
    "normalAgent3a = MinimaxAgentV3(misere=False, max_depth=MAX_DEPTH, reverse=True)\n",
    "normalAgent3b = MinimaxAgentV3(misere=False, max_depth=MAX_DEPTH, reverse=False)"
   ],
   "id": "47d4f0ed4303df58",
   "outputs": [],
   "execution_count": null
  },
  {
   "metadata": {},
   "cell_type": "markdown",
   "source": "# Random Game All Agent Test - Max Pile",
   "id": "6a93f6ab20402a72"
  },
  {
   "metadata": {},
   "cell_type": "code",
   "source": [
    "MAX_PILE_RESULTS = []\n",
    "\n",
    "for max_pile in [63, 127, 255]:\n",
    "    initial_piles = np.random.randint(1, max_pile, size=(EPISODES, PILE_COUNT))\n",
    "    misere = np.random.choice([True, False], size=EPISODES)\n",
    "\n",
    "    print(\"---------------------------------------------------------------------------------\")\n",
    "    print(f\"\\tTesting with max_depth={MAX_DEPTH}, pile_count={PILE_COUNT}, max_pile={max_pile}\")\n",
    "    print(\"---------------------------------------------------------------------------------\")\n",
    "\n",
    "    MAX_PILE_RESULTS.append(test_agent(misereAgent1, normalAgent1, misere, initial_piles))\n",
    "    MAX_PILE_RESULTS.append(test_agent(misereAgent2, normalAgent2, misere, initial_piles))\n",
    "    MAX_PILE_RESULTS.append(test_agent(misereAgent3a, normalAgent3a, misere, initial_piles))\n",
    "    MAX_PILE_RESULTS.append(test_agent(misereAgent3b, normalAgent3b, misere, initial_piles))"
   ],
   "id": "962a2de125248f9b",
   "outputs": [],
   "execution_count": null
  },
  {
   "metadata": {},
   "cell_type": "markdown",
   "source": "# Random Game All Agent Test - Pile Count\n",
   "id": "f14a22549905d597"
  },
  {
   "metadata": {},
   "cell_type": "code",
   "source": [
    "PILE_COUNT_RESULTS = []\n",
    "\n",
    "for pile_count in [2, 4, 8]:\n",
    "    initial_piles = np.random.randint(1, MAX_PILE, size=(EPISODES, pile_count))\n",
    "    misere = np.random.choice([True, False], size=EPISODES)\n",
    "\n",
    "    print(\"---------------------------------------------------------------------------------\")\n",
    "    print(f\"\\tTesting with max_depth={MAX_DEPTH}, pile_count={pile_count}, max_pile={MAX_PILE}\")\n",
    "    print(\"---------------------------------------------------------------------------------\")\n",
    "\n",
    "    PILE_COUNT_RESULTS.append(test_agent(misereAgent1, normalAgent1, misere, initial_piles))\n",
    "    PILE_COUNT_RESULTS.append(test_agent(misereAgent2, normalAgent2, misere, initial_piles))\n",
    "    PILE_COUNT_RESULTS.append(test_agent(misereAgent3a, normalAgent3a, misere, initial_piles))\n",
    "    PILE_COUNT_RESULTS.append(test_agent(misereAgent3b, normalAgent3b, misere, initial_piles))"
   ],
   "id": "526eb1122aed37b3",
   "outputs": [],
   "execution_count": null
  },
  {
   "metadata": {},
   "cell_type": "markdown",
   "source": "# Random Game All Agent Test - Max Depth\n",
   "id": "586f86fb4611f87d"
  },
  {
   "metadata": {},
   "cell_type": "code",
   "source": [
    "MAX_DEPTH_RESULTS = []\n",
    "\n",
    "INITIAL_PILES = np.random.randint(1, MAX_PILE, size=(EPISODES, PILE_COUNT))\n",
    "MISERE = np.random.choice([True, False], size=EPISODES)\n",
    "\n",
    "for max_depth in [1, 2, 3]:\n",
    "    _misereAgent1 = MinimaxAgentV1(misere=True, max_depth=max_depth)\n",
    "    _misereAgent2 = MinimaxAgentV2(misere=True, max_depth=max_depth)\n",
    "    _misereAgent3a = MinimaxAgentV3(misere=True, max_depth=max_depth, reverse=True)\n",
    "    _misereAgent3b = MinimaxAgentV3(misere=True, max_depth=max_depth, reverse=False)\n",
    "\n",
    "    _normalAgent1 = MinimaxAgentV1(misere=False, max_depth=max_depth)\n",
    "    _normalAgent2 = MinimaxAgentV2(misere=False, max_depth=max_depth)\n",
    "    _normalAgent3a = MinimaxAgentV3(misere=False, max_depth=max_depth, reverse=True)\n",
    "    _normalAgent3b = MinimaxAgentV3(misere=False, max_depth=max_depth, reverse=False)\n",
    "\n",
    "    print(\"---------------------------------------------------------------------------------\")\n",
    "    print(f\"\\tTesting with max_depth={max_depth}, pile_count={PILE_COUNT}, max_pile={MAX_PILE}\")\n",
    "    print(\"---------------------------------------------------------------------------------\")\n",
    "\n",
    "    MAX_DEPTH_RESULTS.append(test_agent(_misereAgent1, _normalAgent1, MISERE, INITIAL_PILES))\n",
    "    MAX_DEPTH_RESULTS.append(test_agent(_misereAgent2, _normalAgent2, MISERE, INITIAL_PILES))\n",
    "    MAX_DEPTH_RESULTS.append(test_agent(_misereAgent3a, _normalAgent3a, MISERE, INITIAL_PILES))\n",
    "    MAX_DEPTH_RESULTS.append(test_agent(_misereAgent3b, _normalAgent3b, MISERE, INITIAL_PILES))"
   ],
   "id": "9c8ce5b45cea5ed3",
   "outputs": [],
   "execution_count": null
  },
  {
   "metadata": {},
   "cell_type": "markdown",
   "source": "# Plotting results",
   "id": "a690d1c8136d9dcb"
  },
  {
   "metadata": {},
   "cell_type": "code",
   "source": [
    "MAX_PILE_RESULTS = np.array(MAX_PILE_RESULTS).reshape(3, 4, 4)\n",
    "PILE_COUNT_RESULTS = np.array(PILE_COUNT_RESULTS).reshape(3, 4, 4)\n",
    "MAX_DEPTH_RESULTS = np.array(MAX_DEPTH_RESULTS).reshape(3, 4, 4)\n",
    "\n",
    "colors = ['#4B0082', '#4169E1', '#9370DB', '#8A2BE2']\n",
    "models = ['Minimax V1', 'Minimax V2', 'Minimax V3a', 'Minimax V3b']\n",
    "metrics = ['Unweighted Avg Nodes/Move', 'Weighted Avg Nodes/Move',\n",
    "           'Avg Nodes/Game', 'Avg Moves/Game']\n",
    "\n",
    "x_values = {\n",
    "    'max_pile': [63, 127, 255],\n",
    "    'pile_count': [2, 4, 8],\n",
    "    'max_depth': [1, 2, 3]\n",
    "}\n",
    "\n",
    "def plot_results(results, x_label, x_vals):\n",
    "    fig, axes = plt.subplots(2, 2, figsize=(15, 12))\n",
    "    axes = axes.ravel()\n",
    "\n",
    "    for metric_idx in range(4):\n",
    "        ax = axes[metric_idx]\n",
    "        for model_idx in range(4):\n",
    "            ax.plot(x_vals, results[:, model_idx, metric_idx],\n",
    "                    color=colors[model_idx], marker='o', label=models[model_idx])\n",
    "\n",
    "        ax.set_xlabel(x_label)\n",
    "        ax.set_ylabel(metrics[metric_idx])\n",
    "        ax.grid(True, alpha=0.3)\n",
    "        if metric_idx == 0:\n",
    "            ax.legend()\n",
    "\n",
    "    plt.tight_layout()\n",
    "    plt.show()"
   ],
   "id": "8d58bed70f9f7ce0",
   "outputs": [],
   "execution_count": null
  },
  {
   "metadata": {},
   "cell_type": "code",
   "source": [
    "plot_results(MAX_PILE_RESULTS, 'Max Pile Size', x_values['max_pile'])\n",
    "plot_results(PILE_COUNT_RESULTS, 'Pile Count', x_values['pile_count'])\n",
    "plot_results(MAX_DEPTH_RESULTS, 'Max Depth', x_values['max_depth'])"
   ],
   "id": "39403c5442a69651",
   "outputs": [],
   "execution_count": null
  }
 ],
 "metadata": {
  "kernelspec": {
   "display_name": "Python 3",
   "language": "python",
   "name": "python3"
  },
  "language_info": {
   "codemirror_mode": {
    "name": "ipython",
    "version": 2
   },
   "file_extension": ".py",
   "mimetype": "text/x-python",
   "name": "python",
   "nbconvert_exporter": "python",
   "pygments_lexer": "ipython2",
   "version": "2.7.6"
  }
 },
 "nbformat": 4,
 "nbformat_minor": 5
}
