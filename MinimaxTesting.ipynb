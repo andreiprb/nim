{
 "cells": [
  {
   "metadata": {},
   "cell_type": "markdown",
   "source": "# Imports",
   "id": "7b4c3b0961ac3b1e"
  },
  {
   "metadata": {
    "ExecuteTime": {
     "end_time": "2025-05-13T19:32:57.326925Z",
     "start_time": "2025-05-13T19:32:57.134446Z"
    }
   },
   "cell_type": "code",
   "source": [
    "import os\n",
    "import numpy as np\n",
    "\n",
    "from tqdm import tqdm\n",
    "\n",
    "import matplotlib.pyplot as plt"
   ],
   "id": "f80b91b841340426",
   "outputs": [],
   "execution_count": 1
  },
  {
   "cell_type": "code",
   "id": "initial_id",
   "metadata": {
    "collapsed": true,
    "ExecuteTime": {
     "end_time": "2025-05-13T19:32:57.394336Z",
     "start_time": "2025-05-13T19:32:57.389592Z"
    }
   },
   "source": [
    "from Nim.Nim import Nim\n",
    "from Nim.NimLogic import NimLogic\n",
    "\n",
    "from Agents.Minimax.MinimaxAgentV1 import MinimaxAgentV1\n",
    "from Agents.Minimax.MinimaxAgentV2 import MinimaxAgentV2\n",
    "from Agents.Minimax.MinimaxAgentV3 import MinimaxAgentV3"
   ],
   "outputs": [],
   "execution_count": 2
  },
  {
   "metadata": {},
   "cell_type": "markdown",
   "source": "Random seed for reproducibility",
   "id": "b58a696a6f76ca45"
  },
  {
   "metadata": {
    "ExecuteTime": {
     "end_time": "2025-05-13T19:32:57.413132Z",
     "start_time": "2025-05-13T19:32:57.400085Z"
    }
   },
   "cell_type": "code",
   "source": "np.random.seed(42)",
   "id": "2734ef9cdbee5047",
   "outputs": [],
   "execution_count": 3
  },
  {
   "metadata": {},
   "cell_type": "markdown",
   "source": "# Agent Testing Function",
   "id": "38122e9bb8d5c6dd"
  },
  {
   "metadata": {
    "ExecuteTime": {
     "end_time": "2025-05-13T19:32:57.421569Z",
     "start_time": "2025-05-13T19:32:57.418961Z"
    }
   },
   "cell_type": "code",
   "source": [
    "def test_agent(_misereAgent, _normalAgent, _misere, _initial_piles):\n",
    "    explored_nodes = np.ndarray(EPISODES)\n",
    "    moves_count = np.ndarray(EPISODES)\n",
    "    mean_nodes = np.ndarray(EPISODES)\n",
    "\n",
    "    for i in tqdm(range(EPISODES)):\n",
    "        game = Nim(\n",
    "            initial_piles=_initial_piles[i],\n",
    "            misere=_misere[i]\n",
    "        )\n",
    "\n",
    "        agent = _misereAgent if _misere[i] else _normalAgent\n",
    "\n",
    "        winner = game.play(\n",
    "            player1=agent,\n",
    "            player2=agent,\n",
    "            verbose=False\n",
    "        )\n",
    "\n",
    "        assert winner == NimLogic.is_p_position(_initial_piles[i], _misere[i])\n",
    "\n",
    "        agent.compute_mean_nodes()\n",
    "\n",
    "        mean_nodes[i] = agent.mean_nodes\n",
    "        moves_count[i] = agent.moves_count\n",
    "        explored_nodes[i] = agent.nodes_explored\n",
    "\n",
    "    weighted_mean_nodes = explored_nodes.sum() / moves_count.sum()\n",
    "\n",
    "    avg_explored_nodes = explored_nodes.mean()\n",
    "    avg_moves_count = moves_count.mean()\n",
    "\n",
    "    values = [weighted_mean_nodes, avg_explored_nodes, avg_moves_count]\n",
    "\n",
    "    labels = [\n",
    "        \"average explored nodes per move:\",\n",
    "        \"average explored nodes per game:\",\n",
    "        \"average moves per game:\"\n",
    "    ]\n",
    "\n",
    "    label_width = max(len(lbl) for lbl in labels)\n",
    "\n",
    "    for lbl, val in zip(labels, values):\n",
    "        print(f\"{lbl:<{label_width}} {val:>10.2f}\")\n",
    "\n",
    "    return explored_nodes, moves_count, mean_nodes"
   ],
   "id": "b1cb07b39efc962a",
   "outputs": [],
   "execution_count": 4
  },
  {
   "metadata": {},
   "cell_type": "markdown",
   "source": "# Test running function",
   "id": "6a93f6ab20402a72"
  },
  {
   "metadata": {
    "ExecuteTime": {
     "end_time": "2025-05-13T19:32:57.431422Z",
     "start_time": "2025-05-13T19:32:57.428698Z"
    }
   },
   "cell_type": "code",
   "source": [
    "def run_tests(agent_v1, agent_v2, agent_v3, normal_v1, normal_v2, normal_v3, max_depth, pile_count, max_pile, episodes, save_path_prefix):\n",
    "    os.makedirs(save_path_prefix, exist_ok=True)\n",
    "\n",
    "    print(\"-\" * 60)\n",
    "    classic_configuration = False\n",
    "\n",
    "    if pile_count == 0 or max_pile == 0:\n",
    "        classic_configuration = True\n",
    "        initial_piles = np.tile([1, 3, 5, 7], (episodes, 1))\n",
    "        print(f\"\\tTestare fara max_depth, pe configuratia clasica\")\n",
    "    else:\n",
    "        initial_piles = np.random.randint(1, max_pile, size=(episodes, pile_count))\n",
    "        print(f\"\\tTestare cu max_depth={max_depth}, pile_count={pile_count}, max_pile={max_pile}\")\n",
    "\n",
    "    print(\"-\" * 60)\n",
    "    misere_modes = np.random.choice([True, False], size=episodes)\n",
    "\n",
    "    results = {\n",
    "        'v1': test_agent(agent_v1, normal_v1, misere_modes, initial_piles),\n",
    "        'v2': test_agent(agent_v2, normal_v2, misere_modes, initial_piles),\n",
    "        'v3': test_agent(agent_v3, normal_v3, misere_modes, initial_piles),\n",
    "    }\n",
    "\n",
    "    for version, result in results.items():\n",
    "        if not classic_configuration:\n",
    "            filename = f\"{save_path_prefix}/minimax-{version}-{max_depth}-{pile_count}-{max_pile}.npz\"\n",
    "        else:\n",
    "            filename = f\"{save_path_prefix}/minimax-{version}-{max_depth}-classic.npz\"\n",
    "        np.savez(filename, result)"
   ],
   "id": "d0d9196a22cda50f",
   "outputs": [],
   "execution_count": 5
  },
  {
   "metadata": {},
   "cell_type": "markdown",
   "source": "# Plotting results",
   "id": "a690d1c8136d9dcb"
  },
  {
   "metadata": {
    "ExecuteTime": {
     "end_time": "2025-05-14T17:04:40.450071Z",
     "start_time": "2025-05-14T17:04:40.441956Z"
    }
   },
   "cell_type": "code",
   "source": [
    "import os\n",
    "import numpy as np\n",
    "import matplotlib.pyplot as plt\n",
    "\n",
    "def _first_existing_file(patterns):\n",
    "    for p in patterns:\n",
    "        if os.path.exists(p):\n",
    "            return p\n",
    "    return None\n",
    "\n",
    "def plot_results(vary_parameter,\n",
    "                 max_depth_values,\n",
    "                 vary_values,\n",
    "                 fixed_pile_count,\n",
    "                 fixed_max_pile,\n",
    "                 folder=\"savedData/Minimax\",\n",
    "                 save_folder=\"savedPlots/Minimax\"):\n",
    "    os.makedirs(save_folder, exist_ok=True)\n",
    "\n",
    "    models       = ['v1', 'v2', 'v3']\n",
    "    model_names  = ['Minimax V1', 'P-pruning', 'Agressive']\n",
    "    colors       = ['#4B0082', '#4169E1', '#9370DB']\n",
    "    metric_labels = [\n",
    "        'Avg Nodes/Move',\n",
    "        'Avg Nodes/Game',\n",
    "        'Avg Moves/Game'\n",
    "    ]\n",
    "\n",
    "    bar_width = 0.3\n",
    "    x_indices = np.arange(len(vary_values))\n",
    "\n",
    "    for max_depth in max_depth_values:\n",
    "        fig, axes = plt.subplots(1, 3, figsize=(10, 4), facecolor='white', sharex=True)\n",
    "        axes = axes.ravel()\n",
    "\n",
    "        all_metrics = {m: {i: [] for i in range(3)} for m in models}\n",
    "\n",
    "        for vary_value in vary_values:\n",
    "            for model in models:\n",
    "                pile_count = vary_value if vary_parameter == \"heap_count\" else fixed_pile_count\n",
    "                max_pile   = fixed_max_pile if vary_parameter == \"heap_count\" else vary_value\n",
    "\n",
    "                candidate_files = [\n",
    "                    f\"{folder}/minimax-{model}-{max_depth}-{pile_count}-{max_pile}.npz\",\n",
    "                ]\n",
    "\n",
    "                filename = _first_existing_file(candidate_files)\n",
    "\n",
    "                if filename is None:\n",
    "                    print(f\"⚠️ Lipsă fișier pentru: depth={max_depth}, \"\n",
    "                          f\"{vary_parameter}={vary_value} → {candidate_files[-1].split('/')[-1]}\")\n",
    "                    for i in range(3):\n",
    "                        all_metrics[model][i].append(np.nan)\n",
    "                    continue\n",
    "\n",
    "                data                = np.load(filename)\n",
    "                test_data           = data.get('arr_0')\n",
    "                explored_nodes, moves_count, mean_nodes = test_data\n",
    "\n",
    "                metrics_values = [\n",
    "                    explored_nodes.sum() / moves_count.sum(),\n",
    "                    explored_nodes.mean(),\n",
    "                    moves_count.mean()\n",
    "                ]\n",
    "                for i in range(3):\n",
    "                    all_metrics[model][i].append(metrics_values[i])\n",
    "\n",
    "        for metric_idx, ax in enumerate(axes):\n",
    "            for model_idx, model in enumerate(models):\n",
    "                offset = -0.2 + 0.2 * model_idx\n",
    "                values = all_metrics[model][metric_idx]\n",
    "                bars = ax.bar(\n",
    "                    x_indices + offset,\n",
    "                    values,\n",
    "                    width=bar_width,\n",
    "                    color=colors[model_idx],\n",
    "                    alpha=0.5,\n",
    "                    label=model_names[model_idx]\n",
    "                )\n",
    "\n",
    "                ylim = ax.get_ylim()\n",
    "                text_offset = 0.01 * ylim[1]  # un mic padding vertical\n",
    "\n",
    "                for bar, val in zip(bars, values):\n",
    "                    if not np.isnan(val):\n",
    "                        ax.text(\n",
    "                            bar.get_x() + bar.get_width() / 2,\n",
    "                            bar.get_height() + text_offset,\n",
    "                            f'{val:.1f}',\n",
    "                            ha='center',\n",
    "                            va='bottom',\n",
    "                            fontsize=9,\n",
    "                            rotation=90,\n",
    "                            bbox=dict(\n",
    "                                facecolor='white',\n",
    "                                edgecolor='none',\n",
    "                                boxstyle='square,pad=0.1'\n",
    "                            )\n",
    "                        )\n",
    "\n",
    "            ax.set_ylabel(metric_labels[metric_idx], fontsize=14)\n",
    "            ax.set_xlabel(vary_parameter.upper(), fontsize=14)\n",
    "            ax.set_xticks(x_indices)\n",
    "            ax.set_xticklabels(vary_values)\n",
    "            ax.grid(True, axis='y', alpha=0.3)\n",
    "            if metric_idx == 0:\n",
    "                ax.legend(loc='upper left')\n",
    "\n",
    "        plt.tight_layout(rect=[0, 0, 1, 0.97])\n",
    "        save_path = os.path.join(save_folder, f\"minimax_variation_{vary_parameter}_depth_{max_depth}.png\")\n",
    "        plt.savefig(save_path, facecolor='white')\n",
    "        plt.close()"
   ],
   "id": "8d58bed70f9f7ce0",
   "outputs": [],
   "execution_count": 82
  },
  {
   "metadata": {
    "ExecuteTime": {
     "end_time": "2025-05-14T17:04:41.681554Z",
     "start_time": "2025-05-14T17:04:41.678618Z"
    }
   },
   "cell_type": "code",
   "source": [
    "EPISODES = 10000\n",
    "\n",
    "PILE_COUNT = 4\n",
    "MAX_PILE = 127"
   ],
   "id": "6e68bcaf6b1623b8",
   "outputs": [],
   "execution_count": 83
  },
  {
   "metadata": {
    "ExecuteTime": {
     "end_time": "2025-05-14T08:06:20.983746Z",
     "start_time": "2025-05-13T19:32:57.445631Z"
    }
   },
   "cell_type": "code",
   "source": [
    "for max_depth in [1, 2]:\n",
    "    misere_agents = [\n",
    "        MinimaxAgentV1(misere=True, max_depth=max_depth),\n",
    "        MinimaxAgentV2(misere=True, max_depth=max_depth),\n",
    "        MinimaxAgentV3(misere=True, max_depth=max_depth)\n",
    "    ]\n",
    "\n",
    "    normal_agents = [\n",
    "        MinimaxAgentV1(misere=False, max_depth=max_depth),\n",
    "        MinimaxAgentV2(misere=False, max_depth=max_depth),\n",
    "        MinimaxAgentV3(misere=False, max_depth=max_depth)\n",
    "    ]\n",
    "\n",
    "    for pile_count in [2, 4, 8]:\n",
    "        run_tests(*misere_agents, *normal_agents, max_depth, pile_count, MAX_PILE, EPISODES, \"savedData/Minimax\")\n",
    "\n",
    "    for max_pile in [63, 255]:\n",
    "        run_tests(*misere_agents, *normal_agents, max_depth, PILE_COUNT, max_pile, EPISODES, \"savedData/Minimax\")"
   ],
   "id": "39403c5442a69651",
   "outputs": [
    {
     "name": "stdout",
     "output_type": "stream",
     "text": [
      "------------------------------------------------------------\n",
      "\tTestare cu max_depth=1, pile_count=2, max_pile=127\n",
      "------------------------------------------------------------\n"
     ]
    },
    {
     "name": "stderr",
     "output_type": "stream",
     "text": [
      "100%|██████████| 10000/10000 [00:09<00:00, 1002.79it/s]\n"
     ]
    },
    {
     "name": "stdout",
     "output_type": "stream",
     "text": [
      "average explored nodes per move:      26.77\n",
      "average explored nodes per game:     570.92\n",
      "average moves per game:               21.33\n"
     ]
    },
    {
     "name": "stderr",
     "output_type": "stream",
     "text": [
      "100%|██████████| 10000/10000 [00:09<00:00, 1037.70it/s]\n"
     ]
    },
    {
     "name": "stdout",
     "output_type": "stream",
     "text": [
      "average explored nodes per move:      18.88\n",
      "average explored nodes per game:     402.72\n",
      "average moves per game:               21.33\n"
     ]
    },
    {
     "name": "stderr",
     "output_type": "stream",
     "text": [
      "100%|██████████| 10000/10000 [00:03<00:00, 2658.95it/s]\n"
     ]
    },
    {
     "name": "stdout",
     "output_type": "stream",
     "text": [
      "average explored nodes per move:      43.50\n",
      "average explored nodes per game:     151.16\n",
      "average moves per game:                3.48\n",
      "------------------------------------------------------------\n",
      "\tTestare cu max_depth=1, pile_count=4, max_pile=127\n",
      "------------------------------------------------------------\n"
     ]
    },
    {
     "name": "stderr",
     "output_type": "stream",
     "text": [
      "100%|██████████| 10000/10000 [00:28<00:00, 354.60it/s]\n"
     ]
    },
    {
     "name": "stdout",
     "output_type": "stream",
     "text": [
      "average explored nodes per move:      55.36\n",
      "average explored nodes per game:    1479.47\n",
      "average moves per game:               26.73\n"
     ]
    },
    {
     "name": "stderr",
     "output_type": "stream",
     "text": [
      "100%|██████████| 10000/10000 [00:25<00:00, 385.77it/s]\n"
     ]
    },
    {
     "name": "stdout",
     "output_type": "stream",
     "text": [
      "average explored nodes per move:      37.42\n",
      "average explored nodes per game:    1000.11\n",
      "average moves per game:               26.73\n"
     ]
    },
    {
     "name": "stderr",
     "output_type": "stream",
     "text": [
      "100%|██████████| 10000/10000 [00:12<00:00, 820.49it/s]\n"
     ]
    },
    {
     "name": "stdout",
     "output_type": "stream",
     "text": [
      "average explored nodes per move:      61.77\n",
      "average explored nodes per game:     450.41\n",
      "average moves per game:                7.29\n",
      "------------------------------------------------------------\n",
      "\tTestare cu max_depth=1, pile_count=8, max_pile=127\n",
      "------------------------------------------------------------\n"
     ]
    },
    {
     "name": "stderr",
     "output_type": "stream",
     "text": [
      "100%|██████████| 10000/10000 [02:50<00:00, 58.49it/s]\n"
     ]
    },
    {
     "name": "stdout",
     "output_type": "stream",
     "text": [
      "average explored nodes per move:     142.96\n",
      "average explored nodes per game:    7789.87\n",
      "average moves per game:               54.49\n"
     ]
    },
    {
     "name": "stderr",
     "output_type": "stream",
     "text": [
      "100%|██████████| 10000/10000 [02:23<00:00, 69.77it/s]\n"
     ]
    },
    {
     "name": "stdout",
     "output_type": "stream",
     "text": [
      "average explored nodes per move:      90.82\n",
      "average explored nodes per game:    4948.85\n",
      "average moves per game:               54.49\n"
     ]
    },
    {
     "name": "stderr",
     "output_type": "stream",
     "text": [
      "100%|██████████| 10000/10000 [00:40<00:00, 249.25it/s]\n"
     ]
    },
    {
     "name": "stdout",
     "output_type": "stream",
     "text": [
      "average explored nodes per move:      92.80\n",
      "average explored nodes per game:    1324.79\n",
      "average moves per game:               14.28\n",
      "------------------------------------------------------------\n",
      "\tTestare cu max_depth=1, pile_count=4, max_pile=63\n",
      "------------------------------------------------------------\n"
     ]
    },
    {
     "name": "stderr",
     "output_type": "stream",
     "text": [
      "100%|██████████| 10000/10000 [00:16<00:00, 623.12it/s]\n"
     ]
    },
    {
     "name": "stdout",
     "output_type": "stream",
     "text": [
      "average explored nodes per move:      33.72\n",
      "average explored nodes per game:     813.35\n",
      "average moves per game:               24.12\n"
     ]
    },
    {
     "name": "stderr",
     "output_type": "stream",
     "text": [
      "100%|██████████| 10000/10000 [00:14<00:00, 677.04it/s]\n"
     ]
    },
    {
     "name": "stdout",
     "output_type": "stream",
     "text": [
      "average explored nodes per move:      23.04\n",
      "average explored nodes per game:     555.61\n",
      "average moves per game:               24.12\n"
     ]
    },
    {
     "name": "stderr",
     "output_type": "stream",
     "text": [
      "100%|██████████| 10000/10000 [00:06<00:00, 1594.35it/s]\n"
     ]
    },
    {
     "name": "stdout",
     "output_type": "stream",
     "text": [
      "average explored nodes per move:      32.03\n",
      "average explored nodes per game:     226.69\n",
      "average moves per game:                7.08\n",
      "------------------------------------------------------------\n",
      "\tTestare cu max_depth=1, pile_count=4, max_pile=255\n",
      "------------------------------------------------------------\n"
     ]
    },
    {
     "name": "stderr",
     "output_type": "stream",
     "text": [
      "100%|██████████| 10000/10000 [00:59<00:00, 168.03it/s]\n"
     ]
    },
    {
     "name": "stdout",
     "output_type": "stream",
     "text": [
      "average explored nodes per move:      99.92\n",
      "average explored nodes per game:    3028.64\n",
      "average moves per game:               30.31\n"
     ]
    },
    {
     "name": "stderr",
     "output_type": "stream",
     "text": [
      "100%|██████████| 10000/10000 [00:54<00:00, 183.82it/s]\n"
     ]
    },
    {
     "name": "stdout",
     "output_type": "stream",
     "text": [
      "average explored nodes per move:      67.40\n",
      "average explored nodes per game:    2043.11\n",
      "average moves per game:               30.31\n"
     ]
    },
    {
     "name": "stderr",
     "output_type": "stream",
     "text": [
      "100%|██████████| 10000/10000 [00:25<00:00, 399.78it/s]\n"
     ]
    },
    {
     "name": "stdout",
     "output_type": "stream",
     "text": [
      "average explored nodes per move:     122.40\n",
      "average explored nodes per game:     904.41\n",
      "average moves per game:                7.39\n",
      "------------------------------------------------------------\n",
      "\tTestare cu max_depth=2, pile_count=2, max_pile=127\n",
      "------------------------------------------------------------\n"
     ]
    },
    {
     "name": "stderr",
     "output_type": "stream",
     "text": [
      "100%|██████████| 10000/10000 [03:06<00:00, 53.66it/s]\n"
     ]
    },
    {
     "name": "stdout",
     "output_type": "stream",
     "text": [
      "average explored nodes per move:     815.70\n",
      "average explored nodes per game:   10377.55\n",
      "average moves per game:               12.72\n"
     ]
    },
    {
     "name": "stderr",
     "output_type": "stream",
     "text": [
      "100%|██████████| 10000/10000 [04:16<00:00, 38.99it/s]\n"
     ]
    },
    {
     "name": "stdout",
     "output_type": "stream",
     "text": [
      "average explored nodes per move:     496.89\n",
      "average explored nodes per game:   10579.78\n",
      "average moves per game:               21.29\n"
     ]
    },
    {
     "name": "stderr",
     "output_type": "stream",
     "text": [
      "100%|██████████| 10000/10000 [02:52<00:00, 58.06it/s]\n"
     ]
    },
    {
     "name": "stdout",
     "output_type": "stream",
     "text": [
      "average explored nodes per move:    1959.32\n",
      "average explored nodes per game:    6804.52\n",
      "average moves per game:                3.47\n",
      "------------------------------------------------------------\n",
      "\tTestare cu max_depth=2, pile_count=4, max_pile=127\n",
      "------------------------------------------------------------\n"
     ]
    },
    {
     "name": "stderr",
     "output_type": "stream",
     "text": [
      "100%|██████████| 10000/10000 [18:21<00:00,  9.08it/s]\n"
     ]
    },
    {
     "name": "stdout",
     "output_type": "stream",
     "text": [
      "average explored nodes per move:    2395.53\n",
      "average explored nodes per game:   55037.49\n",
      "average moves per game:               22.98\n"
     ]
    },
    {
     "name": "stderr",
     "output_type": "stream",
     "text": [
      "100%|██████████| 10000/10000 [22:43<00:00,  7.33it/s]\n"
     ]
    },
    {
     "name": "stdout",
     "output_type": "stream",
     "text": [
      "average explored nodes per move:    1953.22\n",
      "average explored nodes per game:   52067.18\n",
      "average moves per game:               26.66\n"
     ]
    },
    {
     "name": "stderr",
     "output_type": "stream",
     "text": [
      "100%|██████████| 10000/10000 [14:13<00:00, 11.72it/s]\n"
     ]
    },
    {
     "name": "stdout",
     "output_type": "stream",
     "text": [
      "average explored nodes per move:    4291.01\n",
      "average explored nodes per game:   31287.89\n",
      "average moves per game:                7.29\n",
      "------------------------------------------------------------\n",
      "\tTestare cu max_depth=2, pile_count=8, max_pile=127\n",
      "------------------------------------------------------------\n"
     ]
    },
    {
     "name": "stderr",
     "output_type": "stream",
     "text": [
      "100%|██████████| 10000/10000 [2:37:32<00:00,  1.06it/s] \n"
     ]
    },
    {
     "name": "stdout",
     "output_type": "stream",
     "text": [
      "average explored nodes per move:    7609.29\n",
      "average explored nodes per game:  405893.31\n",
      "average moves per game:               53.34\n"
     ]
    },
    {
     "name": "stderr",
     "output_type": "stream",
     "text": [
      "100%|██████████| 10000/10000 [3:07:59<00:00,  1.13s/it] \n"
     ]
    },
    {
     "name": "stdout",
     "output_type": "stream",
     "text": [
      "average explored nodes per move:    7105.71\n",
      "average explored nodes per game:  386945.69\n",
      "average moves per game:               54.46\n"
     ]
    },
    {
     "name": "stderr",
     "output_type": "stream",
     "text": [
      "100%|██████████| 10000/10000 [1:20:58<00:00,  2.06it/s]\n"
     ]
    },
    {
     "name": "stdout",
     "output_type": "stream",
     "text": [
      "average explored nodes per move:   11112.80\n",
      "average explored nodes per game:  158548.51\n",
      "average moves per game:               14.27\n",
      "------------------------------------------------------------\n",
      "\tTestare cu max_depth=2, pile_count=4, max_pile=63\n",
      "------------------------------------------------------------\n"
     ]
    },
    {
     "name": "stderr",
     "output_type": "stream",
     "text": [
      "100%|██████████| 10000/10000 [04:44<00:00, 35.20it/s]\n"
     ]
    },
    {
     "name": "stdout",
     "output_type": "stream",
     "text": [
      "average explored nodes per move:     708.76\n",
      "average explored nodes per game:   14411.99\n",
      "average moves per game:               20.33\n"
     ]
    },
    {
     "name": "stderr",
     "output_type": "stream",
     "text": [
      "100%|██████████| 10000/10000 [05:35<00:00, 29.77it/s]\n"
     ]
    },
    {
     "name": "stdout",
     "output_type": "stream",
     "text": [
      "average explored nodes per move:     540.85\n",
      "average explored nodes per game:   12955.37\n",
      "average moves per game:               23.95\n"
     ]
    },
    {
     "name": "stderr",
     "output_type": "stream",
     "text": [
      "100%|██████████| 10000/10000 [03:28<00:00, 47.97it/s]\n"
     ]
    },
    {
     "name": "stdout",
     "output_type": "stream",
     "text": [
      "average explored nodes per move:    1077.02\n",
      "average explored nodes per game:    7639.40\n",
      "average moves per game:                7.09\n",
      "------------------------------------------------------------\n",
      "\tTestare cu max_depth=2, pile_count=4, max_pile=255\n",
      "------------------------------------------------------------\n"
     ]
    },
    {
     "name": "stderr",
     "output_type": "stream",
     "text": [
      "100%|██████████| 10000/10000 [1:19:09<00:00,  2.11it/s]\n"
     ]
    },
    {
     "name": "stdout",
     "output_type": "stream",
     "text": [
      "average explored nodes per move:    8900.93\n",
      "average explored nodes per game:  235369.86\n",
      "average moves per game:               26.44\n"
     ]
    },
    {
     "name": "stderr",
     "output_type": "stream",
     "text": [
      "100%|██████████| 10000/10000 [1:40:21<00:00,  1.66it/s] \n"
     ]
    },
    {
     "name": "stdout",
     "output_type": "stream",
     "text": [
      "average explored nodes per move:    7564.28\n",
      "average explored nodes per game:  228885.26\n",
      "average moves per game:               30.26\n"
     ]
    },
    {
     "name": "stderr",
     "output_type": "stream",
     "text": [
      "100%|██████████| 10000/10000 [57:39<00:00,  2.89it/s] "
     ]
    },
    {
     "name": "stdout",
     "output_type": "stream",
     "text": [
      "average explored nodes per move:   17040.99\n",
      "average explored nodes per game:  125907.34\n",
      "average moves per game:                7.39\n"
     ]
    },
    {
     "name": "stderr",
     "output_type": "stream",
     "text": [
      "\n"
     ]
    }
   ],
   "execution_count": 7
  },
  {
   "metadata": {
    "ExecuteTime": {
     "end_time": "2025-05-14T17:04:44.536644Z",
     "start_time": "2025-05-14T17:04:44.062201Z"
    }
   },
   "cell_type": "code",
   "source": [
    "plot_results(vary_parameter=\"heap_count\", max_depth_values=[1, 2], vary_values=[2, 4, 8], fixed_pile_count=PILE_COUNT, fixed_max_pile=MAX_PILE)\n",
    "plot_results(vary_parameter=\"max_heap\", max_depth_values=[1, 2], vary_values=[63, 127, 255], fixed_pile_count=PILE_COUNT, fixed_max_pile=MAX_PILE)"
   ],
   "id": "fc96521e821241f0",
   "outputs": [],
   "execution_count": 84
  },
  {
   "metadata": {},
   "cell_type": "markdown",
   "source": "# Max Depth testing on Smaller Configuration",
   "id": "b247608d489d112e"
  },
  {
   "metadata": {
    "ExecuteTime": {
     "end_time": "2025-05-14T17:04:48.327454Z",
     "start_time": "2025-05-14T17:04:48.325404Z"
    }
   },
   "cell_type": "code",
   "source": [
    "EPISODES = 10000\n",
    "\n",
    "PILE_COUNT = 3\n",
    "MAX_PILE = 5\n",
    "\n",
    "MAX_DEPTH = 9999"
   ],
   "id": "253fe7ad0c055649",
   "outputs": [],
   "execution_count": 85
  },
  {
   "metadata": {
    "ExecuteTime": {
     "end_time": "2025-05-14T14:01:31.296364Z",
     "start_time": "2025-05-14T10:51:15.043080Z"
    }
   },
   "cell_type": "code",
   "source": [
    "misere_agents = [\n",
    "    MinimaxAgentV1(misere=True, max_depth=MAX_DEPTH),\n",
    "    MinimaxAgentV2(misere=True, max_depth=MAX_DEPTH),\n",
    "    MinimaxAgentV3(misere=True, max_depth=MAX_DEPTH)\n",
    "]\n",
    "\n",
    "normal_agents = [\n",
    "    MinimaxAgentV1(misere=False, max_depth=MAX_DEPTH),\n",
    "    MinimaxAgentV2(misere=False, max_depth=MAX_DEPTH),\n",
    "    MinimaxAgentV3(misere=False, max_depth=MAX_DEPTH)\n",
    "]\n",
    "\n",
    "for pile_count in [2, 3, 4]:\n",
    "    run_tests(*misere_agents, *normal_agents, MAX_DEPTH, pile_count, MAX_PILE, EPISODES, \"savedData/Minimax\")\n",
    "\n",
    "for max_pile in [3, 7]:\n",
    "    run_tests(*misere_agents, *normal_agents, MAX_DEPTH, PILE_COUNT, max_pile, EPISODES, \"savedData/Minimax\")"
   ],
   "id": "e89498c803872a5c",
   "outputs": [
    {
     "name": "stdout",
     "output_type": "stream",
     "text": [
      "------------------------------------------------------------\n",
      "\tTestare cu max_depth=9999, pile_count=2, max_pile=5\n",
      "------------------------------------------------------------\n"
     ]
    },
    {
     "name": "stderr",
     "output_type": "stream",
     "text": [
      "100%|██████████| 10000/10000 [00:02<00:00, 3994.60it/s]\n"
     ]
    },
    {
     "name": "stdout",
     "output_type": "stream",
     "text": [
      "average explored nodes per move:      58.16\n",
      "average explored nodes per game:     234.10\n",
      "average moves per game:                4.03\n"
     ]
    },
    {
     "name": "stderr",
     "output_type": "stream",
     "text": [
      "100%|██████████| 10000/10000 [00:00<00:00, 10284.07it/s]\n"
     ]
    },
    {
     "name": "stdout",
     "output_type": "stream",
     "text": [
      "average explored nodes per move:       8.37\n",
      "average explored nodes per game:      33.69\n",
      "average moves per game:                4.03\n"
     ]
    },
    {
     "name": "stderr",
     "output_type": "stream",
     "text": [
      "100%|██████████| 10000/10000 [00:00<00:00, 21121.21it/s]\n"
     ]
    },
    {
     "name": "stdout",
     "output_type": "stream",
     "text": [
      "average explored nodes per move:       5.52\n",
      "average explored nodes per game:      15.68\n",
      "average moves per game:                2.84\n",
      "------------------------------------------------------------\n",
      "\tTestare cu max_depth=9999, pile_count=3, max_pile=5\n",
      "------------------------------------------------------------\n"
     ]
    },
    {
     "name": "stderr",
     "output_type": "stream",
     "text": [
      "100%|██████████| 10000/10000 [00:43<00:00, 227.46it/s]\n"
     ]
    },
    {
     "name": "stdout",
     "output_type": "stream",
     "text": [
      "average explored nodes per move:     662.21\n",
      "average explored nodes per game:    3930.03\n",
      "average moves per game:                5.93\n"
     ]
    },
    {
     "name": "stderr",
     "output_type": "stream",
     "text": [
      "100%|██████████| 10000/10000 [00:05<00:00, 1810.20it/s]\n"
     ]
    },
    {
     "name": "stdout",
     "output_type": "stream",
     "text": [
      "average explored nodes per move:      34.04\n",
      "average explored nodes per game:     187.79\n",
      "average moves per game:                5.52\n"
     ]
    },
    {
     "name": "stderr",
     "output_type": "stream",
     "text": [
      "100%|██████████| 10000/10000 [00:01<00:00, 8985.57it/s]\n"
     ]
    },
    {
     "name": "stdout",
     "output_type": "stream",
     "text": [
      "average explored nodes per move:       9.05\n",
      "average explored nodes per game:      34.65\n",
      "average moves per game:                3.83\n",
      "------------------------------------------------------------\n",
      "\tTestare cu max_depth=9999, pile_count=4, max_pile=5\n",
      "------------------------------------------------------------\n"
     ]
    },
    {
     "name": "stderr",
     "output_type": "stream",
     "text": [
      "100%|██████████| 10000/10000 [1:27:13<00:00,  1.91it/s] \n"
     ]
    },
    {
     "name": "stdout",
     "output_type": "stream",
     "text": [
      "average explored nodes per move:   51691.29\n",
      "average explored nodes per game:  445733.96\n",
      "average moves per game:                8.62\n"
     ]
    },
    {
     "name": "stderr",
     "output_type": "stream",
     "text": [
      "100%|██████████| 10000/10000 [03:43<00:00, 44.82it/s]\n"
     ]
    },
    {
     "name": "stdout",
     "output_type": "stream",
     "text": [
      "average explored nodes per move:     966.10\n",
      "average explored nodes per game:    7404.61\n",
      "average moves per game:                7.66\n"
     ]
    },
    {
     "name": "stderr",
     "output_type": "stream",
     "text": [
      "100%|██████████| 10000/10000 [00:11<00:00, 899.23it/s]\n"
     ]
    },
    {
     "name": "stdout",
     "output_type": "stream",
     "text": [
      "average explored nodes per move:      65.89\n",
      "average explored nodes per game:     334.72\n",
      "average moves per game:                5.08\n",
      "------------------------------------------------------------\n",
      "\tTestare cu max_depth=9999, pile_count=3, max_pile=3\n",
      "------------------------------------------------------------\n"
     ]
    },
    {
     "name": "stderr",
     "output_type": "stream",
     "text": [
      "100%|██████████| 10000/10000 [00:01<00:00, 9648.92it/s]\n"
     ]
    },
    {
     "name": "stdout",
     "output_type": "stream",
     "text": [
      "average explored nodes per move:      22.10\n",
      "average explored nodes per game:      86.89\n",
      "average moves per game:                3.93\n"
     ]
    },
    {
     "name": "stderr",
     "output_type": "stream",
     "text": [
      "100%|██████████| 10000/10000 [00:00<00:00, 23099.54it/s]\n"
     ]
    },
    {
     "name": "stdout",
     "output_type": "stream",
     "text": [
      "average explored nodes per move:       3.52\n",
      "average explored nodes per game:      13.85\n",
      "average moves per game:                3.93\n"
     ]
    },
    {
     "name": "stderr",
     "output_type": "stream",
     "text": [
      "100%|██████████| 10000/10000 [00:00<00:00, 27467.77it/s]\n"
     ]
    },
    {
     "name": "stdout",
     "output_type": "stream",
     "text": [
      "average explored nodes per move:       3.24\n",
      "average explored nodes per game:      11.13\n",
      "average moves per game:                3.44\n",
      "------------------------------------------------------------\n",
      "\tTestare cu max_depth=9999, pile_count=3, max_pile=7\n",
      "------------------------------------------------------------\n"
     ]
    },
    {
     "name": "stderr",
     "output_type": "stream",
     "text": [
      "100%|██████████| 10000/10000 [1:33:30<00:00,  1.78it/s] \n"
     ]
    },
    {
     "name": "stdout",
     "output_type": "stream",
     "text": [
      "average explored nodes per move:   61401.74\n",
      "average explored nodes per game:  511200.21\n",
      "average moves per game:                8.33\n"
     ]
    },
    {
     "name": "stderr",
     "output_type": "stream",
     "text": [
      "100%|██████████| 10000/10000 [04:36<00:00, 36.23it/s]\n"
     ]
    },
    {
     "name": "stdout",
     "output_type": "stream",
     "text": [
      "average explored nodes per move:    1325.25\n",
      "average explored nodes per game:    9549.92\n",
      "average moves per game:                7.21\n"
     ]
    },
    {
     "name": "stderr",
     "output_type": "stream",
     "text": [
      "100%|██████████| 10000/10000 [00:05<00:00, 1847.34it/s]"
     ]
    },
    {
     "name": "stdout",
     "output_type": "stream",
     "text": [
      "average explored nodes per move:      41.46\n",
      "average explored nodes per game:     171.17\n",
      "average moves per game:                4.13\n"
     ]
    },
    {
     "name": "stderr",
     "output_type": "stream",
     "text": [
      "\n"
     ]
    }
   ],
   "execution_count": 11
  },
  {
   "metadata": {
    "ExecuteTime": {
     "end_time": "2025-05-14T17:04:51.166930Z",
     "start_time": "2025-05-14T17:04:50.944813Z"
    }
   },
   "cell_type": "code",
   "source": [
    "plot_results(vary_parameter=\"heap_count\", max_depth_values=[MAX_DEPTH], vary_values=[2, 3, 4], fixed_pile_count=PILE_COUNT, fixed_max_pile=MAX_PILE)\n",
    "plot_results(vary_parameter=\"max_heap\", max_depth_values=[MAX_DEPTH], vary_values=[3, 5, 7], fixed_pile_count=PILE_COUNT, fixed_max_pile=MAX_PILE)"
   ],
   "id": "332c19ff6a0593c4",
   "outputs": [],
   "execution_count": 86
  },
  {
   "metadata": {},
   "cell_type": "code",
   "outputs": [],
   "execution_count": null,
   "source": "",
   "id": "4ce8122dbdb42094"
  }
 ],
 "metadata": {
  "kernelspec": {
   "display_name": "Python 3",
   "language": "python",
   "name": "python3"
  },
  "language_info": {
   "codemirror_mode": {
    "name": "ipython",
    "version": 2
   },
   "file_extension": ".py",
   "mimetype": "text/x-python",
   "name": "python",
   "nbconvert_exporter": "python",
   "pygments_lexer": "ipython2",
   "version": "2.7.6"
  }
 },
 "nbformat": 4,
 "nbformat_minor": 5
}
