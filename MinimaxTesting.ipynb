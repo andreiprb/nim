{
 "cells": [
  {
   "metadata": {},
   "cell_type": "markdown",
   "source": "# Imports",
   "id": "7b4c3b0961ac3b1e"
  },
  {
   "metadata": {
    "ExecuteTime": {
     "end_time": "2025-05-14T18:09:52.387024Z",
     "start_time": "2025-05-14T18:09:52.192173Z"
    }
   },
   "cell_type": "code",
   "source": [
    "import os\n",
    "import numpy as np\n",
    "\n",
    "from tqdm import tqdm\n",
    "\n",
    "import matplotlib.pyplot as plt"
   ],
   "id": "f80b91b841340426",
   "outputs": [],
   "execution_count": 2
  },
  {
   "cell_type": "code",
   "id": "initial_id",
   "metadata": {
    "collapsed": true,
    "ExecuteTime": {
     "end_time": "2025-05-14T18:09:52.399698Z",
     "start_time": "2025-05-14T18:09:52.393849Z"
    }
   },
   "source": [
    "from Nim.Nim import Nim\n",
    "from Nim.NimLogic import NimLogic\n",
    "\n",
    "from Agents.Minimax.MinimaxAgentV1 import MinimaxAgentV1\n",
    "from Agents.Minimax.MinimaxAgentV2 import MinimaxAgentV2\n",
    "from Agents.Minimax.MinimaxAgentV3 import MinimaxAgentV3"
   ],
   "outputs": [],
   "execution_count": 3
  },
  {
   "metadata": {},
   "cell_type": "markdown",
   "source": "Random seed for reproducibility",
   "id": "b58a696a6f76ca45"
  },
  {
   "metadata": {
    "ExecuteTime": {
     "end_time": "2025-05-14T18:09:52.438814Z",
     "start_time": "2025-05-14T18:09:52.425223Z"
    }
   },
   "cell_type": "code",
   "source": "np.random.seed(42)",
   "id": "2734ef9cdbee5047",
   "outputs": [],
   "execution_count": 4
  },
  {
   "metadata": {},
   "cell_type": "markdown",
   "source": "# Agent Testing Function",
   "id": "38122e9bb8d5c6dd"
  },
  {
   "metadata": {
    "ExecuteTime": {
     "end_time": "2025-05-14T18:09:52.449875Z",
     "start_time": "2025-05-14T18:09:52.446620Z"
    }
   },
   "cell_type": "code",
   "source": [
    "def test_agent(_misereAgent, _normalAgent, _misere, _initial_piles):\n",
    "    explored_nodes = np.ndarray(EPISODES)\n",
    "    moves_count = np.ndarray(EPISODES)\n",
    "    mean_nodes = np.ndarray(EPISODES)\n",
    "\n",
    "    for i in tqdm(range(EPISODES)):\n",
    "        game = Nim(\n",
    "            initial_piles=_initial_piles[i],\n",
    "            misere=_misere[i]\n",
    "        )\n",
    "\n",
    "        agent = _misereAgent if _misere[i] else _normalAgent\n",
    "\n",
    "        winner = game.play(\n",
    "            player1=agent,\n",
    "            player2=agent,\n",
    "            verbose=False\n",
    "        )\n",
    "\n",
    "        assert winner == NimLogic.is_p_position(_initial_piles[i], _misere[i])\n",
    "\n",
    "        agent.compute_mean_nodes()\n",
    "\n",
    "        mean_nodes[i] = agent.mean_nodes\n",
    "        moves_count[i] = agent.moves_count\n",
    "        explored_nodes[i] = agent.nodes_explored\n",
    "\n",
    "    weighted_mean_nodes = explored_nodes.sum() / moves_count.sum()\n",
    "\n",
    "    avg_explored_nodes = explored_nodes.mean()\n",
    "    avg_moves_count = moves_count.mean()\n",
    "\n",
    "    values = [weighted_mean_nodes, avg_explored_nodes, avg_moves_count]\n",
    "\n",
    "    labels = [\n",
    "        \"average explored nodes per move:\",\n",
    "        \"average explored nodes per game:\",\n",
    "        \"average moves per game:\"\n",
    "    ]\n",
    "\n",
    "    label_width = max(len(lbl) for lbl in labels)\n",
    "\n",
    "    for lbl, val in zip(labels, values):\n",
    "        print(f\"{lbl:<{label_width}} {val:>10.2f}\")\n",
    "\n",
    "    return explored_nodes, moves_count, mean_nodes"
   ],
   "id": "b1cb07b39efc962a",
   "outputs": [],
   "execution_count": 5
  },
  {
   "metadata": {},
   "cell_type": "markdown",
   "source": "# Test running function",
   "id": "6a93f6ab20402a72"
  },
  {
   "metadata": {
    "ExecuteTime": {
     "end_time": "2025-05-14T18:09:52.467444Z",
     "start_time": "2025-05-14T18:09:52.464162Z"
    }
   },
   "cell_type": "code",
   "source": [
    "def run_tests(agent_v1, agent_v2, agent_v3, normal_v1, normal_v2, normal_v3, max_depth, pile_count, max_pile, episodes, save_path_prefix):\n",
    "    os.makedirs(save_path_prefix, exist_ok=True)\n",
    "\n",
    "    print(\"-\" * 60)\n",
    "    classic_configuration = False\n",
    "\n",
    "    if pile_count == 0 or max_pile == 0:\n",
    "        classic_configuration = True\n",
    "        initial_piles = np.tile([1, 3, 5, 7], (episodes, 1))\n",
    "        print(f\"\\tTestare fara max_depth, pe configuratia clasica\")\n",
    "    else:\n",
    "        initial_piles = np.random.randint(1, max_pile, size=(episodes, pile_count))\n",
    "        print(f\"\\tTestare cu max_depth={max_depth}, pile_count={pile_count}, max_pile={max_pile}\")\n",
    "\n",
    "    print(\"-\" * 60)\n",
    "    misere_modes = np.random.choice([True, False], size=episodes)\n",
    "\n",
    "    results = {\n",
    "        'v1': test_agent(agent_v1, normal_v1, misere_modes, initial_piles),\n",
    "        'v2': test_agent(agent_v2, normal_v2, misere_modes, initial_piles),\n",
    "        'v3': test_agent(agent_v3, normal_v3, misere_modes, initial_piles),\n",
    "    }\n",
    "\n",
    "    for version, result in results.items():\n",
    "        if not classic_configuration:\n",
    "            filename = f\"{save_path_prefix}/minimax-{version}-{max_depth}-{pile_count}-{max_pile}.npz\"\n",
    "        else:\n",
    "            filename = f\"{save_path_prefix}/minimax-{version}-{max_depth}-classic.npz\"\n",
    "        np.savez(filename, result)"
   ],
   "id": "d0d9196a22cda50f",
   "outputs": [],
   "execution_count": 6
  },
  {
   "metadata": {},
   "cell_type": "markdown",
   "source": "# Plotting results",
   "id": "a690d1c8136d9dcb"
  },
  {
   "metadata": {
    "ExecuteTime": {
     "end_time": "2025-05-14T18:09:52.483935Z",
     "start_time": "2025-05-14T18:09:52.476948Z"
    }
   },
   "cell_type": "code",
   "source": [
    "def _first_existing_file(patterns):\n",
    "    for p in patterns:\n",
    "        if os.path.exists(p):\n",
    "            return p\n",
    "    return None\n",
    "\n",
    "def plot_results(vary_parameter,\n",
    "                 max_depth_values,\n",
    "                 vary_values,\n",
    "                 fixed_pile_count,\n",
    "                 fixed_max_pile,\n",
    "                 folder=\"savedData/Minimax\",\n",
    "                 save_folder=\"savedPlots/Minimax\"):\n",
    "    os.makedirs(save_folder, exist_ok=True)\n",
    "\n",
    "    models       = ['v1', 'v2', 'v3']\n",
    "    model_names  = ['Minimax V1', 'P-pruning', 'Agressive']\n",
    "    colors       = ['#4B0082', '#4169E1', '#9370DB']\n",
    "    metric_labels = [\n",
    "        'Avg Nodes/Move',\n",
    "        'Avg Nodes/Game',\n",
    "        'Avg Moves/Game'\n",
    "    ]\n",
    "\n",
    "    bar_width = 0.3\n",
    "    x_indices = np.arange(len(vary_values))\n",
    "\n",
    "    for max_depth in max_depth_values:\n",
    "        fig, axes = plt.subplots(1, 3, figsize=(10, 4), facecolor='white', sharex=True)\n",
    "        axes = axes.ravel()\n",
    "\n",
    "        all_metrics = {m: {i: [] for i in range(3)} for m in models}\n",
    "\n",
    "        for vary_value in vary_values:\n",
    "            for model in models:\n",
    "                pile_count = vary_value if vary_parameter == \"heap_count\" else fixed_pile_count\n",
    "                max_pile   = fixed_max_pile if vary_parameter == \"heap_count\" else vary_value\n",
    "\n",
    "                candidate_files = [\n",
    "                    f\"{folder}/minimax-{model}-{max_depth}-{pile_count}-{max_pile}.npz\",\n",
    "                ]\n",
    "\n",
    "                filename = _first_existing_file(candidate_files)\n",
    "\n",
    "                if filename is None:\n",
    "                    print(f\"⚠️ Lipsă fișier pentru: depth={max_depth}, \"\n",
    "                          f\"{vary_parameter}={vary_value} → {candidate_files[-1].split('/')[-1]}\")\n",
    "                    for i in range(3):\n",
    "                        all_metrics[model][i].append(np.nan)\n",
    "                    continue\n",
    "\n",
    "                data                = np.load(filename)\n",
    "                test_data           = data.get('arr_0')\n",
    "                explored_nodes, moves_count, mean_nodes = test_data\n",
    "\n",
    "                metrics_values = [\n",
    "                    explored_nodes.sum() / moves_count.sum(),\n",
    "                    explored_nodes.mean(),\n",
    "                    moves_count.mean()\n",
    "                ]\n",
    "                for i in range(3):\n",
    "                    all_metrics[model][i].append(metrics_values[i])\n",
    "\n",
    "        for metric_idx, ax in enumerate(axes):\n",
    "            for model_idx, model in enumerate(models):\n",
    "                offset = -0.2 + 0.2 * model_idx\n",
    "                values = all_metrics[model][metric_idx]\n",
    "                bars = ax.bar(\n",
    "                    x_indices + offset,\n",
    "                    values,\n",
    "                    width=bar_width,\n",
    "                    color=colors[model_idx],\n",
    "                    alpha=0.5,\n",
    "                    label=model_names[model_idx]\n",
    "                )\n",
    "\n",
    "                ylim = ax.get_ylim()\n",
    "                text_offset = 0.01 * ylim[1]  # un mic padding vertical\n",
    "\n",
    "                for bar, val in zip(bars, values):\n",
    "                    if not np.isnan(val):\n",
    "                        ax.text(\n",
    "                            bar.get_x() + bar.get_width() / 2,\n",
    "                            bar.get_height() + text_offset,\n",
    "                            f'{val:.1f}',\n",
    "                            ha='center',\n",
    "                            va='bottom',\n",
    "                            fontsize=9,\n",
    "                            rotation=90,\n",
    "                            bbox=dict(\n",
    "                                facecolor='white',\n",
    "                                edgecolor='none',\n",
    "                                boxstyle='square,pad=0.1'\n",
    "                            )\n",
    "                        )\n",
    "\n",
    "            ax.set_ylabel(metric_labels[metric_idx], fontsize=14)\n",
    "            ax.set_xlabel(vary_parameter.upper(), fontsize=14)\n",
    "            ax.set_xticks(x_indices)\n",
    "            ax.set_xticklabels(vary_values)\n",
    "            ax.grid(True, axis='y', alpha=0.3)\n",
    "            if metric_idx == 0:\n",
    "                ax.legend(loc='upper left')\n",
    "\n",
    "        plt.tight_layout(rect=[0, 0, 1, 0.97])\n",
    "        save_path = os.path.join(save_folder, f\"minimax_variation_{vary_parameter}_depth_{max_depth}.png\")\n",
    "        plt.savefig(save_path, facecolor='white')\n",
    "        plt.close()"
   ],
   "id": "8d58bed70f9f7ce0",
   "outputs": [],
   "execution_count": 7
  },
  {
   "metadata": {
    "ExecuteTime": {
     "end_time": "2025-05-14T18:09:52.496042Z",
     "start_time": "2025-05-14T18:09:52.493601Z"
    }
   },
   "cell_type": "code",
   "source": [
    "EPISODES = 10000\n",
    "\n",
    "PILE_COUNT = 4\n",
    "MAX_PILE = 127"
   ],
   "id": "6e68bcaf6b1623b8",
   "outputs": [],
   "execution_count": 8
  },
  {
   "metadata": {
    "ExecuteTime": {
     "end_time": "2025-05-14T18:09:55.044339Z",
     "start_time": "2025-05-14T18:09:52.519169Z"
    }
   },
   "cell_type": "code",
   "source": [
    "for max_depth in [1, 2]:\n",
    "    misere_agents = [\n",
    "        MinimaxAgentV1(misere=True, max_depth=max_depth),\n",
    "        MinimaxAgentV2(misere=True, max_depth=max_depth),\n",
    "        MinimaxAgentV3(misere=True, max_depth=max_depth)\n",
    "    ]\n",
    "\n",
    "    normal_agents = [\n",
    "        MinimaxAgentV1(misere=False, max_depth=max_depth),\n",
    "        MinimaxAgentV2(misere=False, max_depth=max_depth),\n",
    "        MinimaxAgentV3(misere=False, max_depth=max_depth)\n",
    "    ]\n",
    "\n",
    "    for pile_count in [2, 4, 8]:\n",
    "        run_tests(*misere_agents, *normal_agents, max_depth, pile_count, MAX_PILE, EPISODES, \"savedData/Minimax\")\n",
    "\n",
    "    for max_pile in [63, 255]:\n",
    "        run_tests(*misere_agents, *normal_agents, max_depth, PILE_COUNT, max_pile, EPISODES, \"savedData/Minimax\")"
   ],
   "id": "39403c5442a69651",
   "outputs": [
    {
     "name": "stdout",
     "output_type": "stream",
     "text": [
      "------------------------------------------------------------\n",
      "\tTestare cu max_depth=1, pile_count=2, max_pile=127\n",
      "------------------------------------------------------------\n"
     ]
    },
    {
     "name": "stderr",
     "output_type": "stream",
     "text": [
      " 24%|██▍       | 2442/10000 [00:02<00:07, 999.99it/s] \n"
     ]
    },
    {
     "ename": "KeyboardInterrupt",
     "evalue": "",
     "output_type": "error",
     "traceback": [
      "\u001B[0;31m---------------------------------------------------------------------------\u001B[0m",
      "\u001B[0;31mKeyboardInterrupt\u001B[0m                         Traceback (most recent call last)",
      "Cell \u001B[0;32mIn[9], line 15\u001B[0m\n\u001B[1;32m      8\u001B[0m normal_agents \u001B[38;5;241m=\u001B[39m [\n\u001B[1;32m      9\u001B[0m     MinimaxAgentV1(misere\u001B[38;5;241m=\u001B[39m\u001B[38;5;28;01mFalse\u001B[39;00m, max_depth\u001B[38;5;241m=\u001B[39mmax_depth),\n\u001B[1;32m     10\u001B[0m     MinimaxAgentV2(misere\u001B[38;5;241m=\u001B[39m\u001B[38;5;28;01mFalse\u001B[39;00m, max_depth\u001B[38;5;241m=\u001B[39mmax_depth),\n\u001B[1;32m     11\u001B[0m     MinimaxAgentV3(misere\u001B[38;5;241m=\u001B[39m\u001B[38;5;28;01mFalse\u001B[39;00m, max_depth\u001B[38;5;241m=\u001B[39mmax_depth)\n\u001B[1;32m     12\u001B[0m ]\n\u001B[1;32m     14\u001B[0m \u001B[38;5;28;01mfor\u001B[39;00m pile_count \u001B[38;5;129;01min\u001B[39;00m [\u001B[38;5;241m2\u001B[39m, \u001B[38;5;241m4\u001B[39m, \u001B[38;5;241m8\u001B[39m]:\n\u001B[0;32m---> 15\u001B[0m     \u001B[43mrun_tests\u001B[49m\u001B[43m(\u001B[49m\u001B[38;5;241;43m*\u001B[39;49m\u001B[43mmisere_agents\u001B[49m\u001B[43m,\u001B[49m\u001B[43m \u001B[49m\u001B[38;5;241;43m*\u001B[39;49m\u001B[43mnormal_agents\u001B[49m\u001B[43m,\u001B[49m\u001B[43m \u001B[49m\u001B[43mmax_depth\u001B[49m\u001B[43m,\u001B[49m\u001B[43m \u001B[49m\u001B[43mpile_count\u001B[49m\u001B[43m,\u001B[49m\u001B[43m \u001B[49m\u001B[43mMAX_PILE\u001B[49m\u001B[43m,\u001B[49m\u001B[43m \u001B[49m\u001B[43mEPISODES\u001B[49m\u001B[43m,\u001B[49m\u001B[43m \u001B[49m\u001B[38;5;124;43m\"\u001B[39;49m\u001B[38;5;124;43msavedData/Minimax\u001B[39;49m\u001B[38;5;124;43m\"\u001B[39;49m\u001B[43m)\u001B[49m\n\u001B[1;32m     17\u001B[0m \u001B[38;5;28;01mfor\u001B[39;00m max_pile \u001B[38;5;129;01min\u001B[39;00m [\u001B[38;5;241m63\u001B[39m, \u001B[38;5;241m255\u001B[39m]:\n\u001B[1;32m     18\u001B[0m     run_tests(\u001B[38;5;241m*\u001B[39mmisere_agents, \u001B[38;5;241m*\u001B[39mnormal_agents, max_depth, PILE_COUNT, max_pile, EPISODES, \u001B[38;5;124m\"\u001B[39m\u001B[38;5;124msavedData/Minimax\u001B[39m\u001B[38;5;124m\"\u001B[39m)\n",
      "Cell \u001B[0;32mIn[6], line 19\u001B[0m, in \u001B[0;36mrun_tests\u001B[0;34m(agent_v1, agent_v2, agent_v3, normal_v1, normal_v2, normal_v3, max_depth, pile_count, max_pile, episodes, save_path_prefix)\u001B[0m\n\u001B[1;32m     15\u001B[0m \u001B[38;5;28mprint\u001B[39m(\u001B[38;5;124m\"\u001B[39m\u001B[38;5;124m-\u001B[39m\u001B[38;5;124m\"\u001B[39m \u001B[38;5;241m*\u001B[39m \u001B[38;5;241m60\u001B[39m)\n\u001B[1;32m     16\u001B[0m misere_modes \u001B[38;5;241m=\u001B[39m np\u001B[38;5;241m.\u001B[39mrandom\u001B[38;5;241m.\u001B[39mchoice([\u001B[38;5;28;01mTrue\u001B[39;00m, \u001B[38;5;28;01mFalse\u001B[39;00m], size\u001B[38;5;241m=\u001B[39mepisodes)\n\u001B[1;32m     18\u001B[0m results \u001B[38;5;241m=\u001B[39m {\n\u001B[0;32m---> 19\u001B[0m     \u001B[38;5;124m'\u001B[39m\u001B[38;5;124mv1\u001B[39m\u001B[38;5;124m'\u001B[39m: \u001B[43mtest_agent\u001B[49m\u001B[43m(\u001B[49m\u001B[43magent_v1\u001B[49m\u001B[43m,\u001B[49m\u001B[43m \u001B[49m\u001B[43mnormal_v1\u001B[49m\u001B[43m,\u001B[49m\u001B[43m \u001B[49m\u001B[43mmisere_modes\u001B[49m\u001B[43m,\u001B[49m\u001B[43m \u001B[49m\u001B[43minitial_piles\u001B[49m\u001B[43m)\u001B[49m,\n\u001B[1;32m     20\u001B[0m     \u001B[38;5;124m'\u001B[39m\u001B[38;5;124mv2\u001B[39m\u001B[38;5;124m'\u001B[39m: test_agent(agent_v2, normal_v2, misere_modes, initial_piles),\n\u001B[1;32m     21\u001B[0m     \u001B[38;5;124m'\u001B[39m\u001B[38;5;124mv3\u001B[39m\u001B[38;5;124m'\u001B[39m: test_agent(agent_v3, normal_v3, misere_modes, initial_piles),\n\u001B[1;32m     22\u001B[0m }\n\u001B[1;32m     24\u001B[0m \u001B[38;5;28;01mfor\u001B[39;00m version, result \u001B[38;5;129;01min\u001B[39;00m results\u001B[38;5;241m.\u001B[39mitems():\n\u001B[1;32m     25\u001B[0m     \u001B[38;5;28;01mif\u001B[39;00m \u001B[38;5;129;01mnot\u001B[39;00m classic_configuration:\n",
      "Cell \u001B[0;32mIn[5], line 14\u001B[0m, in \u001B[0;36mtest_agent\u001B[0;34m(_misereAgent, _normalAgent, _misere, _initial_piles)\u001B[0m\n\u001B[1;32m      7\u001B[0m game \u001B[38;5;241m=\u001B[39m Nim(\n\u001B[1;32m      8\u001B[0m     initial_piles\u001B[38;5;241m=\u001B[39m_initial_piles[i],\n\u001B[1;32m      9\u001B[0m     misere\u001B[38;5;241m=\u001B[39m_misere[i]\n\u001B[1;32m     10\u001B[0m )\n\u001B[1;32m     12\u001B[0m agent \u001B[38;5;241m=\u001B[39m _misereAgent \u001B[38;5;28;01mif\u001B[39;00m _misere[i] \u001B[38;5;28;01melse\u001B[39;00m _normalAgent\n\u001B[0;32m---> 14\u001B[0m winner \u001B[38;5;241m=\u001B[39m \u001B[43mgame\u001B[49m\u001B[38;5;241;43m.\u001B[39;49m\u001B[43mplay\u001B[49m\u001B[43m(\u001B[49m\n\u001B[1;32m     15\u001B[0m \u001B[43m    \u001B[49m\u001B[43mplayer1\u001B[49m\u001B[38;5;241;43m=\u001B[39;49m\u001B[43magent\u001B[49m\u001B[43m,\u001B[49m\n\u001B[1;32m     16\u001B[0m \u001B[43m    \u001B[49m\u001B[43mplayer2\u001B[49m\u001B[38;5;241;43m=\u001B[39;49m\u001B[43magent\u001B[49m\u001B[43m,\u001B[49m\n\u001B[1;32m     17\u001B[0m \u001B[43m    \u001B[49m\u001B[43mverbose\u001B[49m\u001B[38;5;241;43m=\u001B[39;49m\u001B[38;5;28;43;01mFalse\u001B[39;49;00m\n\u001B[1;32m     18\u001B[0m \u001B[43m\u001B[49m\u001B[43m)\u001B[49m\n\u001B[1;32m     20\u001B[0m \u001B[38;5;28;01massert\u001B[39;00m winner \u001B[38;5;241m==\u001B[39m NimLogic\u001B[38;5;241m.\u001B[39mis_p_position(_initial_piles[i], _misere[i])\n\u001B[1;32m     22\u001B[0m agent\u001B[38;5;241m.\u001B[39mcompute_mean_nodes()\n",
      "File \u001B[0;32m~/PycharmProjects/reinforcement_learning_nim/Nim/Nim.py:45\u001B[0m, in \u001B[0;36mNim.play\u001B[0;34m(self, player1, player2, verbose)\u001B[0m\n\u001B[1;32m     42\u001B[0m current_player \u001B[38;5;241m=\u001B[39m \u001B[38;5;28mself\u001B[39m\u001B[38;5;241m.\u001B[39mplayer\n\u001B[1;32m     43\u001B[0m current_agent \u001B[38;5;241m=\u001B[39m players[current_player]\n\u001B[0;32m---> 45\u001B[0m pile, count \u001B[38;5;241m=\u001B[39m \u001B[43mcurrent_agent\u001B[49m\u001B[38;5;241;43m.\u001B[39;49m\u001B[43mchoose_action\u001B[49m\u001B[43m(\u001B[49m\u001B[38;5;28;43mself\u001B[39;49m\u001B[38;5;241;43m.\u001B[39;49m\u001B[43mpiles\u001B[49m\u001B[43m)\u001B[49m\n\u001B[1;32m     47\u001B[0m \u001B[38;5;28;01mif\u001B[39;00m verbose:\n\u001B[1;32m     48\u001B[0m     \u001B[38;5;28mprint\u001B[39m(\u001B[38;5;124mf\u001B[39m\u001B[38;5;124m\"\u001B[39m\u001B[38;5;124mPlayer \u001B[39m\u001B[38;5;132;01m{\u001B[39;00m\u001B[38;5;28mint\u001B[39m(current_player)\u001B[38;5;250m \u001B[39m\u001B[38;5;241m+\u001B[39m\u001B[38;5;250m \u001B[39m\u001B[38;5;241m1\u001B[39m\u001B[38;5;132;01m}\u001B[39;00m\u001B[38;5;124m (\u001B[39m\u001B[38;5;132;01m{\u001B[39;00mcurrent_agent\u001B[38;5;241m.\u001B[39mname\u001B[38;5;132;01m}\u001B[39;00m\u001B[38;5;124m) takes \u001B[39m\u001B[38;5;132;01m{\u001B[39;00mcount\u001B[38;5;132;01m}\u001B[39;00m\u001B[38;5;124m from pile \u001B[39m\u001B[38;5;132;01m{\u001B[39;00mpile\u001B[38;5;132;01m}\u001B[39;00m\u001B[38;5;124m\"\u001B[39m)\n",
      "File \u001B[0;32m~/PycharmProjects/reinforcement_learning_nim/Agents/Minimax/MinimaxAgentV1.py:31\u001B[0m, in \u001B[0;36mMinimaxAgentV1.choose_action\u001B[0;34m(self, state)\u001B[0m\n\u001B[1;32m     28\u001B[0m \u001B[38;5;28;01mdef\u001B[39;00m\u001B[38;5;250m \u001B[39m\u001B[38;5;21mchoose_action\u001B[39m(\u001B[38;5;28mself\u001B[39m, state):\n\u001B[1;32m     29\u001B[0m     \u001B[38;5;28mself\u001B[39m\u001B[38;5;241m.\u001B[39mmoves_count \u001B[38;5;241m+\u001B[39m\u001B[38;5;241m=\u001B[39m \u001B[38;5;241m1\u001B[39m\n\u001B[0;32m---> 31\u001B[0m     _, best_action \u001B[38;5;241m=\u001B[39m \u001B[38;5;28;43mself\u001B[39;49m\u001B[38;5;241;43m.\u001B[39;49m\u001B[43m_minimax\u001B[49m\u001B[43m(\u001B[49m\u001B[43mstate\u001B[49m\u001B[43m,\u001B[49m\u001B[43m \u001B[49m\u001B[38;5;241;43m0\u001B[39;49m\u001B[43m,\u001B[49m\u001B[43m \u001B[49m\u001B[38;5;28;43mfloat\u001B[39;49m\u001B[43m(\u001B[49m\u001B[38;5;124;43m'\u001B[39;49m\u001B[38;5;124;43m-inf\u001B[39;49m\u001B[38;5;124;43m'\u001B[39;49m\u001B[43m)\u001B[49m\u001B[43m,\u001B[49m\u001B[43m \u001B[49m\u001B[38;5;28;43mfloat\u001B[39;49m\u001B[43m(\u001B[49m\u001B[38;5;124;43m'\u001B[39;49m\u001B[38;5;124;43minf\u001B[39;49m\u001B[38;5;124;43m'\u001B[39;49m\u001B[43m)\u001B[49m\u001B[43m,\u001B[49m\u001B[43m \u001B[49m\u001B[38;5;241;43m0\u001B[39;49m\u001B[43m)\u001B[49m\n\u001B[1;32m     33\u001B[0m     \u001B[38;5;28;01mreturn\u001B[39;00m best_action\n",
      "File \u001B[0;32m~/PycharmProjects/reinforcement_learning_nim/Agents/Minimax/MinimaxAgentV1.py:56\u001B[0m, in \u001B[0;36mMinimaxAgentV1._minimax\u001B[0;34m(self, state, player, alpha, beta, depth)\u001B[0m\n\u001B[1;32m     53\u001B[0m new_state \u001B[38;5;241m=\u001B[39m state\u001B[38;5;241m.\u001B[39mcopy()\n\u001B[1;32m     54\u001B[0m new_state[action[\u001B[38;5;241m0\u001B[39m]] \u001B[38;5;241m-\u001B[39m\u001B[38;5;241m=\u001B[39m action[\u001B[38;5;241m1\u001B[39m]\n\u001B[0;32m---> 56\u001B[0m new_value, _ \u001B[38;5;241m=\u001B[39m \u001B[38;5;28;43mself\u001B[39;49m\u001B[38;5;241;43m.\u001B[39;49m\u001B[43m_minimax\u001B[49m\u001B[43m(\u001B[49m\u001B[43mnew_state\u001B[49m\u001B[43m,\u001B[49m\u001B[43m \u001B[49m\u001B[38;5;241;43m1\u001B[39;49m\u001B[43m,\u001B[49m\u001B[43m \u001B[49m\u001B[43malpha\u001B[49m\u001B[43m,\u001B[49m\u001B[43m \u001B[49m\u001B[43mbeta\u001B[49m\u001B[43m,\u001B[49m\u001B[43m \u001B[49m\u001B[43mdepth\u001B[49m\u001B[43m \u001B[49m\u001B[38;5;241;43m+\u001B[39;49m\u001B[43m \u001B[49m\u001B[38;5;241;43m1\u001B[39;49m\u001B[43m)\u001B[49m\n\u001B[1;32m     57\u001B[0m \u001B[38;5;28;01mif\u001B[39;00m new_value \u001B[38;5;241m>\u001B[39m value:\n\u001B[1;32m     58\u001B[0m     value \u001B[38;5;241m=\u001B[39m new_value\n",
      "File \u001B[0;32m~/PycharmProjects/reinforcement_learning_nim/Agents/Minimax/MinimaxAgentV1.py:43\u001B[0m, in \u001B[0;36mMinimaxAgentV1._minimax\u001B[0;34m(self, state, player, alpha, beta, depth)\u001B[0m\n\u001B[1;32m     40\u001B[0m     \u001B[38;5;28;01mreturn\u001B[39;00m sign \u001B[38;5;241m*\u001B[39m (\u001B[38;5;28mself\u001B[39m\u001B[38;5;241m.\u001B[39mdefault \u001B[38;5;241m-\u001B[39m depth), \u001B[38;5;28;01mNone\u001B[39;00m\n\u001B[1;32m     42\u001B[0m \u001B[38;5;28;01mif\u001B[39;00m \u001B[38;5;28mself\u001B[39m\u001B[38;5;241m.\u001B[39mmax_depth \u001B[38;5;129;01mis\u001B[39;00m \u001B[38;5;129;01mnot\u001B[39;00m \u001B[38;5;28;01mNone\u001B[39;00m \u001B[38;5;129;01mand\u001B[39;00m depth \u001B[38;5;241m>\u001B[39m\u001B[38;5;241m=\u001B[39m \u001B[38;5;28mself\u001B[39m\u001B[38;5;241m.\u001B[39mmax_depth:\n\u001B[0;32m---> 43\u001B[0m     heuristic_score \u001B[38;5;241m=\u001B[39m \u001B[43mNimLogic\u001B[49m\u001B[38;5;241;43m.\u001B[39;49m\u001B[43mheuristic_evaluation\u001B[49m\u001B[43m(\u001B[49m\u001B[43mstate\u001B[49m\u001B[43m,\u001B[49m\u001B[43m \u001B[49m\u001B[38;5;28;43mself\u001B[39;49m\u001B[38;5;241;43m.\u001B[39;49m\u001B[43mmisere\u001B[49m\u001B[43m)\u001B[49m\n\u001B[1;32m     44\u001B[0m     \u001B[38;5;28;01mreturn\u001B[39;00m \u001B[38;5;241m-\u001B[39mheuristic_score \u001B[38;5;28;01mif\u001B[39;00m player \u001B[38;5;241m==\u001B[39m \u001B[38;5;241m0\u001B[39m \u001B[38;5;28;01melse\u001B[39;00m heuristic_score, \u001B[38;5;28;01mNone\u001B[39;00m\n\u001B[1;32m     46\u001B[0m actions \u001B[38;5;241m=\u001B[39m NimLogic\u001B[38;5;241m.\u001B[39mavailable_actions(state)\n",
      "File \u001B[0;32m~/PycharmProjects/reinforcement_learning_nim/Nim/NimLogic.py:39\u001B[0m, in \u001B[0;36mNimLogic.heuristic_evaluation\u001B[0;34m(state, misere)\u001B[0m\n\u001B[1;32m     37\u001B[0m         score \u001B[38;5;241m=\u001B[39m \u001B[38;5;241m50\u001B[39m\n\u001B[1;32m     38\u001B[0m \u001B[38;5;28;01melse\u001B[39;00m:\n\u001B[0;32m---> 39\u001B[0m     score \u001B[38;5;241m=\u001B[39m \u001B[38;5;241m10\u001B[39m \u001B[38;5;28;01mif\u001B[39;00m \u001B[43mNimLogic\u001B[49m\u001B[38;5;241;43m.\u001B[39;49m\u001B[43mnim_sum\u001B[49m\u001B[43m(\u001B[49m\u001B[43mstate\u001B[49m\u001B[43m)\u001B[49m \u001B[38;5;241m==\u001B[39m \u001B[38;5;241m0\u001B[39m \u001B[38;5;28;01melse\u001B[39;00m \u001B[38;5;241m-\u001B[39m\u001B[38;5;241m10\u001B[39m\n\u001B[1;32m     41\u001B[0m \u001B[38;5;28;01mreturn\u001B[39;00m score\n",
      "File \u001B[0;32m~/PycharmProjects/reinforcement_learning_nim/Nim/NimLogic.py:19\u001B[0m, in \u001B[0;36mNimLogic.nim_sum\u001B[0;34m(state)\u001B[0m\n\u001B[1;32m     17\u001B[0m \u001B[38;5;129m@staticmethod\u001B[39m\n\u001B[1;32m     18\u001B[0m \u001B[38;5;28;01mdef\u001B[39;00m\u001B[38;5;250m \u001B[39m\u001B[38;5;21mnim_sum\u001B[39m(state):\n\u001B[0;32m---> 19\u001B[0m     \u001B[38;5;28;01mreturn\u001B[39;00m \u001B[43mnp\u001B[49m\u001B[38;5;241;43m.\u001B[39;49m\u001B[43mbitwise_xor\u001B[49m\u001B[38;5;241;43m.\u001B[39;49m\u001B[43mreduce\u001B[49m\u001B[43m(\u001B[49m\u001B[43mstate\u001B[49m\u001B[43m)\u001B[49m\n",
      "\u001B[0;31mKeyboardInterrupt\u001B[0m: "
     ]
    }
   ],
   "execution_count": 9
  },
  {
   "metadata": {
    "ExecuteTime": {
     "end_time": "2025-05-14T18:09:55.046534Z",
     "start_time": "2025-05-14T17:04:44.062201Z"
    }
   },
   "cell_type": "code",
   "source": [
    "plot_results(vary_parameter=\"heap_count\", max_depth_values=[1, 2], vary_values=[2, 4, 8], fixed_pile_count=PILE_COUNT, fixed_max_pile=MAX_PILE)\n",
    "plot_results(vary_parameter=\"max_heap\", max_depth_values=[1, 2], vary_values=[63, 127, 255], fixed_pile_count=PILE_COUNT, fixed_max_pile=MAX_PILE)"
   ],
   "id": "fc96521e821241f0",
   "outputs": [],
   "execution_count": 84
  },
  {
   "metadata": {},
   "cell_type": "markdown",
   "source": "# Max Depth testing on Smaller Configuration",
   "id": "b247608d489d112e"
  },
  {
   "metadata": {
    "ExecuteTime": {
     "end_time": "2025-05-14T18:09:55.050179Z",
     "start_time": "2025-05-14T17:04:48.325404Z"
    }
   },
   "cell_type": "code",
   "source": [
    "EPISODES = 10000\n",
    "\n",
    "PILE_COUNT = 3\n",
    "MAX_PILE = 5\n",
    "\n",
    "MAX_DEPTH = 9999"
   ],
   "id": "253fe7ad0c055649",
   "outputs": [],
   "execution_count": 85
  },
  {
   "metadata": {
    "ExecuteTime": {
     "end_time": "2025-05-14T18:09:55.050990Z",
     "start_time": "2025-05-14T10:51:15.043080Z"
    }
   },
   "cell_type": "code",
   "source": [
    "misere_agents = [\n",
    "    MinimaxAgentV1(misere=True, max_depth=MAX_DEPTH),\n",
    "    MinimaxAgentV2(misere=True, max_depth=MAX_DEPTH),\n",
    "    MinimaxAgentV3(misere=True, max_depth=MAX_DEPTH)\n",
    "]\n",
    "\n",
    "normal_agents = [\n",
    "    MinimaxAgentV1(misere=False, max_depth=MAX_DEPTH),\n",
    "    MinimaxAgentV2(misere=False, max_depth=MAX_DEPTH),\n",
    "    MinimaxAgentV3(misere=False, max_depth=MAX_DEPTH)\n",
    "]\n",
    "\n",
    "for pile_count in [2, 3, 4]:\n",
    "    run_tests(*misere_agents, *normal_agents, MAX_DEPTH, pile_count, MAX_PILE, EPISODES, \"savedData/Minimax\")\n",
    "\n",
    "for max_pile in [3, 7]:\n",
    "    run_tests(*misere_agents, *normal_agents, MAX_DEPTH, PILE_COUNT, max_pile, EPISODES, \"savedData/Minimax\")"
   ],
   "id": "e89498c803872a5c",
   "outputs": [
    {
     "name": "stdout",
     "output_type": "stream",
     "text": [
      "------------------------------------------------------------\n",
      "\tTestare cu max_depth=9999, pile_count=2, max_pile=5\n",
      "------------------------------------------------------------\n"
     ]
    },
    {
     "name": "stderr",
     "output_type": "stream",
     "text": [
      "100%|██████████| 10000/10000 [00:02<00:00, 3994.60it/s]\n"
     ]
    },
    {
     "name": "stdout",
     "output_type": "stream",
     "text": [
      "average explored nodes per move:      58.16\n",
      "average explored nodes per game:     234.10\n",
      "average moves per game:                4.03\n"
     ]
    },
    {
     "name": "stderr",
     "output_type": "stream",
     "text": [
      "100%|██████████| 10000/10000 [00:00<00:00, 10284.07it/s]\n"
     ]
    },
    {
     "name": "stdout",
     "output_type": "stream",
     "text": [
      "average explored nodes per move:       8.37\n",
      "average explored nodes per game:      33.69\n",
      "average moves per game:                4.03\n"
     ]
    },
    {
     "name": "stderr",
     "output_type": "stream",
     "text": [
      "100%|██████████| 10000/10000 [00:00<00:00, 21121.21it/s]\n"
     ]
    },
    {
     "name": "stdout",
     "output_type": "stream",
     "text": [
      "average explored nodes per move:       5.52\n",
      "average explored nodes per game:      15.68\n",
      "average moves per game:                2.84\n",
      "------------------------------------------------------------\n",
      "\tTestare cu max_depth=9999, pile_count=3, max_pile=5\n",
      "------------------------------------------------------------\n"
     ]
    },
    {
     "name": "stderr",
     "output_type": "stream",
     "text": [
      "100%|██████████| 10000/10000 [00:43<00:00, 227.46it/s]\n"
     ]
    },
    {
     "name": "stdout",
     "output_type": "stream",
     "text": [
      "average explored nodes per move:     662.21\n",
      "average explored nodes per game:    3930.03\n",
      "average moves per game:                5.93\n"
     ]
    },
    {
     "name": "stderr",
     "output_type": "stream",
     "text": [
      "100%|██████████| 10000/10000 [00:05<00:00, 1810.20it/s]\n"
     ]
    },
    {
     "name": "stdout",
     "output_type": "stream",
     "text": [
      "average explored nodes per move:      34.04\n",
      "average explored nodes per game:     187.79\n",
      "average moves per game:                5.52\n"
     ]
    },
    {
     "name": "stderr",
     "output_type": "stream",
     "text": [
      "100%|██████████| 10000/10000 [00:01<00:00, 8985.57it/s]\n"
     ]
    },
    {
     "name": "stdout",
     "output_type": "stream",
     "text": [
      "average explored nodes per move:       9.05\n",
      "average explored nodes per game:      34.65\n",
      "average moves per game:                3.83\n",
      "------------------------------------------------------------\n",
      "\tTestare cu max_depth=9999, pile_count=4, max_pile=5\n",
      "------------------------------------------------------------\n"
     ]
    },
    {
     "name": "stderr",
     "output_type": "stream",
     "text": [
      "100%|██████████| 10000/10000 [1:27:13<00:00,  1.91it/s] \n"
     ]
    },
    {
     "name": "stdout",
     "output_type": "stream",
     "text": [
      "average explored nodes per move:   51691.29\n",
      "average explored nodes per game:  445733.96\n",
      "average moves per game:                8.62\n"
     ]
    },
    {
     "name": "stderr",
     "output_type": "stream",
     "text": [
      "100%|██████████| 10000/10000 [03:43<00:00, 44.82it/s]\n"
     ]
    },
    {
     "name": "stdout",
     "output_type": "stream",
     "text": [
      "average explored nodes per move:     966.10\n",
      "average explored nodes per game:    7404.61\n",
      "average moves per game:                7.66\n"
     ]
    },
    {
     "name": "stderr",
     "output_type": "stream",
     "text": [
      "100%|██████████| 10000/10000 [00:11<00:00, 899.23it/s]\n"
     ]
    },
    {
     "name": "stdout",
     "output_type": "stream",
     "text": [
      "average explored nodes per move:      65.89\n",
      "average explored nodes per game:     334.72\n",
      "average moves per game:                5.08\n",
      "------------------------------------------------------------\n",
      "\tTestare cu max_depth=9999, pile_count=3, max_pile=3\n",
      "------------------------------------------------------------\n"
     ]
    },
    {
     "name": "stderr",
     "output_type": "stream",
     "text": [
      "100%|██████████| 10000/10000 [00:01<00:00, 9648.92it/s]\n"
     ]
    },
    {
     "name": "stdout",
     "output_type": "stream",
     "text": [
      "average explored nodes per move:      22.10\n",
      "average explored nodes per game:      86.89\n",
      "average moves per game:                3.93\n"
     ]
    },
    {
     "name": "stderr",
     "output_type": "stream",
     "text": [
      "100%|██████████| 10000/10000 [00:00<00:00, 23099.54it/s]\n"
     ]
    },
    {
     "name": "stdout",
     "output_type": "stream",
     "text": [
      "average explored nodes per move:       3.52\n",
      "average explored nodes per game:      13.85\n",
      "average moves per game:                3.93\n"
     ]
    },
    {
     "name": "stderr",
     "output_type": "stream",
     "text": [
      "100%|██████████| 10000/10000 [00:00<00:00, 27467.77it/s]\n"
     ]
    },
    {
     "name": "stdout",
     "output_type": "stream",
     "text": [
      "average explored nodes per move:       3.24\n",
      "average explored nodes per game:      11.13\n",
      "average moves per game:                3.44\n",
      "------------------------------------------------------------\n",
      "\tTestare cu max_depth=9999, pile_count=3, max_pile=7\n",
      "------------------------------------------------------------\n"
     ]
    },
    {
     "name": "stderr",
     "output_type": "stream",
     "text": [
      "100%|██████████| 10000/10000 [1:33:30<00:00,  1.78it/s] \n"
     ]
    },
    {
     "name": "stdout",
     "output_type": "stream",
     "text": [
      "average explored nodes per move:   61401.74\n",
      "average explored nodes per game:  511200.21\n",
      "average moves per game:                8.33\n"
     ]
    },
    {
     "name": "stderr",
     "output_type": "stream",
     "text": [
      "100%|██████████| 10000/10000 [04:36<00:00, 36.23it/s]\n"
     ]
    },
    {
     "name": "stdout",
     "output_type": "stream",
     "text": [
      "average explored nodes per move:    1325.25\n",
      "average explored nodes per game:    9549.92\n",
      "average moves per game:                7.21\n"
     ]
    },
    {
     "name": "stderr",
     "output_type": "stream",
     "text": [
      "100%|██████████| 10000/10000 [00:05<00:00, 1847.34it/s]"
     ]
    },
    {
     "name": "stdout",
     "output_type": "stream",
     "text": [
      "average explored nodes per move:      41.46\n",
      "average explored nodes per game:     171.17\n",
      "average moves per game:                4.13\n"
     ]
    },
    {
     "name": "stderr",
     "output_type": "stream",
     "text": [
      "\n"
     ]
    }
   ],
   "execution_count": 11
  },
  {
   "metadata": {
    "ExecuteTime": {
     "end_time": "2025-05-14T18:09:55.051394Z",
     "start_time": "2025-05-14T17:04:50.944813Z"
    }
   },
   "cell_type": "code",
   "source": [
    "plot_results(vary_parameter=\"heap_count\", max_depth_values=[MAX_DEPTH], vary_values=[2, 3, 4], fixed_pile_count=PILE_COUNT, fixed_max_pile=MAX_PILE)\n",
    "plot_results(vary_parameter=\"max_heap\", max_depth_values=[MAX_DEPTH], vary_values=[3, 5, 7], fixed_pile_count=PILE_COUNT, fixed_max_pile=MAX_PILE)"
   ],
   "id": "332c19ff6a0593c4",
   "outputs": [],
   "execution_count": 86
  },
  {
   "metadata": {},
   "cell_type": "code",
   "outputs": [],
   "execution_count": null,
   "source": "",
   "id": "3e787fd45c407bc6"
  }
 ],
 "metadata": {
  "kernelspec": {
   "display_name": "Python 3",
   "language": "python",
   "name": "python3"
  },
  "language_info": {
   "codemirror_mode": {
    "name": "ipython",
    "version": 2
   },
   "file_extension": ".py",
   "mimetype": "text/x-python",
   "name": "python",
   "nbconvert_exporter": "python",
   "pygments_lexer": "ipython2",
   "version": "2.7.6"
  }
 },
 "nbformat": 4,
 "nbformat_minor": 5
}
