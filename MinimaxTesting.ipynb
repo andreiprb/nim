{
 "cells": [
  {
   "metadata": {},
   "cell_type": "markdown",
   "source": "# Imports",
   "id": "7b4c3b0961ac3b1e"
  },
  {
   "metadata": {},
   "cell_type": "code",
   "source": [
    "import os\n",
    "import numpy as np\n",
    "\n",
    "from tqdm import tqdm\n",
    "\n",
    "import matplotlib.pyplot as plt"
   ],
   "id": "f80b91b841340426",
   "outputs": [],
   "execution_count": null
  },
  {
   "cell_type": "code",
   "id": "initial_id",
   "metadata": {
    "collapsed": true
   },
   "source": [
    "from Nim.Nim import Nim\n",
    "from Nim.NimLogic import NimLogic\n",
    "\n",
    "from Agents.Minimax.MinimaxAgentV1 import MinimaxAgentV1\n",
    "from Agents.Minimax.MinimaxAgentV2 import MinimaxAgentV2\n",
    "from Agents.Minimax.MinimaxAgentV3 import MinimaxAgentV3"
   ],
   "outputs": [],
   "execution_count": null
  },
  {
   "metadata": {},
   "cell_type": "markdown",
   "source": "Random seed for reproducibility",
   "id": "b58a696a6f76ca45"
  },
  {
   "metadata": {},
   "cell_type": "code",
   "source": "np.random.seed(42)",
   "id": "2734ef9cdbee5047",
   "outputs": [],
   "execution_count": null
  },
  {
   "metadata": {},
   "cell_type": "markdown",
   "source": "# Agent Testing Function",
   "id": "38122e9bb8d5c6dd"
  },
  {
   "metadata": {},
   "cell_type": "code",
   "source": [
    "def test_agent(_misereAgent, _normalAgent, _misere, _initial_piles):\n",
    "    explored_nodes = np.ndarray(EPISODES)\n",
    "    moves_count = np.ndarray(EPISODES)\n",
    "    mean_nodes = np.ndarray(EPISODES)\n",
    "\n",
    "    for i in tqdm(range(EPISODES)):\n",
    "        game = Nim(\n",
    "            initial_piles=_initial_piles[i],\n",
    "            misere=_misere[i]\n",
    "        )\n",
    "\n",
    "        agent = _misereAgent if _misere[i] else _normalAgent\n",
    "\n",
    "        winner = game.play(\n",
    "            player1=agent,\n",
    "            player2=agent,\n",
    "            verbose=False\n",
    "        )\n",
    "\n",
    "        assert winner == NimLogic.is_p_position(_initial_piles[i], _misere[i])\n",
    "\n",
    "        agent.compute_mean_nodes()\n",
    "\n",
    "        mean_nodes[i] = agent.mean_nodes\n",
    "        moves_count[i] = agent.moves_count\n",
    "        explored_nodes[i] = agent.nodes_explored\n",
    "\n",
    "    weighted_mean_nodes = explored_nodes.sum() / moves_count.sum()\n",
    "    unweighted_mean_nodes = mean_nodes.mean()\n",
    "\n",
    "    avg_explored_nodes = explored_nodes.mean()\n",
    "    avg_moves_count = moves_count.mean()\n",
    "\n",
    "    values = [unweighted_mean_nodes, weighted_mean_nodes, avg_explored_nodes, avg_moves_count]\n",
    "\n",
    "    labels = [\n",
    "        \"unweighted average explored nodes per move:\",\n",
    "        \"weighted average explored nodes per move:\",\n",
    "        \"average explored nodes per game:\",\n",
    "        \"average moves per game:\"\n",
    "    ]\n",
    "\n",
    "    label_width = max(len(lbl) for lbl in labels)\n",
    "\n",
    "    for lbl, val in zip(labels, values):\n",
    "        print(f\"{lbl:<{label_width}} {val:>10.2f}\")\n",
    "\n",
    "    return explored_nodes, moves_count, mean_nodes"
   ],
   "id": "b1cb07b39efc962a",
   "outputs": [],
   "execution_count": null
  },
  {
   "metadata": {},
   "cell_type": "markdown",
   "source": "# Test running function",
   "id": "6a93f6ab20402a72"
  },
  {
   "metadata": {},
   "cell_type": "code",
   "source": [
    "def run_tests(agent_v1, agent_v2, agent_v3, normal_v1, normal_v2, normal_v3, max_depth, pile_count, max_pile, episodes, save_path_prefix):\n",
    "    os.makedirs(save_path_prefix, exist_ok=True)\n",
    "\n",
    "    print(\"-\" * 60)\n",
    "    classic_configuration = False\n",
    "\n",
    "    if pile_count == 0 or max_pile == 0 or max_depth == 0:\n",
    "        classic_configuration = True\n",
    "        initial_piles = np.tile([1, 3, 5, 7], (episodes, 1))\n",
    "        print(f\"\\tTestare fara max_depth, pe configuratia clasica\")\n",
    "    else:\n",
    "        initial_piles = np.random.randint(1, max_pile, size=(episodes, pile_count))\n",
    "        print(f\"\\tTestare cu max_depth={max_depth}, pile_count={pile_count}, max_pile={max_pile}\")\n",
    "\n",
    "    print(\"-\" * 60)\n",
    "    misere_modes = np.random.choice([True, False], size=episodes)\n",
    "\n",
    "    results = {\n",
    "        'v1': test_agent(agent_v1, normal_v1, misere_modes, initial_piles),\n",
    "        'v2': test_agent(agent_v2, normal_v2, misere_modes, initial_piles),\n",
    "        'v3': test_agent(agent_v3, normal_v3, misere_modes, initial_piles),\n",
    "    }\n",
    "\n",
    "    for version, result in results.items():\n",
    "        if not classic_configuration:\n",
    "            filename = f\"{save_path_prefix}/minimax-{version}-{max_depth}-{pile_count}-{max_pile}.npz\"\n",
    "        else:\n",
    "            filename = f\"{save_path_prefix}/minimax-{version}-{max_depth}-classic.npz\"\n",
    "        np.savez(filename, result)"
   ],
   "id": "d0d9196a22cda50f",
   "outputs": [],
   "execution_count": null
  },
  {
   "metadata": {},
   "cell_type": "markdown",
   "source": "# Plotting results",
   "id": "a690d1c8136d9dcb"
  },
  {
   "metadata": {
    "ExecuteTime": {
     "end_time": "2025-05-07T08:09:45.033181Z",
     "start_time": "2025-05-07T08:09:45.012010Z"
    }
   },
   "cell_type": "code",
   "source": [
    "def _first_existing_file(patterns):\n",
    "    for p in patterns:\n",
    "        if os.path.exists(p):\n",
    "            return p\n",
    "    return None\n",
    "\n",
    "def plot_results(vary_parameter,\n",
    "                 max_depth_values,\n",
    "                 vary_values,\n",
    "                 fixed_pile_count,\n",
    "                 fixed_max_pile,\n",
    "                 folder=\"savedData/Minimax\",\n",
    "                 save_folder=\"savedPlots/Minimax\"):\n",
    "    os.makedirs(save_folder, exist_ok=True)\n",
    "\n",
    "    models       = ['v1', 'v2', 'v3']\n",
    "    model_names  = ['Minimax V1', 'Minimax V2', 'Minimax V3']\n",
    "    colors       = ['#4B0082', '#4169E1', '#9370DB']\n",
    "    metric_labels = [\n",
    "        'Avg Nodes/Move',\n",
    "        'Avg Nodes/Game',\n",
    "        'Avg Moves/Game'\n",
    "    ]\n",
    "\n",
    "    bar_width = 0.3\n",
    "    x_indices = np.arange(len(vary_values))\n",
    "\n",
    "    for max_depth in max_depth_values:\n",
    "        fig, axes = plt.subplots(1, 3, figsize=(10, 4), facecolor='white', sharex=True)\n",
    "        axes = axes.ravel()\n",
    "\n",
    "        all_metrics = {m: {i: [] for i in range(3)} for m in models}\n",
    "\n",
    "        for vary_value in vary_values:\n",
    "            for model in models:\n",
    "                pile_count = vary_value if vary_parameter == \"pile_count\" else fixed_pile_count\n",
    "                max_pile   = fixed_max_pile if vary_parameter == \"pile_count\" else vary_value\n",
    "\n",
    "                candidate_files = [\n",
    "                    f\"{folder}/minimax-{model}-{max_depth}-{pile_count}-{max_pile}.npz\",\n",
    "                    f\"{folder}/minimax-{model}-{max_depth}-classic.npz\",\n",
    "                ]\n",
    "\n",
    "                filename = _first_existing_file(candidate_files)\n",
    "\n",
    "                if filename is None:\n",
    "                    print(f\"⚠️ Lipsă fișier pentru: depth={max_depth}, \"\n",
    "                          f\"{vary_parameter}={vary_value} → {candidate_files[-1].split('/')[-1]}\")\n",
    "                    for i in range(3):\n",
    "                        all_metrics[model][i].append(np.nan)\n",
    "                    continue\n",
    "\n",
    "                data                = np.load(filename)\n",
    "                test_data           = data.get('arr_0')\n",
    "                explored_nodes, moves_count, mean_nodes = test_data\n",
    "\n",
    "                metrics_values = [\n",
    "                    explored_nodes.sum() / moves_count.sum(),\n",
    "                    explored_nodes.mean(),\n",
    "                    moves_count.mean()\n",
    "                ]\n",
    "                for i in range(3):\n",
    "                    all_metrics[model][i].append(metrics_values[i])\n",
    "\n",
    "        for metric_idx, ax in enumerate(axes):\n",
    "            for model_idx, model in enumerate(models):\n",
    "                offset = -0.2 + 0.2 * model_idx\n",
    "                ax.bar(\n",
    "                    x_indices + offset,\n",
    "                    all_metrics[model][metric_idx],\n",
    "                    width=bar_width,\n",
    "                    color=colors[model_idx],\n",
    "                    alpha=1,\n",
    "                    # alpha=0.6 + 0.2 * model_idx,\n",
    "                    # edgecolor='black',\n",
    "                    # linewidth=0.8,\n",
    "                    label=model_names[model_idx]\n",
    "                )\n",
    "            ax.set_ylabel(metric_labels[metric_idx], fontsize=14)\n",
    "            ax.set_xlabel(vary_parameter.upper(), fontsize=14)\n",
    "            ax.set_xticks(x_indices)\n",
    "            ax.set_xticklabels(vary_values)\n",
    "            ax.grid(True, axis='y', alpha=0.3)\n",
    "            if metric_idx == 0:\n",
    "                ax.legend(loc='upper right')\n",
    "\n",
    "        plt.tight_layout(rect=[0, 0, 1, 0.97])\n",
    "\n",
    "        save_path = os.path.join(save_folder,\n",
    "                                 f\"variation_{vary_parameter}_depth_{max_depth}.png\")\n",
    "        plt.savefig(save_path, facecolor='white')\n",
    "        plt.close()\n"
   ],
   "id": "8d58bed70f9f7ce0",
   "outputs": [],
   "execution_count": 59
  },
  {
   "metadata": {},
   "cell_type": "code",
   "source": [
    "EPISODES = 10000\n",
    "\n",
    "PILE_COUNT = 4\n",
    "MAX_PILE = 127\n",
    "\n",
    "for max_depth in [1, 2]:\n",
    "    misere_agents = [\n",
    "        MinimaxAgentV1(misere=True, max_depth=max_depth),\n",
    "        MinimaxAgentV2(misere=True, max_depth=max_depth),\n",
    "        MinimaxAgentV3(misere=True, max_depth=max_depth)\n",
    "    ]\n",
    "\n",
    "    normal_agents = [\n",
    "        MinimaxAgentV1(misere=False, max_depth=max_depth),\n",
    "        MinimaxAgentV2(misere=False, max_depth=max_depth),\n",
    "        MinimaxAgentV3(misere=False, max_depth=max_depth)\n",
    "    ]\n",
    "\n",
    "    for pile_count in [2, 4, 8]:\n",
    "        run_tests(*misere_agents, *normal_agents, max_depth, pile_count, MAX_PILE, EPISODES, \"savedData/Minimax\")\n",
    "\n",
    "    for max_pile in [63, 255]:\n",
    "        run_tests(*misere_agents, *normal_agents, max_depth, PILE_COUNT, max_pile, EPISODES, \"savedData/Minimax\")"
   ],
   "id": "39403c5442a69651",
   "outputs": [],
   "execution_count": null
  },
  {
   "metadata": {},
   "cell_type": "code",
   "outputs": [],
   "execution_count": null,
   "source": [
    "plot_results(vary_parameter=\"pile_count\", max_depth_values=[1, 2], vary_values=[2, 4, 8], fixed_pile_count=4, fixed_max_pile=127)\n",
    "plot_results(vary_parameter=\"max_pile\", max_depth_values=[1, 2], vary_values=[63, 127, 255], fixed_pile_count=4, fixed_max_pile=127)"
   ],
   "id": "fc96521e821241f0"
  },
  {
   "metadata": {},
   "cell_type": "markdown",
   "source": "# Max Depth testing on Smaller Configuration",
   "id": "b247608d489d112e"
  },
  {
   "metadata": {
    "ExecuteTime": {
     "end_time": "2025-05-07T08:06:55.757605Z",
     "start_time": "2025-05-07T08:05:26.765386Z"
    }
   },
   "cell_type": "code",
   "source": [
    "EPISODES = 10000\n",
    "\n",
    "PILE_COUNT = 2\n",
    "MAX_PILE = 3\n",
    "\n",
    "MAX_DEPTH = 9999\n",
    "\n",
    "misere_agents = [\n",
    "    MinimaxAgentV1(misere=True, max_depth=MAX_DEPTH),\n",
    "    MinimaxAgentV2(misere=True, max_depth=MAX_DEPTH),\n",
    "    MinimaxAgentV3(misere=True, max_depth=MAX_DEPTH)\n",
    "]\n",
    "\n",
    "normal_agents = [\n",
    "    MinimaxAgentV1(misere=False, max_depth=MAX_DEPTH),\n",
    "    MinimaxAgentV2(misere=False, max_depth=MAX_DEPTH),\n",
    "    MinimaxAgentV3(misere=False, max_depth=MAX_DEPTH)\n",
    "]\n",
    "\n",
    "for pile_count in [2, 3, 4]:\n",
    "    run_tests(*misere_agents, *normal_agents, MAX_DEPTH, pile_count, MAX_PILE, EPISODES, \"savedData/Minimax\")\n",
    "\n",
    "for max_pile in [3, 5, 7]:\n",
    "    run_tests(*misere_agents, *normal_agents, MAX_DEPTH, PILE_COUNT, max_pile, EPISODES, \"savedData/Minimax\")"
   ],
   "id": "e89498c803872a5c",
   "outputs": [
    {
     "name": "stdout",
     "output_type": "stream",
     "text": [
      "------------------------------------------------------------\n",
      "\tTestare cu max_depth=9999, pile_count=2, max_pile=3\n",
      "------------------------------------------------------------\n"
     ]
    },
    {
     "name": "stderr",
     "output_type": "stream",
     "text": [
      "100%|██████████| 10000/10000 [00:00<00:00, 27311.43it/s]\n"
     ]
    },
    {
     "name": "stdout",
     "output_type": "stream",
     "text": [
      "unweighted average explored nodes per move:       6.90\n",
      "weighted average explored nodes per move:         7.50\n",
      "average explored nodes per game:                 19.59\n",
      "average moves per game:                           2.61\n"
     ]
    },
    {
     "name": "stderr",
     "output_type": "stream",
     "text": [
      "100%|██████████| 10000/10000 [00:00<00:00, 30943.45it/s]\n"
     ]
    },
    {
     "name": "stdout",
     "output_type": "stream",
     "text": [
      "unweighted average explored nodes per move:       2.52\n",
      "weighted average explored nodes per move:         2.69\n",
      "average explored nodes per game:                  7.02\n",
      "average moves per game:                           2.61\n"
     ]
    },
    {
     "name": "stderr",
     "output_type": "stream",
     "text": [
      "100%|██████████| 10000/10000 [00:00<00:00, 36959.01it/s]\n"
     ]
    },
    {
     "name": "stdout",
     "output_type": "stream",
     "text": [
      "unweighted average explored nodes per move:       2.35\n",
      "weighted average explored nodes per move:         2.40\n",
      "average explored nodes per game:                  5.69\n",
      "average moves per game:                           2.37\n",
      "------------------------------------------------------------\n",
      "\tTestare cu max_depth=9999, pile_count=3, max_pile=3\n",
      "------------------------------------------------------------\n"
     ]
    },
    {
     "name": "stderr",
     "output_type": "stream",
     "text": [
      "100%|██████████| 10000/10000 [00:01<00:00, 6429.76it/s]\n"
     ]
    },
    {
     "name": "stdout",
     "output_type": "stream",
     "text": [
      "unweighted average explored nodes per move:      20.75\n",
      "weighted average explored nodes per move:        22.14\n",
      "average explored nodes per game:                 86.95\n",
      "average moves per game:                           3.93\n"
     ]
    },
    {
     "name": "stderr",
     "output_type": "stream",
     "text": [
      "100%|██████████| 10000/10000 [00:00<00:00, 15987.19it/s]\n"
     ]
    },
    {
     "name": "stdout",
     "output_type": "stream",
     "text": [
      "unweighted average explored nodes per move:       3.40\n",
      "weighted average explored nodes per move:         3.52\n",
      "average explored nodes per game:                 13.83\n",
      "average moves per game:                           3.93\n"
     ]
    },
    {
     "name": "stderr",
     "output_type": "stream",
     "text": [
      "100%|██████████| 10000/10000 [00:00<00:00, 18815.98it/s]\n"
     ]
    },
    {
     "name": "stdout",
     "output_type": "stream",
     "text": [
      "unweighted average explored nodes per move:       3.21\n",
      "weighted average explored nodes per move:         3.23\n",
      "average explored nodes per game:                 11.10\n",
      "average moves per game:                           3.44\n",
      "------------------------------------------------------------\n",
      "\tTestare cu max_depth=9999, pile_count=4, max_pile=3\n",
      "------------------------------------------------------------\n"
     ]
    },
    {
     "name": "stderr",
     "output_type": "stream",
     "text": [
      "100%|██████████| 10000/10000 [00:11<00:00, 868.47it/s]\n"
     ]
    },
    {
     "name": "stdout",
     "output_type": "stream",
     "text": [
      "unweighted average explored nodes per move:     101.01\n",
      "weighted average explored nodes per move:       113.87\n",
      "average explored nodes per game:                630.07\n",
      "average moves per game:                           5.53\n"
     ]
    },
    {
     "name": "stderr",
     "output_type": "stream",
     "text": [
      "100%|██████████| 10000/10000 [00:02<00:00, 4385.95it/s]\n"
     ]
    },
    {
     "name": "stdout",
     "output_type": "stream",
     "text": [
      "unweighted average explored nodes per move:       8.55\n",
      "weighted average explored nodes per move:         8.90\n",
      "average explored nodes per game:                 49.24\n",
      "average moves per game:                           5.53\n"
     ]
    },
    {
     "name": "stderr",
     "output_type": "stream",
     "text": [
      "100%|██████████| 10000/10000 [00:01<00:00, 6084.07it/s]\n"
     ]
    },
    {
     "name": "stdout",
     "output_type": "stream",
     "text": [
      "unweighted average explored nodes per move:       6.96\n",
      "weighted average explored nodes per move:         7.04\n",
      "average explored nodes per game:                 33.22\n",
      "average moves per game:                           4.72\n",
      "------------------------------------------------------------\n",
      "\tTestare cu max_depth=9999, pile_count=2, max_pile=3\n",
      "------------------------------------------------------------\n"
     ]
    },
    {
     "name": "stderr",
     "output_type": "stream",
     "text": [
      "100%|██████████| 10000/10000 [00:00<00:00, 26655.21it/s]\n"
     ]
    },
    {
     "name": "stdout",
     "output_type": "stream",
     "text": [
      "unweighted average explored nodes per move:       7.04\n",
      "weighted average explored nodes per move:         7.67\n",
      "average explored nodes per game:                 20.22\n",
      "average moves per game:                           2.64\n"
     ]
    },
    {
     "name": "stderr",
     "output_type": "stream",
     "text": [
      "100%|██████████| 10000/10000 [00:00<00:00, 31870.18it/s]\n"
     ]
    },
    {
     "name": "stdout",
     "output_type": "stream",
     "text": [
      "unweighted average explored nodes per move:       2.57\n",
      "weighted average explored nodes per move:         2.75\n",
      "average explored nodes per game:                  7.24\n",
      "average moves per game:                           2.64\n"
     ]
    },
    {
     "name": "stderr",
     "output_type": "stream",
     "text": [
      "100%|██████████| 10000/10000 [00:00<00:00, 38325.36it/s]\n"
     ]
    },
    {
     "name": "stdout",
     "output_type": "stream",
     "text": [
      "unweighted average explored nodes per move:       2.40\n",
      "weighted average explored nodes per move:         2.45\n",
      "average explored nodes per game:                  5.81\n",
      "average moves per game:                           2.37\n",
      "------------------------------------------------------------\n",
      "\tTestare cu max_depth=9999, pile_count=2, max_pile=5\n",
      "------------------------------------------------------------\n"
     ]
    },
    {
     "name": "stderr",
     "output_type": "stream",
     "text": [
      "100%|██████████| 10000/10000 [00:03<00:00, 2658.76it/s]\n"
     ]
    },
    {
     "name": "stdout",
     "output_type": "stream",
     "text": [
      "unweighted average explored nodes per move:      41.66\n",
      "weighted average explored nodes per move:        59.57\n",
      "average explored nodes per game:                241.17\n",
      "average moves per game:                           4.05\n"
     ]
    },
    {
     "name": "stderr",
     "output_type": "stream",
     "text": [
      "100%|██████████| 10000/10000 [00:01<00:00, 7039.74it/s]\n"
     ]
    },
    {
     "name": "stdout",
     "output_type": "stream",
     "text": [
      "unweighted average explored nodes per move:       6.71\n",
      "weighted average explored nodes per move:         8.49\n",
      "average explored nodes per game:                 34.35\n",
      "average moves per game:                           4.05\n"
     ]
    },
    {
     "name": "stderr",
     "output_type": "stream",
     "text": [
      "100%|██████████| 10000/10000 [00:00<00:00, 14668.33it/s]\n"
     ]
    },
    {
     "name": "stdout",
     "output_type": "stream",
     "text": [
      "unweighted average explored nodes per move:       5.48\n",
      "weighted average explored nodes per move:         5.60\n",
      "average explored nodes per game:                 15.98\n",
      "average moves per game:                           2.85\n",
      "------------------------------------------------------------\n",
      "\tTestare cu max_depth=9999, pile_count=2, max_pile=7\n",
      "------------------------------------------------------------\n"
     ]
    },
    {
     "name": "stderr",
     "output_type": "stream",
     "text": [
      "100%|██████████| 10000/10000 [00:51<00:00, 193.64it/s]\n"
     ]
    },
    {
     "name": "stdout",
     "output_type": "stream",
     "text": [
      "unweighted average explored nodes per move:     358.11\n",
      "weighted average explored nodes per move:       634.05\n",
      "average explored nodes per game:               3420.70\n",
      "average moves per game:                           5.39\n"
     ]
    },
    {
     "name": "stderr",
     "output_type": "stream",
     "text": [
      "100%|██████████| 10000/10000 [00:09<00:00, 1053.58it/s]\n"
     ]
    },
    {
     "name": "stdout",
     "output_type": "stream",
     "text": [
      "unweighted average explored nodes per move:      27.73\n",
      "weighted average explored nodes per move:        42.84\n",
      "average explored nodes per game:                231.14\n",
      "average moves per game:                           5.39\n"
     ]
    },
    {
     "name": "stderr",
     "output_type": "stream",
     "text": [
      "100%|██████████| 10000/10000 [00:01<00:00, 5329.81it/s]"
     ]
    },
    {
     "name": "stdout",
     "output_type": "stream",
     "text": [
      "unweighted average explored nodes per move:      14.81\n",
      "weighted average explored nodes per move:        14.73\n",
      "average explored nodes per game:                 44.79\n",
      "average moves per game:                           3.04\n"
     ]
    },
    {
     "name": "stderr",
     "output_type": "stream",
     "text": [
      "\n"
     ]
    }
   ],
   "execution_count": 58
  },
  {
   "metadata": {
    "ExecuteTime": {
     "end_time": "2025-05-07T08:04:55.445625Z",
     "start_time": "2025-05-07T08:04:55.150387Z"
    }
   },
   "cell_type": "code",
   "source": [
    "plot_results(vary_parameter=\"pile_count\", max_depth_values=[9999], vary_values=[2, 3, 4], fixed_pile_count=3, fixed_max_pile=5)\n",
    "plot_results(vary_parameter=\"max_pile\", max_depth_values=[9999], vary_values=[3, 5, 7], fixed_pile_count=3, fixed_max_pile=5)"
   ],
   "id": "332c19ff6a0593c4",
   "outputs": [],
   "execution_count": 57
  },
  {
   "metadata": {},
   "cell_type": "markdown",
   "source": "# Max Depth Testing on Default Configuration (Fix for the sake of it)",
   "id": "ad0a0f789b4f4cc1"
  },
  {
   "metadata": {},
   "cell_type": "code",
   "outputs": [],
   "execution_count": null,
   "source": "# run_tests(*misere_agents, *normal_agents, MAX_DEPTH, 0, 0, EPISODES, \"savedData/Minimax\")",
   "id": "3f4fc0536c4edd65"
  },
  {
   "metadata": {
    "ExecuteTime": {
     "end_time": "2025-05-07T08:04:06.218434Z",
     "start_time": "2025-05-07T08:04:06.059977Z"
    }
   },
   "cell_type": "code",
   "source": "# plot_results(vary_parameter=\"pile_count\", max_depth_values=[9999], vary_values=[0], fixed_pile_count=0, fixed_max_pile=0)",
   "id": "550b0ba3b0cf1f45",
   "outputs": [],
   "execution_count": 56
  },
  {
   "metadata": {},
   "cell_type": "code",
   "outputs": [],
   "execution_count": null,
   "source": "",
   "id": "64aa5509e36659d1"
  }
 ],
 "metadata": {
  "kernelspec": {
   "display_name": "Python 3",
   "language": "python",
   "name": "python3"
  },
  "language_info": {
   "codemirror_mode": {
    "name": "ipython",
    "version": 2
   },
   "file_extension": ".py",
   "mimetype": "text/x-python",
   "name": "python",
   "nbconvert_exporter": "python",
   "pygments_lexer": "ipython2",
   "version": "2.7.6"
  }
 },
 "nbformat": 4,
 "nbformat_minor": 5
}
