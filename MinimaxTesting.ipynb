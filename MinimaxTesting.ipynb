{
 "cells": [
  {
   "metadata": {},
   "cell_type": "markdown",
   "source": "# Imports",
   "id": "7b4c3b0961ac3b1e"
  },
  {
   "metadata": {
    "ExecuteTime": {
     "end_time": "2025-04-27T21:12:16.887120Z",
     "start_time": "2025-04-27T21:12:16.728792Z"
    }
   },
   "cell_type": "code",
   "source": [
    "import os\n",
    "import numpy as np\n",
    "\n",
    "from tqdm import tqdm\n",
    "\n",
    "import matplotlib.pyplot as plt"
   ],
   "id": "f80b91b841340426",
   "outputs": [],
   "execution_count": 1
  },
  {
   "cell_type": "code",
   "id": "initial_id",
   "metadata": {
    "collapsed": true,
    "ExecuteTime": {
     "end_time": "2025-04-27T21:12:16.942894Z",
     "start_time": "2025-04-27T21:12:16.939131Z"
    }
   },
   "source": [
    "from Nim.Nim import Nim\n",
    "from Nim.NimLogic import NimLogic\n",
    "\n",
    "from Agents.Minimax.MinimaxAgentV1 import MinimaxAgentV1\n",
    "from Agents.Minimax.MinimaxAgentV2 import MinimaxAgentV2\n",
    "from Agents.Minimax.MinimaxAgentV3 import MinimaxAgentV3"
   ],
   "outputs": [],
   "execution_count": 2
  },
  {
   "metadata": {},
   "cell_type": "markdown",
   "source": "# Constants",
   "id": "6469a4493d07d6a7"
  },
  {
   "metadata": {
    "ExecuteTime": {
     "end_time": "2025-04-27T21:12:16.957815Z",
     "start_time": "2025-04-27T21:12:16.947545Z"
    }
   },
   "cell_type": "code",
   "source": [
    "# Random seed for reproducibility\n",
    "np.random.seed(42)\n",
    "\n",
    "# Test parameters\n",
    "EPISODES = 10000\n",
    "\n",
    "# Game parameters\n",
    "PILE_COUNT = 4\n",
    "MAX_PILE = 127\n",
    "\n",
    "# Minimax parameters\n",
    "MAX_DEPTH = 2"
   ],
   "id": "2734ef9cdbee5047",
   "outputs": [],
   "execution_count": 3
  },
  {
   "metadata": {},
   "cell_type": "markdown",
   "source": "# Agent Testing Function",
   "id": "38122e9bb8d5c6dd"
  },
  {
   "metadata": {
    "ExecuteTime": {
     "end_time": "2025-04-27T21:12:16.967528Z",
     "start_time": "2025-04-27T21:12:16.964955Z"
    }
   },
   "cell_type": "code",
   "source": [
    "def test_agent(_misereAgent, _normalAgent, _misere, _initial_piles):\n",
    "    explored_nodes = np.ndarray(EPISODES)\n",
    "    moves_count = np.ndarray(EPISODES)\n",
    "    mean_nodes = np.ndarray(EPISODES)\n",
    "\n",
    "    for i in tqdm(range(EPISODES)):\n",
    "        game = Nim(\n",
    "            initial_piles=_initial_piles[i],\n",
    "            misere=_misere[i]\n",
    "        )\n",
    "\n",
    "        agent = _misereAgent if _misere[i] else _normalAgent\n",
    "\n",
    "        winner = game.play(\n",
    "            player1=agent,\n",
    "            player2=agent,\n",
    "            verbose=False\n",
    "        )\n",
    "\n",
    "        assert winner == NimLogic.is_p_position(_initial_piles[i], _misere[i])\n",
    "\n",
    "        agent.compute_mean_nodes()\n",
    "\n",
    "        mean_nodes[i] = agent.mean_nodes\n",
    "        moves_count[i] = agent.moves_count\n",
    "        explored_nodes[i] = agent.nodes_explored\n",
    "\n",
    "    weighted_mean_nodes = explored_nodes.sum() / moves_count.sum()\n",
    "    unweighted_mean_nodes = mean_nodes.mean()\n",
    "\n",
    "    avg_explored_nodes = explored_nodes.mean()\n",
    "    avg_moves_count = moves_count.mean()\n",
    "\n",
    "    values = [unweighted_mean_nodes, weighted_mean_nodes, avg_explored_nodes, avg_moves_count]\n",
    "\n",
    "    labels = [\n",
    "        \"unweighted average explored nodes per move:\",\n",
    "        \"weighted average explored nodes per move:\",\n",
    "        \"average explored nodes per game:\",\n",
    "        \"average moves per game:\"\n",
    "    ]\n",
    "\n",
    "    label_width = max(len(lbl) for lbl in labels)\n",
    "\n",
    "    for lbl, val in zip(labels, values):\n",
    "        print(f\"{lbl:<{label_width}} {val:>10.2f}\")\n",
    "\n",
    "    return explored_nodes, moves_count, mean_nodes"
   ],
   "id": "b1cb07b39efc962a",
   "outputs": [],
   "execution_count": 4
  },
  {
   "metadata": {},
   "cell_type": "markdown",
   "source": "# Agent Initialization For First 2 Tests",
   "id": "22b09aed2923ca50"
  },
  {
   "metadata": {
    "ExecuteTime": {
     "end_time": "2025-04-27T21:12:16.974138Z",
     "start_time": "2025-04-27T21:12:16.972335Z"
    }
   },
   "cell_type": "code",
   "source": [
    "misereAgent1 = MinimaxAgentV1(misere=True, max_depth=MAX_DEPTH)\n",
    "misereAgent2 = MinimaxAgentV2(misere=True, max_depth=MAX_DEPTH)\n",
    "misereAgent3 = MinimaxAgentV3(misere=True, max_depth=MAX_DEPTH)\n",
    "\n",
    "normalAgent1 = MinimaxAgentV1(misere=False, max_depth=MAX_DEPTH)\n",
    "normalAgent2 = MinimaxAgentV2(misere=False, max_depth=MAX_DEPTH)\n",
    "normalAgent3 = MinimaxAgentV3(misere=False, max_depth=MAX_DEPTH)\n",
    "\n",
    "os.makedirs(\"savedData/Minimax\", exist_ok=True)"
   ],
   "id": "47d4f0ed4303df58",
   "outputs": [],
   "execution_count": 5
  },
  {
   "metadata": {},
   "cell_type": "markdown",
   "source": "# Random Game All Agent Test - Max Pile",
   "id": "6a93f6ab20402a72"
  },
  {
   "metadata": {
    "jupyter": {
     "is_executing": true
    },
    "ExecuteTime": {
     "start_time": "2025-04-27T21:12:16.979050Z"
    }
   },
   "cell_type": "code",
   "source": [
    "for i, max_pile in zip([0, 1, 2], [63, 127, 255]):\n",
    "    initial_piles = np.random.randint(1, max_pile, size=(EPISODES, PILE_COUNT))\n",
    "    misere = np.random.choice([True, False], size=EPISODES)\n",
    "\n",
    "    print(\"------------------------------------------------------------\")\n",
    "    print(f\"\\tTesting with max_depth={MAX_DEPTH}, pile_count={PILE_COUNT}, max_pile={max_pile}\")\n",
    "    print(\"------------------------------------------------------------\")\n",
    "\n",
    "    test_v1 = test_agent(misereAgent1, normalAgent1, misere, initial_piles)\n",
    "    test_v2 = test_agent(misereAgent2, normalAgent2, misere, initial_piles)\n",
    "    test_v3 = test_agent(misereAgent3, normalAgent3, misere, initial_piles)\n",
    "\n",
    "    np.savez(f\"savedData/Minimax/minimax-v1-{max_pile}-MAX-PILE.npz\", test_v1)\n",
    "    np.savez(f\"savedData/Minimax/minimax-v2-{max_pile}-MAX-PILE.npz\", test_v2)\n",
    "    np.savez(f\"savedData/Minimax/minimax-v3-{max_pile}-MAX-PILE.npz\", test_v3)"
   ],
   "id": "962a2de125248f9b",
   "outputs": [
    {
     "name": "stdout",
     "output_type": "stream",
     "text": [
      "------------------------------------------------------------\n",
      "\tTesting with max_depth=2, pile_count=4, max_pile=63\n",
      "------------------------------------------------------------\n"
     ]
    },
    {
     "name": "stderr",
     "output_type": "stream",
     "text": [
      "  1%|          | 86/10000 [00:02<04:18, 38.41it/s]"
     ]
    }
   ],
   "execution_count": null
  },
  {
   "metadata": {},
   "cell_type": "markdown",
   "source": "# Random Game All Agent Test - Pile Count\n",
   "id": "f14a22549905d597"
  },
  {
   "metadata": {},
   "cell_type": "code",
   "source": [
    "for i, pile_count in zip([0, 1, 2], [2, 4, 8]):\n",
    "    initial_piles = np.random.randint(1, MAX_PILE, size=(EPISODES, pile_count))\n",
    "    misere = np.random.choice([True, False], size=EPISODES)\n",
    "\n",
    "    print(\"------------------------------------------------------------\")\n",
    "    print(f\"\\tTesting with max_depth={MAX_DEPTH}, pile_count={pile_count}, max_pile={MAX_PILE}\")\n",
    "    print(\"------------------------------------------------------------\")\n",
    "\n",
    "    test_v1 = test_agent(misereAgent1, normalAgent1, misere, initial_piles)\n",
    "    test_v2 = test_agent(misereAgent2, normalAgent2, misere, initial_piles)\n",
    "    test_v3 = test_agent(misereAgent3, normalAgent3, misere, initial_piles)\n",
    "\n",
    "    np.savez(f\"savedData/Minimax/minimax-v1-{pile_count}-PILE-COUNT.npz\", test_v1)\n",
    "    np.savez(f\"savedData/Minimax/minimax-v2-{pile_count}-PILE-COUNT.npz\", test_v2)\n",
    "    np.savez(f\"savedData/Minimax/minimax-v3-{pile_count}-PILE-COUNT.npz\", test_v3)"
   ],
   "id": "526eb1122aed37b3",
   "outputs": [],
   "execution_count": null
  },
  {
   "metadata": {},
   "cell_type": "markdown",
   "source": "# Random Game All Agent Test - Max Depth\n",
   "id": "586f86fb4611f87d"
  },
  {
   "metadata": {},
   "cell_type": "code",
   "source": [
    "INITIAL_PILES = np.random.randint(1, MAX_PILE, size=(EPISODES, PILE_COUNT))\n",
    "MISERE = np.random.choice([True, False], size=EPISODES)\n",
    "\n",
    "for i, max_depth in zip([0, 1, 2], [1, 2, 3]):\n",
    "    _misereAgent1 = MinimaxAgentV1(misere=True, max_depth=max_depth)\n",
    "    _misereAgent2 = MinimaxAgentV2(misere=True, max_depth=max_depth)\n",
    "    _misereAgent3 = MinimaxAgentV3(misere=True, max_depth=max_depth)\n",
    "\n",
    "    _normalAgent1 = MinimaxAgentV1(misere=False, max_depth=max_depth)\n",
    "    _normalAgent2 = MinimaxAgentV2(misere=False, max_depth=max_depth)\n",
    "    _normalAgent3 = MinimaxAgentV3(misere=False, max_depth=max_depth)\n",
    "\n",
    "    print(\"------------------------------------------------------------\")\n",
    "    print(f\"\\tTesting with max_depth={max_depth}, pile_count={PILE_COUNT}, max_pile={MAX_PILE}\")\n",
    "    print(\"------------------------------------------------------------\")\n",
    "\n",
    "    test_v1 = test_agent(_misereAgent1, _normalAgent1, MISERE, INITIAL_PILES)\n",
    "    test_v2 = test_agent(_misereAgent2, _normalAgent2, MISERE, INITIAL_PILES)\n",
    "    test_v3 = test_agent(_misereAgent3, _normalAgent3, MISERE, INITIAL_PILES)\n",
    "\n",
    "    np.savez(f\"savedData/Minimax/minimax-v1-{max_depth}-MAX-DEPTH.npz\", test_v1)\n",
    "    np.savez(f\"savedData/Minimax/minimax-v2-{max_depth}-MAX-DEPTH.npz\", test_v2)\n",
    "    np.savez(f\"savedData/Minimax/minimax-v3-{max_depth}-MAX-DEPTH.npz\", test_v3)"
   ],
   "id": "9c8ce5b45cea5ed3",
   "outputs": [],
   "execution_count": null
  },
  {
   "metadata": {},
   "cell_type": "markdown",
   "source": "# Plotting results",
   "id": "a690d1c8136d9dcb"
  },
  {
   "metadata": {},
   "cell_type": "code",
   "source": [
    "def plot_results(test_type, values):\n",
    "    fig, axes = plt.subplots(2, 2, figsize=(15, 12))\n",
    "    axes = axes.ravel()\n",
    "\n",
    "    colors = ['#4B0082', '#4169E1', '#9370DB']\n",
    "    models = ['Minimax V1', 'Minimax V2', 'Minimax V3']\n",
    "    metrics = ['Unweighted Avg Nodes/Move', 'Weighted Avg Nodes/Move',\n",
    "              'Avg Nodes/Game', 'Avg Moves/Game']\n",
    "\n",
    "    for metric_idx in range(4):\n",
    "        ax = axes[metric_idx]\n",
    "\n",
    "        for model_idx, model in enumerate(['v1', 'v2', 'v3']):\n",
    "            metric_data = []\n",
    "\n",
    "            for val in values:\n",
    "                data = np.load(f\"minimax-{model}-{val}-{test_type}.npz\")\n",
    "                test_data = data.get('arr_0')\n",
    "\n",
    "                explored_nodes, moves_count, mean_nodes = test_data\n",
    "\n",
    "                if metric_idx == 0:\n",
    "                    metric_value = mean_nodes.mean()\n",
    "                elif metric_idx == 1:\n",
    "                    metric_value = explored_nodes.sum() / moves_count.sum()\n",
    "                elif metric_idx == 2:\n",
    "                    metric_value = explored_nodes.mean()\n",
    "                else:\n",
    "                    metric_value = moves_count.mean()\n",
    "\n",
    "                metric_data.append(metric_value)\n",
    "\n",
    "            ax.plot(values, metric_data, color=colors[model_idx],\n",
    "                   marker='o', label=models[model_idx])\n",
    "\n",
    "        ax.set_xlabel(test_type.replace('-', ' '))\n",
    "        ax.set_ylabel(metrics[metric_idx])\n",
    "        ax.grid(True, alpha=0.3)\n",
    "        if metric_idx == 0:\n",
    "            ax.legend()\n",
    "\n",
    "    plt.tight_layout()\n",
    "    plt.show()"
   ],
   "id": "8d58bed70f9f7ce0",
   "outputs": [],
   "execution_count": null
  },
  {
   "metadata": {},
   "cell_type": "code",
   "source": [
    "plot_results('MAX-PILE', [63, 127, 255])\n",
    "plot_results('PILE-COUNT', [2, 4, 8])\n",
    "plot_results('MAX-DEPTH', [1, 2, 3])"
   ],
   "id": "39403c5442a69651",
   "outputs": [],
   "execution_count": null
  }
 ],
 "metadata": {
  "kernelspec": {
   "display_name": "Python 3",
   "language": "python",
   "name": "python3"
  },
  "language_info": {
   "codemirror_mode": {
    "name": "ipython",
    "version": 2
   },
   "file_extension": ".py",
   "mimetype": "text/x-python",
   "name": "python",
   "nbconvert_exporter": "python",
   "pygments_lexer": "ipython2",
   "version": "2.7.6"
  }
 },
 "nbformat": 4,
 "nbformat_minor": 5
}
