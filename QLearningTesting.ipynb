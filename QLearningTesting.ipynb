{
 "cells": [
  {
   "metadata": {},
   "cell_type": "markdown",
   "source": "# Imports",
   "id": "76fd3fa0ec30752d"
  },
  {
   "cell_type": "code",
   "id": "initial_id",
   "metadata": {
    "collapsed": true,
    "ExecuteTime": {
     "end_time": "2025-04-28T13:23:01.621762Z",
     "start_time": "2025-04-28T13:23:01.460663Z"
    }
   },
   "source": [
    "import os\n",
    "import numpy as np\n",
    "\n",
    "from tqdm import tqdm\n",
    "\n",
    "import matplotlib.pyplot as plt"
   ],
   "outputs": [],
   "execution_count": 1
  },
  {
   "metadata": {
    "ExecuteTime": {
     "end_time": "2025-04-28T13:23:01.678417Z",
     "start_time": "2025-04-28T13:23:01.675044Z"
    }
   },
   "cell_type": "code",
   "source": [
    "from Nim.Nim import Nim\n",
    "from Nim.NimLogic import NimLogic\n",
    "\n",
    "from Agents.QLearning.QLearningAgentV1 import QLearningAgentV1"
   ],
   "id": "56089c1b894fb5db",
   "outputs": [],
   "execution_count": 2
  },
  {
   "metadata": {},
   "cell_type": "markdown",
   "source": "# Constants",
   "id": "7d7cc7186478603"
  },
  {
   "metadata": {
    "ExecuteTime": {
     "end_time": "2025-04-28T13:23:22.017572Z",
     "start_time": "2025-04-28T13:23:22.015132Z"
    }
   },
   "cell_type": "code",
   "source": [
    "# Random seed for reproducibility\n",
    "np.random.seed(42)\n",
    "\n",
    "# Training parameters\n",
    "EPISODES = 10000\n",
    "\n",
    "# Game parameters\n",
    "PILE_COUNT = 2\n",
    "MAX_PILE = 10\n",
    "MAX_PILES = [MAX_PILE] * PILE_COUNT"
   ],
   "id": "3a107fd7dc3d59ed",
   "outputs": [],
   "execution_count": 8
  },
  {
   "metadata": {
    "ExecuteTime": {
     "end_time": "2025-04-28T13:23:26.081545Z",
     "start_time": "2025-04-28T13:23:22.369794Z"
    }
   },
   "cell_type": "code",
   "source": [
    "misereAgent1 = QLearningAgentV1(\n",
    "    misere=True,\n",
    "    pile_count=PILE_COUNT,\n",
    "    max_pile=MAX_PILE,\n",
    "    alpha=0.5,\n",
    "    gamma=0.9,\n",
    "    epsilon=0.1,\n",
    "    decay_rate=0.9999\n",
    ")\n",
    "\n",
    "normalAgent1 = QLearningAgentV1(\n",
    "    misere=False,\n",
    "    pile_count=PILE_COUNT,\n",
    "    max_pile=MAX_PILE,\n",
    "    alpha=0.5,\n",
    "    gamma=0.9,\n",
    "    epsilon=0.1,\n",
    "    decay_rate=0.9999\n",
    ")"
   ],
   "id": "7e4637e05c8a64fd",
   "outputs": [
    {
     "name": "stderr",
     "output_type": "stream",
     "text": [
      "100%|██████████| 50000/50000 [00:01<00:00, 25822.07it/s]\n"
     ]
    },
    {
     "name": "stdout",
     "output_type": "stream",
     "text": [
      "Q-values saved to savedAgents/QLearning/qlearningV1-10-True.json\n",
      "Q-table dimensions: 435\n"
     ]
    },
    {
     "name": "stderr",
     "output_type": "stream",
     "text": [
      "100%|██████████| 50000/50000 [00:01<00:00, 28256.90it/s]"
     ]
    },
    {
     "name": "stdout",
     "output_type": "stream",
     "text": [
      "Q-values saved to savedAgents/QLearning/qlearningV1-10-False.json\n",
      "Q-table dimensions: 462\n"
     ]
    },
    {
     "name": "stderr",
     "output_type": "stream",
     "text": [
      "\n"
     ]
    }
   ],
   "execution_count": 9
  },
  {
   "metadata": {
    "ExecuteTime": {
     "end_time": "2025-04-28T13:23:01.798425Z",
     "start_time": "2025-04-28T13:23:01.796226Z"
    }
   },
   "cell_type": "code",
   "source": [
    "initial_piles = np.random.randint(1, MAX_PILE, size=(EPISODES, PILE_COUNT))\n",
    "misere = np.random.choice([True, False], EPISODES)"
   ],
   "id": "adedfa73b977bcad",
   "outputs": [],
   "execution_count": 5
  },
  {
   "metadata": {
    "ExecuteTime": {
     "end_time": "2025-04-28T13:23:01.809845Z",
     "start_time": "2025-04-28T13:23:01.807477Z"
    }
   },
   "cell_type": "code",
   "source": [
    "def test_agent(_misereAgent, _normalAgent, _misere, _initial_piles):\n",
    "    for i in tqdm(range(EPISODES)):\n",
    "        game = Nim(\n",
    "            initial_piles=_initial_piles[i],\n",
    "            misere=_misere[i]\n",
    "        )\n",
    "\n",
    "        agent = _misereAgent if _misere[i] else _normalAgent\n",
    "\n",
    "        winner = game.play(\n",
    "            player1=agent,\n",
    "            player2=agent,\n",
    "            verbose=False\n",
    "        )\n",
    "\n",
    "        assert winner == NimLogic.is_p_position(_initial_piles[i], _misere[i])"
   ],
   "id": "f71eb3e399a2e6f3",
   "outputs": [],
   "execution_count": 6
  },
  {
   "metadata": {
    "ExecuteTime": {
     "end_time": "2025-04-28T13:23:01.927859Z",
     "start_time": "2025-04-28T13:23:01.819321Z"
    }
   },
   "cell_type": "code",
   "source": "test_agent(misereAgent1, normalAgent1, misere, initial_piles)",
   "id": "5e9ae74796fdf7e1",
   "outputs": [
    {
     "name": "stderr",
     "output_type": "stream",
     "text": [
      "  0%|          | 0/10000 [00:00<?, ?it/s]\n"
     ]
    },
    {
     "ename": "AssertionError",
     "evalue": "",
     "output_type": "error",
     "traceback": [
      "\u001B[0;31m---------------------------------------------------------------------------\u001B[0m",
      "\u001B[0;31mAssertionError\u001B[0m                            Traceback (most recent call last)",
      "Cell \u001B[0;32mIn[7], line 1\u001B[0m\n\u001B[0;32m----> 1\u001B[0m \u001B[43mtest_agent\u001B[49m\u001B[43m(\u001B[49m\u001B[43mmisereAgent1\u001B[49m\u001B[43m,\u001B[49m\u001B[43m \u001B[49m\u001B[43mnormalAgent1\u001B[49m\u001B[43m,\u001B[49m\u001B[43m \u001B[49m\u001B[43mmisere\u001B[49m\u001B[43m,\u001B[49m\u001B[43m \u001B[49m\u001B[43minitial_piles\u001B[49m\u001B[43m)\u001B[49m\n",
      "Cell \u001B[0;32mIn[6], line 16\u001B[0m, in \u001B[0;36mtest_agent\u001B[0;34m(_misereAgent, _normalAgent, _misere, _initial_piles)\u001B[0m\n\u001B[1;32m      8\u001B[0m agent \u001B[38;5;241m=\u001B[39m _misereAgent \u001B[38;5;28;01mif\u001B[39;00m _misere[i] \u001B[38;5;28;01melse\u001B[39;00m _normalAgent\n\u001B[1;32m     10\u001B[0m winner \u001B[38;5;241m=\u001B[39m game\u001B[38;5;241m.\u001B[39mplay(\n\u001B[1;32m     11\u001B[0m     player1\u001B[38;5;241m=\u001B[39magent,\n\u001B[1;32m     12\u001B[0m     player2\u001B[38;5;241m=\u001B[39magent,\n\u001B[1;32m     13\u001B[0m     verbose\u001B[38;5;241m=\u001B[39m\u001B[38;5;28;01mFalse\u001B[39;00m\n\u001B[1;32m     14\u001B[0m )\n\u001B[0;32m---> 16\u001B[0m \u001B[38;5;28;01massert\u001B[39;00m winner \u001B[38;5;241m==\u001B[39m NimLogic\u001B[38;5;241m.\u001B[39mis_p_position(_initial_piles[i], _misere[i])\n",
      "\u001B[0;31mAssertionError\u001B[0m: "
     ]
    }
   ],
   "execution_count": 7
  }
 ],
 "metadata": {
  "kernelspec": {
   "display_name": "Python 3",
   "language": "python",
   "name": "python3"
  },
  "language_info": {
   "codemirror_mode": {
    "name": "ipython",
    "version": 2
   },
   "file_extension": ".py",
   "mimetype": "text/x-python",
   "name": "python",
   "nbconvert_exporter": "python",
   "pygments_lexer": "ipython2",
   "version": "2.7.6"
  }
 },
 "nbformat": 4,
 "nbformat_minor": 5
}
