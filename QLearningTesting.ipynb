{
 "cells": [
  {
   "metadata": {},
   "cell_type": "markdown",
   "source": "# Imports",
   "id": "76fd3fa0ec30752d"
  },
  {
   "cell_type": "code",
   "id": "initial_id",
   "metadata": {
    "collapsed": true
   },
   "source": [
    "import os\n",
    "import time\n",
    "import numpy as np\n",
    "\n",
    "from tqdm import tqdm\n",
    "\n",
    "import matplotlib.pyplot as plt"
   ],
   "outputs": [],
   "execution_count": null
  },
  {
   "metadata": {},
   "cell_type": "code",
   "source": [
    "from Nim.Nim import Nim\n",
    "from Nim.NimLogic import NimLogic\n",
    "\n",
    "from Agents.QLearning.QLearningAgentV1 import QLearningAgentV1"
   ],
   "id": "56089c1b894fb5db",
   "outputs": [],
   "execution_count": null
  },
  {
   "metadata": {},
   "cell_type": "markdown",
   "source": "# Constants",
   "id": "7d7cc7186478603"
  },
  {
   "metadata": {},
   "cell_type": "code",
   "source": [
    "# Random seed for reproducibility\n",
    "np.random.seed(42)\n",
    "\n",
    "# Training parameters\n",
    "EPISODES = 10000\n",
    "\n",
    "# Game parameters\n",
    "PILE_COUNT = 2\n",
    "MAX_PILE = 4\n",
    "MAX_PILES = [MAX_PILE] * PILE_COUNT\n",
    "\n",
    "# Q-Learning parameters\n",
    "ALPHA = 0.5\n",
    "GAMMA = 0.95\n",
    "EPSILON = 0.3\n",
    "DECAY_RATE = 0.9999\n",
    "NUM_EPISODES = 10000000"
   ],
   "id": "3a107fd7dc3d59ed",
   "outputs": [],
   "execution_count": null
  },
  {
   "metadata": {},
   "cell_type": "code",
   "source": [
    "misereAgent1 = QLearningAgentV1(\n",
    "    misere=True,\n",
    "    pile_count=PILE_COUNT,\n",
    "    max_pile=MAX_PILE,\n",
    "    alpha=ALPHA,\n",
    "    gamma=GAMMA,\n",
    "    epsilon=EPSILON,\n",
    "    decay_rate=DECAY_RATE,\n",
    "    num_episodes=NUM_EPISODES\n",
    ")\n",
    "\n",
    "normalAgent1 = QLearningAgentV1(\n",
    "    misere=False,\n",
    "    pile_count=PILE_COUNT,\n",
    "    max_pile=MAX_PILE,\n",
    "    alpha=ALPHA,\n",
    "    gamma=GAMMA,\n",
    "    epsilon=EPSILON,\n",
    "    decay_rate=DECAY_RATE,\n",
    "    num_episodes=NUM_EPISODES\n",
    ")"
   ],
   "id": "7e4637e05c8a64fd",
   "outputs": [],
   "execution_count": null
  },
  {
   "metadata": {},
   "cell_type": "code",
   "source": [
    "initial_piles = np.random.randint(1, MAX_PILE, size=(EPISODES, PILE_COUNT))\n",
    "misere = np.random.choice([True, False], EPISODES)"
   ],
   "id": "adedfa73b977bcad",
   "outputs": [],
   "execution_count": null
  },
  {
   "metadata": {},
   "cell_type": "code",
   "source": [
    "count = 0\n",
    "\n",
    "def test_agent(_misereAgent, _normalAgent, _misere, _initial_piles):\n",
    "    global count\n",
    "    for i in tqdm(range(EPISODES)):\n",
    "        game = Nim(\n",
    "            initial_piles=_initial_piles[i],\n",
    "            misere=_misere[i]\n",
    "        )\n",
    "\n",
    "        agent = _misereAgent if _misere[i] else _normalAgent\n",
    "\n",
    "        winner = game.play(\n",
    "            player1=agent,\n",
    "            player2=agent,\n",
    "            verbose=False\n",
    "        )\n",
    "\n",
    "        if winner == NimLogic.is_p_position(_initial_piles[i], _misere[i]):\n",
    "            count += 1"
   ],
   "id": "f71eb3e399a2e6f3",
   "outputs": [],
   "execution_count": null
  },
  {
   "metadata": {},
   "cell_type": "code",
   "source": [
    "test_agent(misereAgent1, normalAgent1, misere, initial_piles)\n",
    "print(count)\n"
   ],
   "id": "5e9ae74796fdf7e1",
   "outputs": [],
   "execution_count": null
  },
  {
   "metadata": {},
   "cell_type": "code",
   "source": "",
   "id": "440af49eb85119b3",
   "outputs": [],
   "execution_count": null
  }
 ],
 "metadata": {
  "kernelspec": {
   "display_name": "Python 3",
   "language": "python",
   "name": "python3"
  },
  "language_info": {
   "codemirror_mode": {
    "name": "ipython",
    "version": 2
   },
   "file_extension": ".py",
   "mimetype": "text/x-python",
   "name": "python",
   "nbconvert_exporter": "python",
   "pygments_lexer": "ipython2",
   "version": "2.7.6"
  }
 },
 "nbformat": 4,
 "nbformat_minor": 5
}
