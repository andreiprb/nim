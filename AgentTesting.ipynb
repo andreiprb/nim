{
 "cells": [
  {
   "metadata": {},
   "cell_type": "markdown",
   "source": "# Imports",
   "id": "7b4c3b0961ac3b1e"
  },
  {
   "metadata": {
    "ExecuteTime": {
     "end_time": "2025-04-25T12:15:18.393321Z",
     "start_time": "2025-04-25T12:15:18.371350Z"
    }
   },
   "cell_type": "code",
   "source": [
    "import numpy as np\n",
    "\n",
    "from tqdm import tqdm"
   ],
   "id": "f80b91b841340426",
   "outputs": [],
   "execution_count": 1
  },
  {
   "cell_type": "code",
   "id": "initial_id",
   "metadata": {
    "collapsed": true,
    "ExecuteTime": {
     "end_time": "2025-04-25T12:15:18.451856Z",
     "start_time": "2025-04-25T12:15:18.447310Z"
    }
   },
   "source": [
    "from nim.Nim import Nim\n",
    "\n",
    "from agents.Minimax.MinimaxAgentV1 import MinimaxAgentV1\n",
    "from agents.Minimax.MinimaxAgentV2 import MinimaxAgentV2\n",
    "\n",
    "from agents.QLearning.QLearningAgentV1 import QLearningAgentV1"
   ],
   "outputs": [],
   "execution_count": 2
  },
  {
   "metadata": {},
   "cell_type": "markdown",
   "source": "ParametrizedAgent class (helper)",
   "id": "8b6f4ab38e9d516"
  },
  {
   "metadata": {
    "ExecuteTime": {
     "end_time": "2025-04-25T12:15:18.459218Z",
     "start_time": "2025-04-25T12:15:18.457429Z"
    }
   },
   "cell_type": "code",
   "source": [
    "class ParametrizedAgent:\n",
    "    def __init__(self, agent_class, *param_names):\n",
    "        self.agent_class = agent_class\n",
    "        self.param_names = param_names\n",
    "\n",
    "    def __call__(self, **kwargs):\n",
    "        params = {k: v for k, v in kwargs.items() if k in self.param_names}\n",
    "        return self.agent_class(**params)\n",
    "\n",
    "# AGENT = ParametrizedAgent(MinimaxAgentV1, \"misere\", \"max_depth\")\n",
    "AGENT = ParametrizedAgent(MinimaxAgentV2, \"misere\", \"max_depth\")\n",
    "# AGENT = ParametrizedAgent(QLearningAgentV1, \"misere\", \"initial_piles\", \"alpha\", \"epsilon\", \"gamma\", \"decay_rate\")"
   ],
   "id": "abe2fd3436a584e4",
   "outputs": [],
   "execution_count": 3
  },
  {
   "metadata": {},
   "cell_type": "markdown",
   "source": "Constants",
   "id": "6469a4493d07d6a7"
  },
  {
   "metadata": {
    "ExecuteTime": {
     "end_time": "2025-04-25T12:15:18.469820Z",
     "start_time": "2025-04-25T12:15:18.468259Z"
    }
   },
   "cell_type": "code",
   "source": [
    "# Minimax Agents\n",
    "MAX_DEPTH = 1\n",
    "\n",
    "# QLearning Agents\n",
    "ALPHA = 0.5\n",
    "EPSILLON = 0.1\n",
    "GAMMA = 0.9\n",
    "DECAY_RATE = 0.9999"
   ],
   "id": "2734ef9cdbee5047",
   "outputs": [],
   "execution_count": 4
  },
  {
   "metadata": {},
   "cell_type": "markdown",
   "source": "Assert function (helper)",
   "id": "9b3d188180eca026"
  },
  {
   "metadata": {
    "ExecuteTime": {
     "end_time": "2025-04-25T12:15:18.478076Z",
     "start_time": "2025-04-25T12:15:18.476395Z"
    }
   },
   "cell_type": "code",
   "source": [
    "def hard_assert(_misere, _initial_piles, _winner):\n",
    "    piles = np.array(_initial_piles)\n",
    "\n",
    "    if _misere:\n",
    "        if np.all(piles <= 1):\n",
    "            assert _winner == np.sum(piles) % 2, \"Misere Nim - Corner Case\"\n",
    "\n",
    "    else:\n",
    "        assert _winner == int(np.bitwise_xor.reduce(piles) != _misere), f\"{'Misere' if misere else 'Normal'} Nim - All Cases\""
   ],
   "id": "c3957002d3e11593",
   "outputs": [],
   "execution_count": 5
  },
  {
   "metadata": {},
   "cell_type": "markdown",
   "source": "# Game Setup",
   "id": "caee15f67b9ae8b9"
  },
  {
   "metadata": {
    "ExecuteTime": {
     "end_time": "2025-04-25T12:15:18.486286Z",
     "start_time": "2025-04-25T12:15:18.484525Z"
    }
   },
   "cell_type": "code",
   "source": [
    "misere = True\n",
    "initial_piles = [1, 0, 3, 1]\n",
    "\n",
    "player1 = AGENT(misere=misere, initial_piles=initial_piles, max_depth=MAX_DEPTH)\n",
    "player2 = AGENT(misere=misere, initial_piles=initial_piles, max_depth=MAX_DEPTH)\n",
    "\n",
    "game = Nim(\n",
    "    initial_piles=initial_piles,\n",
    "    misere=misere\n",
    ")"
   ],
   "id": "12377bf62677145b",
   "outputs": [],
   "execution_count": 6
  },
  {
   "metadata": {},
   "cell_type": "markdown",
   "source": "## One game test (verbose)",
   "id": "8caf6e9c1c377962"
  },
  {
   "metadata": {
    "ExecuteTime": {
     "end_time": "2025-04-25T12:15:18.496195Z",
     "start_time": "2025-04-25T12:15:18.494545Z"
    }
   },
   "cell_type": "code",
   "source": [
    "winner = game.play(\n",
    "    player1=player1,\n",
    "    player2=player2,\n",
    "    verbose=True\n",
    ")\n",
    "\n",
    "hard_assert(misere, initial_piles, winner)"
   ],
   "id": "f97d02e6c6f50f43",
   "outputs": [
    {
     "name": "stdout",
     "output_type": "stream",
     "text": [
      "Misere game\n",
      "Piles: [1, 0, 3, 1]\n",
      "Player 1 (MinimaxV2 agent) takes 2 from pile 2\n",
      "Piles: [1, 0, 1, 1]\n",
      "Player 2 (MinimaxV2 agent) takes 1 from pile 0\n",
      "Piles: [0, 0, 1, 1]\n",
      "Player 1 (MinimaxV2 agent) takes 1 from pile 3\n",
      "Piles: [0, 0, 1, 0]\n",
      "Player 2 (MinimaxV2 agent) takes 1 from pile 2\n",
      "Player 1 (MinimaxV2 agent) wins!\n"
     ]
    }
   ],
   "execution_count": 7
  },
  {
   "metadata": {},
   "cell_type": "markdown",
   "source": "## 10k game test",
   "id": "dfa6aeed09cf028d"
  },
  {
   "metadata": {
    "ExecuteTime": {
     "end_time": "2025-04-25T12:15:18.524574Z",
     "start_time": "2025-04-25T12:15:18.506655Z"
    }
   },
   "cell_type": "code",
   "source": [
    "wins = [0, 0]\n",
    "\n",
    "for _ in range(10000):\n",
    "    winner = game.play(\n",
    "        player1=player1,\n",
    "        player2=player2,\n",
    "        verbose=False\n",
    "    )\n",
    "\n",
    "    hard_assert(misere, initial_piles, winner)\n",
    "    wins[winner] += 1"
   ],
   "id": "e2a35608cd8aa9d5",
   "outputs": [],
   "execution_count": 8
  },
  {
   "metadata": {},
   "cell_type": "markdown",
   "source": "## 10k random game test (Misere)",
   "id": "38122e9bb8d5c6dd"
  },
  {
   "metadata": {
    "ExecuteTime": {
     "end_time": "2025-04-25T12:16:04.579974Z",
     "start_time": "2025-04-25T12:15:18.529706Z"
    }
   },
   "cell_type": "code",
   "source": [
    "wins = [0, 0]\n",
    "\n",
    "for _ in tqdm(range(10000)):\n",
    "    misere = np.random.choice([True, False])\n",
    "    initial_piles = list(np.random.randint(1, 255, size=8))\n",
    "\n",
    "    player1 = AGENT(misere=misere, initial_piles=initial_piles, max_depth=MAX_DEPTH)\n",
    "    player2 = AGENT(misere=misere, initial_piles=initial_piles, max_depth=MAX_DEPTH)\n",
    "\n",
    "    game = Nim(\n",
    "        initial_piles=initial_piles,\n",
    "        misere=misere\n",
    "    )\n",
    "\n",
    "    winner = game.play(\n",
    "        player1=player1,\n",
    "        player2=player2,\n",
    "        verbose=False\n",
    "    )\n",
    "\n",
    "    hard_assert(misere, initial_piles, winner)\n",
    "    wins[winner] += 1"
   ],
   "id": "b1cb07b39efc962a",
   "outputs": [
    {
     "name": "stderr",
     "output_type": "stream",
     "text": [
      "100%|██████████| 10000/10000 [00:46<00:00, 217.20it/s]\n"
     ]
    }
   ],
   "execution_count": 9
  },
  {
   "metadata": {
    "ExecuteTime": {
     "end_time": "2025-04-25T12:16:04.586763Z",
     "start_time": "2025-04-25T12:16:04.585502Z"
    }
   },
   "cell_type": "code",
   "source": "",
   "id": "da7ed4512a7f5bca",
   "outputs": [],
   "execution_count": null
  }
 ],
 "metadata": {
  "kernelspec": {
   "display_name": "Python 3",
   "language": "python",
   "name": "python3"
  },
  "language_info": {
   "codemirror_mode": {
    "name": "ipython",
    "version": 2
   },
   "file_extension": ".py",
   "mimetype": "text/x-python",
   "name": "python",
   "nbconvert_exporter": "python",
   "pygments_lexer": "ipython2",
   "version": "2.7.6"
  }
 },
 "nbformat": 4,
 "nbformat_minor": 5
}
