{
 "cells": [
  {
   "metadata": {},
   "cell_type": "markdown",
   "source": "# Imports",
   "id": "7b4c3b0961ac3b1e"
  },
  {
   "metadata": {
    "ExecuteTime": {
     "end_time": "2025-04-25T16:36:38.564065Z",
     "start_time": "2025-04-25T16:36:38.542598Z"
    }
   },
   "cell_type": "code",
   "source": [
    "import numpy as np\n",
    "\n",
    "from tqdm import tqdm"
   ],
   "id": "f80b91b841340426",
   "outputs": [],
   "execution_count": 1
  },
  {
   "cell_type": "code",
   "id": "initial_id",
   "metadata": {
    "collapsed": true,
    "ExecuteTime": {
     "end_time": "2025-04-25T16:36:38.622554Z",
     "start_time": "2025-04-25T16:36:38.617881Z"
    }
   },
   "source": [
    "from nim.Nim import Nim\n",
    "\n",
    "from agents.Minimax.MinimaxAgentV1 import MinimaxAgentV1\n",
    "from agents.Minimax.MinimaxAgentV2 import MinimaxAgentV2\n",
    "\n",
    "from agents.QLearning.QLearningAgentV1 import QLearningAgentV1\n",
    "from agents.QLearning.QLearningAgentV2 import QLearningAgentV2"
   ],
   "outputs": [],
   "execution_count": 2
  },
  {
   "metadata": {},
   "cell_type": "markdown",
   "source": "ParametrizedAgent class (helper)",
   "id": "8b6f4ab38e9d516"
  },
  {
   "metadata": {
    "ExecuteTime": {
     "end_time": "2025-04-25T16:36:38.629563Z",
     "start_time": "2025-04-25T16:36:38.627763Z"
    }
   },
   "cell_type": "code",
   "source": [
    "class ParametrizedAgent:\n",
    "    def __init__(self, agent_class, *param_names):\n",
    "        self.agent_class = agent_class\n",
    "        self.param_names = param_names\n",
    "\n",
    "    def __call__(self, **kwargs):\n",
    "        params = {k: v for k, v in kwargs.items() if k in self.param_names}\n",
    "        return self.agent_class(**params)"
   ],
   "id": "abe2fd3436a584e4",
   "outputs": [],
   "execution_count": 3
  },
  {
   "metadata": {},
   "cell_type": "markdown",
   "source": "Agent selection",
   "id": "f44e6e251df13c61"
  },
  {
   "metadata": {
    "ExecuteTime": {
     "end_time": "2025-04-25T16:36:38.635263Z",
     "start_time": "2025-04-25T16:36:38.633871Z"
    }
   },
   "cell_type": "code",
   "source": [
    "# AGENT = ParametrizedAgent(MinimaxAgentV1, \"misere\", \"max_depth\")\n",
    "# AGENT = ParametrizedAgent(MinimaxAgentV2, \"misere\", \"max_depth\")\n",
    "\n",
    "# AGENT = ParametrizedAgent(QLearningAgentV1, \"misere\", \"max_piles\", \"alpha\", \"epsilon\", \"gamma\", \"decay_rate\")\n",
    "AGENT = ParametrizedAgent(QLearningAgentV2, \"misere\", \"max_piles\", \"alpha\", \"epsilon\", \"gamma\", \"decay_rate\")"
   ],
   "id": "6ccd39f2197b95ea",
   "outputs": [],
   "execution_count": 4
  },
  {
   "metadata": {},
   "cell_type": "markdown",
   "source": "Constants",
   "id": "6469a4493d07d6a7"
  },
  {
   "metadata": {
    "ExecuteTime": {
     "end_time": "2025-04-25T16:36:38.643712Z",
     "start_time": "2025-04-25T16:36:38.641992Z"
    }
   },
   "cell_type": "code",
   "source": [
    "# Game related\n",
    "MISERE = False\n",
    "MAX_PILE = 127\n",
    "PILE_COUNT = 8\n",
    "MAX_PILES = [MAX_PILE] * PILE_COUNT\n",
    "INITIAL_PILES = [21, 20, 19, 18, 56]\n",
    "\n",
    "# Minimax Agents\n",
    "MAX_DEPTH = 1\n",
    "\n",
    "# QLearning Agents\n",
    "ALPHA = 0.5\n",
    "EPSILLON = 0.1\n",
    "GAMMA = 0.9\n",
    "DECAY_RATE = 0.9999"
   ],
   "id": "2734ef9cdbee5047",
   "outputs": [],
   "execution_count": 5
  },
  {
   "metadata": {},
   "cell_type": "markdown",
   "source": "Assert function (helper)",
   "id": "9b3d188180eca026"
  },
  {
   "metadata": {
    "ExecuteTime": {
     "end_time": "2025-04-25T16:36:38.652812Z",
     "start_time": "2025-04-25T16:36:38.649666Z"
    }
   },
   "cell_type": "code",
   "source": [
    "def hard_assert(_misere, _initial_piles, _winner):\n",
    "    piles = np.array(_initial_piles)\n",
    "\n",
    "    if _misere:\n",
    "        if np.all(piles <= 1):\n",
    "            assert _winner == np.sum(piles) % 2, \"Misere Nim - Corner Case\"\n",
    "\n",
    "    else:\n",
    "        assert _winner == int(np.bitwise_xor.reduce(piles) != _misere), f\"{'Misere' if _misere else 'Normal'} Nim - All Cases\"\n",
    "\n",
    "def soft_assert(_misere, _initial_piles, _winner, _wins):\n",
    "    piles = np.array(_initial_piles)\n",
    "    nim_sum = np.bitwise_xor.reduce(piles)\n",
    "\n",
    "    game_type = \"M\" if _misere else \"N\"\n",
    "    start_sum = \"=0\" if int(nim_sum == 0) else \">0\"\n",
    "    p_who_won = \"P\" + str(_winner + 1)\n",
    "\n",
    "    _wins[f\"{game_type}_{start_sum}_{p_who_won}\"] = _wins.get(f\"{game_type}_{start_sum}_{p_who_won}\", 0) + 1"
   ],
   "id": "c3957002d3e11593",
   "outputs": [],
   "execution_count": 6
  },
  {
   "metadata": {},
   "cell_type": "markdown",
   "source": "# Agent Setup",
   "id": "caee15f67b9ae8b9"
  },
  {
   "metadata": {
    "jupyter": {
     "is_executing": true
    },
    "ExecuteTime": {
     "start_time": "2025-04-25T16:36:38.656279Z"
    }
   },
   "cell_type": "code",
   "source": [
    "misereAgent = AGENT(misere=True, max_piles=MAX_PILES, max_depth=MAX_DEPTH)\n",
    "normalAgent = AGENT(misere=False, max_piles=MAX_PILES, max_depth=MAX_DEPTH)"
   ],
   "id": "12377bf62677145b",
   "outputs": [
    {
     "name": "stderr",
     "output_type": "stream",
     "text": [
      "  5%|▌         | 2617/50000 [00:07<02:20, 337.85it/s]"
     ]
    }
   ],
   "execution_count": null
  },
  {
   "metadata": {},
   "cell_type": "markdown",
   "source": "# One game demo",
   "id": "8caf6e9c1c377962"
  },
  {
   "metadata": {},
   "cell_type": "code",
   "source": [
    "game = Nim(\n",
    "    initial_piles=INITIAL_PILES,\n",
    "    misere=MISERE\n",
    ")\n",
    "\n",
    "winner = game.play(\n",
    "    player1=misereAgent if MISERE else normalAgent,\n",
    "    player2=misereAgent if MISERE else normalAgent\n",
    ")"
   ],
   "id": "f97d02e6c6f50f43",
   "outputs": [],
   "execution_count": null
  },
  {
   "metadata": {},
   "cell_type": "markdown",
   "source": "## 10k random game test (Misere)",
   "id": "38122e9bb8d5c6dd"
  },
  {
   "metadata": {},
   "cell_type": "code",
   "source": [
    "wins = {}\n",
    "\n",
    "for _ in tqdm(range(10000)):\n",
    "    misere = np.random.choice([True, False])\n",
    "    initial_piles = list(np.random.randint(1, MAX_PILE, size=PILE_COUNT))\n",
    "\n",
    "    game = Nim(\n",
    "        initial_piles=initial_piles,\n",
    "        misere=misere\n",
    "    )\n",
    "\n",
    "    winner = game.play(\n",
    "        player1=misereAgent if MISERE else normalAgent,\n",
    "        player2=misereAgent if MISERE else normalAgent,\n",
    "        verbose=False\n",
    "    )\n",
    "\n",
    "    # hard_assert(misere, initial_piles, winner)\n",
    "    soft_assert(misere, initial_piles, winner, wins)\n",
    "\n",
    "for k, v in wins.items():\n",
    "    print(f\"{k}: {v}\")"
   ],
   "id": "b1cb07b39efc962a",
   "outputs": [],
   "execution_count": null
  },
  {
   "metadata": {},
   "cell_type": "code",
   "source": "",
   "id": "da7ed4512a7f5bca",
   "outputs": [],
   "execution_count": null
  }
 ],
 "metadata": {
  "kernelspec": {
   "display_name": "Python 3",
   "language": "python",
   "name": "python3"
  },
  "language_info": {
   "codemirror_mode": {
    "name": "ipython",
    "version": 2
   },
   "file_extension": ".py",
   "mimetype": "text/x-python",
   "name": "python",
   "nbconvert_exporter": "python",
   "pygments_lexer": "ipython2",
   "version": "2.7.6"
  }
 },
 "nbformat": 4,
 "nbformat_minor": 5
}
