{
 "cells": [
  {
   "cell_type": "code",
   "execution_count": null,
   "id": "initial_id",
   "metadata": {
    "collapsed": true
   },
   "outputs": [],
   "source": [
    "from play import play\n",
    "\n",
    "from agents.otherAgents.HumanAgent import HumanAgent\n",
    "\n",
    "from agents.algorithmicAgents.MinimaxAgent import MinimaxAgent\n",
    "from agents.algorithmicAgents.MinimaxNimAgent import MinimaxNimAgent"
   ]
  },
  {
   "metadata": {},
   "cell_type": "code",
   "outputs": [],
   "execution_count": null,
   "source": [
    "initial_piles = [5, 6, 7, 8, 9, 10]\n",
    "\n",
    "player1 = HumanAgent()\n",
    "player2 = HumanAgent()\n",
    "\n",
    "wins = [0, 0]\n",
    "\n",
    "for _ in range(10000):\n",
    "    winner = play(\n",
    "        player1=player1,\n",
    "        player2=player2,\n",
    "        initial_piles=initial_piles,\n",
    "        misere=False,\n",
    "        verbose=True\n",
    "    )\n",
    "\n",
    "    wins[winner] += 1\n",
    "\n",
    "print(f\"{wins[0]} - {wins[1]}\")"
   ],
   "id": "e2a35608cd8aa9d5"
  }
 ],
 "metadata": {
  "kernelspec": {
   "display_name": "Python 3",
   "language": "python",
   "name": "python3"
  },
  "language_info": {
   "codemirror_mode": {
    "name": "ipython",
    "version": 2
   },
   "file_extension": ".py",
   "mimetype": "text/x-python",
   "name": "python",
   "nbconvert_exporter": "python",
   "pygments_lexer": "ipython2",
   "version": "2.7.6"
  }
 },
 "nbformat": 4,
 "nbformat_minor": 5
}
