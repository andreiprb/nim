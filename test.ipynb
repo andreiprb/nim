{
 "cells": [
  {
   "cell_type": "code",
   "id": "initial_id",
   "metadata": {
    "collapsed": true,
    "ExecuteTime": {
     "end_time": "2025-04-20T19:40:31.852565Z",
     "start_time": "2025-04-20T19:40:31.849079Z"
    }
   },
   "source": [
    "from play import play\n",
    "\n",
    "from nim.NimLogic import NimLogic\n",
    "\n",
    "from agents.otherAgents.HumanAgent import HumanAgent\n",
    "\n",
    "from agents.algorithmicAgents.MinimaxAgent import MinimaxAgent\n",
    "from agents.algorithmicAgents.MinimaxNimAgent import MinimaxNimAgent"
   ],
   "outputs": [],
   "execution_count": 13
  },
  {
   "metadata": {
    "ExecuteTime": {
     "end_time": "2025-04-20T19:40:33.620193Z",
     "start_time": "2025-04-20T19:40:31.863009Z"
    }
   },
   "cell_type": "code",
   "source": [
    "misere = False\n",
    "max_depth = 1\n",
    "\n",
    "initial_piles = [5, 6, 7, 8, 9, 10]\n",
    "\n",
    "player1 = MinimaxAgent(misere=misere, max_depth=max_depth)\n",
    "player2 = MinimaxAgent(misere=misere, max_depth=max_depth)\n",
    "\n",
    "wins = [0, 0]\n",
    "\n",
    "for _ in range(10000):\n",
    "    winner = play(\n",
    "        player1=player1,\n",
    "        player2=player2,\n",
    "        initial_piles=initial_piles,\n",
    "        misere=misere,\n",
    "        verbose=False\n",
    "    )\n",
    "\n",
    "    wins[winner] += 1\n",
    "\n",
    "print(f\"{wins[0]} - {wins[1]}\")"
   ],
   "id": "e2a35608cd8aa9d5",
   "outputs": [
    {
     "name": "stdout",
     "output_type": "stream",
     "text": [
      "5\n",
      "0 - 10000\n"
     ]
    }
   ],
   "execution_count": 14
  }
 ],
 "metadata": {
  "kernelspec": {
   "display_name": "Python 3",
   "language": "python",
   "name": "python3"
  },
  "language_info": {
   "codemirror_mode": {
    "name": "ipython",
    "version": 2
   },
   "file_extension": ".py",
   "mimetype": "text/x-python",
   "name": "python",
   "nbconvert_exporter": "python",
   "pygments_lexer": "ipython2",
   "version": "2.7.6"
  }
 },
 "nbformat": 4,
 "nbformat_minor": 5
}
