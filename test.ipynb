{
 "cells": [
  {
   "cell_type": "code",
   "id": "initial_id",
   "metadata": {
    "collapsed": true,
    "ExecuteTime": {
     "end_time": "2025-04-25T08:30:57.451282Z",
     "start_time": "2025-04-25T08:30:57.420463Z"
    }
   },
   "source": [
    "from agents.QLearning.QLearningAgent import QLearningAgent\n",
    "\n",
    "from agents.Minimax.MinimaxAgent import MinimaxAgent\n",
    "from agents.Minimax.OptimizedMinimaxAgent import OptimizedMinimaxAgent\n",
    "\n",
    "from nim.Nim import Nim"
   ],
   "outputs": [],
   "execution_count": 1
  },
  {
   "metadata": {
    "ExecuteTime": {
     "end_time": "2025-04-25T08:30:57.513786Z",
     "start_time": "2025-04-25T08:30:57.509215Z"
    }
   },
   "cell_type": "code",
   "source": [
    "misere = True\n",
    "max_depth = 1\n",
    "\n",
    "initial_piles = [2, 3]\n",
    "\n",
    "player1 = QLearningAgent(misere= misere, initial=initial_piles, alpha=0.1, epsilon=0.2)\n",
    "player2 = MinimaxAgent(misere=misere, max_depth=max_depth)\n",
    "\n",
    "game = Nim(\n",
    "    initial_piles=initial_piles,\n",
    "    misere=misere\n",
    ")\n",
    "wins = [0, 0]\n",
    "\n",
    "for _ in range(10000):\n",
    "    winner = game.play(\n",
    "        player1=player1,\n",
    "        player2=player2,\n",
    "        verbose=False\n",
    "    )\n",
    "\n",
    "    wins[winner] += 1\n",
    "\n",
    "print(f\"{wins[0]} - {wins[1]}\")"
   ],
   "id": "e2a35608cd8aa9d5",
   "outputs": [
    {
     "name": "stdout",
     "output_type": "stream",
     "text": [
      "Q-values loaded from savedAgents/qlearning-2-3-True.json\n",
      "10000 - 0\n"
     ]
    }
   ],
   "execution_count": 2
  },
  {
   "metadata": {
    "ExecuteTime": {
     "end_time": "2025-04-25T08:30:57.529020Z",
     "start_time": "2025-04-25T08:30:57.527727Z"
    }
   },
   "cell_type": "code",
   "source": "",
   "id": "b1cb07b39efc962a",
   "outputs": [],
   "execution_count": null
  }
 ],
 "metadata": {
  "kernelspec": {
   "display_name": "Python 3",
   "language": "python",
   "name": "python3"
  },
  "language_info": {
   "codemirror_mode": {
    "name": "ipython",
    "version": 2
   },
   "file_extension": ".py",
   "mimetype": "text/x-python",
   "name": "python",
   "nbconvert_exporter": "python",
   "pygments_lexer": "ipython2",
   "version": "2.7.6"
  }
 },
 "nbformat": 4,
 "nbformat_minor": 5
}
