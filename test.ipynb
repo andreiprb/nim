{
 "cells": [
  {
   "metadata": {},
   "cell_type": "markdown",
   "source": "# Imports",
   "id": "7b4c3b0961ac3b1e"
  },
  {
   "metadata": {
    "ExecuteTime": {
     "end_time": "2025-04-25T09:32:09.609910Z",
     "start_time": "2025-04-25T09:32:09.569190Z"
    }
   },
   "cell_type": "code",
   "source": [
    "import numpy as np\n",
    "\n",
    "from tqdm import tqdm"
   ],
   "id": "f80b91b841340426",
   "outputs": [],
   "execution_count": 1
  },
  {
   "cell_type": "code",
   "id": "initial_id",
   "metadata": {
    "collapsed": true,
    "ExecuteTime": {
     "end_time": "2025-04-25T09:32:09.677409Z",
     "start_time": "2025-04-25T09:32:09.673190Z"
    }
   },
   "source": [
    "from nim.Nim import Nim\n",
    "\n",
    "from agents.Minimax.MinimaxAgent import MinimaxAgent\n",
    "from agents.Minimax.OptimizedMinimaxAgent import OptimizedMinimaxAgent"
   ],
   "outputs": [],
   "execution_count": 2
  },
  {
   "metadata": {},
   "cell_type": "markdown",
   "source": "Max depth",
   "id": "6469a4493d07d6a7"
  },
  {
   "metadata": {
    "ExecuteTime": {
     "end_time": "2025-04-25T09:32:09.684414Z",
     "start_time": "2025-04-25T09:32:09.683097Z"
    }
   },
   "cell_type": "code",
   "source": [
    "MAX_DEPTH = 1\n",
    "AGENT = OptimizedMinimaxAgent"
   ],
   "id": "2734ef9cdbee5047",
   "outputs": [],
   "execution_count": 3
  },
  {
   "metadata": {},
   "cell_type": "markdown",
   "source": "Assert function (helper)",
   "id": "9b3d188180eca026"
  },
  {
   "metadata": {
    "ExecuteTime": {
     "end_time": "2025-04-25T09:32:09.694181Z",
     "start_time": "2025-04-25T09:32:09.692570Z"
    }
   },
   "cell_type": "code",
   "source": [
    "def hard_assert(_misere, _initial_piles, _winner):\n",
    "    piles = np.array(_initial_piles)\n",
    "\n",
    "    if _misere and np.all(piles <= 1):\n",
    "        assert _winner == np.sum(piles) % 2, \"Misere Nim - Corner Case\"\n",
    "\n",
    "    else:\n",
    "        assert _winner != int(np.bitwise_xor.reduce(piles) == 0), f\"{'Misere' if misere else 'Normal'} Nim - All Cases\""
   ],
   "id": "c3957002d3e11593",
   "outputs": [],
   "execution_count": 4
  },
  {
   "metadata": {},
   "cell_type": "markdown",
   "source": "# Game Setup",
   "id": "caee15f67b9ae8b9"
  },
  {
   "metadata": {
    "ExecuteTime": {
     "end_time": "2025-04-25T09:32:09.700207Z",
     "start_time": "2025-04-25T09:32:09.698689Z"
    }
   },
   "cell_type": "code",
   "source": [
    "misere = True\n",
    "initial_piles = [1, 0, 3, 1]\n",
    "\n",
    "player1 = AGENT(misere=misere, max_depth=MAX_DEPTH)\n",
    "player2 = AGENT(misere=misere, max_depth=MAX_DEPTH)\n",
    "\n",
    "game = Nim(\n",
    "    initial_piles=initial_piles,\n",
    "    misere=misere\n",
    ")"
   ],
   "id": "12377bf62677145b",
   "outputs": [],
   "execution_count": 5
  },
  {
   "metadata": {},
   "cell_type": "markdown",
   "source": "## One game test (verbose)",
   "id": "8caf6e9c1c377962"
  },
  {
   "metadata": {
    "ExecuteTime": {
     "end_time": "2025-04-25T09:32:09.784245Z",
     "start_time": "2025-04-25T09:32:09.704819Z"
    }
   },
   "cell_type": "code",
   "source": [
    "winner = game.play(\n",
    "    player1=player1,\n",
    "    player2=player2,\n",
    "    verbose=True\n",
    ")\n",
    "\n",
    "hard_assert(misere, initial_piles, winner)"
   ],
   "id": "f97d02e6c6f50f43",
   "outputs": [
    {
     "name": "stdout",
     "output_type": "stream",
     "text": [
      "Initial piles: [1, 0, 3, 1]\n",
      "Misere game\n",
      "Player 1 (Optimized minimax agent) takes 2 from pile 2\n",
      "Piles: [1, 0, 1, 1]\n",
      "Player 2 (Optimized minimax agent) takes 1 from pile 0\n",
      "Piles: [0, 0, 1, 1]\n",
      "Player 1 (Optimized minimax agent) takes 1 from pile 3\n",
      "Piles: [0, 0, 1, 0]\n",
      "Player 2 (Optimized minimax agent) takes 1 from pile 2\n",
      "Piles: [0, 0, 0, 0]\n",
      "Player 1 (Optimized minimax agent) wins!\n"
     ]
    },
    {
     "ename": "AssertionError",
     "evalue": "Misere Nim - All Cases",
     "output_type": "error",
     "traceback": [
      "\u001B[0;31m---------------------------------------------------------------------------\u001B[0m",
      "\u001B[0;31mAssertionError\u001B[0m                            Traceback (most recent call last)",
      "Cell \u001B[0;32mIn[6], line 7\u001B[0m\n\u001B[1;32m      1\u001B[0m winner \u001B[38;5;241m=\u001B[39m game\u001B[38;5;241m.\u001B[39mplay(\n\u001B[1;32m      2\u001B[0m     player1\u001B[38;5;241m=\u001B[39mplayer1,\n\u001B[1;32m      3\u001B[0m     player2\u001B[38;5;241m=\u001B[39mplayer2,\n\u001B[1;32m      4\u001B[0m     verbose\u001B[38;5;241m=\u001B[39m\u001B[38;5;28;01mTrue\u001B[39;00m\n\u001B[1;32m      5\u001B[0m )\n\u001B[0;32m----> 7\u001B[0m \u001B[43mhard_assert\u001B[49m\u001B[43m(\u001B[49m\u001B[43mmisere\u001B[49m\u001B[43m,\u001B[49m\u001B[43m \u001B[49m\u001B[43minitial_piles\u001B[49m\u001B[43m,\u001B[49m\u001B[43m \u001B[49m\u001B[43mwinner\u001B[49m\u001B[43m)\u001B[49m\n",
      "Cell \u001B[0;32mIn[4], line 8\u001B[0m, in \u001B[0;36mhard_assert\u001B[0;34m(_misere, _initial_piles, _winner)\u001B[0m\n\u001B[1;32m      5\u001B[0m     \u001B[38;5;28;01massert\u001B[39;00m _winner \u001B[38;5;241m==\u001B[39m np\u001B[38;5;241m.\u001B[39msum(piles) \u001B[38;5;241m%\u001B[39m \u001B[38;5;241m2\u001B[39m, \u001B[38;5;124m\"\u001B[39m\u001B[38;5;124mMisere Nim - Corner Case\u001B[39m\u001B[38;5;124m\"\u001B[39m\n\u001B[1;32m      7\u001B[0m \u001B[38;5;28;01melse\u001B[39;00m:\n\u001B[0;32m----> 8\u001B[0m     \u001B[38;5;28;01massert\u001B[39;00m _winner \u001B[38;5;241m!=\u001B[39m \u001B[38;5;28mint\u001B[39m(np\u001B[38;5;241m.\u001B[39mbitwise_xor\u001B[38;5;241m.\u001B[39mreduce(piles) \u001B[38;5;241m==\u001B[39m \u001B[38;5;241m0\u001B[39m), \u001B[38;5;124mf\u001B[39m\u001B[38;5;124m\"\u001B[39m\u001B[38;5;132;01m{\u001B[39;00m\u001B[38;5;124m'\u001B[39m\u001B[38;5;124mMisere\u001B[39m\u001B[38;5;124m'\u001B[39m\u001B[38;5;250m \u001B[39m\u001B[38;5;28;01mif\u001B[39;00m\u001B[38;5;250m \u001B[39mmisere\u001B[38;5;250m \u001B[39m\u001B[38;5;28;01melse\u001B[39;00m\u001B[38;5;250m \u001B[39m\u001B[38;5;124m'\u001B[39m\u001B[38;5;124mNormal\u001B[39m\u001B[38;5;124m'\u001B[39m\u001B[38;5;132;01m}\u001B[39;00m\u001B[38;5;124m Nim - All Cases\u001B[39m\u001B[38;5;124m\"\u001B[39m\n",
      "\u001B[0;31mAssertionError\u001B[0m: Misere Nim - All Cases"
     ]
    }
   ],
   "execution_count": 6
  },
  {
   "metadata": {},
   "cell_type": "markdown",
   "source": "## 10k game test",
   "id": "dfa6aeed09cf028d"
  },
  {
   "metadata": {},
   "cell_type": "code",
   "source": [
    "wins = [0, 0]\n",
    "\n",
    "for _ in range(10000):\n",
    "    winner = game.play(\n",
    "        player1=player1,\n",
    "        player2=player2,\n",
    "        verbose=False\n",
    "    )\n",
    "\n",
    "    hard_assert(misere, initial_piles, winner)\n",
    "    wins[winner] += 1"
   ],
   "id": "e2a35608cd8aa9d5",
   "outputs": [],
   "execution_count": null
  },
  {
   "metadata": {},
   "cell_type": "markdown",
   "source": "## 10k random game test (Misere)",
   "id": "38122e9bb8d5c6dd"
  },
  {
   "metadata": {},
   "cell_type": "code",
   "source": [
    "wins = [0, 0]\n",
    "\n",
    "for _ in tqdm(range(10000)):\n",
    "    misere = np.random.choice([True, False])\n",
    "    initial_piles = list(np.random.randint(1, 255, size=8))\n",
    "\n",
    "    player1 = AGENT(misere=misere, max_depth=MAX_DEPTH)\n",
    "    player2 = AGENT(misere=misere, max_depth=MAX_DEPTH)\n",
    "\n",
    "    game = Nim(\n",
    "        initial_piles=initial_piles,\n",
    "        misere=misere\n",
    "    )\n",
    "\n",
    "    winner = game.play(\n",
    "        player1=player1,\n",
    "        player2=player2,\n",
    "        verbose=False\n",
    "    )\n",
    "\n",
    "    hard_assert(misere, initial_piles, winner)\n",
    "    wins[winner] += 1"
   ],
   "id": "b1cb07b39efc962a",
   "outputs": [],
   "execution_count": null
  },
  {
   "metadata": {},
   "cell_type": "code",
   "source": "",
   "id": "172f1c79c0dc48a9",
   "outputs": [],
   "execution_count": null
  }
 ],
 "metadata": {
  "kernelspec": {
   "display_name": "Python 3",
   "language": "python",
   "name": "python3"
  },
  "language_info": {
   "codemirror_mode": {
    "name": "ipython",
    "version": 2
   },
   "file_extension": ".py",
   "mimetype": "text/x-python",
   "name": "python",
   "nbconvert_exporter": "python",
   "pygments_lexer": "ipython2",
   "version": "2.7.6"
  }
 },
 "nbformat": 4,
 "nbformat_minor": 5
}
