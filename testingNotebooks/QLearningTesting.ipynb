{
 "cells": [
  {
   "metadata": {
    "ExecuteTime": {
     "end_time": "2025-07-16T06:27:59.448040Z",
     "start_time": "2025-07-16T06:27:59.440386Z"
    }
   },
   "cell_type": "code",
   "source": [
    "import numpy as np\n",
    "\n",
    "from base import BaseAgent\n",
    "\n",
    "from agents import QLearningAgent\n",
    "\n",
    "from benchmarks import BenchmarkFunctions"
   ],
   "id": "1bd72fa4e7d8fc61",
   "outputs": [],
   "execution_count": 1
  },
  {
   "metadata": {
    "ExecuteTime": {
     "end_time": "2025-07-16T06:27:59.484645Z",
     "start_time": "2025-07-16T06:27:59.483040Z"
    }
   },
   "cell_type": "code",
   "source": [
    "np.random.seed(42)\n",
    "\n",
    "MAX_HEAP: int = 7\n",
    "HEAP_COUNT: int = 4\n",
    "\n",
    "TESTING_EPISODES: int = 1000000\n",
    "\n",
    "TRAINING_EPISODES: dict[str, int] = {\n",
    "    'n': 100000,\n",
    "    'c': 10000,\n",
    "}"
   ],
   "id": "cfc40a1f35d2366f",
   "outputs": [],
   "execution_count": 2
  },
  {
   "metadata": {
    "ExecuteTime": {
     "end_time": "2025-07-16T06:27:59.593862Z",
     "start_time": "2025-07-16T06:27:59.491508Z"
    }
   },
   "cell_type": "code",
   "source": [
    "misere_agents: dict[str, BaseAgent] = {\n",
    "    'n': QLearningAgent(misere=True, pile_count=HEAP_COUNT, max_pile=MAX_HEAP, num_episodes=TRAINING_EPISODES['n']),\n",
    "    'c': QLearningAgent(misere=True, pile_count=HEAP_COUNT, max_pile=MAX_HEAP, num_episodes=TRAINING_EPISODES['c'], canonical=True),\n",
    "}\n",
    "\n",
    "normal_agents: dict[str, BaseAgent] = {\n",
    "    'n': QLearningAgent(misere=False, pile_count=HEAP_COUNT, max_pile=MAX_HEAP, num_episodes=TRAINING_EPISODES['n']),\n",
    "    'c': QLearningAgent(misere=False, pile_count=HEAP_COUNT, max_pile=MAX_HEAP, num_episodes=TRAINING_EPISODES['c'], canonical=True),\n",
    "}"
   ],
   "id": "37d1efa66f28a8e7",
   "outputs": [
    {
     "name": "stdout",
     "output_type": "stream",
     "text": [
      "Loaded agent from ../savedAgents/QLearning/qlearning-4-7-misere-100000.json\n",
      "QLearning Agent ready. Q-table size: 53374\n",
      "Loaded agent from ../savedAgents/QLearning/qlearning-4-7-misere-canonical-10000.json\n",
      "Canonical QLearning Agent ready. Q-table size: 4420\n",
      "Loaded agent from ../savedAgents/QLearning/qlearning-4-7-normal-100000.json\n",
      "QLearning Agent ready. Q-table size: 53505\n",
      "Loaded agent from ../savedAgents/QLearning/qlearning-4-7-normal-canonical-10000.json\n",
      "Canonical QLearning Agent ready. Q-table size: 4446\n"
     ]
    }
   ],
   "execution_count": 3
  },
  {
   "metadata": {
    "ExecuteTime": {
     "end_time": "2025-07-16T06:29:06.998116Z",
     "start_time": "2025-07-16T06:27:59.607216Z"
    }
   },
   "cell_type": "code",
   "source": [
    "BenchmarkFunctions.run_benchmarks(\n",
    "    misere_agents=misere_agents,\n",
    "    normal_agents=normal_agents,\n",
    "    heap_count=HEAP_COUNT,\n",
    "    max_heap=MAX_HEAP,\n",
    "    episodes=TESTING_EPISODES,\n",
    "    processing=None\n",
    ")"
   ],
   "id": "f42374302d261d6c",
   "outputs": [
    {
     "name": "stdout",
     "output_type": "stream",
     "text": [
      "------------------------------------------------------------\n",
      "Configuration: pile_count: 4, max_pile: 7\n",
      "------------------------------------------------------------\n",
      "Testing QLearning Agent\n"
     ]
    },
    {
     "name": "stderr",
     "output_type": "stream",
     "text": [
      "100%|██████████| 1000000/1000000 [00:34<00:00, 29271.95it/s]\n"
     ]
    },
    {
     "name": "stdout",
     "output_type": "stream",
     "text": [
      "Testing Canonical QLearning Agent\n"
     ]
    },
    {
     "name": "stderr",
     "output_type": "stream",
     "text": [
      "100%|██████████| 1000000/1000000 [00:33<00:00, 30126.34it/s]\n"
     ]
    }
   ],
   "execution_count": 4
  },
  {
   "metadata": {
    "ExecuteTime": {
     "end_time": "2025-07-16T06:29:07.008770Z",
     "start_time": "2025-07-16T06:29:07.007498Z"
    }
   },
   "cell_type": "code",
   "source": "",
   "id": "7373dd47f2aa01a2",
   "outputs": [],
   "execution_count": null
  }
 ],
 "metadata": {
  "kernelspec": {
   "display_name": "Python 3",
   "language": "python",
   "name": "python3"
  },
  "language_info": {
   "codemirror_mode": {
    "name": "ipython",
    "version": 2
   },
   "file_extension": ".py",
   "mimetype": "text/x-python",
   "name": "python",
   "nbconvert_exporter": "python",
   "pygments_lexer": "ipython2",
   "version": "2.7.6"
  }
 },
 "nbformat": 4,
 "nbformat_minor": 5
}
