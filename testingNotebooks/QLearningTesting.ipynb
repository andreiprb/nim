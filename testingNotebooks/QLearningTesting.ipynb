{
 "cells": [
  {
   "cell_type": "code",
   "id": "initial_id",
   "metadata": {
    "collapsed": true,
    "ExecuteTime": {
     "end_time": "2025-07-14T14:45:26.708620Z",
     "start_time": "2025-07-14T14:45:26.653895Z"
    }
   },
   "source": [
    "from tqdm import tqdm\n",
    "\n",
    "import numpy as np"
   ],
   "outputs": [],
   "execution_count": 1
  },
  {
   "metadata": {
    "ExecuteTime": {
     "end_time": "2025-07-14T14:45:26.742479Z",
     "start_time": "2025-07-14T14:45:26.736950Z"
    }
   },
   "cell_type": "code",
   "source": [
    "from nim.Nim import Nim\n",
    "from nim.NimLogic import NimLogic\n",
    "\n",
    "from agents.AlgorithmicAgent import AlgorithmicAgent\n",
    "\n",
    "from agents.QLearningAgent import QLearningAgent"
   ],
   "id": "1bd72fa4e7d8fc61",
   "outputs": [],
   "execution_count": 2
  },
  {
   "metadata": {
    "ExecuteTime": {
     "end_time": "2025-07-14T14:45:26.772767Z",
     "start_time": "2025-07-14T14:45:26.747124Z"
    }
   },
   "cell_type": "code",
   "source": [
    "np.random.seed(42)\n",
    "\n",
    "MAX_PILE = 7\n",
    "PILE_COUNT = 4\n",
    "\n",
    "EPISODES = 1000000"
   ],
   "id": "c289e81ef296a7b6",
   "outputs": [],
   "execution_count": 3
  },
  {
   "metadata": {
    "ExecuteTime": {
     "end_time": "2025-07-14T15:13:41.957690Z",
     "start_time": "2025-07-14T15:13:41.952249Z"
    }
   },
   "cell_type": "code",
   "source": [
    "def test_agent(_misereAgent, _normalAgent, _misere, _initial_piles, _perfect=False):\n",
    "    for i in tqdm(range(EPISODES)):\n",
    "        game = Nim(\n",
    "            initial_piles=_initial_piles[i],\n",
    "            misere=_misere[i]\n",
    "        )\n",
    "\n",
    "        agent1 = _misereAgent if _misere[i] else _normalAgent\n",
    "        agent2 = agent1 if _perfect else AlgorithmicAgent(misere=_misere[i])\n",
    "\n",
    "        winner = game.play(\n",
    "            player1=agent1,\n",
    "            player2=agent2,\n",
    "            verbose=False\n",
    "        )\n",
    "\n",
    "        \"\"\" AGENT VALIDATION \"\"\"\n",
    "        assert winner == NimLogic.is_p_position(_initial_piles[i], _misere[i]), \"Bad agent!\""
   ],
   "id": "665d19ab38acff1f",
   "outputs": [],
   "execution_count": 11
  },
  {
   "metadata": {
    "ExecuteTime": {
     "end_time": "2025-07-14T15:13:42.004319Z",
     "start_time": "2025-07-14T15:13:42.002042Z"
    }
   },
   "cell_type": "code",
   "source": [
    "def run_tests(misere_agents, normal_agents, pile_count, max_pile, episodes, perfect=False):\n",
    "    print(\"-\" * 60)\n",
    "    print(f\"Configuration: pile_count: {pile_count}, max_pile: {max_pile}\")\n",
    "    print(\"-\" * 60)\n",
    "\n",
    "    initial_piles = np.random.randint(1, max_pile, size=(episodes, pile_count))\n",
    "    misere_modes = np.random.choice([False, True], size=episodes)\n",
    "\n",
    "    for agent_key in misere_agents.keys():\n",
    "        misere_agent = misere_agents[agent_key]\n",
    "        normal_agent = normal_agents[agent_key]\n",
    "\n",
    "        print(f\"Testing {misere_agent}\")\n",
    "\n",
    "        test_agent(misere_agent, normal_agent, misere_modes, initial_piles, perfect)"
   ],
   "id": "e28b1e0abf0e248f",
   "outputs": [],
   "execution_count": 12
  },
  {
   "metadata": {
    "ExecuteTime": {
     "end_time": "2025-07-14T14:45:42.917245Z",
     "start_time": "2025-07-14T14:45:42.806688Z"
    }
   },
   "cell_type": "code",
   "source": [
    "misereAgents = {\n",
    "    'n': QLearningAgent(misere=True, pile_count=PILE_COUNT, max_pile=MAX_PILE, num_episodes=100000),\n",
    "    'c': QLearningAgent(misere=True, pile_count=PILE_COUNT, max_pile=MAX_PILE, num_episodes=10000, canonical=True),\n",
    "    'r': QLearningAgent(misere=True, pile_count=PILE_COUNT, max_pile=MAX_PILE, num_episodes=10000, reduced=True),\n",
    "}\n",
    "\n",
    "normalAgents = {\n",
    "    'n': QLearningAgent(misere=False, pile_count=PILE_COUNT, max_pile=MAX_PILE, num_episodes=100000),\n",
    "    'c': QLearningAgent(misere=False, pile_count=PILE_COUNT, max_pile=MAX_PILE, num_episodes=10000, canonical=True),\n",
    "    'r': QLearningAgent(misere=False, pile_count=PILE_COUNT, max_pile=MAX_PILE, num_episodes=10000, reduced=True),\n",
    "}"
   ],
   "id": "95fa93a9e843055f",
   "outputs": [
    {
     "name": "stdout",
     "output_type": "stream",
     "text": [
      "Loaded agent from ../savedAgents/QLearning/qlearning-4-7-misere-100000.json\n",
      "QLearning Agent ready. Q-table size: 53374\n",
      "Loaded agent from ../savedAgents/QLearning/qlearning-4-7-misere-canonical-10000.json\n",
      "Canonical QLearning Agent ready. Q-table size: 4420\n",
      "Loaded agent from ../savedAgents/QLearning/qlearning-4-7-misere-reduced-10000.json\n",
      "Reduced QLearning Agent ready. Q-table size: 4438\n",
      "Loaded agent from ../savedAgents/QLearning/qlearning-4-7-normal-100000.json\n",
      "QLearning Agent ready. Q-table size: 53505\n",
      "Loaded agent from ../savedAgents/QLearning/qlearning-4-7-normal-canonical-10000.json\n",
      "Canonical QLearning Agent ready. Q-table size: 4446\n",
      "Loaded agent from ../savedAgents/QLearning/qlearning-4-7-normal-reduced-10000.json\n",
      "Reduced QLearning Agent ready. Q-table size: 4446\n"
     ]
    }
   ],
   "execution_count": 9
  },
  {
   "metadata": {
    "ExecuteTime": {
     "end_time": "2025-07-14T14:48:17.405567Z",
     "start_time": "2025-07-14T14:45:43.811962Z"
    }
   },
   "cell_type": "code",
   "source": "run_tests(misereAgents, normalAgents, pile_count=PILE_COUNT, max_pile=MAX_PILE, episodes=EPISODES)",
   "id": "9edf08c0b8da22c4",
   "outputs": [
    {
     "name": "stdout",
     "output_type": "stream",
     "text": [
      "------------------------------------------------------------\n",
      "Configuration: pile_count: 4, max_pile: 7\n",
      "------------------------------------------------------------\n",
      "Testing QLearning Agent\n"
     ]
    },
    {
     "name": "stderr",
     "output_type": "stream",
     "text": [
      "100%|██████████| 1000000/1000000 [00:57<00:00, 17386.49it/s]\n"
     ]
    },
    {
     "name": "stdout",
     "output_type": "stream",
     "text": [
      "Testing Canonical QLearning Agent\n"
     ]
    },
    {
     "name": "stderr",
     "output_type": "stream",
     "text": [
      "100%|██████████| 1000000/1000000 [00:46<00:00, 21442.68it/s]\n"
     ]
    },
    {
     "name": "stdout",
     "output_type": "stream",
     "text": [
      "Testing Reduced QLearning Agent\n"
     ]
    },
    {
     "name": "stderr",
     "output_type": "stream",
     "text": [
      "100%|██████████| 1000000/1000000 [00:49<00:00, 20240.55it/s]\n"
     ]
    }
   ],
   "execution_count": 10
  },
  {
   "metadata": {
    "ExecuteTime": {
     "end_time": "2025-07-14T15:16:16.366625Z",
     "start_time": "2025-07-14T15:13:45.323693Z"
    }
   },
   "cell_type": "code",
   "source": "run_tests(misereAgents, normalAgents, pile_count=PILE_COUNT, max_pile=MAX_PILE, episodes=EPISODES, perfect=True)",
   "id": "b2c1d369d2d052e",
   "outputs": [
    {
     "name": "stdout",
     "output_type": "stream",
     "text": [
      "------------------------------------------------------------\n",
      "Configuration: pile_count: 4, max_pile: 7\n",
      "------------------------------------------------------------\n",
      "Testing QLearning Agent\n"
     ]
    },
    {
     "name": "stderr",
     "output_type": "stream",
     "text": [
      "100%|██████████| 1000000/1000000 [00:55<00:00, 17900.01it/s]\n"
     ]
    },
    {
     "name": "stdout",
     "output_type": "stream",
     "text": [
      "Testing Canonical QLearning Agent\n"
     ]
    },
    {
     "name": "stderr",
     "output_type": "stream",
     "text": [
      "100%|██████████| 1000000/1000000 [00:46<00:00, 21673.58it/s]\n"
     ]
    },
    {
     "name": "stdout",
     "output_type": "stream",
     "text": [
      "Testing Reduced QLearning Agent\n"
     ]
    },
    {
     "name": "stderr",
     "output_type": "stream",
     "text": [
      "100%|██████████| 1000000/1000000 [00:49<00:00, 20406.88it/s]\n"
     ]
    }
   ],
   "execution_count": 13
  },
  {
   "metadata": {},
   "cell_type": "code",
   "outputs": [],
   "execution_count": null,
   "source": "",
   "id": "404c376b1c1e31d8"
  }
 ],
 "metadata": {
  "kernelspec": {
   "display_name": "Python 3",
   "language": "python",
   "name": "python3"
  },
  "language_info": {
   "codemirror_mode": {
    "name": "ipython",
    "version": 2
   },
   "file_extension": ".py",
   "mimetype": "text/x-python",
   "name": "python",
   "nbconvert_exporter": "python",
   "pygments_lexer": "ipython2",
   "version": "2.7.6"
  }
 },
 "nbformat": 4,
 "nbformat_minor": 5
}
