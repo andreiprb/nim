{
 "cells": [
  {
   "metadata": {
    "ExecuteTime": {
     "end_time": "2025-07-15T12:28:10.934206Z",
     "start_time": "2025-07-15T12:28:10.899996Z"
    }
   },
   "cell_type": "code",
   "source": [
    "import numpy as np\n",
    "\n",
    "from agents import QLearningAgent\n",
    "\n",
    "from benchmarks import BenchmarkFunctions"
   ],
   "id": "1bd72fa4e7d8fc61",
   "outputs": [],
   "execution_count": 1
  },
  {
   "metadata": {
    "ExecuteTime": {
     "end_time": "2025-07-15T12:28:10.976078Z",
     "start_time": "2025-07-15T12:28:10.964579Z"
    }
   },
   "cell_type": "code",
   "source": [
    "np.random.seed(42)\n",
    "\n",
    "MAX_PILE = 7\n",
    "PILE_COUNT = 4\n",
    "\n",
    "TESTING_EPISODES = 1000000\n",
    "\n",
    "TRAINING_EPISODES = {\n",
    "    'n': 100000,\n",
    "    'c': 10000,\n",
    "}"
   ],
   "id": "c289e81ef296a7b6",
   "outputs": [],
   "execution_count": 2
  },
  {
   "metadata": {
    "ExecuteTime": {
     "end_time": "2025-07-15T12:28:11.094782Z",
     "start_time": "2025-07-15T12:28:10.982029Z"
    }
   },
   "cell_type": "code",
   "source": [
    "misere_agents = {\n",
    "    'n': QLearningAgent(misere=True, pile_count=PILE_COUNT, max_pile=MAX_PILE, num_episodes=TRAINING_EPISODES['n']),\n",
    "    'c': QLearningAgent(misere=True, pile_count=PILE_COUNT, max_pile=MAX_PILE, num_episodes=TRAINING_EPISODES['c'], canonical=True),\n",
    "}\n",
    "\n",
    "normal_agents = {\n",
    "    'n': QLearningAgent(misere=False, pile_count=PILE_COUNT, max_pile=MAX_PILE, num_episodes=TRAINING_EPISODES['n']),\n",
    "    'c': QLearningAgent(misere=False, pile_count=PILE_COUNT, max_pile=MAX_PILE, num_episodes=TRAINING_EPISODES['c'], canonical=True),\n",
    "}"
   ],
   "id": "95fa93a9e843055f",
   "outputs": [
    {
     "name": "stdout",
     "output_type": "stream",
     "text": [
      "Loaded agent from ../savedAgents/QLearning/qlearning-4-7-misere-100000.json\n",
      "QLearning Agent ready. Q-table size: 53374\n",
      "Loaded agent from ../savedAgents/QLearning/qlearning-4-7-misere-canonical-10000.json\n",
      "Canonical QLearning Agent ready. Q-table size: 4420\n",
      "Loaded agent from ../savedAgents/QLearning/qlearning-4-7-normal-100000.json\n",
      "QLearning Agent ready. Q-table size: 53402\n",
      "Loaded agent from ../savedAgents/QLearning/qlearning-4-7-normal-canonical-10000.json\n",
      "Canonical QLearning Agent ready. Q-table size: 4450\n"
     ]
    }
   ],
   "execution_count": 3
  },
  {
   "metadata": {
    "ExecuteTime": {
     "end_time": "2025-07-15T12:29:20.935463Z",
     "start_time": "2025-07-15T12:28:11.104380Z"
    }
   },
   "cell_type": "code",
   "source": [
    "BenchmarkFunctions.run_tests(\n",
    "    misere_agents=misere_agents,\n",
    "    normal_agents=normal_agents,\n",
    "    pile_count=PILE_COUNT,\n",
    "    max_pile=MAX_PILE,\n",
    "    episodes=TESTING_EPISODES\n",
    ")"
   ],
   "id": "9edf08c0b8da22c4",
   "outputs": [
    {
     "name": "stdout",
     "output_type": "stream",
     "text": [
      "------------------------------------------------------------\n",
      "Configuration: pile_count: 4, max_pile: 7\n",
      "------------------------------------------------------------\n",
      "Testing QLearning Agent\n"
     ]
    },
    {
     "name": "stderr",
     "output_type": "stream",
     "text": [
      "100%|██████████| 1000000/1000000 [00:35<00:00, 28102.86it/s]\n"
     ]
    },
    {
     "name": "stdout",
     "output_type": "stream",
     "text": [
      "Testing Canonical QLearning Agent\n"
     ]
    },
    {
     "name": "stderr",
     "output_type": "stream",
     "text": [
      "100%|██████████| 1000000/1000000 [00:34<00:00, 29218.00it/s]\n"
     ]
    }
   ],
   "execution_count": 4
  },
  {
   "metadata": {
    "ExecuteTime": {
     "end_time": "2025-07-15T12:29:20.942292Z",
     "start_time": "2025-07-15T12:29:20.941081Z"
    }
   },
   "cell_type": "code",
   "source": "",
   "id": "404c376b1c1e31d8",
   "outputs": [],
   "execution_count": null
  }
 ],
 "metadata": {
  "kernelspec": {
   "display_name": "Python 3",
   "language": "python",
   "name": "python3"
  },
  "language_info": {
   "codemirror_mode": {
    "name": "ipython",
    "version": 2
   },
   "file_extension": ".py",
   "mimetype": "text/x-python",
   "name": "python",
   "nbconvert_exporter": "python",
   "pygments_lexer": "ipython2",
   "version": "2.7.6"
  }
 },
 "nbformat": 4,
 "nbformat_minor": 5
}
